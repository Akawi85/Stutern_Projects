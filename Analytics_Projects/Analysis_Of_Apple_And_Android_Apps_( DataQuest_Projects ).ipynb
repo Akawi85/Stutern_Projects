{
 "cells": [
  {
   "cell_type": "markdown",
   "metadata": {},
   "source": [
    "###          Analysis of Apps on Google Play Store And Apple Store that are Likely to Attract More Users"
   ]
  },
  {
   "cell_type": "markdown",
   "metadata": {},
   "source": [
    "This is Portfolio Project, analyzes Apps from Google Play Store and Apple store, in order to provide insights \n",
    "on the type of Apps that an imaginary company's developers should create, that will help boost the profitability of the \n",
    "imaginary company.\n",
    "\n",
    "The goal of this project is to provide informed decisions to our imaginary company's developers, on what free Apps are likely to attract more users. The number of Apps on Google Play Store and Apple Store as of september 2018 is approximately 4 million with Apps on Google Play Store estimated at 2.1 million and Apps on Apple Store estimated to be 2 million. (Source: [Statista](https://www.statista.com/statistics/276623/number-of-apps-available-in-leading-app-stores/)). Since the number of Apps on Google Play Store and Apple store is fairly large, it will require a great deal of time and money, hence we'll try analyzing a sample of the Apps from both stores. \n",
    "\n",
    "Our inability to source for this dataset ourselves led us to search for other sources from where we can get reliable data that suits the purpose of our analysis. Fortunately, we found some sources that matches our goals:\n",
    "* A [Kaggle DataSet](https://www.kaggle.com/lava18/google-play-store-apps) gotten from this [link](https://dq-content.s3.amazonaws.com/350/googleplaystore.csv), that contains approximately ten thousand Android Apps from Google Play Store.\n",
    "* A [Kaggle DataSet](https://www.kaggle.com/ramamet4/app-store-apple-data-set-10k-apps) obtained via the [link](https://dq-content.s3.amazonaws.com/350/AppleStore.csv), that contains approximately seven thousand iOS Apps from Apple Store."
   ]
  },
  {
   "cell_type": "code",
   "execution_count": 1,
   "metadata": {},
   "outputs": [],
   "source": [
    "# Apple iOS Apps DataSet\n",
    "opened_file = open('../Dataset/Applestore.csv', encoding = 'utf8')\n",
    "from csv import reader\n",
    "read_file = reader(opened_file)\n",
    "ios_apps_with_header = list(read_file)\n",
    "ios_header = ios_apps_with_header[0]\n",
    "ios_apps = ios_apps_with_header[1:]\n",
    "\n",
    "# Google Play Apps DataSet\n",
    "opened_file = open('../Dataset/googleplaystore.csv', encoding = 'utf8')\n",
    "from csv import reader\n",
    "read_file = reader(opened_file)\n",
    "android_apps_with_header = list(read_file)\n",
    "android_header = android_apps_with_header[0]\n",
    "android_apps = android_apps_with_header[1:]"
   ]
  },
  {
   "cell_type": "markdown",
   "metadata": {},
   "source": [
    "Next we'll write a function named `explore_data()`, that we can use repeatedly to print any rows in both datasets.\n",
    "\n",
    "The function will also be able to show the length of any column in our dataset"
   ]
  },
  {
   "cell_type": "code",
   "execution_count": 2,
   "metadata": {},
   "outputs": [
    {
     "output_type": "stream",
     "name": "stdout",
     "text": [
      "['App', 'Category', 'Rating', 'Reviews', 'Size', 'Installs', 'Type', 'Price', 'Content Rating', 'Genres', 'Last Updated', 'Current Ver', 'Android Ver'] \n\n['Photo Editor & Candy Camera & Grid & ScrapBook', 'ART_AND_DESIGN', '4.1', '159', '19M', '10,000+', 'Free', '0', 'Everyone', 'Art & Design', 'January 7, 2018', '1.0.0', '4.0.3 and up']\n\n\n['Coloring book moana', 'ART_AND_DESIGN', '3.9', '967', '14M', '500,000+', 'Free', '0', 'Everyone', 'Art & Design;Pretend Play', 'January 15, 2018', '2.0.0', '4.0.3 and up']\n\n\n['U Launcher Lite – FREE Live Cool Themes, Hide Apps', 'ART_AND_DESIGN', '4.7', '87510', '8.7M', '5,000,000+', 'Free', '0', 'Everyone', 'Art & Design', 'August 1, 2018', '1.2.4', '4.0.3 and up']\n\n\n['Sketch - Draw & Paint', 'ART_AND_DESIGN', '4.5', '215644', '25M', '50,000,000+', 'Free', '0', 'Teen', 'Art & Design', 'June 8, 2018', 'Varies with device', '4.2 and up']\n\n\nNumber of rows is 10841\nNumber of columns is 13\n"
     ]
    }
   ],
   "source": [
    "def explore_data(dataset, start, end, row_and_column = True):\n",
    "    dataset_slice = dataset[start:end] # Added a slice so we can print a limited number of rows\n",
    "    for row in dataset_slice:\n",
    "        print(row)\n",
    "        print('\\n')\n",
    "    if row_and_column == True:\n",
    "        print('Number of rows is', len(dataset))\n",
    "        print('Number of columns is', len(dataset[3]))\n",
    "\n",
    "print(android_header, '\\n')\n",
    "explore_data(android_apps, 0, 4, True)\n"
   ]
  },
  {
   "cell_type": "markdown",
   "metadata": {},
   "source": [
    "The first printed row shows the header column of Android Apps. The number of Android Apps in our dataset is 10,841 and they are grouped into 13 column descriptions. From the objectives of our analysis, we find that the relevant columns we need for our analysis are;\n",
    "* App\n",
    "* Category\n",
    "* Reviews\n",
    "* Installs\n",
    "* Type\n",
    "* Price\n",
    "* Genres"
   ]
  },
  {
   "cell_type": "code",
   "execution_count": 3,
   "metadata": {},
   "outputs": [
    {
     "output_type": "stream",
     "name": "stdout",
     "text": [
      "['id', 'track_name', 'size_bytes', 'currency', 'price', 'rating_count_tot', 'rating_count_ver', 'user_rating', 'user_rating_ver', 'ver', 'cont_rating', 'prime_genre', 'sup_devices.num', 'ipadSc_urls.num', 'lang.num', 'vpp_lic'] \n\n['284882215', 'Facebook', '389879808', 'USD', '0.0', '2974676', '212', '3.5', '3.5', '95.0', '4+', 'Social Networking', '37', '1', '29', '1']\n\n\n['389801252', 'Instagram', '113954816', 'USD', '0.0', '2161558', '1289', '4.5', '4.0', '10.23', '12+', 'Photo & Video', '37', '0', '29', '1']\n\n\n['529479190', 'Clash of Clans', '116476928', 'USD', '0.0', '2130805', '579', '4.5', '4.5', '9.24.12', '9+', 'Games', '38', '5', '18', '1']\n\n\nNumber of rows is 7197\nNumber of columns is 16\n"
     ]
    }
   ],
   "source": [
    "print(ios_header, '\\n')\n",
    "explore_data(ios_apps, 0, 3, True)"
   ]
  },
  {
   "cell_type": "markdown",
   "metadata": {},
   "source": [
    "There are 7,197 iOS Apps in our dataset, and they are categorized with into 16 column descriptions. The relevant columns for our analysis includes:\n",
    "* Track_name\n",
    "* Price\n",
    "* Rating_count_tot\n",
    "* Rating_count_ver\n",
    "* Prime_genre\n",
    "Some of these column descriptions are not self-explanatory, hence we included the [dataset documentation](https://www.kaggle.com/ramamet4/app-store-apple-data-set-10k-apps/)"
   ]
  },
  {
   "cell_type": "markdown",
   "metadata": {},
   "source": [
    "# Detecting incorrect Data in our dataset\n",
    "\n",
    "We observed that some entries in our data set doesn't match with what we expect, and we assume that we don't know which particular row entry is incorrect. Thus we wrote a function that identifies any incorrect entry and prints the index of such entry. Specifically the `detecting_incorrect_entry` function checks for entries whose length or number of columns does not match with the number of columns in the header. In other words, missing columns.\n",
    "\n",
    "We can use this function for our iOS dataset as well as for our Google Play dataset."
   ]
  },
  {
   "cell_type": "code",
   "execution_count": 4,
   "metadata": {},
   "outputs": [
    {
     "output_type": "stream",
     "name": "stdout",
     "text": [
      "['Life Made WI-Fi Touchscreen Photo Frame', '1.9', '19', '3.0M', '1,000+', 'Free', '0', 'Everyone', '', 'February 11, 2018', '1.0.19', '4.0 and up']\n10472\nNone\n"
     ]
    }
   ],
   "source": [
    "def detecting_incorrect_entry(dataset, dataset_header):\n",
    "    for row in dataset:\n",
    "        header_len = len(dataset_header)\n",
    "        row_len = len(row)\n",
    "        if header_len != row_len:\n",
    "            print(row)\n",
    "            print(dataset.index(row))\n",
    "\n",
    "print(detecting_incorrect_entry(android_apps, android_header))\n",
    "detecting_incorrect_entry(ios_apps, ios_header)"
   ]
  },
  {
   "cell_type": "markdown",
   "metadata": {},
   "source": [
    "The incorrect entry is detected to be in `row 10,472` for Google Play apps dataset, and there is no incorrect entry of such nature in the iOS app dataset. This incorrect entry is deleted using the `del` statement."
   ]
  },
  {
   "cell_type": "code",
   "execution_count": 5,
   "metadata": {},
   "outputs": [
    {
     "output_type": "stream",
     "name": "stdout",
     "text": [
      "10841\n10840\n"
     ]
    }
   ],
   "source": [
    "print(len(android_apps))\n",
    "del android_apps[10472]\n",
    "print(len(android_apps))"
   ]
  },
  {
   "cell_type": "markdown",
   "metadata": {},
   "source": [
    "## Detecting and Removing duplicate Apps\n",
    "\n",
    "Some Apps have duplicates, that is, they appear more than once in our dataset. For accuracy of our analysis, we need to remove these duplicate Apps.\n",
    "\n",
    "We wrote the function `remove_duplicate_apps` that takes a list of lists as its argument, and checks if an App existed before in any of the rows and appends it to the list of `duplicate_apps`. And if the App is unique it is appended as a list of `unique_apps`. The function goes ahead to print the length of both duplicate and unique Apps respectively, and a few example of the duplicate Apps"
   ]
  },
  {
   "cell_type": "code",
   "execution_count": 6,
   "metadata": {},
   "outputs": [
    {
     "output_type": "stream",
     "name": "stdout",
     "text": [
      "Number of duplicate Apps: 0\n",
      "Number of unique Apps: 7197\n",
      "Example of duplicate Apps: [] \n",
      "\n",
      "Number of duplicate Apps: 1181\n",
      "Number of unique Apps: 9659\n",
      "Example of duplicate Apps: ['Quick PDF Scanner + OCR FREE', 'Box', 'Google My Business', 'ZOOM Cloud Meetings', 'join.me - Simple Meetings'] \n",
      "\n",
      "None\n",
      "None\n"
     ]
    }
   ],
   "source": [
    "def apps_duplicate(app_name_row):\n",
    "    unique_apps = []\n",
    "    duplicate_apps = []\n",
    "    for app in app_name_row:\n",
    "        app_name = app[0]\n",
    "        if app_name in unique_apps: # if the app already exists in unique apps, move it over to the duplicate apps list\n",
    "            duplicate_apps.append(app_name)\n",
    "        else:\n",
    "            unique_apps.append(app_name) # if the app has not existed before, it is appended to the unique apps list \n",
    "    print('Number of duplicate Apps:', len(duplicate_apps),)\n",
    "    print('Number of unique Apps:', len(unique_apps))\n",
    "    print('Example of duplicate Apps:', duplicate_apps[0:5], '\\n')\n",
    "\n",
    "duplicated_ios_apps = apps_duplicate(ios_apps)\n",
    "duplicated_android_apps = apps_duplicate(android_apps)\n",
    "print(duplicated_ios_apps)\n",
    "print(duplicated_android_apps)"
   ]
  },
  {
   "cell_type": "markdown",
   "metadata": {},
   "source": [
    "Using the logic in the for loop above, for the first iteration in the loop, the `unique_apps` list is still empty and therefore the `else` statement is executed, the second, third etc iterations follow the same process, because for these ones, they haven't existed before in the `unique_apps` list, so its the `else` statement that gets executed. And remember that the else statement appends the `app_name` to `unique_apps` list. So `unique_apps` list continues updating Until it meets an app that has been added before... Only then will the `if` statement get executed, which then appends that `app_name` to the `duplicate_apps` list."
   ]
  },
  {
   "cell_type": "markdown",
   "metadata": {},
   "source": [
    "The Above output shows that none of the iOS Apps have any duplicates, but 1,181 Android Apps have duplicates"
   ]
  },
  {
   "cell_type": "markdown",
   "metadata": {},
   "source": [
    "## Method of removing duplicates\n",
    "\n",
    "Since some Apps have duplicates that could lead us to incorrect analysis, we need to remove these duplicate Apps. This could be done randomly, but we prefer to use a more systematic method for removing these duplicate Apps. \n",
    "\n",
    "A glance at the code output below, where we printed and example of a duplicate App **(instagram)**, shows that, a difference occurs in the various duplicates and this difference is seen in column four that shows the App reviews. The different App reviews is an indication that the data was collected at different times."
   ]
  },
  {
   "cell_type": "code",
   "execution_count": 7,
   "metadata": {},
   "outputs": [
    {
     "output_type": "stream",
     "name": "stdout",
     "text": [
      "66577313\n66577446\n66577313\n66509917\n"
     ]
    }
   ],
   "source": [
    "for app in android_apps:\n",
    "    name = app[0]\n",
    "    if name == 'Instagram':\n",
    "        print(app[3]) # app[3] is the reviews column of all duplicate apps whith the name 'instagram'"
   ]
  },
  {
   "cell_type": "markdown",
   "metadata": {},
   "source": [
    "This could lead us to remove the duplicate Apps using the criterion of **App with highest review**. Thus we will only keep the row with highest reviews and remove the other duplicate rows."
   ]
  },
  {
   "cell_type": "markdown",
   "metadata": {},
   "source": [
    "### Creating a dictionary\n",
    "\n",
    "We can accomplish the above task by first creating a dictionary that takes an App name as key and the highest number of reviews of the App as value.\n",
    "\n",
    "We started the steps by first creating an empty dictionary called `reviews_max`, then we looped through the `android_apps` list and for each iteration, we:\n",
    "* Assigned the name of Apps to a variable called name\n",
    "* And the reviews column to a vairiable called n_reviews\n",
    "\n",
    "Next we created a condition that, if the name has not been found in the `reviews_max` dictionary while looping, (for which it isn't found, because the dictionary is empty for the first iteration) update the value of that current app to the number of reviews. That is, create a new key, value pair. This code keeps running and updating the dictionary key:value because the `app name` has not been found in the `reviews_max` dictionary before. So it kind of creates a dictionary of all unique apps.\n",
    "\n",
    "\n",
    "Else, if the app_name has been found in the reviews_max dictionary before, and we get another same name, we need to check if the current review value of this current app is less than the value we already set for that app in the `reviews_max` dictionary. \n",
    "\n",
    "* That is, the app is already in our `reviews_max` dictionary and its current review value is less than the one we have already added in the if part, we just update the same app with the higher review value."
   ]
  },
  {
   "cell_type": "code",
   "execution_count": 8,
   "metadata": {},
   "outputs": [
    {
     "output_type": "stream",
     "name": "stdout",
     "text": [
      "9659\n"
     ]
    }
   ],
   "source": [
    "reviews_max = {}\n",
    "\n",
    "for row in android_apps:\n",
    "    name = row[0]\n",
    "    n_reviews = float(row[3])\n",
    "    \n",
    "    if name not in reviews_max:\n",
    "        reviews_max[name] = n_reviews\n",
    "        \n",
    "    elif name in reviews_max and reviews_max[name] < n_reviews:\n",
    "        reviews_max[name] = n_reviews\n",
    "        \n",
    "print(len(reviews_max))"
   ]
  },
  {
   "cell_type": "markdown",
   "metadata": {},
   "source": [
    "**PS: The dictionary above is not a part of our data set, it just helps us to store app names as keys and takes the highest number of app reviews as its values, hence it holds just two indicators, \"App name and App reviews\" and will be used to clean our main android data set of all its duplicate entries.**"
   ]
  },
  {
   "cell_type": "markdown",
   "metadata": {},
   "source": [
    "In the code block below;\n",
    "* We created two empty lists which we called, `android_clean` and `already_added`\n",
    "* Looped through the `android_apps` data set (which excludes the header row), and for each iteration, we append the name of an app to the `name` variable and append the app review to the variable named `n_reviews`.\n",
    "\n",
    "In the IF condition;\n",
    "\n",
    "* we are appending an app (row) together with all its components(columns) to the `android_clean` list and\n",
    "* Appending just the name of the app to the `already_added` list, only IF;\n",
    "\n",
    "**The number of reviews of the current app is the same as the app's value in our `reviews_max` dictionary and\n",
    "**The name of the app name has not already been found in the `already_added` list.**\n",
    "\n",
    "This second condition needs to be added because, the `already_added` list is used to track apps that have been added to the `android_clean` list. So the appendance occurs once an app has met the first condition `( n_reviews == reviews_max )` and the name of the app is not in the `already_added` list (of course all apps are not in the empty `already_added` list yet). This process continues until the looping is done over apps whose names already appear in the `already_added` list, then the appendace won't work over such apps.\n",
    "The second condition is required because, some apps have the same number of reviews and everything else equal, in other words, they are perfect duplicates and the only way to remove such duplicates is to prevent them from appearing twice, thus the introduction of the second condition"
   ]
  },
  {
   "cell_type": "code",
   "execution_count": 9,
   "metadata": {},
   "outputs": [],
   "source": [
    "android_clean = [] # this list will store our newly cleaned dataset\n",
    "already_added = [] # this list will store just app names\n",
    "\n",
    "for row in android_apps:\n",
    "    name = row[0]\n",
    "    n_reviews = float(row[3])\n",
    "    \n",
    "    if (n_reviews == reviews_max[name]) and (name not in already_added):\n",
    "        android_clean.append(row)\n",
    "        already_added.append(name)"
   ]
  },
  {
   "cell_type": "markdown",
   "metadata": {},
   "source": [
    "Next we explore our android data set using the `explore_data` function we created before to ensure that it has been rid of all duplicate entries, print a few rows and measure its length"
   ]
  },
  {
   "cell_type": "code",
   "execution_count": 10,
   "metadata": {},
   "outputs": [
    {
     "output_type": "stream",
     "name": "stdout",
     "text": [
      "['Photo Editor & Candy Camera & Grid & ScrapBook', 'ART_AND_DESIGN', '4.1', '159', '19M', '10,000+', 'Free', '0', 'Everyone', 'Art & Design', 'January 7, 2018', '1.0.0', '4.0.3 and up']\n\n\n['U Launcher Lite – FREE Live Cool Themes, Hide Apps', 'ART_AND_DESIGN', '4.7', '87510', '8.7M', '5,000,000+', 'Free', '0', 'Everyone', 'Art & Design', 'August 1, 2018', '1.2.4', '4.0.3 and up']\n\n\n['Sketch - Draw & Paint', 'ART_AND_DESIGN', '4.5', '215644', '25M', '50,000,000+', 'Free', '0', 'Teen', 'Art & Design', 'June 8, 2018', 'Varies with device', '4.2 and up']\n\n\nNumber of rows is 9659\nNumber of columns is 13\n"
     ]
    }
   ],
   "source": [
    "explore_data(android_clean, 0, 3)"
   ]
  },
  {
   "cell_type": "markdown",
   "metadata": {},
   "source": [
    "# Filtering Non-English Apps\n",
    "\n",
    "The code block below, defines a function called `english_or_not` and it is intended to filter out non-english Apps, since our organization is only indulged in creating English Apps.\n",
    "\n",
    "It is expected to take in a string as its argument and return `True` if an individual character (be it a letter or number or symbol or punctuation marks) unicode is less than 127, and `False` if it is greater than 127\n",
    "\n",
    "The margin of 127 is used because, according to the 'American Standard Code for Information Interchange' (ASCII), the numbers corresponding to the characters we commonly use in an English text are all in the range 0 to 127."
   ]
  },
  {
   "cell_type": "code",
   "execution_count": 11,
   "metadata": {},
   "outputs": [
    {
     "output_type": "stream",
     "name": "stdout",
     "text": [
      "True\nFalse\nFalse\nFalse\n"
     ]
    }
   ],
   "source": [
    "def english_or_not(app_name):\n",
    "\n",
    "    for character in app_name:\n",
    "        \n",
    "        if ord(character) > 127  :\n",
    "            return False\n",
    "        \n",
    "    return True\n",
    "\n",
    "print(english_or_not('instagram'))\n",
    "print(english_or_not('爱奇艺PPS -《欢乐颂2》电视剧热播'))\n",
    "print(english_or_not('Docs To Go™ Free Office Suite'))\n",
    "print(english_or_not('Instachat 😜'))"
   ]
  },
  {
   "cell_type": "markdown",
   "metadata": {},
   "source": [
    "The above code block doesn't work as expected because, we see from the output that some English Apps returned `false`. This is due to the characters such as 'TM' and the 'smiley' in 'Docs To Go (TM) Free Office Suite' App and 'Instachat(smiley' App respectively.\n",
    "\n",
    "To correct this anomaly, we update the function to return `False` only for Apps whose unicode character  `ascii_range` is greater than 3 and `True` for Apps that have less than 3 non-ascii characters\n",
    "\n",
    "### Updated English Filtering Function"
   ]
  },
  {
   "cell_type": "code",
   "execution_count": 12,
   "metadata": {},
   "outputs": [
    {
     "output_type": "stream",
     "name": "stdout",
     "text": [
      "True\nFalse\nTrue\nTrue\n"
     ]
    }
   ],
   "source": [
    "def english_or_not(app_name):\n",
    "    \n",
    "    ascii_range = 0\n",
    "    \n",
    "    for character in app_name:\n",
    "        if ord(character) > 127:\n",
    "            ascii_range += 1   # increment the ascii_range by 1 for each app name iteration whose character is greater than 127\n",
    "            \n",
    "        if ascii_range > 3:\n",
    "            return False\n",
    "        \n",
    "    return True\n",
    "print(english_or_not('instagram'))\n",
    "print(english_or_not('爱奇艺PPS -《欢乐颂2》电视剧热播'))\n",
    "print(english_or_not('Docs To Go™ Free Office Suite'))\n",
    "print(english_or_not('Instachat 😜'))"
   ]
  },
  {
   "cell_type": "markdown",
   "metadata": {},
   "source": [
    "The above function works fine although it is not flawless in perfoming its task, but we'll leave it at that for now.\n",
    "\n",
    "### using the English filter function to filter out Non english Apps in Google Play and iOS Apps"
   ]
  },
  {
   "cell_type": "markdown",
   "metadata": {},
   "source": [
    "The code block below filters out non-English apps from both data sets.\n",
    "Firstly, we creates two empty lists `android_english` and `ios_english`, then we Loops through each data set, call the `english_or_not` function and sets the argument of the `english_or_not` function to be the name column of each data set. \n",
    "\n",
    "If `True`, we Append such Apps to the empty list created, thereby creating a new list of english Apps only, which meets the criteria of the `english_or_not` function we created above\n",
    "\n",
    "We print a few rows using the `explore_data` function created initially"
   ]
  },
  {
   "cell_type": "code",
   "execution_count": 13,
   "metadata": {},
   "outputs": [
    {
     "output_type": "stream",
     "name": "stdout",
     "text": [
      "['Photo Editor & Candy Camera & Grid & ScrapBook', 'ART_AND_DESIGN', '4.1', '159', '19M', '10,000+', 'Free', '0', 'Everyone', 'Art & Design', 'January 7, 2018', '1.0.0', '4.0.3 and up']\n\n\n['U Launcher Lite – FREE Live Cool Themes, Hide Apps', 'ART_AND_DESIGN', '4.7', '87510', '8.7M', '5,000,000+', 'Free', '0', 'Everyone', 'Art & Design', 'August 1, 2018', '1.2.4', '4.0.3 and up']\n\n\n['Sketch - Draw & Paint', 'ART_AND_DESIGN', '4.5', '215644', '25M', '50,000,000+', 'Free', '0', 'Teen', 'Art & Design', 'June 8, 2018', 'Varies with device', '4.2 and up']\n\n\nNumber of rows is 9614\nNumber of columns is 13\nNone \n\n['284882215', 'Facebook', '389879808', 'USD', '0.0', '2974676', '212', '3.5', '3.5', '95.0', '4+', 'Social Networking', '37', '1', '29', '1']\n\n\n['389801252', 'Instagram', '113954816', 'USD', '0.0', '2161558', '1289', '4.5', '4.0', '10.23', '12+', 'Photo & Video', '37', '0', '29', '1']\n\n\n['529479190', 'Clash of Clans', '116476928', 'USD', '0.0', '2130805', '579', '4.5', '4.5', '9.24.12', '9+', 'Games', '38', '5', '18', '1']\n\n\nNumber of rows is 6183\nNumber of columns is 16\nNone\n"
     ]
    }
   ],
   "source": [
    "android_english = []\n",
    "ios_english = []\n",
    "\n",
    "for apps in android_clean:\n",
    "    if english_or_not(apps[0]) == True:\n",
    "        android_english.append(apps)\n",
    "        \n",
    "for apps in ios_apps:\n",
    "    if english_or_not(apps[1]) == True:\n",
    "        ios_english.append(apps)\n",
    "\n",
    "print(explore_data(android_english, 0, 3), '\\n')\n",
    "print(explore_data(ios_english, 0, 3))"
   ]
  },
  {
   "cell_type": "markdown",
   "metadata": {},
   "source": [
    "Now we have just 9,614 android Apps and 6,183 iOS Apps\n",
    "\n",
    "## Final Data Cleaning Process\n",
    "\n",
    "#### Isolating The free Apps\n",
    "\n",
    "At the inception of this analysis, we assumed that we are working for a company that creates only free Apps.\n",
    "But our two data sets contains both free and paid apps, hence in this final process, we are going to select only Apps that are free in both stores.\n",
    "\n",
    "We start by:\n",
    "* checking the column that decribes the price status of an App. Our discovery shows that for the iOS data set, the column for App prices is column 4 while the column for prices of googleplay store Apps is column 7"
   ]
  },
  {
   "cell_type": "code",
   "execution_count": 14,
   "metadata": {},
   "outputs": [
    {
     "output_type": "stream",
     "name": "stdout",
     "text": [
      "8864\n3222\n"
     ]
    }
   ],
   "source": [
    "free_android = []\n",
    "free_ios = []\n",
    "\n",
    "for app in android_english:\n",
    "    price = app[7]\n",
    "    if price == '0':\n",
    "        free_android.append(app)\n",
    "        \n",
    "print(len(free_android))\n",
    "        \n",
    "for app in ios_english:\n",
    "    price = app[4]\n",
    "    if price == '0.0':\n",
    "        free_ios.append(app)\n",
    "\n",
    "print(len(free_ios))"
   ]
  },
  {
   "cell_type": "markdown",
   "metadata": {},
   "source": [
    "The final Data Set cleaning process left us with a total of 8,864 android Apps and 3222 iOS Apps. This is what will be used for our analysis."
   ]
  },
  {
   "cell_type": "markdown",
   "metadata": {},
   "source": [
    "## Actual Data Analysis Section\n",
    "\n",
    "#### Context for selection of App profiles that fit both the Google Play Store and the Apple Store\n",
    "\n",
    "We mentioned in the introduction, that our aim is to determine the kinds of apps that are likely to attract more users because our revenue is highly influenced by the number of people using our apps.\n",
    "\n",
    "In order to minimize risks and costs, our validation strategy for an app idea is comprised of three steps:\n",
    "1. Build a minimal Android version of the app, and add it to Google Play.\n",
    "2. If the app has a good response from users, we develop it further.\n",
    "3. If the app is profitable after six months, we build an iOS version of the app and add it to the App Store.\n",
    "\n",
    "Because our end goal is to add the app on both the App Store and Google Play, we need to find app profiles that are successful on both markets. For instance, a profile that might work well for both markets might be a productivity app that makes use of gamification.\n",
    "\n",
    "## Most common App By Genre\n",
    "We begin our analysis by getting an idea of the most popular genre of apps in both stores. The relevant columns for this analysis are the `genre` and `Category` columns for the googleplay store data set, which is located in column 9 and 1 respectively, and the `prime_genre` column for the Applestore data set, located in column 11.\n",
    "\n",
    "To do this we could create two functions, `freq_table` and `display_table`\n",
    "* The `freq_table` function is expected to create a frequency table for any Apps column and show the percentage of items in the column.\n",
    "* The `display_table` function is expected to show the percentages in descending order"
   ]
  },
  {
   "cell_type": "markdown",
   "metadata": {},
   "source": [
    "The `freq_table` function below is expected to take in a data set (list of lists) as its first argument and an integer as its second argument.\n",
    "* In the function's body, we created an empty list and named it `table`.\n",
    "* Initialized the variable `total` to `0`, which is expected to count the total number of rows in the data set\n",
    "* Next we looped through the function's first parameter (which is expected to be a list of lists)\n",
    "* And for every iteration, we increment the value of `total` by one, (that is, for each row encountered, the value of total will be increased by one) and assigned the column that is expected to represent an App's `genre` (or any other column we that may want to perform the same analysis on) to a variable named `value`\n",
    "* If any `value` (column) is found in the table (the empty dictionary we created) as key, we count that `value` or column and increment its value by 1. (of course for the first loop, value would not be found in the empty dictionary as key because the dictionary is still empty)\n",
    "* The `else` statement runs and creates a new pair in the dictionary, That has the column represented here by `value` as its key and sets the value of the key to 1\n",
    "* If the loop encounters a particular value in the column as key again in the table, the `if` statement runs\n",
    "* `table` dictionary now holds as key, any column called by the `index` parameter in the `freq_table` function, and the counts of each item in the column as value.\n",
    "\n",
    "##### part two of the same function\n",
    "\n",
    "The second part of the `freq_table` function, converts the value of keys in the `table` dictionary to percentages and returns the new dictionary `table_percentage`, which now holds the key:value pair of any column (with values being in percentages). \n",
    "This is executed in the folloeing steps:\n",
    "\n",
    "* A new empty dictionary is initialilized and assigned to a varible called `table_percemtage`\n",
    "* The old dictionary `table` is looped over (with its key being any column)\n",
    "* Gets the value of keys in the `table` dictionary (the counts of items in any row) and divides it by `total` (which now hold the total numeber rows in the dataset).\n",
    "* Still on the same line, Multiplies the result by 100 (in order to get the percentage)\n",
    "* The `round` function is called on this expression and all the resulting values are rounded to 2 decimal places.\n",
    "* The whole function (`round`) is assigned to a variable named `percentage_of_items`\n",
    "* A new key:value pair is created for the `table_percentage` dictionary, where the value of items is set to be the `percentage_of_items`\n",
    "* The `table_percentage` dictionary is returned."
   ]
  },
  {
   "cell_type": "code",
   "execution_count": 15,
   "metadata": {},
   "outputs": [],
   "source": [
    "def freq_table(dataset, index):\n",
    "    table = {}\n",
    "    total = 0\n",
    "    \n",
    "    for row in dataset:\n",
    "        total += 1\n",
    "        value = row[index]\n",
    "        \n",
    "        if value in table:\n",
    "            table[value] += 1\n",
    "    \n",
    "        else:\n",
    "            table[value] = 1\n",
    "    \n",
    "    \n",
    "    table_percentage = {}\n",
    "    for key in table:\n",
    "        percentage_of_items = round(table[key] / total * 100, 2)\n",
    "        table_percentage[key] = percentage_of_items\n",
    "        \n",
    "    return table_percentage\n",
    "\n",
    "def display_table(dataset, index):\n",
    "    table_freq = freq_table(dataset, index)\n",
    "    table_display = []\n",
    "    \n",
    "    for key in table_freq:\n",
    "        key_value_as_tuple = (table_freq[key], key) # this set the key's value before the key itself converts to a tuple\n",
    "        table_display.append(key_value_as_tuple)\n",
    "        \n",
    "    table_sorted = sorted(table_display, reverse = True)\n",
    "    \n",
    "    for entry in table_sorted:\n",
    "        print(entry[1], ':', entry[0])\n"
   ]
  },
  {
   "cell_type": "markdown",
   "metadata": {},
   "source": [
    "## Analysis of Frequency of iOS Apple Store Apps by Genre"
   ]
  },
  {
   "cell_type": "code",
   "execution_count": 16,
   "metadata": {},
   "outputs": [
    {
     "output_type": "stream",
     "name": "stdout",
     "text": [
      "Games : 58.16\nEntertainment : 7.88\nPhoto & Video : 4.97\nEducation : 3.66\nSocial Networking : 3.29\nShopping : 2.61\nUtilities : 2.51\nSports : 2.14\nMusic : 2.05\nHealth & Fitness : 2.02\nProductivity : 1.74\nLifestyle : 1.58\nNews : 1.33\nTravel : 1.24\nFinance : 1.12\nWeather : 0.87\nFood & Drink : 0.81\nReference : 0.56\nBusiness : 0.53\nBook : 0.43\nNavigation : 0.19\nMedical : 0.19\nCatalogs : 0.12\n"
     ]
    }
   ],
   "source": [
    "display_table(free_ios, 11)"
   ]
  },
  {
   "cell_type": "markdown",
   "metadata": {},
   "source": [
    "From the above outputs, it is seen that the most common genre of free english Apps in the Apple store is the Games genre of Apps, representing about 58% of total free english Apps on the store.\n",
    "The App genre that follows next, though with large margin to the Games genre is the entertainmet genre, that holds about 8% of all free english Apps. Closely followed is the Photo & Video genre holding  about 5% of free english Apps. Genres such as Education, Social networking, Shopping, utilities, sports, music and Health & fitness follows closely, as they each hold at least 2% of all free english Apps. \n",
    "\n",
    "Genres with the least Apps are weather, food & drinks, reference, business, book, navigation, medical and catalogs, as each of them holds less than 1% of all free english Apps in Apple iOS store.\n",
    "\n",
    "The general impression is that most free english Apps in the Apple store are designed for entertainment and fun purposes. This is because the majority of such free english Apps hold genres such as Games, Entertainmet, Photo and Video, sports, social networking, music and just these genres account for about 79% of total free english Apps in the App store. Apps designed for practical purposes with genres like Education, shopping, utilities, productivity and lifestyle are uncommon in the Apple store and they represent just about 12% of total free english Apps. However, the fact that most Apps are of the entertainment genre doesn't imply that such Apps have the Highest number of user. The supply of such Apps might acutally be greater than the demand for them. \n",
    "\n",
    "Although this frequency table does not represent the genres that is most downloaded by user, it rather just shows the genres that are most popular in the iOS App Store.\n",
    "\n",
    "## Analysis of Google PlayStore Android Apps by Genre"
   ]
  },
  {
   "cell_type": "code",
   "execution_count": 17,
   "metadata": {},
   "outputs": [
    {
     "output_type": "stream",
     "name": "stdout",
     "text": [
      "Tools : 8.45\nEntertainment : 6.07\nEducation : 5.35\nBusiness : 4.59\nProductivity : 3.89\nLifestyle : 3.89\nFinance : 3.7\nMedical : 3.53\nSports : 3.46\nPersonalization : 3.32\nCommunication : 3.24\nAction : 3.1\nHealth & Fitness : 3.08\nPhotography : 2.94\nNews & Magazines : 2.8\nSocial : 2.66\nTravel & Local : 2.32\nShopping : 2.25\nBooks & Reference : 2.14\nSimulation : 2.04\nDating : 1.86\nArcade : 1.85\nVideo Players & Editors : 1.77\nCasual : 1.76\nMaps & Navigation : 1.4\nFood & Drink : 1.24\nPuzzle : 1.13\nRacing : 0.99\nRole Playing : 0.94\nLibraries & Demo : 0.94\nAuto & Vehicles : 0.93\nStrategy : 0.91\nHouse & Home : 0.82\nWeather : 0.8\nEvents : 0.71\nAdventure : 0.68\nComics : 0.61\nBeauty : 0.6\nArt & Design : 0.6\nParenting : 0.5\nCard : 0.45\nCasino : 0.43\nTrivia : 0.42\nEducational;Education : 0.39\nBoard : 0.38\nEducational : 0.37\nEducation;Education : 0.34\nWord : 0.26\nCasual;Pretend Play : 0.24\nMusic : 0.2\nRacing;Action & Adventure : 0.17\nPuzzle;Brain Games : 0.17\nEntertainment;Music & Video : 0.17\nCasual;Brain Games : 0.14\nCasual;Action & Adventure : 0.14\nArcade;Action & Adventure : 0.12\nAction;Action & Adventure : 0.1\nEducational;Pretend Play : 0.09\nSimulation;Action & Adventure : 0.08\nParenting;Education : 0.08\nEntertainment;Brain Games : 0.08\nBoard;Brain Games : 0.08\nParenting;Music & Video : 0.07\nEducational;Brain Games : 0.07\nCasual;Creativity : 0.07\nArt & Design;Creativity : 0.07\nEducation;Pretend Play : 0.06\nRole Playing;Pretend Play : 0.05\nEducation;Creativity : 0.05\nRole Playing;Action & Adventure : 0.03\nPuzzle;Action & Adventure : 0.03\nEntertainment;Creativity : 0.03\nEntertainment;Action & Adventure : 0.03\nEducational;Creativity : 0.03\nEducational;Action & Adventure : 0.03\nEducation;Music & Video : 0.03\nEducation;Brain Games : 0.03\nEducation;Action & Adventure : 0.03\nAdventure;Action & Adventure : 0.03\nVideo Players & Editors;Music & Video : 0.02\nSports;Action & Adventure : 0.02\nSimulation;Pretend Play : 0.02\nPuzzle;Creativity : 0.02\nMusic;Music & Video : 0.02\nEntertainment;Pretend Play : 0.02\nCasual;Education : 0.02\nBoard;Action & Adventure : 0.02\nVideo Players & Editors;Creativity : 0.01\nTrivia;Education : 0.01\nTravel & Local;Action & Adventure : 0.01\nTools;Education : 0.01\nStrategy;Education : 0.01\nStrategy;Creativity : 0.01\nStrategy;Action & Adventure : 0.01\nSimulation;Education : 0.01\nRole Playing;Brain Games : 0.01\nRacing;Pretend Play : 0.01\nPuzzle;Education : 0.01\nParenting;Brain Games : 0.01\nMusic & Audio;Music & Video : 0.01\nLifestyle;Pretend Play : 0.01\nLifestyle;Education : 0.01\nHealth & Fitness;Education : 0.01\nHealth & Fitness;Action & Adventure : 0.01\nEntertainment;Education : 0.01\nCommunication;Creativity : 0.01\nComics;Creativity : 0.01\nCasual;Music & Video : 0.01\nCard;Action & Adventure : 0.01\nBooks & Reference;Education : 0.01\nArt & Design;Pretend Play : 0.01\nArt & Design;Action & Adventure : 0.01\nArcade;Pretend Play : 0.01\nAdventure;Education : 0.01\n"
     ]
    }
   ],
   "source": [
    "display_table(free_android, 9)"
   ]
  },
  {
   "cell_type": "markdown",
   "metadata": {},
   "source": [
    "The representation of of Apps in the Google PlayStore is quite dissimilar from what we saw in the iOS store. The genres in google playstore are more balanced when compared with the Apps store genres. Altough both stores show that Apps designed for entertainment purposes have a significant representation, ranking amongst the top two Genres in both stores. Education Apps also have a good representation in terms of ranking in the both stores, falling within the top four of both stores.\n",
    "\n",
    "It is also evident in the google playstore that practical purpose Apps are common. This is because genres such as tools, education, business, productivity, finance and medical fall within the top 10 Apps and represent about 30% of all free english Apps in the google playstore.\n",
    "\n",
    "Although this frequency table does not represent the genres that is most downloaded by user, it rather just shows the genres that are most popular in the google playstore.\n",
    "\n",
    "## Analysis of Google PlayStore Android Apps by Category"
   ]
  },
  {
   "cell_type": "code",
   "execution_count": 18,
   "metadata": {},
   "outputs": [
    {
     "output_type": "stream",
     "name": "stdout",
     "text": [
      "FAMILY : 18.91\nGAME : 9.72\nTOOLS : 8.46\nBUSINESS : 4.59\nLIFESTYLE : 3.9\nPRODUCTIVITY : 3.89\nFINANCE : 3.7\nMEDICAL : 3.53\nSPORTS : 3.4\nPERSONALIZATION : 3.32\nCOMMUNICATION : 3.24\nHEALTH_AND_FITNESS : 3.08\nPHOTOGRAPHY : 2.94\nNEWS_AND_MAGAZINES : 2.8\nSOCIAL : 2.66\nTRAVEL_AND_LOCAL : 2.34\nSHOPPING : 2.25\nBOOKS_AND_REFERENCE : 2.14\nDATING : 1.86\nVIDEO_PLAYERS : 1.79\nMAPS_AND_NAVIGATION : 1.4\nFOOD_AND_DRINK : 1.24\nEDUCATION : 1.16\nENTERTAINMENT : 0.96\nLIBRARIES_AND_DEMO : 0.94\nAUTO_AND_VEHICLES : 0.93\nHOUSE_AND_HOME : 0.82\nWEATHER : 0.8\nEVENTS : 0.71\nPARENTING : 0.65\nART_AND_DESIGN : 0.64\nCOMICS : 0.62\nBEAUTY : 0.6\n"
     ]
    }
   ],
   "source": [
    "display_table(free_android, 1)"
   ]
  },
  {
   "cell_type": "markdown",
   "metadata": {},
   "source": [
    "Following the category description of google playstore Apps, Family category, has the highest representation with about 19% of total Apps, followed by the games category with 10% representation of total free english Apps in the google playstore. There are not that many apps designed for fun, and it seems that a good number of apps are designed for practical purposes (family, tools, business, lifestyle, productivity, etc.).\n",
    "\n",
    "The difference between the Genres and the Category columns is not crystal clear, but one thing we can notice is that the Genres column is much more granular (it has more categories). We're only looking for the bigger picture at the moment, so we'll only work with the Category column moving forward.\n",
    "\n",
    "Up to this point, we found that the App Store is dominated by apps designed for fun, while Google Play shows a more balanced landscape of both practical and for-fun apps. Now we'd like to get an idea about the kind of apps that have most users.\n",
    "\n",
    "## Analysis of iOS Apps with Most Users\n",
    "One way to find out what genres are the most popular (have the most users) is to calculate the average number of installs for each app genre. For the Google Play data set, we can find this information in the Installs column, but for the App Store data set this information is missing. As a workaround, we'll take the total number of user ratings as a proxy for number of installs. We can find this in the rating_count_tot column. This column measures how many users rated each App in the AppStore (since a user can only rate an App he/she has used, This hopes to serve as a good proxy variable).\n",
    "\n",
    "Let's start with calculating the average number of user ratings per app genre on the App Store. To do that, we'll need to:\n",
    "\n",
    "* Isolate the apps of each genre.\n",
    "* Sum up the user ratings for the apps of that genre.\n",
    "* Divide the sum by the number of apps belonging to that genre (not by the total number of apps).\n",
    "To calculate the average number of user ratings for each genre, we'll use a for loop inside of another for loop.\n",
    "*for a nested loop, for each iteration of the parent loop, the entire iterations of the child loop runs.\n",
    "\n",
    "**Steps**:\n",
    "* We created a variable called `prime_genre` which holds our `freq_table` function (the `freq_table` function is expected to create a frequency table of `prime_genre` column for AppStore dataset and show the percentage of items in the column)\n",
    "* `prime_genre` is expected to hold the unique App genres\n",
    "* We looped through the `prime_genre` and for each iteration, we initialized a variable `total` to zero (this variable is expected to hold the sum of all ratings in a particular genre).\n",
    "* Initialized a new variable `len_genre` to zero (this variable is expected hold the number of apps in each genre)\n",
    "* Created a nested loop, which iterates through each App in the free iOS Apps and for each iteration, appends the reviews column to a variable called `genre_app`\n",
    "* If OR each tim `genre_app` is same as `genre`, which is true because `genre` (the iterable variable of the `prime_genre` which now holds the) is the unique Apps genre and `genre_app` also holds the unique apps of the `free_ios` Apps.\n",
    "* Assign the number of user ratings for each App to a variable called `user_rating`\n",
    "* Increment the value of `total` to the `user_rating`, that is, the `user_rating` sums up each time the if condition holds true\n",
    "* Increment the length of each genre by 1.\n",
    "* Created a variable named `avg_user_rating` outside the nested for loop which holds the average user rating for each genre\n",
    "* Print `genre_app` with its corresponding average user rating"
   ]
  },
  {
   "cell_type": "code",
   "execution_count": 19,
   "metadata": {},
   "outputs": [
    {
     "output_type": "stream",
     "name": "stdout",
     "text": [
      "Social Networking : 71548.34905660378\n",
      "Photo & Video : 28441.54375\n",
      "Games : 22788.6696905016\n",
      "Music : 57326.530303030304\n",
      "Reference : 74942.11111111111\n",
      "Health & Fitness : 23298.015384615384\n",
      "Weather : 52279.892857142855\n",
      "Utilities : 18684.456790123455\n",
      "Travel : 28243.8\n",
      "Shopping : 26919.690476190477\n",
      "News : 21248.023255813954\n",
      "Navigation : 86090.33333333333\n",
      "Lifestyle : 16485.764705882353\n",
      "Entertainment : 14029.830708661417\n",
      "Food & Drink : 33333.92307692308\n",
      "Sports : 23008.898550724636\n",
      "Book : 39758.5\n",
      "Finance : 31467.944444444445\n",
      "Education : 7003.983050847458\n",
      "Productivity : 21028.410714285714\n",
      "Business : 7491.117647058823\n",
      "Catalogs : 4004.0\n",
      "Medical : 612.0\n"
     ]
    }
   ],
   "source": [
    "prime_genre = freq_table(free_ios, 11)\n",
    "\n",
    "for genre in prime_genre:\n",
    "    total = 0\n",
    "    len_genre = 0\n",
    "    \n",
    "    for app in free_ios:\n",
    "        genre_app = app[11]\n",
    "        \n",
    "        if genre_app == genre:\n",
    "            user_rating = float(app[5])\n",
    "            total += user_rating # this gives the total number of users who rated an app in each genre\n",
    "            len_genre += 1  # this give the length of an individual genre\n",
    "    avg_user_rating = total / len_genre\n",
    "    print(genre, ':', avg_user_rating)"
   ]
  },
  {
   "cell_type": "markdown",
   "metadata": {},
   "source": [
    "Going by the output above, showing App genres and the average number of all ratings given to individual Apps in each genre. We can see that the App genre with the highest average rating is the `Navigation` genre with an average of 86,090 Apps. This is followed by the `Reference` genre with 74,942 Apps and `Social Netwroking` genre with 71,548 Apps. \n",
    "\n",
    "This means that on the average, 71,548 users gave ratings to Apps that falls under the `Social Networking` genre, 86,090 users gave ratings feedback to Apps that have the `Navigation` genre while 74,942 users rated Apps that falls under `Reference` genre.\n",
    "\n",
    "Very few users gave ratings feedback to Apps that fall under `Medical` genre, this is based on the average ratings of 612 for all Apps under the genre."
   ]
  },
  {
   "cell_type": "markdown",
   "metadata": {},
   "source": [
    "#### Detailed Analysis of Large Genres in the AppStore\n",
    "\n",
    "##### The Navigation Genre"
   ]
  },
  {
   "cell_type": "code",
   "execution_count": 20,
   "metadata": {},
   "outputs": [
    {
     "output_type": "stream",
     "name": "stdout",
     "text": [
      "Waze - GPS Navigation, Maps & Real-time Traffic : 345046\nGoogle Maps - Navigation & Transit : 154911\nGeocaching® : 12811\nCoPilot GPS – Car Navigation & Offline Maps : 3582\nImmobilienScout24: Real Estate Search in Germany : 187\nRailway Route Search : 5\n"
     ]
    }
   ],
   "source": [
    "for app in free_ios:\n",
    "    if app[11] == 'Navigation':\n",
    "        print(app[1], ':', app[5])"
   ]
  },
  {
   "cell_type": "markdown",
   "metadata": {},
   "source": [
    "Analysis of Apps that fall under the `Navigation` genre, shows that just two Apps dominates the genre and are thus responsible for the responsible for the large figure we got. The genre is heavily influenced by Waze and Google Maps, which have close to half a million user reviews together:\n",
    "\n",
    "The same pattern applies to social networking apps, where the average number is heavily influenced by a few giants like Facebook, Pinterest, Skype, etc. Same applies to music apps, where a few big players like Pandora, Spotify, and Shazam heavily influence the average number.\n",
    "\n",
    "Our aim is to find popular genres, but navigation, social networking or music apps might seem more popular than they really are. The average number of ratings seem to be skewed by very few apps which have hundreds of thousands of user ratings, while the other apps may struggle to get past the 10,000 threshold.\n",
    "\n",
    "##### Reference App Genre\n",
    "Reference apps have 74,942 user ratings on average, but it's actually the Bible and Dictionary.com which skew up the average rating:"
   ]
  },
  {
   "cell_type": "code",
   "execution_count": 21,
   "metadata": {},
   "outputs": [
    {
     "output_type": "stream",
     "name": "stdout",
     "text": [
      "Bible : 985920\nDictionary.com Dictionary & Thesaurus : 200047\nDictionary.com Dictionary & Thesaurus for iPad : 54175\nGoogle Translate : 26786\nMuslim Pro: Ramadan 2017 Prayer Times, Azan, Quran : 18418\nNew Furniture Mods - Pocket Wiki & Game Tools for Minecraft PC Edition : 17588\nMerriam-Webster Dictionary : 16849\nNight Sky : 12122\nCity Maps for Minecraft PE - The Best Maps for Minecraft Pocket Edition (MCPE) : 8535\nLUCKY BLOCK MOD ™ for Minecraft PC Edition - The Best Pocket Wiki & Mods Installer Tools : 4693\nGUNS MODS for Minecraft PC Edition - Mods Tools : 1497\nGuides for Pokémon GO - Pokemon GO News and Cheats : 826\nWWDC : 762\nHorror Maps for Minecraft PE - Download The Scariest Maps for Minecraft Pocket Edition (MCPE) Free : 718\nVPN Express : 14\nReal Bike Traffic Rider Virtual Reality Glasses : 8\n教えて!goo : 0\nJishokun-Japanese English Dictionary & Translator : 0\n"
     ]
    }
   ],
   "source": [
    "for app in free_ios:\n",
    "    if app[11] == 'Reference':\n",
    "        print(app[1], ':', app[5])"
   ]
  },
  {
   "cell_type": "markdown",
   "metadata": {},
   "source": [
    "However, this niche seems to show some potential. One thing we could do is take another popular book and turn it into an app where we could add different features besides the raw version of the book. This might include daily quotes from the book, an audio version of the book, quizzes about the book, etc. On top of that, we could also embed a dictionary within the app, so users don't need to exit our app to look up words in an external app.\n",
    "\n",
    "This idea seems to fit well with the fact that the App Store is dominated by for-fun apps. This suggests the market might be a bit saturated with for-fun apps, which means a practical app might have more of a chance to stand out among the huge number of apps on the App Store.\n",
    "\n",
    "Other genres that seem popular include weather, book, food and drink, or finance. The book genre seem to overlap a bit with the app idea we described above, but the other genres don't seem too interesting to us:\n",
    "\n",
    "Weather apps — people generally don't spend too much time in-app, and the chances of making profit from in-app adds are low. Also, getting reliable live weather data may require us to connect our apps to non-free APIs.\n",
    "\n",
    "Food and drink — examples here include Starbucks, Dunkin' Donuts, McDonald's, etc. So making a popular food and drink app requires actual cooking and a delivery service, which is outside the scope of our company.\n",
    "\n",
    "Finance apps — these apps involve banking, paying bills, money transfer, etc. Building a finance app requires domain knowledge, and we don't want to hire a finance expert just to build an app.\n",
    "\n",
    "##### Social Networking App Genre"
   ]
  },
  {
   "cell_type": "code",
   "execution_count": 22,
   "metadata": {},
   "outputs": [
    {
     "output_type": "stream",
     "name": "stdout",
     "text": [
      "Facebook : 2974676\n",
      "Pinterest : 1061624\n",
      "Skype for iPhone : 373519\n",
      "Messenger : 351466\n",
      "Tumblr : 334293\n",
      "WhatsApp Messenger : 287589\n",
      "Kik : 260965\n",
      "ooVoo – Free Video Call, Text and Voice : 177501\n",
      "TextNow - Unlimited Text + Calls : 164963\n",
      "Viber Messenger – Text & Call : 164249\n",
      "Followers - Social Analytics For Instagram : 112778\n",
      "MeetMe - Chat and Meet New People : 97072\n",
      "We Heart It - Fashion, wallpapers, quotes, tattoos : 90414\n",
      "InsTrack for Instagram - Analytics Plus More : 85535\n",
      "Tango - Free Video Call, Voice and Chat : 75412\n",
      "LinkedIn : 71856\n",
      "Match™ - #1 Dating App. : 60659\n",
      "Skype for iPad : 60163\n",
      "POF - Best Dating App for Conversations : 52642\n",
      "Timehop : 49510\n",
      "Find My Family, Friends & iPhone - Life360 Locator : 43877\n",
      "Whisper - Share, Express, Meet : 39819\n",
      "Hangouts : 36404\n",
      "LINE PLAY - Your Avatar World : 34677\n",
      "WeChat : 34584\n",
      "Badoo - Meet New People, Chat, Socialize. : 34428\n",
      "Followers + for Instagram - Follower Analytics : 28633\n",
      "GroupMe : 28260\n",
      "Marco Polo Video Walkie Talkie : 27662\n",
      "Miitomo : 23965\n",
      "SimSimi : 23530\n",
      "Grindr - Gay and same sex guys chat, meet and date : 23201\n",
      "Wishbone - Compare Anything : 20649\n",
      "imo video calls and chat : 18841\n",
      "After School - Funny Anonymous School News : 18482\n",
      "Quick Reposter - Repost, Regram and Reshare Photos : 17694\n",
      "Weibo HD : 16772\n",
      "Repost for Instagram : 15185\n",
      "Live.me – Live Video Chat & Make Friends Nearby : 14724\n",
      "Nextdoor : 14402\n",
      "Followers Analytics for Instagram - InstaReport : 13914\n",
      "YouNow: Live Stream Video Chat : 12079\n",
      "FollowMeter for Instagram - Followers Tracking : 11976\n",
      "LINE : 11437\n",
      "eHarmony™ Dating App - Meet Singles : 11124\n",
      "Discord - Chat for Gamers : 9152\n",
      "QQ : 9109\n",
      "Telegram Messenger : 7573\n",
      "Weibo : 7265\n",
      "Periscope - Live Video Streaming Around the World : 6062\n",
      "Chat for Whatsapp - iPad Version : 5060\n",
      "QQ HD : 5058\n",
      "Followers Analysis Tool For Instagram App Free : 4253\n",
      "live.ly - live video streaming : 4145\n",
      "Houseparty - Group Video Chat : 3991\n",
      "SOMA Messenger : 3232\n",
      "Monkey : 3060\n",
      "Down To Lunch : 2535\n",
      "Flinch - Video Chat Staring Contest : 2134\n",
      "Highrise - Your Avatar Community : 2011\n",
      "LOVOO - Dating Chat : 1985\n",
      "PlayStation®Messages : 1918\n",
      "BOO! - Video chat camera with filters & stickers : 1805\n",
      "Qzone : 1649\n",
      "Chatous - Chat with new people : 1609\n",
      "Kiwi - Q&A : 1538\n",
      "GhostCodes - a discovery app for Snapchat : 1313\n",
      "Jodel : 1193\n",
      "FireChat : 1037\n",
      "Google Duo - simple video calling : 1033\n",
      "Fiesta by Tango - Chat & Meet New People : 885\n",
      "Google Allo — smart messaging : 862\n",
      "Peach — share vividly : 727\n",
      "Hey! VINA - Where Women Meet New Friends : 719\n",
      "Battlefield™ Companion : 689\n",
      "All Devices for WhatsApp - Messenger for iPad : 682\n",
      "Chat for Pokemon Go - GoChat : 500\n",
      "IAmNaughty – Dating App to Meet New People Online : 463\n",
      "Qzone HD : 458\n",
      "Zenly - Locate your friends in realtime : 427\n",
      "League of Legends Friends : 420\n",
      "豆瓣 : 407\n",
      "Candid - Speak Your Mind Freely : 398\n",
      "知乎 : 397\n",
      "Selfeo : 366\n",
      "Fake-A-Location Free ™ : 354\n",
      "Popcorn Buzz - Free Group Calls : 281\n",
      "Fam — Group video calling for iMessage : 279\n",
      "QQ International : 274\n",
      "Ameba : 269\n",
      "SoundCloud Pulse: for creators : 240\n",
      "Tantan : 235\n",
      "Cougar Dating & Life Style App for Mature Women : 213\n",
      "Rawr Messenger - Dab your chat : 180\n",
      "WhenToPost: Best Time to Post Photos for Instagram : 158\n",
      "Inke—Broadcast an amazing life : 147\n",
      "Mustknow - anonymous video Q&A : 53\n",
      "CTFxCmoji : 39\n",
      "Lobi : 36\n",
      "Chain: Collaborate On MyVideo Story/Group Video : 35\n",
      "botman - Real time video chat : 7\n",
      "BestieBox : 0\n",
      "MATCH ON LINE chat : 0\n",
      "niconico ch : 0\n",
      "LINE BLOG : 0\n",
      "bit-tube - Live Stream Video Chat : 0\n"
     ]
    }
   ],
   "source": [
    "for app in free_ios:\n",
    "    if app[11] == 'Social Networking':\n",
    "        print(app[1], ':', app[5])"
   ]
  },
  {
   "cell_type": "markdown",
   "metadata": {},
   "source": [
    "Social Networking genre shows that Apps like facebook, pinterest, skype, messenger and some other social media giants are responsible for the large average we obtained. Building a social media App might require our company to start up a new company (new social media) which might not be the company's immediate objectives. But going with the above analysis, we could build an App that embeds in it all othe popular social media Apps, thus making the App a one-stop-App for all popular social networks.\n",
    "\n",
    "## Analysis of GooglePlayStore Apps with Most users (Installs)\n",
    "This time around we are going to anayze the google play store Apps with most users. One way we can do this is by using the `Installs` column in our google play dataset.\n",
    "\n",
    "From our previous Analysis, we discovered that there was no clear cut difference between the `Category` column and the `genre` column of our google play dataset. Thus we will be using the `Category` column because this column seems to group its items with less categories than the `genre` column.\n",
    "\n",
    "This follows the same steps as the iOS data set analysis except that the method `str.replace('old', 'new')` is used here to convert the installs to a float, which can only be done by removing commas(,) and pluses(+) in the data set, else it raises an error."
   ]
  },
  {
   "cell_type": "code",
   "execution_count": 23,
   "metadata": {},
   "outputs": [
    {
     "output_type": "stream",
     "name": "stdout",
     "text": [
      "ART_AND_DESIGN : 1986335.0877192982\n",
      "AUTO_AND_VEHICLES : 647317.8170731707\n",
      "BEAUTY : 513151.88679245283\n",
      "BOOKS_AND_REFERENCE : 8767811.894736841\n",
      "BUSINESS : 1712290.1474201474\n",
      "COMICS : 817657.2727272727\n",
      "COMMUNICATION : 38456119.167247385\n",
      "DATING : 854028.8303030303\n",
      "EDUCATION : 1833495.145631068\n",
      "ENTERTAINMENT : 11640705.88235294\n",
      "EVENTS : 253542.22222222222\n",
      "FINANCE : 1387692.475609756\n",
      "FOOD_AND_DRINK : 1924897.7363636363\n",
      "HEALTH_AND_FITNESS : 4188821.9853479853\n",
      "HOUSE_AND_HOME : 1331540.5616438356\n",
      "LIBRARIES_AND_DEMO : 638503.734939759\n",
      "LIFESTYLE : 1437816.2687861272\n",
      "GAME : 15588015.603248259\n",
      "FAMILY : 3695641.8198090694\n",
      "MEDICAL : 120550.61980830671\n",
      "SOCIAL : 23253652.127118643\n",
      "SHOPPING : 7036877.311557789\n",
      "PHOTOGRAPHY : 17840110.40229885\n",
      "SPORTS : 3638640.1428571427\n",
      "TRAVEL_AND_LOCAL : 13984077.710144928\n",
      "TOOLS : 10801391.298666667\n",
      "PERSONALIZATION : 5201482.6122448975\n",
      "PRODUCTIVITY : 16787331.344927534\n",
      "PARENTING : 542603.6206896552\n",
      "WEATHER : 5074486.197183099\n",
      "VIDEO_PLAYERS : 24727872.452830188\n",
      "NEWS_AND_MAGAZINES : 9549178.467741935\n",
      "MAPS_AND_NAVIGATION : 4056941.7741935486\n"
     ]
    }
   ],
   "source": [
    "android_category = freq_table(free_android, 1)\n",
    "\n",
    "for category in android_category:\n",
    "    total = 0\n",
    "    len_category = 0\n",
    "    \n",
    "    for app in free_android:\n",
    "        app_category = app[1]\n",
    "        \n",
    "        if app_category == category:\n",
    "            installs = app[5].replace('+', '')\n",
    "            installs = float(installs.replace(',', ''))\n",
    "            total += installs\n",
    "            len_category += 1\n",
    "            \n",
    "    avr_num_installs = total / len_category\n",
    "    print(category, ':', avr_num_installs)"
   ]
  },
  {
   "cell_type": "markdown",
   "metadata": {},
   "source": [
    "From the above analysis, we can see that Apps that falls under the communication genre, on the average have the highest number of installs (38,456,119), This is followed by video player Apps, that on the average, have about 24,727,872 installs and Apps with social genre have about 23,253,652 installs on the average. Photography App genre has about 17,840,110 installs on average and games genre on the average have 15,588,015 installs.\n",
    "\n",
    "A closer look at these genres will reveal to us that our results are skewed to very high extent because of some few App giants that command over a billion installs, five hundred million installs and a hundred million installs. If we run this check in our communications genre and remove such Apps we may have a more reduced number, thus;"
   ]
  },
  {
   "cell_type": "code",
   "execution_count": 24,
   "metadata": {},
   "outputs": [
    {
     "output_type": "stream",
     "name": "stdout",
     "text": [
      "WhatsApp Messenger : 1,000,000,000+\nimo beta free calls and text : 100,000,000+\nAndroid Messages : 100,000,000+\nGoogle Duo - High Quality Video Calls : 500,000,000+\nMessenger – Text and Video Chat for Free : 1,000,000,000+\nimo free video calls and chat : 500,000,000+\nSkype - free IM & video calls : 1,000,000,000+\nWho : 100,000,000+\nGO SMS Pro - Messenger, Free Themes, Emoji : 100,000,000+\nLINE: Free Calls & Messages : 500,000,000+\nGoogle Chrome: Fast & Secure : 1,000,000,000+\nFirefox Browser fast & private : 100,000,000+\nUC Browser - Fast Download Private & Secure : 500,000,000+\nGmail : 1,000,000,000+\nHangouts : 1,000,000,000+\nMessenger Lite: Free Calls & Messages : 100,000,000+\nKik : 100,000,000+\nKakaoTalk: Free Calls & Text : 100,000,000+\nOpera Mini - fast web browser : 100,000,000+\nOpera Browser: Fast and Secure : 100,000,000+\nTelegram : 100,000,000+\nTruecaller: Caller ID, SMS spam blocking & Dialer : 100,000,000+\nUC Browser Mini -Tiny Fast Private & Secure : 100,000,000+\nViber Messenger : 500,000,000+\nWeChat : 100,000,000+\nYahoo Mail – Stay Organized : 100,000,000+\nBBM - Free Calls & Messages : 100,000,000+\n"
     ]
    }
   ],
   "source": [
    "for app in free_android:\n",
    "    if app[1] == 'COMMUNICATION' and (app[5] == '1,000,000,000+'\n",
    "                                      or app[5] == '500,000,000+'\n",
    "                                      or app[5] == '100,000,000+'):\n",
    "        print(app[0], ':', app[5])"
   ]
  },
  {
   "cell_type": "markdown",
   "metadata": {},
   "source": [
    "Above are the free Apps on google play store that have more than hundred million installs. They are not so many but they largely led to the skewed mean we obtained (38,456,119). Other communication Apps on store that have less than 100,000,000 installs includes:"
   ]
  },
  {
   "cell_type": "code",
   "execution_count": 25,
   "metadata": {
    "tags": [
     "outputPrepend"
    ]
   },
   "outputs": [
    {
     "output_type": "stream",
     "name": "stdout",
     "text": [
      "0+\n",
      "F.A Sumon songs : 1,000+\n",
      "NCLEX-RN Q&A FLASH CARDS - FA Davis : 1,000+\n",
      "LEADS FA : 1,000+\n",
      "Farm Heroes Saga : 100,000,000+\n",
      "All AJK Board Matric Fa Fsc Results : 10+\n",
      "ESPN Fantasy Sports : 5,000,000+\n",
      "Heart of Vegas™ Slots – Free Slot Casino Games : 10,000,000+\n",
      "Fallout Shelter : 10,000,000+\n",
      "Authy 2-Factor Authentication : 1,000,000+\n",
      "Facejjang : 10,000,000+\n",
      "Block Puzzle - Wood Legend : 10,000,000+\n",
      "Soccer 2018 : 10,000,000+\n",
      "Flash Light on Call & SMS : 1,000,000+\n",
      "Fart sound pranks : 50,000,000+\n",
      "Facebook Creator : 1,000,000+\n",
      "Swift for Facebook Lite : 500,000+\n",
      "Friendly for Facebook : 1,000,000+\n",
      "Facebook Pages Manager : 50,000,000+\n",
      "Mini for fb lite : 100,000+\n",
      "Faster for Facebook Lite : 1,000,000+\n",
      "Facebook Ads Manager : 1,000,000+\n",
      "Who Viewed My FB Profile : 10,000+\n",
      "Puffin for Facebook : 500,000+\n",
      "Lite for Facebook Messenger : 1,000,000+\n",
      "Profile Tracker - Who Viewed My Facebook Profile : 500,000+\n",
      "Who viewed my fb profile pro★★ : 100,000+\n",
      "Video Downloader For FB: Save FB Videos 2018 : 50,000+\n",
      "Pink Color for Facebook : 500,000+\n",
      "Messenger : 10,000,000+\n",
      "Stickers for Imo, fb, whatsapp : 10,000+\n",
      "Who Viewed My Facebook Profile - Stalkers Visitors : 5,000,000+\n",
      "Downloader plus for FB : 500+\n",
      "Cover Camera for FB : 100,000+\n",
      "MB Notifications for FB (Free) : 100,000+\n",
      "MultiMessage for FB Messenger : 50,000+\n",
      "Messenger Kids – Safer Messaging and Video Chat : 500,000+\n",
      "FB Live : 5,000+\n",
      "Phoenix - Facebook & Messenger : 100,000+\n",
      "Faster Social for Facebook : 100,000+\n",
      "Check Your Visitors on FB ? : 5,000+\n",
      "Videos downloader for Facebook:fast fb video saver : 5,000+\n",
      "Stickers for Facebook : 1,000,000+\n",
      "Video Download For FB : 100,000+\n",
      "Video Downloader for FB : Video Download with Link : 100,000+\n",
      "Video Downloader for FB : 5,000+\n",
      "FB Photographie : 1,000+\n",
      "Lite Messenger for Facebook Lite : 10,000+\n",
      "Download Facebook Photo Albums : 100,000+\n",
      "Mini for Facebook lite : 10,000+\n",
      "FB Advanced Search : 50+\n",
      "funny Image Comments for FB : 5,000+\n",
      "IDM for Facebook ★ Downloader : 100,000+\n",
      "Unlimited Group Links - Whatsapp, FB, Telegram : 10,000+\n",
      "EasyLive - FB Live Helper : 500+\n",
      "HD VideoDownlaoder For Fb : XXVideo Downloader : 10,000+\n",
      "Barca News - app for Barcelona FC Fans : 10,000+\n",
      "FC Barcelona Fantasy Manager: Real football mobile : 1,000,000+\n",
      "Classic FC 64 IN 1 : 100,000+\n",
      "FC Barcelona Official Keyboard : 500,000+\n",
      "Barcelona Live 2018—Goals & News for Barca FC Fans : 10,000+\n",
      "Barcelona News - Sportfusion : 10,000+\n",
      "Barcelona Calendar : 10,000+\n",
      "Barca News - FC Barcelona, World Foot & Transfers : 10,000+\n",
      "FC Bayern Munich : 1,000,000+\n",
      "FC BARCELONA EVENTS : 100+\n",
      "Cambridge English FC : 50,000+\n",
      "Barcelona Live - Goal Score & News for Barca Fans : 10,000+\n",
      "Seattle Sounders FC : 10,000+\n",
      "FCB Connect - FC Barcelona : 50,000+\n",
      "1. FC Köln App : 100,000+\n",
      "File Commander - File Manager/Explorer : 100,000,000+\n",
      "FC Porto : 100,000+\n",
      "Fulham FC : 10,000+\n",
      "Barcelona FC Noticias Live : 500+\n",
      "Chelsea FC Official Keyboard : 1,000,000+\n",
      "Burnley FC : 5,000+\n",
      "Atlanta United FC : 10,000+\n",
      "Barcelona Wallpaper HD : 10,000+\n",
      "Sydney FC Official App : 5,000+\n",
      "Birmingham City FC : 10,000+\n",
      "FC Browser - Focus Privacy Browser : 1,000+\n",
      "My AEK - Official ΑΕΚ FC app : 50,000+\n",
      "FC Parking : 500+\n",
      "Noticias FC Barcelona : 100+\n",
      "Toronto FC : 10,000+\n",
      "Middlesbrough FC Official : 10,000+\n",
      "The 5th Stand : 100,000+\n",
      "FC Red Bull Salzburg App : 50,000+\n",
      "FC Zenit official Android app : 100,000+\n",
      "Fan App for Portsmouth FC : 1,000+\n",
      "Latest Barcelona News 24h : 10,000+\n",
      "Mobile FC : 100,000+\n",
      "FirstCry Baby & Kids Shopping, Fashion & Parenting : 5,000,000+\n",
      "Fan App for Reading FC : 500+\n",
      "Deportivo Toluca FC : 50,000+\n",
      "Underdog FC : 10,000+\n",
      "Las Vegas Lights FC : 500+\n",
      "APOEL FC : 10,000+\n",
      "FD Shift Calendar Widget : 100,000+\n",
      "Bank FD Interest Calculator : 10,000+\n",
      "FD VR Video Player - (Stored) : 100,000+\n",
      "FD Mobile : 5,000+\n",
      "Formula DRIFT : 10,000+\n",
      "FD VR - Virtual 3D Web Browser : 100,000+\n",
      "FD Community FCU Mobile : 1,000+\n",
      "Female Daily : 100,000+\n",
      "FD VR - Virtual App Launcher : 100,000+\n",
      "FD VR Player - for 360 Youtube : 10,000+\n",
      "FD VR Store -VR Games and Apps : 10,000+\n",
      "Policy And FD Manager : 500+\n",
      "FD VR - Virtual Reality Camera : 100,000+\n",
      "Sports Lite : 1,000+\n",
      "FD VR Theater - for Youtube VR : 1,000,000+\n",
      "Story Time FD : 10+\n",
      "FD Calculator | Term Deposit | Fixed Deposit : 1,000+\n",
      "FD CANNECT : 1+\n",
      "Financial Calculator India : 1,000,000+\n",
      "FD Calculator (EMI, SIP, RD & Loan Eligilibility) : 1,000+\n",
      "FD VR Cardboard Featured 360 Videos : 10,000+\n",
      "EMI, FD, RD - Bank Calculator : 5,000+\n",
      "FD VR Player - for Youtube 3D : 500,000+\n",
      "RD/FD Calculator : 10,000+\n",
      "FD VR Music Videos - MTV Pop and Rap in 360 : 1,000+\n",
      "FD VR - Virtual Photo Gallery : 10,000+\n",
      "Fix Deposit Calculator (FD) : 1,000+\n",
      "FD Interest Calculator : 5,000+\n",
      "Deposit Calculator FD & RD : 10,000+\n",
      "FD Fotografia : 100+\n",
      "Banking Calculator : 100,000+\n",
      "FD e-paper : 10,000+\n",
      "FD Fitness : 50+\n",
      "EMI/FD/RD/PV/IRR/BEP/EOQ Calc : 10,000+\n",
      "EMI Calculator | FD Calculator | RD calculator : 10,000+\n",
      "LineStar for FanDuel : 50,000+\n",
      "HD Video Download for Facebook : 1,000,000+\n",
      "Fire Emblem Heroes : 5,000,000+\n",
      "Santa Fe FCU Mobile Banking : 1,000+\n",
      "FE Connect : 5,000+\n",
      "FE Civil Engineering Exam Prep : 1,000+\n",
      "FE CREDIT - TET VUI : 50,000+\n",
      "FE Mechanical Engineering Prep : 1,000+\n",
      "FE Mobile : 10+\n",
      "Comunidad De Fe Minitries : 500+\n",
      "Garena Free Fire : 100,000,000+\n",
      "FE Other Disciplines Engineering Exam Prep : 100+\n",
      "FE EN ACCIÓN RADIO : 10+\n",
      "FE Electric & Comp Engineering : 500+\n",
      "Caprock Santa Fe Credit Union : 100+\n",
      "FE Chemical Engineering Exam Prep : 100+\n",
      "Santa Fe Map and Walks : 1,000+\n",
      "FE IP : 1,000+\n",
      "Safe Santa Fe : 1,000+\n",
      "Santa Fe New Mexican e-Edition : 1,000+\n",
      "L!FE Premium Training : 100+\n",
      "Theme for Galaxy Note FE Launcher | Live Wallpaper : 100+\n",
      "Theme for Galaxy Note FE : 100+\n",
      "Note FE Theme And Launcher For Samsung Galaxy : 1,000+\n",
      "FE CPS : 10,000+\n",
      "La Fe de Jesus : 1,000+\n",
      "Santa Fe Indian Market : 500+\n",
      "FE Connect Fhoton : 100+\n",
      "Repair Hyundai Santa Fe : 1,000+\n",
      "La Fe de Jesús : 500+\n",
      "Santa Fe Espresso & News : 10+\n",
      "Santa Fe Sentry : 100+\n",
      "Santa Fe Thrive : 50+\n",
      "FE Connect Drive-Tech : 100+\n",
      "FE Mix - Jokes - Status - Wallpaper : 1,000+\n",
      "Frases Cristianas de Esperanza y Fe : 100+\n",
      "Theme for Samsung Galaxy Note FE : 10,000+\n",
      "Santa Fe VIP Tours : 100+\n",
      "Santa Fe App : 5,000+\n",
      "Curso Básico y Avanzado la Fe de Jesús Audio-Texto : 10+\n",
      "Ríos de Fe : 1,000+\n",
      "Theme For Galaxy Note FE : 100+\n",
      "Le Fe de Jesus : 500+\n",
      "FG Mobile : 5,000+\n",
      "FG Wallet : 1,000+\n",
      "Burn Your Fat With Me! FG : 1,000,000+\n",
      "FG On-The-Go : 1,000+\n",
      "FG Autumn Photo Puzzle : 10+\n",
      "Radio FG Paris Underground : 100+\n",
      "FG Radio - Radios de France : 10+\n",
      "FG SPINNER : 10+\n",
      "FG Finder : 10,000+\n",
      "FG. Chic - House Lounge Musique - Radios de France : 50+\n",
      "BROTHER IN WARS: GUNNER CITY WARLORDS : 1,000,000+\n",
      "Angry Birds Space HD : 5,000,000+\n",
      "Survival Prison Escape v2: Free Action Game : 5,000,000+\n",
      "FG VOC : 1,000+\n",
      "Police Car Driver : 10,000,000+\n",
      "Modern Sniper Strike: Best Commando Action 2k18 : 10,000+\n",
      "Moto Fighter 3D : 10,000,000+\n",
      "FG Rockstar : 10+\n",
      "BMX Boy : 50,000,000+\n",
      "Crazy Bike attack Racing New: motorcycle racing : 5,000,000+\n",
      "POLARIS 2MFG : 10,000+\n",
      "Gun Disassembly 2 : 1,000,000+\n",
      "Fields of Battle : 1,000,000+\n",
      "Family Guy The Quest for Stuff : 10,000,000+\n",
      "Ambulance Simulator 3D : 1,000,000+\n",
      "Leghe Fantagazzetta : 1,000,000+\n",
      "Police Car Driving Sim : 10,000,000+\n",
      "Toy Attack : 500,000+\n",
      "Field Goal Tournament : 100,000+\n",
      "Ghost In Photo : 5,000,000+\n",
      "Disney Princess Palace Pets : 1,000,000+\n",
      "Police VAZ LADA Simulator : 500,000+\n",
      "Scary Video Maker : 500,000+\n",
      "SnowMobile Parking Adventure : 1,000,000+\n",
      "PBS KIDS Games : 1,000,000+\n",
      "Zombie Sniper 3D III : 500,000+\n",
      "Family Guy- Another Freakin' Mobile Game : 5,000,000+\n",
      "FH WiFiCam : 10,000+\n",
      "HD Themes Volvo FH Trucks : 5,000+\n",
      "Familial Hypercholesterolaemia : 10+\n",
      "Familial Hypercholesterolaemia Handbook : 100+\n",
      "Themes Volvo FH 16 Trucks : 10,000+\n",
      "FH Calculator : 500+\n",
      "Top Themes Volvo FH Trucks : 1,000+\n",
      "Top Puzzles Volvo FH Trucks : 500+\n",
      "Wallpapers Volvo FH 16 Trucks : 1,000+\n",
      "Puzzles Volvo FH 16 Trucks : 1,000+\n",
      "Jigsaw Volvo FH 16 Trucks : 1,000+\n",
      "Shoot Hunter-Gun Killer : 50,000,000+\n",
      "studentsLife by FH Kärnten : 5,000+\n",
      "FH® Cost Lookup / FH® CCSalud : 1,000+\n",
      "FH Kufstein App : 500+\n",
      "FH App : 100+\n",
      "HD Wallpapers Volvo FH Trucks : 500+\n",
      "Jigsaw Puzzles Volvo FH Truck Game : 100+\n",
      "Themes Volvo FH Trucks : 1,000+\n",
      "FH School : 100+\n",
      "FH Wallet : 1+\n",
      "FH Dortmund FB4 : 1,000+\n",
      "Fast Motorcycle Driver 2016 : 1,000,000+\n",
      "Wallpapers Volvo FH Truck : 100+\n",
      "HD Jigsaw Volvo FH Trucks : 500+\n",
      "Jigsaw Puzzles Volvo FH Trucks : 1,000+\n",
      "Angry Shark 2016 : 5,000,000+\n",
      "First Hawaiian Bank Mobile : 10,000+\n",
      "FH CODE : 100+\n",
      "Strike! Ten Pin Bowling : 5,000,000+\n",
      "IKORO FH App Rosenheim : 1,000+\n",
      "My Truck : 10,000+\n",
      "Talking Tom Bubble Shooter : 50,000,000+\n",
      "Forgotten Hill: Fall : 50,000+\n",
      "Forgotten Hill Mementoes : 100,000+\n",
      "EHiN-FH conferenceapp : 100+\n",
      "BTK-FH Online Campus : 500+\n",
      "Talking Husky Dog : 1,000,000+\n",
      "Bubble Bird Rescue : 5,000,000+\n",
      "Forgotten Hill: Surgery : 100,000+\n",
      "Real Airplane Flight Simulator: Pilot Games : 1,000,000+\n",
      "Dolphin and fish coloring book : 500,000+\n",
      "Carpooling FH Hagenberg : 100+\n",
      "Forgotten Hill: Puppeteer : 100,000+\n",
      "Airplane Fly Hawaii : 1,000,000+\n",
      "Signal Info : 10,000+\n",
      "Signal Spy - Monitor Signal Strength & Data Usage : 100,000+\n",
      "Wi-Fi Auto-connect : 1,000,000+\n",
      "Talkie - Wi-Fi Calling, Chats, File Sharing : 500,000+\n",
      "Avast Wi-Fi Finder : 1,000,000+\n",
      "LG Hi-Fi Plus Manager : 10,000+\n",
      "WeFi - Free Fast WiFi Connect & Find Wi-Fi Map : 1,000,000+\n",
      "Safe Wi-Fi : 1,000+\n",
      "[root] Pry-Fi : 500,000+\n",
      "Sat-Fi : 5,000+\n",
      "Candy simply-Fi : 100,000+\n",
      "Wi-Fi settings shortcut : 50,000+\n",
      "Wi-Fi Master : 500,000+\n",
      "Micro Fi : 5,000+\n",
      "fi : 100,000+\n",
      "Portable Wi-Fi hotspot Free : 100,000+\n",
      "Wi-Fi Networks : 10,000+\n",
      "FI CFL : 10,000+\n",
      "Tassa.fi Finland : 50,000+\n",
      "TownWiFi | Wi-Fi Everywhere : 500,000+\n",
      "Jazz Wi-Fi : 10,000+\n",
      "Xposed Wi-Fi-Pwd : 100,000+\n",
      "Sat-Fi Voice : 1,000+\n",
      "Wi-Fi Visualizer : 50,000+\n",
      "Lennox iComfort Wi-Fi : 50,000+\n",
      "Sci-Fi Sounds and Ringtones : 10,000+\n",
      "Sci Fi Sounds : 1,000+\n",
      "Free Wi-fi HotspoT : 50,000+\n",
      "FJ 4x4 Cruiser Offroad Driving : 500,000+\n",
      "FJ 4x4 Cruiser Snow Driving : 500,000+\n",
      "Wallpapers Toyota FJ Cruiser : 10,000+\n",
      "New Wallpapers Toyota FJ Cruiser Theme : 100+\n",
      "FJ Final Join , Circles Game : 1,000+\n",
      "HD Wallpaper - Toyota FJ Cruiser : 100+\n",
      "FJ Drive: Mercedes-Benz Lease : 10,000+\n",
      "Driving n Parking School 2017 : 1,000+\n",
      "FJ WiFi HDD : 5,000+\n",
      "Offroad Cruiser : 1,000,000+\n",
      "HD Themes Toyota Cruiser 70 : 10,000+\n",
      "Toyota Cruisers & Trucks Mag : 500+\n",
      "4 x4 Offroad SUV 3D Truck Simulator Driving 2017 : 1,000+\n",
      "Cake Shop - Kids Cooking : 5,000,000+\n",
      "HD Themes Toyota Cruiser 60 : 100+\n",
      "HD Themes Toyota Cruiser70 : 100+\n",
      "HD Themes Toyota Cruiser 80 : 100+\n",
      "HD Themes Toyota Cruiser 50 : 50+\n",
      "OFF-ROAD SIMULATOR 4x4 : REAL : 10,000+\n",
      "HD Themes Toyota Cruiser 100VX : 100+\n",
      "HD Themes Toyota Cruiser 200 : 100+\n",
      "HD Themes Toyota Cruiser 40 : 100+\n",
      "Fun Kid Racing - Motocross : 10,000,000+\n",
      "Offroad 4x4 Car Driving : 1,000,000+\n",
      "Motocross Beach Jumping 3D : 10,000,000+\n",
      "Offroad drive : 4x4 driving game : 100,000+\n",
      "Hair saloon - Spa salon : 10,000,000+\n",
      "Rope Hero: Vice Town : 10,000,000+\n",
      "Drive 4x4 Luxury SUV Jeep : 500,000+\n",
      "PIP Selfie Camera Photo Editor : 10,000,000+\n",
      "FJ-link : 10+\n",
      "Motocross Mayhem : 1,000,000+\n",
      "Funny Jokes : 100,000+\n",
      "Flight Simulator: Fly Plane 3D : 50,000,000+\n",
      "Motocross Fun Simulator : 1,000,000+\n",
      "Dino Defends king 3 – Dinosaur T rex Hunter Games : 50,000+\n",
      "Fast Notes FJ : 500+\n",
      "Block Gun 3D: Haunted Hollow : 1,000,000+\n",
      "Art of F J Taylor : 10+\n",
      "Driving Suv Toyota Car Simulator : 10,000+\n",
      "Navy Gunner Shoot War 3D : 10,000,000+\n",
      "Drift Legends : 1,000,000+\n",
      "FK : 100,000+\n",
      "FK (FlightKid) : 10+\n",
      "FK Sūduva Marijampolė : 10+\n",
      "Fairy Kingdom: World of Magic and Farming : 1,000,000+\n",
      "FK Željezničar : 10,000+\n",
      "FK Oleksandria : 10+\n",
      "FK CLASSIC FOR YOU : 10+\n",
      "FK Sileks : 1+\n",
      "Qarabağ FK : 100+\n",
      "FK Sloboda Tuzla : 10+\n",
      "FK Jelgava : 5+\n",
      "FK Vojvodina : 50+\n",
      "FK Liepaja : 100+\n",
      "FK Teplice : 50+\n",
      "FK Sarajevo : 100+\n",
      "FK Vardar : 10+\n",
      "FK Bregalnica Štip : 1+\n",
      "FK Mladost Lucani : 5+\n",
      "FK Radnicki Nis : 50+\n",
      "FK Dukla Prague : 10+\n",
      "FK Rad : 10+\n",
      "FK Jablonec : 50+\n",
      "FK Senica : 10+\n",
      "FK Vozdovac : 10+\n",
      "Toy Truck Rally 3D : 50,000,000+\n",
      "FK Mladá Boleslav : 10+\n",
      "FK Macva Sabac : 10+\n",
      "FK Crvena zvezda : 10,000+\n",
      "FK Events : 5+\n",
      "PRO MX MOTOCROSS 2 : 5,000,000+\n",
      "FK Jonava : 5+\n",
      "FK Željezničar Izzy : 1,000+\n",
      "FK Čukarički : 10+\n",
      "Austria Wien FK - Fussball - Inoffizielle App : 100+\n",
      "FK Železiarne Podbrezová : 5+\n",
      "FK Viktoria Žižkov : 10+\n",
      "FK Zemun : 10+\n",
      "FK Atlantas : 5+\n",
      "FK Spartak Subotica : 10+\n",
      "FK Dedinje BGD : 100+\n",
      "FK Fotbal Třinec : 10+\n",
      "FK Crvena Zvezda Izzy : 50,000+\n",
      "FK Utenis Utena : 5+\n",
      "Crazy Freekick : 5,000,000+\n",
      "FL State Parks Guide : 100,000+\n",
      "Permit Test FL Florida DHSMV : 10,000+\n",
      "FL Lottery Results : 50,000+\n",
      "Florida DMV Permit Test -Fl : 10,000+\n",
      "Lottery Results: Florida : 100,000+\n",
      "Scratch-Off Guide for FL Lotto : 5,000+\n",
      "Charlotte County, FL : 1,000+\n",
      "Results for FL Lottery : 10,000+\n",
      "Check Lottery Tickets - Florida : 5,000+\n",
      "Fish|Hunt FL : 100,000+\n",
      "Florida 511 : 50,000+\n",
      "Florida Storms : 10,000+\n",
      "FL Racing Manager 2018 Lite : 100,000+\n",
      "FL Tax-Verify : 5,000+\n",
      "FL House : 1,000+\n",
      "Lottery Driver- Florida Result : 5,000+\n",
      "Florida Travel Guide : 1,000+\n",
      "The Florida Trail Guide : 5,000+\n",
      "Florida - Pocket Brainbook : 1,000+\n",
      "Lottery Ticket Checker - Florida Results & Lotto : 500+\n",
      "Florida Statutes (FL Code) : 1,000+\n",
      "Discovery Church Florida : 1,000+\n",
      "Florida Driver License Test : 5,000+\n",
      "Free Florida DMV Test 2018 : 50,000+\n",
      "Canvas FL : 1,000+\n",
      "Florida Lottery Results : 100,000+\n",
      "Florida Cooling Supply HVAC : 500+\n",
      "Restaurant Inspections - FL : 10,000+\n",
      "Florida Keys : 10,000+\n",
      "South Florida AA Meetings : 1,000+\n",
      "Florida Travel Guide - TOURIAS : 10,000+\n",
      "Florida State Gameday : 50,000+\n",
      "FL Bankers : 10+\n",
      "Fort Myers FL : 100+\n",
      "News-Journal-Daytona Beach, FL : 5,000+\n",
      "Florida map : 5,000+\n",
      "Trinity Church Deltona, FL : 500+\n",
      "FL Drone 2 : 5,000+\n",
      "Beacon Baptist Jupiter, FL : 100+\n",
      "Clearwater, FL - weather and more : 10+\n",
      "University of Florida : 10,000+\n",
      "Ocala Star Banner, FL : 5,000+\n",
      "Alachua County Sheriff FL : 100+\n",
      "Lotto Results - Mega Millions Powerball Lottery US : 1,000,000+\n",
      "Jax Sheriff (FL) : 5,000+\n",
      "Results for FL Lottery (Florida) : 100+\n",
      "Hidden Object Florida Vacation Adventure Fun Game : 10,000+\n",
      "WFLA News Channel 8 - Tampa FL : 10,000+\n",
      "Florida Beach Wallpapers HD : 100+\n",
      "MY GULFPORT FL : 50+\n",
      "My MLS App : 100,000+\n",
      "Employ Florida Mobile : 10,000+\n",
      "St. Petersburg, FL - weather and more : 10+\n",
      "LifePoint Church - FL : 50+\n",
      "WSVN • South Florida's Source for Weather : 1,000+\n",
      "PriorityONE Credit Union of Fl : 1,000+\n",
      "Florida Wildflowers : 1,000+\n",
      "Florida Blue : 100,000+\n",
      "ORLANDO FLORIDA MAP : 1,000+\n",
      "Florida Tech Mobile : 5,000+\n",
      "Florida Offline Road Map : 10,000+\n",
      "Florida Map offline : 1,000+\n",
      "The Ledger - Lakeland, Florida : 5,000+\n",
      "FRONTLINE COMMANDO : 10,000,000+\n",
      "Gainesville Florida Police Department : 500+\n",
      "Gainesville Bus Tracker : 10,000+\n",
      "Florida Today : 10,000+\n",
      "Florida HSMV Driver License : 1,000+\n",
      "WSVN - 7 News Miami : 100,000+\n",
      "WICShopper : 500,000+\n",
      "First Federal Bank of Florida : 10,000+\n",
      "South Florida MLS : 10,000+\n",
      "Podcast App: Free & Offline Podcasts by Player FM : 1,000,000+\n",
      "Motorola FM Radio : 100,000,000+\n",
      "FN Cam : 10,000+\n",
      "How it Works: FN SCAR assault rifle : 10,000+\n",
      "FutureNet your social app : 100,000+\n",
      "Jigsaw Puzzles FN FAL Light Automatic Rifle : 50+\n",
      "Wallpapers FN Herstal FNP 9 : 1+\n",
      "Ninja FN Button : 1,000+\n",
      "Wallpapers FN SCAR H : 100+\n",
      "Wallpapers FN F2000 : 5+\n",
      "Wallpapers FN Five seven : 10+\n",
      "FN : 50+\n",
      "Wallpapers FN FAL Light Automatic Rifle : 10+\n",
      "F N Bail Bonds : 500+\n",
      "SB · FN 1870 Mobile Banking : 10,000+\n",
      "PIP-Camera FN Photo Effect : 1,000+\n",
      "Bullet - FN Theme : 5,000+\n",
      "FN Web Radio : 10+\n",
      "Gun Builder ELITE : 1,000,000+\n",
      "FNH Payment Info : 10+\n",
      "Magnum 3.0 Gun Custom SImulator : 1,000,000+\n",
      "Calculator Fn : 500+\n",
      "Pint - FN Theme : 100+\n",
      "HAL-9000 - FN Theme : 10,000+\n",
      "Fresh News : 100,000+\n",
      "Future Cloud : 100,000+\n",
      "Hunting Safari 3D : 5,000,000+\n",
      "Gun Club Armory : 1,000,000+\n",
      "Ethical Hacking : 10,000+\n",
      "Armed Cam Gun Pack : 10,000+\n",
      "Zombie Defense : 10,000,000+\n",
      "Fo File Manager : 100,000+\n",
      "Alarm.fo – choose your info : 1,000+\n",
      "Pin-fo : 500+\n",
      "MARKET FO : 100+\n",
      "FO OP St-Nazaire : 100+\n",
      "FO SODEXO : 100+\n",
      "FO RCBT : 100+\n",
      "FO Interim : 100+\n",
      "FO PSA Sept-Fons : 100+\n",
      "FO BOULANGER : 50+\n",
      "FO AIRBUS TLSE : 1,000+\n",
      "F-O-Meter : 1+\n",
      "Theme fo Oppo A30 Wallpaper & Icon : 500+\n",
      "Fo Fo Fish : 50+\n",
      "FO STELIA Méaulte : 100+\n",
      "RRIMS FO : 100+\n",
      "Neon Blue Gaming Wallpaper&Theme fo Lenovo K8 Note : 500+\n",
      "Photo Editor Collage Maker Pro : 100,000,000+\n",
      "Custos F.O. : 1+\n",
      "FO AIRBUS Nantes : 100+\n",
      "Stylish Fonts : 10,000,000+\n",
      "4x4 Jeep Racer : 1,000,000+\n",
      "Lalafo Pulsuz Elanlar : 1,000,000+\n",
      "My Earthquake Alerts - US & Worldwide Earthquakes : 100,000+\n",
      "FunForMobile Ringtones & Chat : 5,000,000+\n",
      "Free Slideshow Maker & Video Editor : 10,000,000+\n",
      "Frontline Terrorist Battle Shoot: Free FPS Shooter : 1,000,000+\n",
      "BankNordik : 5,000+\n",
      "Sona - Nær við allastaðni : 1,000+\n",
      "Firefox Focus: The privacy browser : 1,000,000+\n",
      "Mad Dash Fo' Cash : 100+\n",
      "Launcher Theme for LG K10 2018 : 100,000+\n",
      "Mobile Kick : 10,000,000+\n",
      "English To Shona Dictionary : 10,000+\n",
      "Posta App : 1,000+\n",
      "Thumbnail Maker : 1,000,000+\n",
      "Fon WiFi App – WiFi Connect : 50,000+\n",
      "MOD-MASTER for Minecraft PE (Pocket Edition) Free : 10,000,000+\n",
      "MX Player Codec (ARMv7) : 10,000,000+\n",
      "FP Notebook : 50,000+\n",
      "FeaturePoints: Free Gift Cards : 5,000,000+\n",
      "Draw with FP sDraw : 100,000+\n",
      "FP Click sound changer : 10,000+\n",
      "FP Connect : 100+\n",
      "FP-safe : 100+\n",
      "FP Legacy : 1,000+\n",
      "Race Manager FP : 5,000+\n",
      "FreedomPop Messaging Phone/SIM : 500,000+\n",
      "PhotoFunia : 10,000,000+\n",
      "Fingerprint Quick Action : 1,000,000+\n",
      "GKPB FP Online Church : 1,000+\n",
      "FP BW LCD View : 500+\n",
      "FP Markets : 100+\n",
      "FP Boss : 1+\n",
      "FP Opgaver : 1,000+\n",
      "FP Charging Daydream : 5,000+\n",
      "FP Live : 10+\n",
      "FP Runner : 1,000+\n",
      "Finger Scanner Gestures : 100,000+\n",
      "FP Market : 1,000+\n",
      "FP FCU : 5,000+\n",
      "Slickdeals: Coupons & Shopping : 1,000,000+\n",
      "SCM FPS Status : 10,000+\n",
      "Hondata Mobile : 10,000+\n",
      "FreedomPop Friends for Free Data : 5,000+\n",
      "Fisher-Price® Smart Connect™ : 50,000+\n",
      "Fingerprint Lock Screen Prank : 1,000,000+\n",
      "FP NFC Rewrite : 1,000+\n",
      "Greek Bible FP (Audio) : 1,000+\n",
      "The FP Shield : 10+\n",
      "FP Transportation : 1+\n",
      "Chat For Strangers - Video Chat : 100,000+\n",
      "FreedomPop Diagnostics : 100,000+\n",
      "NFP 2018 : 500+\n",
      "FQ Magazine : 100+\n",
      "Modern Counter Terrorist FPS Shoot : 100,000+\n",
      "FQ METER : 1,000+\n",
      "FQ Load Board for Transporters : 100+\n",
      "FQ India : 10+\n",
      "Miss FQ : 10+\n",
      "FQ - Football Quiz : 1+\n",
      "Monster Ride Pro : 10+\n",
      "BEBONCOOL GAMEPAD V1.0 : 100,000+\n",
      "Union League : 10,000+\n",
      "Fortune Quest: Savior : 10,000+\n",
      "Modern Counter 3: FPS Multiplayers battlegro 3 : 1,000+\n",
      "Modern Strike Online : 10,000,000+\n",
      "Modern Counter Terror Attack – Shooting Game : 50,000+\n",
      "Big Hunter : 10,000,000+\n",
      "ChopAssistant : 50,000+\n",
      "Modern Counter Global Strike 3D : 50,000+\n",
      "Fountain Live Wallpaper HD – Dubai Wallpaper 3D : 500+\n",
      "Modern Counter Global Strike 3D V2 : 50,000+\n",
      "HipChat - beta version : 50,000+\n",
      "Winter Wonderland : 50,000+\n",
      "Soccer Clubs Logo Quiz : 1,000,000+\n",
      "Sid Story : 500,000+\n",
      "PopStar : 1,000+\n",
      "Reindeer VPN - Proxy VPN : 100,000+\n",
      "Inf VPN - Global Proxy & Unlimited Free WIFI VPN : 1,000,000+\n",
      "Fuel Rewards® program : 1,000,000+\n",
      "Fr Daoud Lamei : 100,000+\n",
      "FR Roster : 5,000+\n",
      "Fr Ignacio Outreach : 1,000+\n",
      "FR: My Famous Lover : 10,000+\n",
      "Fatal Raid - No.1 Mobile FPS : 1,000,000+\n",
      "Poker Pro.Fr : 100,000+\n",
      "Scoreboard FR : 100+\n",
      "SnakeBite911 FR : 500+\n",
      "My FR App : 100+\n",
      "lesparticuliers.fr : 50,000+\n",
      "Castle Clash: RPG War and Strategy FR : 1,000,000+\n",
      "Fr Lupupa Sermons : 100+\n",
      "FR Plus 1.6 : 100+\n",
      "Fr Agnel Pune : 1,000+\n",
      "DICT.fr Mobile : 10,000+\n",
      "FR: My Secret Pets!  : 50,000+\n",
      "Golden Dictionary (FR-AR) : 500,000+\n",
      "FieldBi FR Offline : 100+\n",
      "HTC Sense Input - FR : 100,000+\n",
      "Gold Quote - Gold.fr : 10,000+\n",
      "Fanfic-FR : 5,000+\n",
      "Fr. Daoud Lamei : 1,000+\n",
      "Poop FR : 50+\n",
      "PLMGSS FR : 10+\n",
      "List iptv FR : 100+\n",
      "Cardio-FR : 10,000+\n",
      "Naruto & Boruto FR : 100+\n",
      "Frim: get new friends on local chat rooms : 5,000,000+\n",
      "Fr Agnel Ambarnath : 5,000+\n",
      "Manga-FR - Anime Vostfr : 10,000+\n",
      "Bulgarian French Dictionary Fr : 10,000+\n",
      "News Minecraft.fr : 100,000+\n",
      "payermonstationnement.fr : 5,000+\n",
      "FR Tides : 100,000+\n",
      "Chemin (fr) : 1,000+\n",
      "FR Calculator : 500+\n",
      "FR Forms : 10+\n",
      "Sya9a Maroc - FR : 5,000+\n",
      "Fr. Mike Schmitz Audio Teachings : 100+\n",
      "Parkinson Exercices FR : 1,000+\n",
      "The SCP Foundation DB fr nn5n : 1,000+\n",
      "iHoroscope - 2018 Daily Horoscope & Astrology : 10,000,000+\n"
     ]
    }
   ],
   "source": [
    "less_than_100m = []\n",
    "\n",
    "for app in free_android:\n",
    "    n_installs = app[5]\n",
    "    n_installs = n_installs.replace(',', '')\n",
    "    n_installs = n_installs.replace('+', '')\n",
    "    \n",
    "    if (app[1] == 'COMMUNICATION') and (float(n_installs) < 100000000):\n",
    "        less_than_100m.append(float(n_installs))\n",
    "        \n",
    "    print(app[0], ':', app[5])"
   ]
  },
  {
   "cell_type": "markdown",
   "metadata": {},
   "source": [
    "We can see from the above output that more Apps have less than 100 million installs\n",
    "\n",
    "##### Calculating the mean of Communication Apps with over 100 million installs and those with less than 100 million installs"
   ]
  },
  {
   "cell_type": "code",
   "execution_count": 26,
   "metadata": {},
   "outputs": [
    {
     "output_type": "stream",
     "name": "stdout",
     "text": [
      "374074074.0740741\n38846153.84615385\n"
     ]
    }
   ],
   "source": [
    "over_100m_installs = []\n",
    "\n",
    "for app in free_android:\n",
    "    n_installs = app[5]\n",
    "    n_installs = n_installs.replace('+', '')\n",
    "    n_installs = n_installs.replace(',', '')\n",
    "    \n",
    "    if app[1] == 'COMMUNICATION' and (float(n_installs) >= 100000000):\n",
    "        over_100m_installs.append(float(n_installs))\n",
    "        \n",
    "print(sum(over_100m_installs) / len(over_100m_installs))\n",
    "print(sum(over_100m_installs) / len(less_than_100m))"
   ]
  },
  {
   "cell_type": "markdown",
   "metadata": {},
   "source": [
    "We can see that communication Apps that have over 100 million installs have greater mean value than communication Apps with less than 100 million installs, despite having a smaller amount of Apps in the its category (just 27), while Apps with less than 100 million installs have over 260 Apps in its category. The removal of communication Apps with over 100 million installs reduced the average by roughly 10 times.\n",
    "\n",
    "We see the same pattern for the video players category, which is the runner-up with 24,727,872 average installs. The market is dominated by apps like Youtube, Google Play Movies & TV, or MX Player. The pattern is repeated for social apps (where we have giants like Facebook, Instagram, Google+, etc.), photography apps (Google Photos and other popular photo editors), or productivity apps (Microsoft Word, Dropbox, Google Calendar, Evernote, etc.).\n",
    "\n",
    "Again, the main concern is that these app genres might seem more popular than they really are. Moreover, these niches seem to be dominated by a few giants who are hard to compete against.\n",
    "\n",
    "The game genre seems pretty popular, but previously we found out this part of the market seems a bit saturated, so we'd like to come up with a different app recommendation if possible.\n",
    "\n",
    "The books and reference genre looks fairly popular as well, with an average number of installs of 8,767,811. It's interesting to explore this in more depth, since we found this genre has some potential to work well on the App Store, and our aim is to recommend an app genre that shows potential for being profitable on both the App Store and Google Play.\n",
    "\n",
    "Let's take a look at some of the apps from this genre and their number of installs:"
   ]
  },
  {
   "cell_type": "code",
   "execution_count": 27,
   "metadata": {},
   "outputs": [
    {
     "output_type": "stream",
     "name": "stdout",
     "text": [
      "E-Book Read - Read Book for free : 50,000+\n",
      "Download free book with green book : 100,000+\n",
      "Wikipedia : 10,000,000+\n",
      "Cool Reader : 10,000,000+\n",
      "Free Panda Radio Music : 100,000+\n",
      "Book store : 1,000,000+\n",
      "FBReader: Favorite Book Reader : 10,000,000+\n",
      "English Grammar Complete Handbook : 500,000+\n",
      "Free Books - Spirit Fanfiction and Stories : 1,000,000+\n",
      "Google Play Books : 1,000,000,000+\n",
      "AlReader -any text book reader : 5,000,000+\n",
      "Offline English Dictionary : 100,000+\n",
      "Offline: English to Tagalog Dictionary : 500,000+\n",
      "FamilySearch Tree : 1,000,000+\n",
      "Cloud of Books : 1,000,000+\n",
      "Recipes of Prophetic Medicine for free : 500,000+\n",
      "ReadEra – free ebook reader : 1,000,000+\n",
      "Anonymous caller detection : 10,000+\n",
      "Ebook Reader : 5,000,000+\n",
      "Litnet - E-books : 100,000+\n",
      "Read books online : 5,000,000+\n",
      "English to Urdu Dictionary : 500,000+\n",
      "eBoox: book reader fb2 epub zip : 1,000,000+\n",
      "English Persian Dictionary : 500,000+\n",
      "Flybook : 500,000+\n",
      "All Maths Formulas : 1,000,000+\n",
      "Ancestry : 5,000,000+\n",
      "HTC Help : 10,000,000+\n",
      "English translation from Bengali : 100,000+\n",
      "Pdf Book Download - Read Pdf Book : 100,000+\n",
      "Free Book Reader : 100,000+\n",
      "eBoox new: Reader for fb2 epub zip books : 50,000+\n",
      "Only 30 days in English, the guideline is guaranteed : 500,000+\n",
      "Moon+ Reader : 10,000,000+\n",
      "SH-02J Owner's Manual (Android 8.0) : 50,000+\n",
      "English-Myanmar Dictionary : 1,000,000+\n",
      "Golden Dictionary (EN-AR) : 1,000,000+\n",
      "All Language Translator Free : 1,000,000+\n",
      "Azpen eReader : 500,000+\n",
      "URBANO V 02 instruction manual : 100,000+\n",
      "Bible : 100,000,000+\n",
      "C Programs and Reference : 50,000+\n",
      "C Offline Tutorial : 1,000+\n",
      "C Programs Handbook : 50,000+\n",
      "Amazon Kindle : 100,000,000+\n",
      "Aab e Hayat Full Novel : 100,000+\n",
      "Aldiko Book Reader : 10,000,000+\n",
      "Google I/O 2018 : 500,000+\n",
      "R Language Reference Guide : 10,000+\n",
      "Learn R Programming Full : 5,000+\n",
      "R Programing Offline Tutorial : 1,000+\n",
      "Guide for R Programming : 5+\n",
      "Learn R Programming : 10+\n",
      "R Quick Reference Big Data : 1,000+\n",
      "V Made : 100,000+\n",
      "Wattpad 📖 Free Books : 100,000,000+\n",
      "Dictionary - WordWeb : 5,000,000+\n",
      "Guide (for X-MEN) : 100,000+\n",
      "AC Air condition Troubleshoot,Repair,Maintenance : 5,000+\n",
      "AE Bulletins : 1,000+\n",
      "Ae Allah na Dai (Rasa) : 10,000+\n",
      "50000 Free eBooks & Free AudioBooks : 5,000,000+\n",
      "Ag PhD Field Guide : 10,000+\n",
      "Ag PhD Deficiencies : 10,000+\n",
      "Ag PhD Planting Population Calculator : 1,000+\n",
      "Ag PhD Soybean Diseases : 1,000+\n",
      "Fertilizer Removal By Crop : 50,000+\n",
      "A-J Media Vault : 50+\n",
      "Al-Quran (Free) : 10,000,000+\n",
      "Al Quran (Tafsir & by Word) : 500,000+\n",
      "Al Quran Indonesia : 10,000,000+\n",
      "Al'Quran Bahasa Indonesia : 10,000,000+\n",
      "Al Quran Al karim : 1,000,000+\n",
      "Al-Muhaffiz : 50,000+\n",
      "Al Quran : EAlim - Translations & MP3 Offline : 5,000,000+\n",
      "Al-Quran 30 Juz free copies : 500,000+\n",
      "Koran Read &MP3 30 Juz Offline : 1,000,000+\n",
      "Hafizi Quran 15 lines per page : 1,000,000+\n",
      "Quran for Android : 10,000,000+\n",
      "Surah Al-Waqiah : 100,000+\n",
      "Hisnul Al Muslim - Hisn Invocations & Adhkaar : 100,000+\n",
      "Satellite AR : 1,000,000+\n",
      "Audiobooks from Audible : 100,000,000+\n",
      "Kinot & Eichah for Tisha B'Av : 10,000+\n",
      "AW Tozer Devotionals - Daily : 5,000+\n",
      "Tozer Devotional -Series 1 : 1,000+\n",
      "The Pursuit of God : 1,000+\n",
      "AY Sing : 5,000+\n",
      "Ay Hasnain k Nana Milad Naat : 10,000+\n",
      "Ay Mohabbat Teri Khatir Novel : 10,000+\n",
      "Arizona Statutes, ARS (AZ Law) : 1,000+\n",
      "Oxford A-Z of English Usage : 1,000,000+\n",
      "BD Fishpedia : 1,000+\n",
      "BD All Sim Offer : 10,000+\n",
      "Youboox - Livres, BD et magazines : 500,000+\n",
      "B&H Kids AR : 10,000+\n",
      "B y H Niños ES : 5,000+\n",
      "Dictionary.com: Find Definitions for English Words : 10,000,000+\n",
      "English Dictionary - Offline : 10,000,000+\n",
      "Bible KJV : 5,000,000+\n",
      "Borneo Bible, BM Bible : 10,000+\n",
      "MOD Black for BM : 100+\n",
      "BM Box : 1,000+\n",
      "Anime Mod for BM : 100+\n",
      "NOOK: Read eBooks & Magazines : 10,000,000+\n",
      "NOOK Audiobooks : 500,000+\n",
      "NOOK App for NOOK Devices : 500,000+\n",
      "Browsery by Barnes & Noble : 5,000+\n",
      "bp e-store : 1,000+\n",
      "Brilliant Quotes: Life, Love, Family & Motivation : 1,000,000+\n",
      "BR Ambedkar Biography & Quotes : 10,000+\n",
      "BU Alsace : 100+\n",
      "Catholic La Bu Zo Kam : 500+\n",
      "Khrifa Hla Bu (Solfa) : 10+\n",
      "Kristian Hla Bu : 10,000+\n",
      "SA HLA BU : 1,000+\n",
      "Learn SAP BW : 500+\n",
      "Learn SAP BW on HANA : 500+\n",
      "CA Laws 2018 (California Laws and Codes) : 5,000+\n",
      "Bootable Methods(USB-CD-DVD) : 10,000+\n",
      "cloudLibrary : 100,000+\n",
      "SDA Collegiate Quarterly : 500+\n",
      "Sabbath School : 100,000+\n",
      "Cypress College Library : 100+\n",
      "Stats Royale for Clash Royale : 1,000,000+\n",
      "GATE 21 years CS Papers(2011-2018 Solved) : 50+\n",
      "Learn CT Scan Of Head : 5,000+\n",
      "Easy Cv maker 2018 : 10,000+\n",
      "How to Write CV : 100,000+\n",
      "CW Nuclear : 1,000+\n",
      "CY Spray nozzle : 10+\n",
      "BibleRead En Cy Zh Yue : 5+\n",
      "CZ-Help : 5+\n",
      "Modlitební knížka CZ : 500+\n",
      "Guide for DB Xenoverse : 10,000+\n",
      "Guide for DB Xenoverse 2 : 10,000+\n",
      "Guide for IMS DB : 10+\n",
      "DC HSEMA : 5,000+\n",
      "DC Public Library : 1,000+\n",
      "Painting Lulu DC Super Friends : 1,000+\n",
      "Dictionary : 10,000,000+\n",
      "Fix Error Google Playstore : 1,000+\n",
      "D. H. Lawrence Poems FREE : 1,000+\n",
      "Bilingual Dictionary Audio App : 5,000+\n",
      "DM Screen : 10,000+\n",
      "wikiHow: how to do anything : 1,000,000+\n",
      "Dr. Doug's Tips : 1,000+\n",
      "Bible du Semeur-BDS (French) : 50,000+\n",
      "La citadelle du musulman : 50,000+\n",
      "DV 2019 Entry Guide : 10,000+\n",
      "DV 2019 - EDV Photo & Form : 50,000+\n",
      "DV 2018 Winners Guide : 1,000+\n",
      "EB Annual Meetings : 1,000+\n",
      "EC - AP & Telangana : 5,000+\n",
      "TN Patta Citta & EC : 10,000+\n",
      "AP Stamps and Registration : 10,000+\n",
      "CompactiMa EC pH Calibration : 100+\n",
      "EGW Writings 2 : 100,000+\n",
      "EGW Writings : 1,000,000+\n",
      "Bible with EGW Comments : 100,000+\n",
      "My Little Pony AR Guide : 1,000,000+\n",
      "SDA Sabbath School Quarterly : 500,000+\n",
      "Duaa Ek Ibaadat : 5,000+\n",
      "Spanish English Translator : 10,000,000+\n",
      "Dictionary - Merriam-Webster : 10,000,000+\n",
      "JW Library : 10,000,000+\n",
      "Oxford Dictionary of English : Free : 10,000,000+\n",
      "English Hindi Dictionary : 10,000,000+\n",
      "English to Hindi Dictionary : 5,000,000+\n",
      "EP Research Service : 1,000+\n",
      "Hymnes et Louanges : 100,000+\n",
      "EU Charter : 1,000+\n",
      "EU Data Protection : 1,000+\n",
      "EU IP Codes : 100+\n",
      "EW PDF : 5+\n",
      "BakaReader EX : 100,000+\n",
      "EZ Quran : 50,000+\n",
      "FA Part 1 & 2 Past Papers Solved Free – Offline : 5,000+\n",
      "La Fe de Jesus : 1,000+\n",
      "La Fe de Jesús : 500+\n",
      "Le Fe de Jesus : 500+\n",
      "Florida - Pocket Brainbook : 1,000+\n",
      "Florida Statutes (FL Code) : 1,000+\n",
      "English To Shona Dictionary : 10,000+\n",
      "Greek Bible FP (Audio) : 1,000+\n",
      "Golden Dictionary (FR-AR) : 500,000+\n",
      "Fanfic-FR : 5,000+\n",
      "Bulgarian French Dictionary Fr : 10,000+\n",
      "Chemin (fr) : 1,000+\n",
      "The SCP Foundation DB fr nn5n : 1,000+\n"
     ]
    }
   ],
   "source": [
    "for apps in free_android:\n",
    "    if apps[1] == 'BOOKS_AND_REFERENCE':\n",
    "        print(apps[0], ':', apps[5])\n",
    "    "
   ]
  },
  {
   "cell_type": "markdown",
   "metadata": {},
   "source": [
    "The book and reference genre includes a variety of apps: software for processing and reading ebooks, various collections of libraries, dictionaries, tutorials on programming or languages, etc. It seems there's still a small number of extremely popular book apps that skew the average:"
   ]
  },
  {
   "cell_type": "code",
   "execution_count": 28,
   "metadata": {},
   "outputs": [
    {
     "output_type": "stream",
     "name": "stdout",
     "text": [
      "Google Play Books : 1,000,000,000+\nBible : 100,000,000+\nAmazon Kindle : 100,000,000+\nWattpad 📖 Free Books : 100,000,000+\nAudiobooks from Audible : 100,000,000+\n\n mean of books with over 100m installs: 280000000.0\n"
     ]
    }
   ],
   "source": [
    "books_with_100m_above_installs = []\n",
    "\n",
    "for app in free_android:\n",
    "    n_installs = app[5].replace(',', '')\n",
    "    n_installs = n_installs.replace('+', '')\n",
    "    \n",
    "    if (app[1] == 'BOOKS_AND_REFERENCE') and (float(n_installs) >= 100000000):\n",
    "        books_with_100m_above_installs.append(float(n_installs))\n",
    "        \n",
    "        print(app[0], ':', app[5])\n",
    "        \n",
    "print('\\n', 'mean of books with over 100m installs:', sum(books_with_100m_above_installs) / len(books_with_100m_above_installs))"
   ]
  },
  {
   "cell_type": "markdown",
   "metadata": {},
   "source": [
    "The above output shows that books with over 100 million installs are quite few but significantly contributed to the high mean value we obtained previously (280,000,000). But we can still rely on the potential of this genre or market because there only a few popular Apps and the market is not saturated with popular Apps like the communication or social networking genres.\n",
    "\n",
    "Below we revealed free books and reference Apps that have less than a 100 million installs and showed their mean."
   ]
  },
  {
   "cell_type": "code",
   "execution_count": 29,
   "metadata": {},
   "outputs": [
    {
     "output_type": "stream",
     "name": "stdout",
     "text": [
      "E-Book Read - Read Book for free : 50,000+\nDownload free book with green book : 100,000+\nWikipedia : 10,000,000+\nCool Reader : 10,000,000+\nFree Panda Radio Music : 100,000+\nBook store : 1,000,000+\nFBReader: Favorite Book Reader : 10,000,000+\nEnglish Grammar Complete Handbook : 500,000+\nFree Books - Spirit Fanfiction and Stories : 1,000,000+\nAlReader -any text book reader : 5,000,000+\nOffline English Dictionary : 100,000+\nOffline: English to Tagalog Dictionary : 500,000+\nFamilySearch Tree : 1,000,000+\nCloud of Books : 1,000,000+\nRecipes of Prophetic Medicine for free : 500,000+\nReadEra – free ebook reader : 1,000,000+\nAnonymous caller detection : 10,000+\nEbook Reader : 5,000,000+\nLitnet - E-books : 100,000+\nRead books online : 5,000,000+\nEnglish to Urdu Dictionary : 500,000+\neBoox: book reader fb2 epub zip : 1,000,000+\nEnglish Persian Dictionary : 500,000+\nFlybook : 500,000+\nAll Maths Formulas : 1,000,000+\nAncestry : 5,000,000+\nHTC Help : 10,000,000+\nEnglish translation from Bengali : 100,000+\nPdf Book Download - Read Pdf Book : 100,000+\nFree Book Reader : 100,000+\neBoox new: Reader for fb2 epub zip books : 50,000+\nOnly 30 days in English, the guideline is guaranteed : 500,000+\nMoon+ Reader : 10,000,000+\nSH-02J Owner's Manual (Android 8.0) : 50,000+\nEnglish-Myanmar Dictionary : 1,000,000+\nGolden Dictionary (EN-AR) : 1,000,000+\nAll Language Translator Free : 1,000,000+\nAzpen eReader : 500,000+\nURBANO V 02 instruction manual : 100,000+\nC Programs and Reference : 50,000+\nC Offline Tutorial : 1,000+\nC Programs Handbook : 50,000+\nAab e Hayat Full Novel : 100,000+\nAldiko Book Reader : 10,000,000+\nGoogle I/O 2018 : 500,000+\nR Language Reference Guide : 10,000+\nLearn R Programming Full : 5,000+\nR Programing Offline Tutorial : 1,000+\nGuide for R Programming : 5+\nLearn R Programming : 10+\nR Quick Reference Big Data : 1,000+\nV Made : 100,000+\nDictionary - WordWeb : 5,000,000+\nGuide (for X-MEN) : 100,000+\nAC Air condition Troubleshoot,Repair,Maintenance : 5,000+\nAE Bulletins : 1,000+\nAe Allah na Dai (Rasa) : 10,000+\n50000 Free eBooks & Free AudioBooks : 5,000,000+\nAg PhD Field Guide : 10,000+\nAg PhD Deficiencies : 10,000+\nAg PhD Planting Population Calculator : 1,000+\nAg PhD Soybean Diseases : 1,000+\nFertilizer Removal By Crop : 50,000+\nA-J Media Vault : 50+\nAl-Quran (Free) : 10,000,000+\nAl Quran (Tafsir & by Word) : 500,000+\nAl Quran Indonesia : 10,000,000+\nAl'Quran Bahasa Indonesia : 10,000,000+\nAl Quran Al karim : 1,000,000+\nAl-Muhaffiz : 50,000+\nAl Quran : EAlim - Translations & MP3 Offline : 5,000,000+\nAl-Quran 30 Juz free copies : 500,000+\nKoran Read &MP3 30 Juz Offline : 1,000,000+\nHafizi Quran 15 lines per page : 1,000,000+\nQuran for Android : 10,000,000+\nSurah Al-Waqiah : 100,000+\nHisnul Al Muslim - Hisn Invocations & Adhkaar : 100,000+\nSatellite AR : 1,000,000+\nKinot & Eichah for Tisha B'Av : 10,000+\nAW Tozer Devotionals - Daily : 5,000+\nTozer Devotional -Series 1 : 1,000+\nThe Pursuit of God : 1,000+\nAY Sing : 5,000+\nAy Hasnain k Nana Milad Naat : 10,000+\nAy Mohabbat Teri Khatir Novel : 10,000+\nArizona Statutes, ARS (AZ Law) : 1,000+\nOxford A-Z of English Usage : 1,000,000+\nBD Fishpedia : 1,000+\nBD All Sim Offer : 10,000+\nYouboox - Livres, BD et magazines : 500,000+\nB&H Kids AR : 10,000+\nB y H Niños ES : 5,000+\nDictionary.com: Find Definitions for English Words : 10,000,000+\nEnglish Dictionary - Offline : 10,000,000+\nBible KJV : 5,000,000+\nBorneo Bible, BM Bible : 10,000+\nMOD Black for BM : 100+\nBM Box : 1,000+\nAnime Mod for BM : 100+\nNOOK: Read eBooks & Magazines : 10,000,000+\nNOOK Audiobooks : 500,000+\nNOOK App for NOOK Devices : 500,000+\nBrowsery by Barnes & Noble : 5,000+\nbp e-store : 1,000+\nBrilliant Quotes: Life, Love, Family & Motivation : 1,000,000+\nBR Ambedkar Biography & Quotes : 10,000+\nBU Alsace : 100+\nCatholic La Bu Zo Kam : 500+\nKhrifa Hla Bu (Solfa) : 10+\nKristian Hla Bu : 10,000+\nSA HLA BU : 1,000+\nLearn SAP BW : 500+\nLearn SAP BW on HANA : 500+\nCA Laws 2018 (California Laws and Codes) : 5,000+\nBootable Methods(USB-CD-DVD) : 10,000+\ncloudLibrary : 100,000+\nSDA Collegiate Quarterly : 500+\nSabbath School : 100,000+\nCypress College Library : 100+\nStats Royale for Clash Royale : 1,000,000+\nGATE 21 years CS Papers(2011-2018 Solved) : 50+\nLearn CT Scan Of Head : 5,000+\nEasy Cv maker 2018 : 10,000+\nHow to Write CV : 100,000+\nCW Nuclear : 1,000+\nCY Spray nozzle : 10+\nBibleRead En Cy Zh Yue : 5+\nCZ-Help : 5+\nModlitební knížka CZ : 500+\nGuide for DB Xenoverse : 10,000+\nGuide for DB Xenoverse 2 : 10,000+\nGuide for IMS DB : 10+\nDC HSEMA : 5,000+\nDC Public Library : 1,000+\nPainting Lulu DC Super Friends : 1,000+\nDictionary : 10,000,000+\nFix Error Google Playstore : 1,000+\nD. H. Lawrence Poems FREE : 1,000+\nBilingual Dictionary Audio App : 5,000+\nDM Screen : 10,000+\nwikiHow: how to do anything : 1,000,000+\nDr. Doug's Tips : 1,000+\nBible du Semeur-BDS (French) : 50,000+\nLa citadelle du musulman : 50,000+\nDV 2019 Entry Guide : 10,000+\nDV 2019 - EDV Photo & Form : 50,000+\nDV 2018 Winners Guide : 1,000+\nEB Annual Meetings : 1,000+\nEC - AP & Telangana : 5,000+\nTN Patta Citta & EC : 10,000+\nAP Stamps and Registration : 10,000+\nCompactiMa EC pH Calibration : 100+\nEGW Writings 2 : 100,000+\nEGW Writings : 1,000,000+\nBible with EGW Comments : 100,000+\nMy Little Pony AR Guide : 1,000,000+\nSDA Sabbath School Quarterly : 500,000+\nDuaa Ek Ibaadat : 5,000+\nSpanish English Translator : 10,000,000+\nDictionary - Merriam-Webster : 10,000,000+\nJW Library : 10,000,000+\nOxford Dictionary of English : Free : 10,000,000+\nEnglish Hindi Dictionary : 10,000,000+\nEnglish to Hindi Dictionary : 5,000,000+\nEP Research Service : 1,000+\nHymnes et Louanges : 100,000+\nEU Charter : 1,000+\nEU Data Protection : 1,000+\nEU IP Codes : 100+\nEW PDF : 5+\nBakaReader EX : 100,000+\nEZ Quran : 50,000+\nFA Part 1 & 2 Past Papers Solved Free – Offline : 5,000+\nLa Fe de Jesus : 1,000+\nLa Fe de Jesús : 500+\nLe Fe de Jesus : 500+\nFlorida - Pocket Brainbook : 1,000+\nFlorida Statutes (FL Code) : 1,000+\nEnglish To Shona Dictionary : 10,000+\nGreek Bible FP (Audio) : 1,000+\nGolden Dictionary (FR-AR) : 500,000+\nFanfic-FR : 5,000+\nBulgarian French Dictionary Fr : 10,000+\nChemin (fr) : 1,000+\nThe SCP Foundation DB fr nn5n : 1,000+\n\n\nmean of books with less than 100m installs: 1437212.2162162163\n"
     ]
    }
   ],
   "source": [
    "books_with_less_than_100m_installs = []\n",
    "\n",
    "for app in free_android:\n",
    "    n_installs = app[5].replace(',', '')\n",
    "    n_installs = n_installs.replace('+', '')\n",
    "    \n",
    "    if (app[1] == 'BOOKS_AND_REFERENCE') and (float(n_installs) < 100000000):\n",
    "        books_with_less_than_100m_installs.append(float(n_installs))\n",
    "        \n",
    "        print(app[0], ':', app[5])\n",
    "        \n",
    "print('\\n')\n",
    "print('mean of books with less than 100m installs:',sum(books_with_less_than_100m_installs) / len(books_with_less_than_100m_installs))"
   ]
  },
  {
   "cell_type": "markdown",
   "metadata": {},
   "source": [
    "This niche seems to be dominated by software for processing and reading ebooks, as well as various collections of libraries and dictionaries, so it's probably not a good idea to build similar apps since there'll be some significant competition.\n",
    "\n",
    "The mean of books with less than 100 million installs(1,437,212) is over 190 times smaller than books with 100 million and above installs. This shows that although the market is full of book Apps, the very popular free book Apps amongst users are very few and books Apps that saturates the market are 'not so popular'.\n",
    "\n",
    "We also notice there are quite a few apps built around the book Quran, which suggests that building an app around a popular book can be profitable. It seems that taking a popular book (perhaps a more recent book) and turning it into an app could be profitable for both the Google Play and the App Store markets.\n",
    "\n",
    "However, it looks like the market is already full of libraries, so we need to add some special features besides the raw version of the book. This might include daily quotes from the book, an audio version of the book, quizzes on the book, a forum where people can discuss the book, etc.\n",
    "\n",
    "# conclusion\n",
    "\n",
    "In this project, we analyzed data about the App Store and Google Play mobile apps with the goal of recommending an app profile that can be profitable for both markets.\n",
    "\n",
    "We concluded that taking a popular book (perhaps a more recent book) and turning it into an app could be profitable for both the Google Play and the App Store markets. The markets are already full of libraries, so we need to add some special features besides the raw version of the book. This might include daily quotes from the book, an audio version of the book, quizzes on the book, a forum where people can discuss the book, etc."
   ]
  }
 ],
 "metadata": {
  "kernelspec": {
   "display_name": "Python 3",
   "language": "python",
   "name": "python3"
  },
  "language_info": {
   "codemirror_mode": {
    "name": "ipython",
    "version": 3
   },
   "file_extension": ".py",
   "mimetype": "text/x-python",
   "name": "python",
   "nbconvert_exporter": "python",
   "pygments_lexer": "ipython3",
   "version": "3.7.4-final"
  }
 },
 "nbformat": 4,
 "nbformat_minor": 2
}