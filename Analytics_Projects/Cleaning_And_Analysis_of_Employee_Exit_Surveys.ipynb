{
 "cells": [
  {
   "cell_type": "markdown",
   "metadata": {},
   "source": [
    "In this project, we'll work with exit surveys from employees of [the Department of Education, Training and Employment (DETE)](https://en.wikipedia.org/wiki/Department_of_Education_and_Training_(Queensland)) and the Technical and Further Education (TAFE) institute in Queensland, Australia. You can find the TAFE exit survey [here](https://data.gov.au/dataset/ds-qld-89970a3b-182b-41ea-aea2-6f9f17b5907e/details?q=exit%20survey) and the survey for the DETE [here](https://data.gov.au/dataset/ds-qld-fe96ff30-d157-4a81-851d-215f2a0fe26d/details?q=exit%20survey). Note that the original dataset made use of the `cp1252` encoding style which was modified for this project.\n",
    "\n",
    "In this project, we'll play the role of data analyst and pretend our stakeholders want to know the following:\n",
    "\n",
    "- Are employees who only worked for the institutes for a short period of time resigning due to some kind of dissatisfaction? What about employees who have been there longer?\n",
    "- Are younger employees(in terms of age) resigning due to some kind of dissatisfaction? What about older employees?\n",
    "\n",
    "They want us to combine the results for both surveys to answer these questions. However, although both used the same survey template, one of them customized some of the answers. We'll aim to do most of the data cleaning and get started analyzing the first question.\n",
    "\n",
    "A data dictionary wasn't provided with the dataset. In a job setting, we'd make sure to meet with a manager to confirm the definitions of the data. For this project, we'll use our general knowledge to define the columns.\n",
    "\n",
    "Below is a preview of a couple columns we'll work with from the `dete_survey.csv`:\n",
    "\n",
    "- `ID`: An id used to identify the participant of the survey\n",
    "- `SeparationType`: The reason why the person's employment ended\n",
    "- `Cease Date`: The year or month the person's employment ended\n",
    "- `DETE Start Date`: The year the person began employment with the DETE\n",
    "\n",
    "Below is a preview of a couple columns we'll work with from the tafe_survey.csv:\n",
    "\n",
    "- `Record ID`: An id used to identify the participant of the survey\n",
    "- `Reason for ceasing employment`: The reason why the person's employment ended\n",
    "- `LengthofServiceOverall. Overall Length of Service at Institute (in years)`: The length of the person's employment (in years)\n",
    "\n",
    "Let's start by reading the datasets into pandas and exploring them."
   ]
  },
  {
   "cell_type": "code",
   "execution_count": 48,
   "metadata": {},
   "outputs": [],
   "source": [
    "# import relevant libraries\n",
    "import pandas as pd\n",
    "import numpy as np\n",
    "import matplotlib.pyplot as plt\n",
    "%matplotlib inline\n",
    "\n",
    "# Avoid truncation of output\n",
    "pd.options.display.max_rows = 150\n",
    "pd.options.display.max_columns = 150"
   ]
  },
  {
   "cell_type": "code",
   "execution_count": 49,
   "metadata": {},
   "outputs": [],
   "source": [
    "# locate file using the relative path\n",
    "dete_survey = pd.read_csv('../Dataset/dete_survey.csv')"
   ]
  },
  {
   "cell_type": "code",
   "execution_count": 50,
   "metadata": {},
   "outputs": [],
   "source": [
    "tafe_survey = pd.read_csv('../Dataset/tafe_survey.csv')"
   ]
  },
  {
   "cell_type": "code",
   "execution_count": 51,
   "metadata": {},
   "outputs": [
    {
     "output_type": "execute_result",
     "data": {
      "text/plain": [
       "   ID                    SeparationType Cease Date DETE Start Date  \\\n",
       "0   1             Ill Health Retirement     Aug-12            1984   \n",
       "1   2  Voluntary Early Retirement (VER)     Aug-12      Not Stated   \n",
       "2   3  Voluntary Early Retirement (VER)     May-12            2011   \n",
       "3   4         Resignation-Other reasons     May-12            2005   \n",
       "4   5                    Age Retirement     May-12            1970   \n",
       "\n",
       "  Role Start Date                                      Position  \\\n",
       "0            2004                                Public Servant   \n",
       "1      Not Stated                                Public Servant   \n",
       "2            2011                               Schools Officer   \n",
       "3            2006                                       Teacher   \n",
       "4            1989  Head of Curriculum/Head of Special Education   \n",
       "\n",
       "  Classification              Region                      Business Unit  \\\n",
       "0        A01-A04      Central Office  Corporate Strategy and Peformance   \n",
       "1        AO5-AO7      Central Office  Corporate Strategy and Peformance   \n",
       "2            NaN      Central Office               Education Queensland   \n",
       "3        Primary  Central Queensland                                NaN   \n",
       "4            NaN          South East                                NaN   \n",
       "\n",
       "     Employment Status  Career move to public sector  \\\n",
       "0  Permanent Full-time                          True   \n",
       "1  Permanent Full-time                         False   \n",
       "2  Permanent Full-time                         False   \n",
       "3  Permanent Full-time                         False   \n",
       "4  Permanent Full-time                         False   \n",
       "\n",
       "   Career move to private sector  Interpersonal conflicts  \\\n",
       "0                          False                    False   \n",
       "1                          False                    False   \n",
       "2                          False                    False   \n",
       "3                           True                    False   \n",
       "4                          False                    False   \n",
       "\n",
       "   Job dissatisfaction  Dissatisfaction with the department  \\\n",
       "0                 True                                False   \n",
       "1                False                                False   \n",
       "2                False                                False   \n",
       "3                False                                False   \n",
       "4                False                                False   \n",
       "\n",
       "   Physical work environment  Lack of recognition  Lack of job security  \\\n",
       "0                      False                 True                 False   \n",
       "1                      False                False                 False   \n",
       "2                      False                False                 False   \n",
       "3                      False                False                 False   \n",
       "4                      False                False                 False   \n",
       "\n",
       "   Work location  Employment conditions  Maternity/family  Relocation  \\\n",
       "0          False                  False             False       False   \n",
       "1          False                  False             False       False   \n",
       "2          False                  False             False       False   \n",
       "3          False                  False             False       False   \n",
       "4          False                  False             False       False   \n",
       "\n",
       "   Study/Travel  Ill Health  Traumatic incident  Work life balance  Workload  \\\n",
       "0         False       False               False              False     False   \n",
       "1         False       False               False              False     False   \n",
       "2         False       False               False              False     False   \n",
       "3         False       False               False              False     False   \n",
       "4         False       False               False               True     False   \n",
       "\n",
       "   None of the above Professional Development Opportunities for promotion  \\\n",
       "0               True                        A                           A   \n",
       "1              False                        A                           A   \n",
       "2               True                        N                           N   \n",
       "3              False                        A                           N   \n",
       "4              False                        A                           A   \n",
       "\n",
       "  Staff morale Workplace issue Physical environment Worklife balance  \\\n",
       "0            N               N                    N                A   \n",
       "1            N               N                    N                N   \n",
       "2            N               N                    N                N   \n",
       "3            N               N                    A                A   \n",
       "4            N               N                    D                D   \n",
       "\n",
       "  Stress and pressure support Performance of supervisor Peer support  \\\n",
       "0                           A                         A            A   \n",
       "1                           A                         A            A   \n",
       "2                           N                         N            N   \n",
       "3                           N                         N            A   \n",
       "4                           N                         A            A   \n",
       "\n",
       "  Initiative Skills Coach Career Aspirations Feedback Further PD  \\\n",
       "0          N      N     N                  A        A          A   \n",
       "1          N      N     N                  A        A          A   \n",
       "2          N      N     N                  N        N          N   \n",
       "3          A      A     A                  A        A          A   \n",
       "4          A      A     A                  A       SA         SA   \n",
       "\n",
       "  Communication My say Information Kept informed Wellness programs  \\\n",
       "0             N      A           A             N                 N   \n",
       "1             N      A           A             N                 N   \n",
       "2             A      A           N             N                 N   \n",
       "3             A      A           A             A                 N   \n",
       "4             D      D           A             N                 A   \n",
       "\n",
       "  Health & Safety  Gender          Age Aboriginal Torres Strait South Sea  \\\n",
       "0               N    Male        56-60        NaN           NaN       NaN   \n",
       "1               N    Male        56-60        NaN           NaN       NaN   \n",
       "2               N    Male  61 or older        NaN           NaN       NaN   \n",
       "3               A  Female        36-40        NaN           NaN       NaN   \n",
       "4               M  Female  61 or older        NaN           NaN       NaN   \n",
       "\n",
       "  Disability NESB  \n",
       "0        NaN  Yes  \n",
       "1        NaN  NaN  \n",
       "2        NaN  NaN  \n",
       "3        NaN  NaN  \n",
       "4        NaN  NaN  "
      ],
      "text/html": "<div>\n<style scoped>\n    .dataframe tbody tr th:only-of-type {\n        vertical-align: middle;\n    }\n\n    .dataframe tbody tr th {\n        vertical-align: top;\n    }\n\n    .dataframe thead th {\n        text-align: right;\n    }\n</style>\n<table border=\"1\" class=\"dataframe\">\n  <thead>\n    <tr style=\"text-align: right;\">\n      <th></th>\n      <th>ID</th>\n      <th>SeparationType</th>\n      <th>Cease Date</th>\n      <th>DETE Start Date</th>\n      <th>Role Start Date</th>\n      <th>Position</th>\n      <th>Classification</th>\n      <th>Region</th>\n      <th>Business Unit</th>\n      <th>Employment Status</th>\n      <th>Career move to public sector</th>\n      <th>Career move to private sector</th>\n      <th>Interpersonal conflicts</th>\n      <th>Job dissatisfaction</th>\n      <th>Dissatisfaction with the department</th>\n      <th>Physical work environment</th>\n      <th>Lack of recognition</th>\n      <th>Lack of job security</th>\n      <th>Work location</th>\n      <th>Employment conditions</th>\n      <th>Maternity/family</th>\n      <th>Relocation</th>\n      <th>Study/Travel</th>\n      <th>Ill Health</th>\n      <th>Traumatic incident</th>\n      <th>Work life balance</th>\n      <th>Workload</th>\n      <th>None of the above</th>\n      <th>Professional Development</th>\n      <th>Opportunities for promotion</th>\n      <th>Staff morale</th>\n      <th>Workplace issue</th>\n      <th>Physical environment</th>\n      <th>Worklife balance</th>\n      <th>Stress and pressure support</th>\n      <th>Performance of supervisor</th>\n      <th>Peer support</th>\n      <th>Initiative</th>\n      <th>Skills</th>\n      <th>Coach</th>\n      <th>Career Aspirations</th>\n      <th>Feedback</th>\n      <th>Further PD</th>\n      <th>Communication</th>\n      <th>My say</th>\n      <th>Information</th>\n      <th>Kept informed</th>\n      <th>Wellness programs</th>\n      <th>Health &amp; Safety</th>\n      <th>Gender</th>\n      <th>Age</th>\n      <th>Aboriginal</th>\n      <th>Torres Strait</th>\n      <th>South Sea</th>\n      <th>Disability</th>\n      <th>NESB</th>\n    </tr>\n  </thead>\n  <tbody>\n    <tr>\n      <th>0</th>\n      <td>1</td>\n      <td>Ill Health Retirement</td>\n      <td>Aug-12</td>\n      <td>1984</td>\n      <td>2004</td>\n      <td>Public Servant</td>\n      <td>A01-A04</td>\n      <td>Central Office</td>\n      <td>Corporate Strategy and Peformance</td>\n      <td>Permanent Full-time</td>\n      <td>True</td>\n      <td>False</td>\n      <td>False</td>\n      <td>True</td>\n      <td>False</td>\n      <td>False</td>\n      <td>True</td>\n      <td>False</td>\n      <td>False</td>\n      <td>False</td>\n      <td>False</td>\n      <td>False</td>\n      <td>False</td>\n      <td>False</td>\n      <td>False</td>\n      <td>False</td>\n      <td>False</td>\n      <td>True</td>\n      <td>A</td>\n      <td>A</td>\n      <td>N</td>\n      <td>N</td>\n      <td>N</td>\n      <td>A</td>\n      <td>A</td>\n      <td>A</td>\n      <td>A</td>\n      <td>N</td>\n      <td>N</td>\n      <td>N</td>\n      <td>A</td>\n      <td>A</td>\n      <td>A</td>\n      <td>N</td>\n      <td>A</td>\n      <td>A</td>\n      <td>N</td>\n      <td>N</td>\n      <td>N</td>\n      <td>Male</td>\n      <td>56-60</td>\n      <td>NaN</td>\n      <td>NaN</td>\n      <td>NaN</td>\n      <td>NaN</td>\n      <td>Yes</td>\n    </tr>\n    <tr>\n      <th>1</th>\n      <td>2</td>\n      <td>Voluntary Early Retirement (VER)</td>\n      <td>Aug-12</td>\n      <td>Not Stated</td>\n      <td>Not Stated</td>\n      <td>Public Servant</td>\n      <td>AO5-AO7</td>\n      <td>Central Office</td>\n      <td>Corporate Strategy and Peformance</td>\n      <td>Permanent Full-time</td>\n      <td>False</td>\n      <td>False</td>\n      <td>False</td>\n      <td>False</td>\n      <td>False</td>\n      <td>False</td>\n      <td>False</td>\n      <td>False</td>\n      <td>False</td>\n      <td>False</td>\n      <td>False</td>\n      <td>False</td>\n      <td>False</td>\n      <td>False</td>\n      <td>False</td>\n      <td>False</td>\n      <td>False</td>\n      <td>False</td>\n      <td>A</td>\n      <td>A</td>\n      <td>N</td>\n      <td>N</td>\n      <td>N</td>\n      <td>N</td>\n      <td>A</td>\n      <td>A</td>\n      <td>A</td>\n      <td>N</td>\n      <td>N</td>\n      <td>N</td>\n      <td>A</td>\n      <td>A</td>\n      <td>A</td>\n      <td>N</td>\n      <td>A</td>\n      <td>A</td>\n      <td>N</td>\n      <td>N</td>\n      <td>N</td>\n      <td>Male</td>\n      <td>56-60</td>\n      <td>NaN</td>\n      <td>NaN</td>\n      <td>NaN</td>\n      <td>NaN</td>\n      <td>NaN</td>\n    </tr>\n    <tr>\n      <th>2</th>\n      <td>3</td>\n      <td>Voluntary Early Retirement (VER)</td>\n      <td>May-12</td>\n      <td>2011</td>\n      <td>2011</td>\n      <td>Schools Officer</td>\n      <td>NaN</td>\n      <td>Central Office</td>\n      <td>Education Queensland</td>\n      <td>Permanent Full-time</td>\n      <td>False</td>\n      <td>False</td>\n      <td>False</td>\n      <td>False</td>\n      <td>False</td>\n      <td>False</td>\n      <td>False</td>\n      <td>False</td>\n      <td>False</td>\n      <td>False</td>\n      <td>False</td>\n      <td>False</td>\n      <td>False</td>\n      <td>False</td>\n      <td>False</td>\n      <td>False</td>\n      <td>False</td>\n      <td>True</td>\n      <td>N</td>\n      <td>N</td>\n      <td>N</td>\n      <td>N</td>\n      <td>N</td>\n      <td>N</td>\n      <td>N</td>\n      <td>N</td>\n      <td>N</td>\n      <td>N</td>\n      <td>N</td>\n      <td>N</td>\n      <td>N</td>\n      <td>N</td>\n      <td>N</td>\n      <td>A</td>\n      <td>A</td>\n      <td>N</td>\n      <td>N</td>\n      <td>N</td>\n      <td>N</td>\n      <td>Male</td>\n      <td>61 or older</td>\n      <td>NaN</td>\n      <td>NaN</td>\n      <td>NaN</td>\n      <td>NaN</td>\n      <td>NaN</td>\n    </tr>\n    <tr>\n      <th>3</th>\n      <td>4</td>\n      <td>Resignation-Other reasons</td>\n      <td>May-12</td>\n      <td>2005</td>\n      <td>2006</td>\n      <td>Teacher</td>\n      <td>Primary</td>\n      <td>Central Queensland</td>\n      <td>NaN</td>\n      <td>Permanent Full-time</td>\n      <td>False</td>\n      <td>True</td>\n      <td>False</td>\n      <td>False</td>\n      <td>False</td>\n      <td>False</td>\n      <td>False</td>\n      <td>False</td>\n      <td>False</td>\n      <td>False</td>\n      <td>False</td>\n      <td>False</td>\n      <td>False</td>\n      <td>False</td>\n      <td>False</td>\n      <td>False</td>\n      <td>False</td>\n      <td>False</td>\n      <td>A</td>\n      <td>N</td>\n      <td>N</td>\n      <td>N</td>\n      <td>A</td>\n      <td>A</td>\n      <td>N</td>\n      <td>N</td>\n      <td>A</td>\n      <td>A</td>\n      <td>A</td>\n      <td>A</td>\n      <td>A</td>\n      <td>A</td>\n      <td>A</td>\n      <td>A</td>\n      <td>A</td>\n      <td>A</td>\n      <td>A</td>\n      <td>N</td>\n      <td>A</td>\n      <td>Female</td>\n      <td>36-40</td>\n      <td>NaN</td>\n      <td>NaN</td>\n      <td>NaN</td>\n      <td>NaN</td>\n      <td>NaN</td>\n    </tr>\n    <tr>\n      <th>4</th>\n      <td>5</td>\n      <td>Age Retirement</td>\n      <td>May-12</td>\n      <td>1970</td>\n      <td>1989</td>\n      <td>Head of Curriculum/Head of Special Education</td>\n      <td>NaN</td>\n      <td>South East</td>\n      <td>NaN</td>\n      <td>Permanent Full-time</td>\n      <td>False</td>\n      <td>False</td>\n      <td>False</td>\n      <td>False</td>\n      <td>False</td>\n      <td>False</td>\n      <td>False</td>\n      <td>False</td>\n      <td>False</td>\n      <td>False</td>\n      <td>False</td>\n      <td>False</td>\n      <td>False</td>\n      <td>False</td>\n      <td>False</td>\n      <td>True</td>\n      <td>False</td>\n      <td>False</td>\n      <td>A</td>\n      <td>A</td>\n      <td>N</td>\n      <td>N</td>\n      <td>D</td>\n      <td>D</td>\n      <td>N</td>\n      <td>A</td>\n      <td>A</td>\n      <td>A</td>\n      <td>A</td>\n      <td>A</td>\n      <td>A</td>\n      <td>SA</td>\n      <td>SA</td>\n      <td>D</td>\n      <td>D</td>\n      <td>A</td>\n      <td>N</td>\n      <td>A</td>\n      <td>M</td>\n      <td>Female</td>\n      <td>61 or older</td>\n      <td>NaN</td>\n      <td>NaN</td>\n      <td>NaN</td>\n      <td>NaN</td>\n      <td>NaN</td>\n    </tr>\n  </tbody>\n</table>\n</div>"
     },
     "metadata": {},
     "execution_count": 51
    }
   ],
   "source": [
    "dete_survey.head()"
   ]
  },
  {
   "cell_type": "code",
   "execution_count": 52,
   "metadata": {},
   "outputs": [
    {
     "output_type": "stream",
     "name": "stdout",
     "text": [
      "<class 'pandas.core.frame.DataFrame'>\nRangeIndex: 822 entries, 0 to 821\nData columns (total 56 columns):\n #   Column                               Non-Null Count  Dtype \n---  ------                               --------------  ----- \n 0   ID                                   822 non-null    int64 \n 1   SeparationType                       822 non-null    object\n 2   Cease Date                           822 non-null    object\n 3   DETE Start Date                      822 non-null    object\n 4   Role Start Date                      822 non-null    object\n 5   Position                             817 non-null    object\n 6   Classification                       455 non-null    object\n 7   Region                               822 non-null    object\n 8   Business Unit                        126 non-null    object\n 9   Employment Status                    817 non-null    object\n 10  Career move to public sector         822 non-null    bool  \n 11  Career move to private sector        822 non-null    bool  \n 12  Interpersonal conflicts              822 non-null    bool  \n 13  Job dissatisfaction                  822 non-null    bool  \n 14  Dissatisfaction with the department  822 non-null    bool  \n 15  Physical work environment            822 non-null    bool  \n 16  Lack of recognition                  822 non-null    bool  \n 17  Lack of job security                 822 non-null    bool  \n 18  Work location                        822 non-null    bool  \n 19  Employment conditions                822 non-null    bool  \n 20  Maternity/family                     822 non-null    bool  \n 21  Relocation                           822 non-null    bool  \n 22  Study/Travel                         822 non-null    bool  \n 23  Ill Health                           822 non-null    bool  \n 24  Traumatic incident                   822 non-null    bool  \n 25  Work life balance                    822 non-null    bool  \n 26  Workload                             822 non-null    bool  \n 27  None of the above                    822 non-null    bool  \n 28  Professional Development             808 non-null    object\n 29  Opportunities for promotion          735 non-null    object\n 30  Staff morale                         816 non-null    object\n 31  Workplace issue                      788 non-null    object\n 32  Physical environment                 817 non-null    object\n 33  Worklife balance                     815 non-null    object\n 34  Stress and pressure support          810 non-null    object\n 35  Performance of supervisor            813 non-null    object\n 36  Peer support                         812 non-null    object\n 37  Initiative                           813 non-null    object\n 38  Skills                               811 non-null    object\n 39  Coach                                767 non-null    object\n 40  Career Aspirations                   746 non-null    object\n 41  Feedback                             792 non-null    object\n 42  Further PD                           768 non-null    object\n 43  Communication                        814 non-null    object\n 44  My say                               812 non-null    object\n 45  Information                          816 non-null    object\n 46  Kept informed                        813 non-null    object\n 47  Wellness programs                    766 non-null    object\n 48  Health & Safety                      793 non-null    object\n 49  Gender                               798 non-null    object\n 50  Age                                  811 non-null    object\n 51  Aboriginal                           16 non-null     object\n 52  Torres Strait                        3 non-null      object\n 53  South Sea                            7 non-null      object\n 54  Disability                           23 non-null     object\n 55  NESB                                 32 non-null     object\ndtypes: bool(18), int64(1), object(37)\nmemory usage: 258.6+ KB\n"
     ]
    }
   ],
   "source": [
    "dete_survey.info()"
   ]
  },
  {
   "cell_type": "markdown",
   "metadata": {},
   "source": [
    "The above output tells us there are 822 participants in the dete survey. Some columns in the `dete_survey` dataset are actually not relevant to our analysis, while some others have mostly null values. We'll drop such columns, since they do not affect the objective of our analysis. , which is trying to know the reason for exit of employees.\n",
    "in this respect, columns such as `Aboriginal`, `Torres Strait`, `South Sea`, `Disability` and `NESB` will be dropped because they contain less than 35 non-null values.\n",
    "The `Role Start Date` and `DETE Start Date` contain strings that reads **Not Stated**, which invariably means a null value\n",
    "The `Classification` column contains about 455 non-null values, we could keep it, but considering that the column is not of much significance to our analysis, we'll drop it too.\n",
    "The `Business Unit` column contains less than 130 non-null values, and although this column may contain some relevant details, we'll drop it, considering that over 80 percent of its values is missing"
   ]
  },
  {
   "cell_type": "code",
   "execution_count": 53,
   "metadata": {},
   "outputs": [
    {
     "output_type": "execute_result",
     "data": {
      "text/plain": [
       " my initiative in the course of my work  \\\n",
       "0                                     Strongly Agree                                        \n",
       "1                                              Agree                                        \n",
       "2                                              Agree                                        \n",
       "3                                     Strongly Agree                                        \n",
       "4                                     Strongly Agree                                        \n",
       "\n",
       "  WorkUnitViews. Topic:18. I had sufficient contact with other people in my job  \\\n",
       "0                                              Agree                              \n",
       "1                                              Agree                              \n",
       "2                                              Agree                              \n",
       "3                                     Strongly Agree                              \n",
       "4                                     Strongly Agree                              \n",
       "\n",
       "  WorkUnitViews. Topic:19. I was given adequate support and co-operation by my peers to enable me to do my job  \\\n",
       "0                                              Agree                                                             \n",
       "1                                              Agree                                                             \n",
       "2                                              Agree                                                             \n",
       "3                                     Strongly Agree                                                             \n",
       "4                                     Strongly Agree                                                             \n",
       "\n",
       "  WorkUnitViews. Topic:20. I was able to use the full range of my skills in my job  \\\n",
       "0                                              Agree                                 \n",
       "1                                     Strongly Agree                                 \n",
       "2                                              Agree                                 \n",
       "3                                     Strongly Agree                                 \n",
       "4                                     Strongly Agree                                 \n",
       "\n",
       "  WorkUnitViews. Topic:21. I was able to use the full range of my abilities in my job. ; Category:Level of Agreement; Question:YOUR VIEWS ABOUT YOUR WORK UNIT]  \\\n",
       "0                                              Agree                                                                                                              \n",
       "1                                              Agree                                                                                                              \n",
       "2                                              Agree                                                                                                              \n",
       "3                                     Strongly Agree                                                                                                              \n",
       "4                                     Strongly Agree                                                                                                              \n",
       "\n",
       "  WorkUnitViews. Topic:22. I was able to use the full range of my knowledge in my job  \\\n",
       "0                                              Agree                                    \n",
       "1                                              Agree                                    \n",
       "2                                              Agree                                    \n",
       "3                                     Strongly Agree                                    \n",
       "4                                     Strongly Agree                                    \n",
       "\n",
       "  WorkUnitViews. Topic:23. My job provided sufficient variety  \\\n",
       "0                                              Agree            \n",
       "1                                              Agree            \n",
       "2                                              Agree            \n",
       "3                                     Strongly Agree            \n",
       "4                                     Strongly Agree            \n",
       "\n",
       "  WorkUnitViews. Topic:24. I was able to cope with the level of stress and pressure in my job  \\\n",
       "0                                              Agree                                            \n",
       "1                                     Strongly Agree                                            \n",
       "2                                              Agree                                            \n",
       "3                                     Strongly Agree                                            \n",
       "4                                     Strongly Agree                                            \n",
       "\n",
       "  WorkUnitViews. Topic:25. My job allowed me to balance the demands of work and family to my satisfaction  \\\n",
       "0                                              Agree                                                        \n",
       "1                                              Agree                                                        \n",
       "2                                              Agree                                                        \n",
       "3                                     Strongly Agree                                                        \n",
       "4                                     Strongly Agree                                                        \n",
       "\n",
       "  WorkUnitViews. Topic:26. My supervisor gave me adequate personal recognition and feedback on my performance  \\\n",
       "0                                              Agree                                                            \n",
       "1                                     Strongly Agree                                                            \n",
       "2                                              Agree                                                            \n",
       "3                                     Strongly Agree                                                            \n",
       "4                                     Strongly Agree                                                            \n",
       "\n",
       "  WorkUnitViews. Topic:27. My working environment was satisfactory e.g. sufficient space, good lighting, suitable seating and working area  \\\n",
       "0                                              Agree                                                                                         \n",
       "1                                     Strongly Agree                                                                                         \n",
       "2                                              Agree                                                                                         \n",
       "3                                     Strongly Agree                                                                                         \n",
       "4                                     Strongly Agree                                                                                         \n",
       "\n",
       "  WorkUnitViews. Topic:28. I was given the opportunity to mentor and coach others in order for me to pass on my skills and knowledge prior to my cessation date  \\\n",
       "0                                            Neutral                                                                                                              \n",
       "1                                              Agree                                                                                                              \n",
       "2                                              Agree                                                                                                              \n",
       "3                                     Strongly Agree                                                                                                              \n",
       "4                                     Strongly Agree                                                                                                              \n",
       "\n",
       "  WorkUnitViews. Topic:29. There was adequate communication between staff in my unit  \\\n",
       "0                                              Agree                                   \n",
       "1                                              Agree                                   \n",
       "2                                              Agree                                   \n",
       "3                                     Strongly Agree                                   \n",
       "4                                     Strongly Agree                                   \n",
       "\n",
       "  WorkUnitViews. Topic:30. Staff morale was positive within my work unit  \\\n",
       "0                                              Agree                       \n",
       "1                                     Strongly Agree                       \n",
       "2                                              Agree                       \n",
       "3                                     Strongly Agree                       \n",
       "4                                     Strongly Agree                       \n",
       "\n",
       "  Induction. Did you undertake Workplace Induction?  \\\n",
       "0                                               Yes   \n",
       "1                                                No   \n",
       "2                                                No   \n",
       "3                                               Yes   \n",
       "4                                               Yes   \n",
       "\n",
       "  InductionInfo. Topic:Did you undertake a Corporate Induction?  \\\n",
       "0                                                Yes              \n",
       "1                                                NaN              \n",
       "2                                                NaN              \n",
       "3                                                 No              \n",
       "4                                                Yes              \n",
       "\n",
       "  InductionInfo. Topic:Did you undertake a Institute Induction?  \\\n",
       "0                                                Yes              \n",
       "1                                                NaN              \n",
       "2                                                NaN              \n",
       "3                                                Yes              \n",
       "4                                                Yes              \n",
       "\n",
       "  InductionInfo. Topic: Did you undertake Team Induction?  \\\n",
       "0                                                Yes        \n",
       "1                                                NaN        \n",
       "2                                                NaN        \n",
       "3                                                Yes        \n",
       "4                                                Yes        \n",
       "\n",
       "  InductionInfo. Face to Face Topic:Did you undertake a Corporate Induction; Category:How it was conducted?  \\\n",
       "0                                       Face to Face                                                          \n",
       "1                                                NaN                                                          \n",
       "2                                                NaN                                                          \n",
       "3                                                  -                                                          \n",
       "4                                                  -                                                          \n",
       "\n",
       "  InductionInfo. On-line Topic:Did you undertake a Corporate Induction; Category:How it was conducted?  \\\n",
       "0                                                  -                                                     \n",
       "1                                                NaN                                                     \n",
       "2                                                NaN                                                     \n",
       "3                                                  -                                                     \n",
       "4                                                  -                                                     \n",
       "\n",
       "  InductionInfo. Induction Manual Topic:Did you undertake a Corporate Induction?  \\\n",
       "0                                                  -                               \n",
       "1                                                NaN                               \n",
       "2                                                NaN                               \n",
       "3                                                  -                               \n",
       "4                                   Induction Manual                               \n",
       "\n",
       "  InductionInfo. Face to Face Topic:Did you undertake a Institute Induction?  \\\n",
       "0                                       Face to Face                           \n",
       "1                                                NaN                           \n",
       "2                                                NaN                           \n",
       "3                                                NaN                           \n",
       "4                                       Face to Face                           \n",
       "\n",
       "  InductionInfo. On-line Topic:Did you undertake a Institute Induction?  \\\n",
       "0                                                  -                      \n",
       "1                                                NaN                      \n",
       "2                                                NaN                      \n",
       "3                                                  -                      \n",
       "4                                                  -                      \n",
       "\n",
       "  InductionInfo. Induction Manual Topic:Did you undertake a Institute Induction?  \\\n",
       "0                                                  -                               \n",
       "1                                                NaN                               \n",
       "2                                                NaN                               \n",
       "3                                                  -                               \n",
       "4                                                  -                               \n",
       "\n",
       "  InductionInfo. Face to Face Topic: Did you undertake Team Induction; Category?  \\\n",
       "0                                       Face to Face                               \n",
       "1                                                NaN                               \n",
       "2                                                NaN                               \n",
       "3                                                  -                               \n",
       "4                                       Face to Face                               \n",
       "\n",
       "  InductionInfo. On-line Topic: Did you undertake Team Induction?process you undertook and how it was conducted.]  \\\n",
       "0                                                  -                                                                \n",
       "1                                                NaN                                                                \n",
       "2                                                NaN                                                                \n",
       "3                                                  -                                                                \n",
       "4                                                  -                                                                \n",
       "\n",
       "  InductionInfo. Induction Manual Topic: Did you undertake Team Induction?  \\\n",
       "0                                                  -                         \n",
       "1                                                NaN                         \n",
       "2                                                NaN                         \n",
       "3                                                  -                         \n",
       "4                                                  -                         \n",
       "\n",
       "  Workplace. Topic:Did you and your Manager develop a Performance and Professional Development Plan (PPDP)?  \\\n",
       "0                                                Yes                                                          \n",
       "1                                                Yes                                                          \n",
       "2                                                Yes                                                          \n",
       "3                                                Yes                                                          \n",
       "4                                                Yes                                                          \n",
       "\n",
       "  Workplace. Topic:Does your workplace promote a work culture free from all forms of unlawful discrimination?  \\\n",
       "0                                                Yes                                                            \n",
       "1                                                Yes                                                            \n",
       "2                                                Yes                                                            \n",
       "3                                                Yes                                                            \n",
       "4                                                Yes                                                            \n",
       "\n",
       "  Workplace. Topic:Does your workplace promote and practice the principles of employment equity?  \\\n",
       "0                                                Yes                                               \n",
       "1                                                Yes                                               \n",
       "2                                                Yes                                               \n",
       "3                                                Yes                                               \n",
       "4                                                Yes                                               \n",
       "\n",
       "  Workplace. Topic:Does your workplace value the diversity of its employees?  \\\n",
       "0                                                Yes                           \n",
       "1                                                Yes                           \n",
       "2                                                Yes                           \n",
       "3                                                Yes                           \n",
       "4                                                Yes                           \n",
       "\n",
       "  Workplace. Topic:Would you recommend the Institute as an employer to others?  \\\n",
       "0                                                Yes                             \n",
       "1                                                Yes                             \n",
       "2                                                Yes                             \n",
       "3                                                Yes                             \n",
       "4                                                Yes                             \n",
       "\n",
       "  Gender.     What is your Gender? CurrentAge.     Current Age  \\\n",
       "0                           Female                     26 – 30   \n",
       "1                              NaN                         NaN   \n",
       "2                              NaN                         NaN   \n",
       "3                              NaN                         NaN   \n",
       "4                             Male                     41 – 45   \n",
       "\n",
       "  Employment Type.     Employment Type Classification.     Classification  \\\n",
       "0                  Temporary Full-time                Administration (AO)   \n",
       "1                                  NaN                                NaN   \n",
       "2                                  NaN                                NaN   \n",
       "3                                  NaN                                NaN   \n",
       "4                  Permanent Full-time            Teacher (including LVT)   \n",
       "\n",
       "  LengthofServiceOverall. Overall Length of Service at Institute (in years)  \\\n",
       "0                                              2-Jan                          \n",
       "1                                                NaN                          \n",
       "2                                                NaN                          \n",
       "3                                                NaN                          \n",
       "4                                              4-Mar                          \n",
       "\n",
       "  LengthofServiceCurrent. Length of Service at current workplace (in years)  \n",
       "0                                              2-Jan                         \n",
       "1                                                NaN                         \n",
       "2                                                NaN                         \n",
       "3                                                NaN                         \n",
       "4                                              4-Mar                         "
      ],
      "text/html": "<div>\n<style scoped>\n    .dataframe tbody tr th:only-of-type {\n        vertical-align: middle;\n    }\n\n    .dataframe tbody tr th {\n        vertical-align: top;\n    }\n\n    .dataframe thead th {\n        text-align: right;\n    }\n</style>\n<table border=\"1\" class=\"dataframe\">\n  <thead>\n    <tr style=\"text-align: right;\">\n      <th></th>\n      <th>Record ID</th>\n      <th>Institute</th>\n      <th>WorkArea</th>\n      <th>CESSATION YEAR</th>\n      <th>Reason for ceasing employment</th>\n      <th>Contributing Factors. Career Move - Public Sector</th>\n      <th>Contributing Factors. Career Move - Private Sector</th>\n      <th>Contributing Factors. Career Move - Self-employment</th>\n      <th>Contributing Factors. Ill Health</th>\n      <th>Contributing Factors. Maternity/Family</th>\n      <th>Contributing Factors. Dissatisfaction</th>\n      <th>Contributing Factors. Job Dissatisfaction</th>\n      <th>Contributing Factors. Interpersonal Conflict</th>\n      <th>Contributing Factors. Study</th>\n      <th>Contributing Factors. Travel</th>\n      <th>Contributing Factors. Other</th>\n      <th>Contributing Factors. NONE</th>\n      <th>Main Factor.     Which of these was the main factor for leaving?</th>\n      <th>InstituteViews. Topic:1. I feel the senior leadership had a clear vision and direction</th>\n      <th>InstituteViews. Topic:2. I was given access to skills training to help me do my job better</th>\n      <th>InstituteViews. Topic:3. I was given adequate opportunities for personal development</th>\n      <th>InstituteViews. Topic:4. I was given adequate opportunities for promotion within %Institute]Q25LBL%</th>\n      <th>InstituteViews. Topic:5. I felt the salary for the job was right for the responsibilities I had</th>\n      <th>InstituteViews. Topic:6. The organisation recognised when staff did good work</th>\n      <th>InstituteViews. Topic:7. Management was generally supportive of me</th>\n      <th>InstituteViews. Topic:8. Management was generally supportive of my team</th>\n      <th>InstituteViews. Topic:9. I was kept informed of the changes in the organisation which would affect me</th>\n      <th>InstituteViews. Topic:10. Staff morale was positive within the Institute</th>\n      <th>InstituteViews. Topic:11. If I had a workplace issue it was dealt with quickly</th>\n      <th>InstituteViews. Topic:12. If I had a workplace issue it was dealt with efficiently</th>\n      <th>InstituteViews. Topic:13. If I had a workplace issue it was dealt with discreetly</th>\n      <th>WorkUnitViews. Topic:14. I was satisfied with the quality of the management and supervision within my work unit</th>\n      <th>WorkUnitViews. Topic:15. I worked well with my colleagues</th>\n      <th>WorkUnitViews. Topic:16. My job was challenging and interesting</th>\n      <th>WorkUnitViews. Topic:17. I was encouraged to use my initiative in the course of my work</th>\n      <th>WorkUnitViews. Topic:18. I had sufficient contact with other people in my job</th>\n      <th>WorkUnitViews. Topic:19. I was given adequate support and co-operation by my peers to enable me to do my job</th>\n      <th>WorkUnitViews. Topic:20. I was able to use the full range of my skills in my job</th>\n      <th>WorkUnitViews. Topic:21. I was able to use the full range of my abilities in my job. ; Category:Level of Agreement; Question:YOUR VIEWS ABOUT YOUR WORK UNIT]</th>\n      <th>WorkUnitViews. Topic:22. I was able to use the full range of my knowledge in my job</th>\n      <th>WorkUnitViews. Topic:23. My job provided sufficient variety</th>\n      <th>WorkUnitViews. Topic:24. I was able to cope with the level of stress and pressure in my job</th>\n      <th>WorkUnitViews. Topic:25. My job allowed me to balance the demands of work and family to my satisfaction</th>\n      <th>WorkUnitViews. Topic:26. My supervisor gave me adequate personal recognition and feedback on my performance</th>\n      <th>WorkUnitViews. Topic:27. My working environment was satisfactory e.g. sufficient space, good lighting, suitable seating and working area</th>\n      <th>WorkUnitViews. Topic:28. I was given the opportunity to mentor and coach others in order for me to pass on my skills and knowledge prior to my cessation date</th>\n      <th>WorkUnitViews. Topic:29. There was adequate communication between staff in my unit</th>\n      <th>WorkUnitViews. Topic:30. Staff morale was positive within my work unit</th>\n      <th>Induction. Did you undertake Workplace Induction?</th>\n      <th>InductionInfo. Topic:Did you undertake a Corporate Induction?</th>\n      <th>InductionInfo. Topic:Did you undertake a Institute Induction?</th>\n      <th>InductionInfo. Topic: Did you undertake Team Induction?</th>\n      <th>InductionInfo. Face to Face Topic:Did you undertake a Corporate Induction; Category:How it was conducted?</th>\n      <th>InductionInfo. On-line Topic:Did you undertake a Corporate Induction; Category:How it was conducted?</th>\n      <th>InductionInfo. Induction Manual Topic:Did you undertake a Corporate Induction?</th>\n      <th>InductionInfo. Face to Face Topic:Did you undertake a Institute Induction?</th>\n      <th>InductionInfo. On-line Topic:Did you undertake a Institute Induction?</th>\n      <th>InductionInfo. Induction Manual Topic:Did you undertake a Institute Induction?</th>\n      <th>InductionInfo. Face to Face Topic: Did you undertake Team Induction; Category?</th>\n      <th>InductionInfo. On-line Topic: Did you undertake Team Induction?process you undertook and how it was conducted.]</th>\n      <th>InductionInfo. Induction Manual Topic: Did you undertake Team Induction?</th>\n      <th>Workplace. Topic:Did you and your Manager develop a Performance and Professional Development Plan (PPDP)?</th>\n      <th>Workplace. Topic:Does your workplace promote a work culture free from all forms of unlawful discrimination?</th>\n      <th>Workplace. Topic:Does your workplace promote and practice the principles of employment equity?</th>\n      <th>Workplace. Topic:Does your workplace value the diversity of its employees?</th>\n      <th>Workplace. Topic:Would you recommend the Institute as an employer to others?</th>\n      <th>Gender.     What is your Gender?</th>\n      <th>CurrentAge.     Current Age</th>\n      <th>Employment Type.     Employment Type</th>\n      <th>Classification.     Classification</th>\n      <th>LengthofServiceOverall. Overall Length of Service at Institute (in years)</th>\n      <th>LengthofServiceCurrent. Length of Service at current workplace (in years)</th>\n    </tr>\n  </thead>\n  <tbody>\n    <tr>\n      <th>0</th>\n      <td>6.341330e+17</td>\n      <td>Southern Queensland Institute of TAFE</td>\n      <td>Non-Delivery (corporate)</td>\n      <td>2010.0</td>\n      <td>Contract Expired</td>\n      <td>NaN</td>\n      <td>NaN</td>\n      <td>NaN</td>\n      <td>NaN</td>\n      <td>NaN</td>\n      <td>NaN</td>\n      <td>NaN</td>\n      <td>NaN</td>\n      <td>NaN</td>\n      <td>NaN</td>\n      <td>NaN</td>\n      <td>NaN</td>\n      <td>NaN</td>\n      <td>Agree</td>\n      <td>Agree</td>\n      <td>Agree</td>\n      <td>Neutral</td>\n      <td>Agree</td>\n      <td>Agree</td>\n      <td>Agree</td>\n      <td>Agree</td>\n      <td>Agree</td>\n      <td>Agree</td>\n      <td>Agree</td>\n      <td>Agree</td>\n      <td>Agree</td>\n      <td>Agree</td>\n      <td>Agree</td>\n      <td>Agree</td>\n      <td>Strongly Agree</td>\n      <td>Agree</td>\n      <td>Agree</td>\n      <td>Agree</td>\n      <td>Agree</td>\n      <td>Agree</td>\n      <td>Agree</td>\n      <td>Agree</td>\n      <td>Agree</td>\n      <td>Agree</td>\n      <td>Agree</td>\n      <td>Neutral</td>\n      <td>Agree</td>\n      <td>Agree</td>\n      <td>Yes</td>\n      <td>Yes</td>\n      <td>Yes</td>\n      <td>Yes</td>\n      <td>Face to Face</td>\n      <td>-</td>\n      <td>-</td>\n      <td>Face to Face</td>\n      <td>-</td>\n      <td>-</td>\n      <td>Face to Face</td>\n      <td>-</td>\n      <td>-</td>\n      <td>Yes</td>\n      <td>Yes</td>\n      <td>Yes</td>\n      <td>Yes</td>\n      <td>Yes</td>\n      <td>Female</td>\n      <td>26 – 30</td>\n      <td>Temporary Full-time</td>\n      <td>Administration (AO)</td>\n      <td>2-Jan</td>\n      <td>2-Jan</td>\n    </tr>\n    <tr>\n      <th>1</th>\n      <td>6.341340e+17</td>\n      <td>Mount Isa Institute of TAFE</td>\n      <td>Non-Delivery (corporate)</td>\n      <td>2010.0</td>\n      <td>Retirement</td>\n      <td>-</td>\n      <td>-</td>\n      <td>-</td>\n      <td>-</td>\n      <td>-</td>\n      <td>-</td>\n      <td>-</td>\n      <td>-</td>\n      <td>-</td>\n      <td>Travel</td>\n      <td>-</td>\n      <td>-</td>\n      <td>NaN</td>\n      <td>Agree</td>\n      <td>Agree</td>\n      <td>Agree</td>\n      <td>Agree</td>\n      <td>Agree</td>\n      <td>Strongly Agree</td>\n      <td>Strongly Agree</td>\n      <td>Agree</td>\n      <td>Strongly Agree</td>\n      <td>Agree</td>\n      <td>Agree</td>\n      <td>Agree</td>\n      <td>Disagree</td>\n      <td>Strongly Agree</td>\n      <td>Strongly Agree</td>\n      <td>Strongly Agree</td>\n      <td>Agree</td>\n      <td>Agree</td>\n      <td>Agree</td>\n      <td>Strongly Agree</td>\n      <td>Agree</td>\n      <td>Agree</td>\n      <td>Agree</td>\n      <td>Strongly Agree</td>\n      <td>Agree</td>\n      <td>Strongly Agree</td>\n      <td>Strongly Agree</td>\n      <td>Agree</td>\n      <td>Agree</td>\n      <td>Strongly Agree</td>\n      <td>No</td>\n      <td>NaN</td>\n      <td>NaN</td>\n      <td>NaN</td>\n      <td>NaN</td>\n      <td>NaN</td>\n      <td>NaN</td>\n      <td>NaN</td>\n      <td>NaN</td>\n      <td>NaN</td>\n      <td>NaN</td>\n      <td>NaN</td>\n      <td>NaN</td>\n      <td>Yes</td>\n      <td>Yes</td>\n      <td>Yes</td>\n      <td>Yes</td>\n      <td>Yes</td>\n      <td>NaN</td>\n      <td>NaN</td>\n      <td>NaN</td>\n      <td>NaN</td>\n      <td>NaN</td>\n      <td>NaN</td>\n    </tr>\n    <tr>\n      <th>2</th>\n      <td>6.341390e+17</td>\n      <td>Mount Isa Institute of TAFE</td>\n      <td>Delivery (teaching)</td>\n      <td>2010.0</td>\n      <td>Retirement</td>\n      <td>-</td>\n      <td>-</td>\n      <td>-</td>\n      <td>-</td>\n      <td>-</td>\n      <td>-</td>\n      <td>-</td>\n      <td>-</td>\n      <td>-</td>\n      <td>-</td>\n      <td>-</td>\n      <td>NONE</td>\n      <td>NaN</td>\n      <td>Agree</td>\n      <td>Agree</td>\n      <td>Agree</td>\n      <td>Agree</td>\n      <td>Agree</td>\n      <td>Agree</td>\n      <td>Strongly Agree</td>\n      <td>Agree</td>\n      <td>Agree</td>\n      <td>Agree</td>\n      <td>Agree</td>\n      <td>Neutral</td>\n      <td>Neutral</td>\n      <td>Strongly Agree</td>\n      <td>Strongly Agree</td>\n      <td>Agree</td>\n      <td>Agree</td>\n      <td>Agree</td>\n      <td>Agree</td>\n      <td>Agree</td>\n      <td>Agree</td>\n      <td>Agree</td>\n      <td>Agree</td>\n      <td>Agree</td>\n      <td>Agree</td>\n      <td>Agree</td>\n      <td>Agree</td>\n      <td>Agree</td>\n      <td>Agree</td>\n      <td>Agree</td>\n      <td>No</td>\n      <td>NaN</td>\n      <td>NaN</td>\n      <td>NaN</td>\n      <td>NaN</td>\n      <td>NaN</td>\n      <td>NaN</td>\n      <td>NaN</td>\n      <td>NaN</td>\n      <td>NaN</td>\n      <td>NaN</td>\n      <td>NaN</td>\n      <td>NaN</td>\n      <td>Yes</td>\n      <td>Yes</td>\n      <td>Yes</td>\n      <td>Yes</td>\n      <td>Yes</td>\n      <td>NaN</td>\n      <td>NaN</td>\n      <td>NaN</td>\n      <td>NaN</td>\n      <td>NaN</td>\n      <td>NaN</td>\n    </tr>\n    <tr>\n      <th>3</th>\n      <td>6.341400e+17</td>\n      <td>Mount Isa Institute of TAFE</td>\n      <td>Non-Delivery (corporate)</td>\n      <td>2010.0</td>\n      <td>Resignation</td>\n      <td>-</td>\n      <td>-</td>\n      <td>-</td>\n      <td>-</td>\n      <td>-</td>\n      <td>-</td>\n      <td>-</td>\n      <td>-</td>\n      <td>-</td>\n      <td>Travel</td>\n      <td>-</td>\n      <td>-</td>\n      <td>NaN</td>\n      <td>Agree</td>\n      <td>Agree</td>\n      <td>Agree</td>\n      <td>Agree</td>\n      <td>Agree</td>\n      <td>Agree</td>\n      <td>Agree</td>\n      <td>Agree</td>\n      <td>Agree</td>\n      <td>Agree</td>\n      <td>Agree</td>\n      <td>Agree</td>\n      <td>Agree</td>\n      <td>Strongly Agree</td>\n      <td>Strongly Agree</td>\n      <td>Strongly Agree</td>\n      <td>Strongly Agree</td>\n      <td>Strongly Agree</td>\n      <td>Strongly Agree</td>\n      <td>Strongly Agree</td>\n      <td>Strongly Agree</td>\n      <td>Strongly Agree</td>\n      <td>Strongly Agree</td>\n      <td>Strongly Agree</td>\n      <td>Strongly Agree</td>\n      <td>Strongly Agree</td>\n      <td>Strongly Agree</td>\n      <td>Strongly Agree</td>\n      <td>Strongly Agree</td>\n      <td>Strongly Agree</td>\n      <td>Yes</td>\n      <td>No</td>\n      <td>Yes</td>\n      <td>Yes</td>\n      <td>-</td>\n      <td>-</td>\n      <td>-</td>\n      <td>NaN</td>\n      <td>-</td>\n      <td>-</td>\n      <td>-</td>\n      <td>-</td>\n      <td>-</td>\n      <td>Yes</td>\n      <td>Yes</td>\n      <td>Yes</td>\n      <td>Yes</td>\n      <td>Yes</td>\n      <td>NaN</td>\n      <td>NaN</td>\n      <td>NaN</td>\n      <td>NaN</td>\n      <td>NaN</td>\n      <td>NaN</td>\n    </tr>\n    <tr>\n      <th>4</th>\n      <td>6.341470e+17</td>\n      <td>Southern Queensland Institute of TAFE</td>\n      <td>Delivery (teaching)</td>\n      <td>2010.0</td>\n      <td>Resignation</td>\n      <td>-</td>\n      <td>Career Move - Private Sector</td>\n      <td>-</td>\n      <td>-</td>\n      <td>-</td>\n      <td>-</td>\n      <td>-</td>\n      <td>-</td>\n      <td>-</td>\n      <td>-</td>\n      <td>-</td>\n      <td>-</td>\n      <td>NaN</td>\n      <td>Agree</td>\n      <td>Agree</td>\n      <td>Strongly Agree</td>\n      <td>Agree</td>\n      <td>Strongly Agree</td>\n      <td>Strongly Agree</td>\n      <td>Strongly Agree</td>\n      <td>Strongly Agree</td>\n      <td>Agree</td>\n      <td>Strongly Agree</td>\n      <td>Strongly Agree</td>\n      <td>Agree</td>\n      <td>Strongly Agree</td>\n      <td>Strongly Agree</td>\n      <td>Strongly Agree</td>\n      <td>Strongly Agree</td>\n      <td>Strongly Agree</td>\n      <td>Strongly Agree</td>\n      <td>Strongly Agree</td>\n      <td>Strongly Agree</td>\n      <td>Strongly Agree</td>\n      <td>Strongly Agree</td>\n      <td>Strongly Agree</td>\n      <td>Strongly Agree</td>\n      <td>Strongly Agree</td>\n      <td>Strongly Agree</td>\n      <td>Strongly Agree</td>\n      <td>Strongly Agree</td>\n      <td>Strongly Agree</td>\n      <td>Strongly Agree</td>\n      <td>Yes</td>\n      <td>Yes</td>\n      <td>Yes</td>\n      <td>Yes</td>\n      <td>-</td>\n      <td>-</td>\n      <td>Induction Manual</td>\n      <td>Face to Face</td>\n      <td>-</td>\n      <td>-</td>\n      <td>Face to Face</td>\n      <td>-</td>\n      <td>-</td>\n      <td>Yes</td>\n      <td>Yes</td>\n      <td>Yes</td>\n      <td>Yes</td>\n      <td>Yes</td>\n      <td>Male</td>\n      <td>41 – 45</td>\n      <td>Permanent Full-time</td>\n      <td>Teacher (including LVT)</td>\n      <td>4-Mar</td>\n      <td>4-Mar</td>\n    </tr>\n  </tbody>\n</table>\n</div>"
     },
     "metadata": {},
     "execution_count": 53
    }
   ],
   "source": [
    "tafe_survey.head()"
   ]
  },
  {
   "cell_type": "code",
   "execution_count": 54,
   "metadata": {},
   "outputs": [
    {
     "output_type": "stream",
     "name": "stdout",
     "text": [
      "<class 'pandas.core.frame.DataFrame'>\nRangeIndex: 702 entries, 0 to 701\nData columns (total 72 columns):\n #   Column                                                                                                                                                         Non-Null Count  Dtype  \n---  ------                                                                                                                                                         --------------  -----  \n 0   Record ID                                                                                                                                                      702 non-null    float64\n 1   Institute                                                                                                                                                      702 non-null    object \n 2   WorkArea                                                                                                                                                       702 non-null    object \n 3   CESSATION YEAR                                                                                                                                                 695 non-null    float64\n 4   Reason for ceasing employment                                                                                                                                  701 non-null    object \n 5   Contributing Factors. Career Move - Public Sector                                                                                                              437 non-null    object \n 6   Contributing Factors. Career Move - Private Sector                                                                                                             437 non-null    object \n 7   Contributing Factors. Career Move - Self-employment                                                                                                            437 non-null    object \n 8   Contributing Factors. Ill Health                                                                                                                               437 non-null    object \n 9   Contributing Factors. Maternity/Family                                                                                                                         437 non-null    object \n 10  Contributing Factors. Dissatisfaction                                                                                                                          437 non-null    object \n 11  Contributing Factors. Job Dissatisfaction                                                                                                                      437 non-null    object \n 12  Contributing Factors. Interpersonal Conflict                                                                                                                   437 non-null    object \n 13  Contributing Factors. Study                                                                                                                                    437 non-null    object \n 14  Contributing Factors. Travel                                                                                                                                   437 non-null    object \n 15  Contributing Factors. Other                                                                                                                                    437 non-null    object \n 16  Contributing Factors. NONE                                                                                                                                     437 non-null    object \n 17  Main Factor.     Which of these was the main factor for leaving?                                                                                               113 non-null    object \n 18  InstituteViews. Topic:1. I feel the senior leadership had a clear vision and direction                                                                         608 non-null    object \n 19  InstituteViews. Topic:2. I was given access to skills training to help me do my job better                                                                     613 non-null    object \n 20  InstituteViews. Topic:3. I was given adequate opportunities for personal development                                                                           610 non-null    object \n 21  InstituteViews. Topic:4. I was given adequate opportunities for promotion within %Institute]Q25LBL%                                                            608 non-null    object \n 22  InstituteViews. Topic:5. I felt the salary for the job was right for the responsibilities I had                                                                615 non-null    object \n 23  InstituteViews. Topic:6. The organisation recognised when staff did good work                                                                                  607 non-null    object \n 24  InstituteViews. Topic:7. Management was generally supportive of me                                                                                             614 non-null    object \n 25  InstituteViews. Topic:8. Management was generally supportive of my team                                                                                        608 non-null    object \n 26  InstituteViews. Topic:9. I was kept informed of the changes in the organisation which would affect me                                                          610 non-null    object \n 27  InstituteViews. Topic:10. Staff morale was positive within the Institute                                                                                       602 non-null    object \n 28  InstituteViews. Topic:11. If I had a workplace issue it was dealt with quickly                                                                                 601 non-null    object \n 29  InstituteViews. Topic:12. If I had a workplace issue it was dealt with efficiently                                                                             597 non-null    object \n 30  InstituteViews. Topic:13. If I had a workplace issue it was dealt with discreetly                                                                              601 non-null    object \n 31  WorkUnitViews. Topic:14. I was satisfied with the quality of the management and supervision within my work unit                                                609 non-null    object \n 32  WorkUnitViews. Topic:15. I worked well with my colleagues                                                                                                      605 non-null    object \n 33  WorkUnitViews. Topic:16. My job was challenging and interesting                                                                                                607 non-null    object \n 34  WorkUnitViews. Topic:17. I was encouraged to use my initiative in the course of my work                                                                        610 non-null    object \n 35  WorkUnitViews. Topic:18. I had sufficient contact with other people in my job                                                                                  613 non-null    object \n 36  WorkUnitViews. Topic:19. I was given adequate support and co-operation by my peers to enable me to do my job                                                   609 non-null    object \n 37  WorkUnitViews. Topic:20. I was able to use the full range of my skills in my job                                                                               609 non-null    object \n 38  WorkUnitViews. Topic:21. I was able to use the full range of my abilities in my job. ; Category:Level of Agreement; Question:YOUR VIEWS ABOUT YOUR WORK UNIT]  608 non-null    object \n 39  WorkUnitViews. Topic:22. I was able to use the full range of my knowledge in my job                                                                            608 non-null    object \n 40  WorkUnitViews. Topic:23. My job provided sufficient variety                                                                                                    611 non-null    object \n 41  WorkUnitViews. Topic:24. I was able to cope with the level of stress and pressure in my job                                                                    610 non-null    object \n 42  WorkUnitViews. Topic:25. My job allowed me to balance the demands of work and family to my satisfaction                                                        611 non-null    object \n 43  WorkUnitViews. Topic:26. My supervisor gave me adequate personal recognition and feedback on my performance                                                    606 non-null    object \n 44  WorkUnitViews. Topic:27. My working environment was satisfactory e.g. sufficient space, good lighting, suitable seating and working area                       610 non-null    object \n 45  WorkUnitViews. Topic:28. I was given the opportunity to mentor and coach others in order for me to pass on my skills and knowledge prior to my cessation date  609 non-null    object \n 46  WorkUnitViews. Topic:29. There was adequate communication between staff in my unit                                                                             603 non-null    object \n 47  WorkUnitViews. Topic:30. Staff morale was positive within my work unit                                                                                         606 non-null    object \n 48  Induction. Did you undertake Workplace Induction?                                                                                                              619 non-null    object \n 49  InductionInfo. Topic:Did you undertake a Corporate Induction?                                                                                                  432 non-null    object \n 50  InductionInfo. Topic:Did you undertake a Institute Induction?                                                                                                  483 non-null    object \n 51  InductionInfo. Topic: Did you undertake Team Induction?                                                                                                        440 non-null    object \n 52  InductionInfo. Face to Face Topic:Did you undertake a Corporate Induction; Category:How it was conducted?                                                      555 non-null    object \n 53  InductionInfo. On-line Topic:Did you undertake a Corporate Induction; Category:How it was conducted?                                                           555 non-null    object \n 54  InductionInfo. Induction Manual Topic:Did you undertake a Corporate Induction?                                                                                 555 non-null    object \n 55  InductionInfo. Face to Face Topic:Did you undertake a Institute Induction?                                                                                     530 non-null    object \n 56  InductionInfo. On-line Topic:Did you undertake a Institute Induction?                                                                                          555 non-null    object \n 57  InductionInfo. Induction Manual Topic:Did you undertake a Institute Induction?                                                                                 553 non-null    object \n 58  InductionInfo. Face to Face Topic: Did you undertake Team Induction; Category?                                                                                 555 non-null    object \n 59  InductionInfo. On-line Topic: Did you undertake Team Induction?process you undertook and how it was conducted.]                                                555 non-null    object \n 60  InductionInfo. Induction Manual Topic: Did you undertake Team Induction?                                                                                       555 non-null    object \n 61  Workplace. Topic:Did you and your Manager develop a Performance and Professional Development Plan (PPDP)?                                                      608 non-null    object \n 62  Workplace. Topic:Does your workplace promote a work culture free from all forms of unlawful discrimination?                                                    594 non-null    object \n 63  Workplace. Topic:Does your workplace promote and practice the principles of employment equity?                                                                 587 non-null    object \n 64  Workplace. Topic:Does your workplace value the diversity of its employees?                                                                                     586 non-null    object \n 65  Workplace. Topic:Would you recommend the Institute as an employer to others?                                                                                   581 non-null    object \n 66  Gender.     What is your Gender?                                                                                                                               596 non-null    object \n 67  CurrentAge.     Current Age                                                                                                                                    596 non-null    object \n 68  Employment Type.     Employment Type                                                                                                                           596 non-null    object \n 69  Classification.     Classification                                                                                                                             596 non-null    object \n 70  LengthofServiceOverall. Overall Length of Service at Institute (in years)                                                                                      596 non-null    object \n 71  LengthofServiceCurrent. Length of Service at current workplace (in years)                                                                                      596 non-null    object \ndtypes: float64(2), object(70)\nmemory usage: 395.0+ KB\n"
     ]
    }
   ],
   "source": [
    "tafe_survey.info()"
   ]
  },
  {
   "cell_type": "markdown",
   "metadata": {},
   "source": [
    "For the `tafe_survey` there were 702 participants in the survey. Columns that depicts contributing factors to exit follow a similar pattern, with all of these columns indicating that only 437 participants responded to them. Although the number of null values in these columns is large, we will keep these columns because it holds information relevant to our analysis and also the number of null values is less than 40 percent.\n",
    "\n",
    "The `main factor` column holds only 113 valid values. We'll investigate this column further to know whether to keep or drop it.\n",
    "Other columns hold well over 60 percent valid values, but further investigation will reveal to us which to drop.\n",
    "\n",
    "###### Generally, we can say that:\n",
    "- Both the `dete_survey` and `tafe_survey` contain many columns that we don't need to complete our analysis.\n",
    "- Each dataframe contains many of the same columns, but the column names are different.\n",
    "- There are multiple columns/answers that indicate an employee resigned because they were dissatisfied.\n",
    "\n",
    "Often, figuring out the steps you need to take to clean and reshape your data is the hardest part. If you couldn't find a clear path forward in the last screen, don't worry! We'll lay out the steps for you, but give you some room to start making your own decisions.\n",
    "\n",
    "To start, we'll handle the first two issues. Recall that we can use the [pd.read_csv()](https://pandas.pydata.org/pandas-docs/stable/reference/api/pandas.read_csv.html) function to specify values that should be represented as NaN. We'll use this function to fix the missing values first. Then, we'll drop columns we know we don't need for our analysis."
   ]
  },
  {
   "cell_type": "code",
   "execution_count": 55,
   "metadata": {},
   "outputs": [],
   "source": [
    "# set certain strings as null values\n",
    "dete_survey = pd.read_csv('../Dataset/dete_survey.csv',\n",
    "                          na_values='Not Stated')"
   ]
  },
  {
   "cell_type": "code",
   "execution_count": 56,
   "metadata": {},
   "outputs": [
    {
     "output_type": "execute_result",
     "data": {
      "text/plain": [
       "   ID                    SeparationType Cease Date  DETE Start Date  \\\n",
       "0   1             Ill Health Retirement     Aug-12           1984.0   \n",
       "1   2  Voluntary Early Retirement (VER)     Aug-12              NaN   \n",
       "2   3  Voluntary Early Retirement (VER)     May-12           2011.0   \n",
       "3   4         Resignation-Other reasons     May-12           2005.0   \n",
       "4   5                    Age Retirement     May-12           1970.0   \n",
       "\n",
       "   Role Start Date                                      Position  \\\n",
       "0           2004.0                                Public Servant   \n",
       "1              NaN                                Public Servant   \n",
       "2           2011.0                               Schools Officer   \n",
       "3           2006.0                                       Teacher   \n",
       "4           1989.0  Head of Curriculum/Head of Special Education   \n",
       "\n",
       "  Classification              Region                      Business Unit  \\\n",
       "0        A01-A04      Central Office  Corporate Strategy and Peformance   \n",
       "1        AO5-AO7      Central Office  Corporate Strategy and Peformance   \n",
       "2            NaN      Central Office               Education Queensland   \n",
       "3        Primary  Central Queensland                                NaN   \n",
       "4            NaN          South East                                NaN   \n",
       "\n",
       "     Employment Status  Career move to public sector  \\\n",
       "0  Permanent Full-time                          True   \n",
       "1  Permanent Full-time                         False   \n",
       "2  Permanent Full-time                         False   \n",
       "3  Permanent Full-time                         False   \n",
       "4  Permanent Full-time                         False   \n",
       "\n",
       "   Career move to private sector  Interpersonal conflicts  \\\n",
       "0                          False                    False   \n",
       "1                          False                    False   \n",
       "2                          False                    False   \n",
       "3                           True                    False   \n",
       "4                          False                    False   \n",
       "\n",
       "   Job dissatisfaction  Dissatisfaction with the department  \\\n",
       "0                 True                                False   \n",
       "1                False                                False   \n",
       "2                False                                False   \n",
       "3                False                                False   \n",
       "4                False                                False   \n",
       "\n",
       "   Physical work environment  Lack of recognition  Lack of job security  \\\n",
       "0                      False                 True                 False   \n",
       "1                      False                False                 False   \n",
       "2                      False                False                 False   \n",
       "3                      False                False                 False   \n",
       "4                      False                False                 False   \n",
       "\n",
       "   Work location  Employment conditions  Maternity/family  Relocation  \\\n",
       "0          False                  False             False       False   \n",
       "1          False                  False             False       False   \n",
       "2          False                  False             False       False   \n",
       "3          False                  False             False       False   \n",
       "4          False                  False             False       False   \n",
       "\n",
       "   Study/Travel  Ill Health  Traumatic incident  Work life balance  Workload  \\\n",
       "0         False       False               False              False     False   \n",
       "1         False       False               False              False     False   \n",
       "2         False       False               False              False     False   \n",
       "3         False       False               False              False     False   \n",
       "4         False       False               False               True     False   \n",
       "\n",
       "   None of the above Professional Development Opportunities for promotion  \\\n",
       "0               True                        A                           A   \n",
       "1              False                        A                           A   \n",
       "2               True                        N                           N   \n",
       "3              False                        A                           N   \n",
       "4              False                        A                           A   \n",
       "\n",
       "  Staff morale Workplace issue Physical environment Worklife balance  \\\n",
       "0            N               N                    N                A   \n",
       "1            N               N                    N                N   \n",
       "2            N               N                    N                N   \n",
       "3            N               N                    A                A   \n",
       "4            N               N                    D                D   \n",
       "\n",
       "  Stress and pressure support Performance of supervisor Peer support  \\\n",
       "0                           A                         A            A   \n",
       "1                           A                         A            A   \n",
       "2                           N                         N            N   \n",
       "3                           N                         N            A   \n",
       "4                           N                         A            A   \n",
       "\n",
       "  Initiative Skills Coach Career Aspirations Feedback Further PD  \\\n",
       "0          N      N     N                  A        A          A   \n",
       "1          N      N     N                  A        A          A   \n",
       "2          N      N     N                  N        N          N   \n",
       "3          A      A     A                  A        A          A   \n",
       "4          A      A     A                  A       SA         SA   \n",
       "\n",
       "  Communication My say Information Kept informed Wellness programs  \\\n",
       "0             N      A           A             N                 N   \n",
       "1             N      A           A             N                 N   \n",
       "2             A      A           N             N                 N   \n",
       "3             A      A           A             A                 N   \n",
       "4             D      D           A             N                 A   \n",
       "\n",
       "  Health & Safety  Gender          Age Aboriginal Torres Strait South Sea  \\\n",
       "0               N    Male        56-60        NaN           NaN       NaN   \n",
       "1               N    Male        56-60        NaN           NaN       NaN   \n",
       "2               N    Male  61 or older        NaN           NaN       NaN   \n",
       "3               A  Female        36-40        NaN           NaN       NaN   \n",
       "4               M  Female  61 or older        NaN           NaN       NaN   \n",
       "\n",
       "  Disability NESB  \n",
       "0        NaN  Yes  \n",
       "1        NaN  NaN  \n",
       "2        NaN  NaN  \n",
       "3        NaN  NaN  \n",
       "4        NaN  NaN  "
      ],
      "text/html": "<div>\n<style scoped>\n    .dataframe tbody tr th:only-of-type {\n        vertical-align: middle;\n    }\n\n    .dataframe tbody tr th {\n        vertical-align: top;\n    }\n\n    .dataframe thead th {\n        text-align: right;\n    }\n</style>\n<table border=\"1\" class=\"dataframe\">\n  <thead>\n    <tr style=\"text-align: right;\">\n      <th></th>\n      <th>ID</th>\n      <th>SeparationType</th>\n      <th>Cease Date</th>\n      <th>DETE Start Date</th>\n      <th>Role Start Date</th>\n      <th>Position</th>\n      <th>Classification</th>\n      <th>Region</th>\n      <th>Business Unit</th>\n      <th>Employment Status</th>\n      <th>Career move to public sector</th>\n      <th>Career move to private sector</th>\n      <th>Interpersonal conflicts</th>\n      <th>Job dissatisfaction</th>\n      <th>Dissatisfaction with the department</th>\n      <th>Physical work environment</th>\n      <th>Lack of recognition</th>\n      <th>Lack of job security</th>\n      <th>Work location</th>\n      <th>Employment conditions</th>\n      <th>Maternity/family</th>\n      <th>Relocation</th>\n      <th>Study/Travel</th>\n      <th>Ill Health</th>\n      <th>Traumatic incident</th>\n      <th>Work life balance</th>\n      <th>Workload</th>\n      <th>None of the above</th>\n      <th>Professional Development</th>\n      <th>Opportunities for promotion</th>\n      <th>Staff morale</th>\n      <th>Workplace issue</th>\n      <th>Physical environment</th>\n      <th>Worklife balance</th>\n      <th>Stress and pressure support</th>\n      <th>Performance of supervisor</th>\n      <th>Peer support</th>\n      <th>Initiative</th>\n      <th>Skills</th>\n      <th>Coach</th>\n      <th>Career Aspirations</th>\n      <th>Feedback</th>\n      <th>Further PD</th>\n      <th>Communication</th>\n      <th>My say</th>\n      <th>Information</th>\n      <th>Kept informed</th>\n      <th>Wellness programs</th>\n      <th>Health &amp; Safety</th>\n      <th>Gender</th>\n      <th>Age</th>\n      <th>Aboriginal</th>\n      <th>Torres Strait</th>\n      <th>South Sea</th>\n      <th>Disability</th>\n      <th>NESB</th>\n    </tr>\n  </thead>\n  <tbody>\n    <tr>\n      <th>0</th>\n      <td>1</td>\n      <td>Ill Health Retirement</td>\n      <td>Aug-12</td>\n      <td>1984.0</td>\n      <td>2004.0</td>\n      <td>Public Servant</td>\n      <td>A01-A04</td>\n      <td>Central Office</td>\n      <td>Corporate Strategy and Peformance</td>\n      <td>Permanent Full-time</td>\n      <td>True</td>\n      <td>False</td>\n      <td>False</td>\n      <td>True</td>\n      <td>False</td>\n      <td>False</td>\n      <td>True</td>\n      <td>False</td>\n      <td>False</td>\n      <td>False</td>\n      <td>False</td>\n      <td>False</td>\n      <td>False</td>\n      <td>False</td>\n      <td>False</td>\n      <td>False</td>\n      <td>False</td>\n      <td>True</td>\n      <td>A</td>\n      <td>A</td>\n      <td>N</td>\n      <td>N</td>\n      <td>N</td>\n      <td>A</td>\n      <td>A</td>\n      <td>A</td>\n      <td>A</td>\n      <td>N</td>\n      <td>N</td>\n      <td>N</td>\n      <td>A</td>\n      <td>A</td>\n      <td>A</td>\n      <td>N</td>\n      <td>A</td>\n      <td>A</td>\n      <td>N</td>\n      <td>N</td>\n      <td>N</td>\n      <td>Male</td>\n      <td>56-60</td>\n      <td>NaN</td>\n      <td>NaN</td>\n      <td>NaN</td>\n      <td>NaN</td>\n      <td>Yes</td>\n    </tr>\n    <tr>\n      <th>1</th>\n      <td>2</td>\n      <td>Voluntary Early Retirement (VER)</td>\n      <td>Aug-12</td>\n      <td>NaN</td>\n      <td>NaN</td>\n      <td>Public Servant</td>\n      <td>AO5-AO7</td>\n      <td>Central Office</td>\n      <td>Corporate Strategy and Peformance</td>\n      <td>Permanent Full-time</td>\n      <td>False</td>\n      <td>False</td>\n      <td>False</td>\n      <td>False</td>\n      <td>False</td>\n      <td>False</td>\n      <td>False</td>\n      <td>False</td>\n      <td>False</td>\n      <td>False</td>\n      <td>False</td>\n      <td>False</td>\n      <td>False</td>\n      <td>False</td>\n      <td>False</td>\n      <td>False</td>\n      <td>False</td>\n      <td>False</td>\n      <td>A</td>\n      <td>A</td>\n      <td>N</td>\n      <td>N</td>\n      <td>N</td>\n      <td>N</td>\n      <td>A</td>\n      <td>A</td>\n      <td>A</td>\n      <td>N</td>\n      <td>N</td>\n      <td>N</td>\n      <td>A</td>\n      <td>A</td>\n      <td>A</td>\n      <td>N</td>\n      <td>A</td>\n      <td>A</td>\n      <td>N</td>\n      <td>N</td>\n      <td>N</td>\n      <td>Male</td>\n      <td>56-60</td>\n      <td>NaN</td>\n      <td>NaN</td>\n      <td>NaN</td>\n      <td>NaN</td>\n      <td>NaN</td>\n    </tr>\n    <tr>\n      <th>2</th>\n      <td>3</td>\n      <td>Voluntary Early Retirement (VER)</td>\n      <td>May-12</td>\n      <td>2011.0</td>\n      <td>2011.0</td>\n      <td>Schools Officer</td>\n      <td>NaN</td>\n      <td>Central Office</td>\n      <td>Education Queensland</td>\n      <td>Permanent Full-time</td>\n      <td>False</td>\n      <td>False</td>\n      <td>False</td>\n      <td>False</td>\n      <td>False</td>\n      <td>False</td>\n      <td>False</td>\n      <td>False</td>\n      <td>False</td>\n      <td>False</td>\n      <td>False</td>\n      <td>False</td>\n      <td>False</td>\n      <td>False</td>\n      <td>False</td>\n      <td>False</td>\n      <td>False</td>\n      <td>True</td>\n      <td>N</td>\n      <td>N</td>\n      <td>N</td>\n      <td>N</td>\n      <td>N</td>\n      <td>N</td>\n      <td>N</td>\n      <td>N</td>\n      <td>N</td>\n      <td>N</td>\n      <td>N</td>\n      <td>N</td>\n      <td>N</td>\n      <td>N</td>\n      <td>N</td>\n      <td>A</td>\n      <td>A</td>\n      <td>N</td>\n      <td>N</td>\n      <td>N</td>\n      <td>N</td>\n      <td>Male</td>\n      <td>61 or older</td>\n      <td>NaN</td>\n      <td>NaN</td>\n      <td>NaN</td>\n      <td>NaN</td>\n      <td>NaN</td>\n    </tr>\n    <tr>\n      <th>3</th>\n      <td>4</td>\n      <td>Resignation-Other reasons</td>\n      <td>May-12</td>\n      <td>2005.0</td>\n      <td>2006.0</td>\n      <td>Teacher</td>\n      <td>Primary</td>\n      <td>Central Queensland</td>\n      <td>NaN</td>\n      <td>Permanent Full-time</td>\n      <td>False</td>\n      <td>True</td>\n      <td>False</td>\n      <td>False</td>\n      <td>False</td>\n      <td>False</td>\n      <td>False</td>\n      <td>False</td>\n      <td>False</td>\n      <td>False</td>\n      <td>False</td>\n      <td>False</td>\n      <td>False</td>\n      <td>False</td>\n      <td>False</td>\n      <td>False</td>\n      <td>False</td>\n      <td>False</td>\n      <td>A</td>\n      <td>N</td>\n      <td>N</td>\n      <td>N</td>\n      <td>A</td>\n      <td>A</td>\n      <td>N</td>\n      <td>N</td>\n      <td>A</td>\n      <td>A</td>\n      <td>A</td>\n      <td>A</td>\n      <td>A</td>\n      <td>A</td>\n      <td>A</td>\n      <td>A</td>\n      <td>A</td>\n      <td>A</td>\n      <td>A</td>\n      <td>N</td>\n      <td>A</td>\n      <td>Female</td>\n      <td>36-40</td>\n      <td>NaN</td>\n      <td>NaN</td>\n      <td>NaN</td>\n      <td>NaN</td>\n      <td>NaN</td>\n    </tr>\n    <tr>\n      <th>4</th>\n      <td>5</td>\n      <td>Age Retirement</td>\n      <td>May-12</td>\n      <td>1970.0</td>\n      <td>1989.0</td>\n      <td>Head of Curriculum/Head of Special Education</td>\n      <td>NaN</td>\n      <td>South East</td>\n      <td>NaN</td>\n      <td>Permanent Full-time</td>\n      <td>False</td>\n      <td>False</td>\n      <td>False</td>\n      <td>False</td>\n      <td>False</td>\n      <td>False</td>\n      <td>False</td>\n      <td>False</td>\n      <td>False</td>\n      <td>False</td>\n      <td>False</td>\n      <td>False</td>\n      <td>False</td>\n      <td>False</td>\n      <td>False</td>\n      <td>True</td>\n      <td>False</td>\n      <td>False</td>\n      <td>A</td>\n      <td>A</td>\n      <td>N</td>\n      <td>N</td>\n      <td>D</td>\n      <td>D</td>\n      <td>N</td>\n      <td>A</td>\n      <td>A</td>\n      <td>A</td>\n      <td>A</td>\n      <td>A</td>\n      <td>A</td>\n      <td>SA</td>\n      <td>SA</td>\n      <td>D</td>\n      <td>D</td>\n      <td>A</td>\n      <td>N</td>\n      <td>A</td>\n      <td>M</td>\n      <td>Female</td>\n      <td>61 or older</td>\n      <td>NaN</td>\n      <td>NaN</td>\n      <td>NaN</td>\n      <td>NaN</td>\n      <td>NaN</td>\n    </tr>\n  </tbody>\n</table>\n</div>"
     },
     "metadata": {},
     "execution_count": 56
    }
   ],
   "source": [
    "dete_survey.head()"
   ]
  },
  {
   "cell_type": "markdown",
   "metadata": {},
   "source": [
    "Some Values in `DETE Start Date` and `Role Start Date` now read as `NaN` instead of the string `Not Stated`\n",
    "\n",
    "## Remove Irrelevant Columns"
   ]
  },
  {
   "cell_type": "code",
   "execution_count": 57,
   "metadata": {},
   "outputs": [
    {
     "output_type": "stream",
     "name": "stdout",
     "text": [
      "Index(['ID', 'SeparationType', 'Cease Date', 'DETE Start Date',\n       'Role Start Date', 'Position', 'Classification', 'Region',\n       'Business Unit', 'Employment Status', 'Career move to public sector',\n       'Career move to private sector', 'Interpersonal conflicts',\n       'Job dissatisfaction', 'Dissatisfaction with the department',\n       'Physical work environment', 'Lack of recognition',\n       'Lack of job security', 'Work location', 'Employment conditions',\n       'Maternity/family', 'Relocation', 'Study/Travel', 'Ill Health',\n       'Traumatic incident', 'Work life balance', 'Workload',\n       'None of the above', 'Gender', 'Age', 'Aboriginal', 'Torres Strait',\n       'South Sea', 'Disability', 'NESB'],\n      dtype='object')\n"
     ]
    },
    {
     "output_type": "execute_result",
     "data": {
      "text/plain": [
       "Index(['Record ID', 'Institute', 'WorkArea', 'CESSATION YEAR',\n",
       "       'Reason for ceasing employment',\n",
       "       'Contributing Factors. Career Move - Public Sector ',\n",
       "       'Contributing Factors. Career Move - Private Sector ',\n",
       "       'Contributing Factors. Career Move - Self-employment',\n",
       "       'Contributing Factors. Ill Health',\n",
       "       'Contributing Factors. Maternity/Family',\n",
       "       'Contributing Factors. Dissatisfaction',\n",
       "       'Contributing Factors. Job Dissatisfaction',\n",
       "       'Contributing Factors. Interpersonal Conflict',\n",
       "       'Contributing Factors. Study', 'Contributing Factors. Travel',\n",
       "       'Contributing Factors. Other', 'Contributing Factors. NONE',\n",
       "       'Gender.     What is your Gender?', 'CurrentAge.     Current Age',\n",
       "       'Employment Type.     Employment Type',\n",
       "       'Classification.     Classification',\n",
       "       'LengthofServiceOverall. Overall Length of Service at Institute (in years)',\n",
       "       'LengthofServiceCurrent. Length of Service at current workplace (in years)'],\n",
       "      dtype='object')"
      ]
     },
     "metadata": {},
     "execution_count": 57
    }
   ],
   "source": [
    "# Next we remove some columns that are not relevant to our analysis\n",
    "dete_survey_updated = dete_survey.drop(dete_survey.columns[28:49], axis = 1)\n",
    "tafe_survey_updated = tafe_survey.drop(tafe_survey.columns[17:66], axis = 1)\n",
    "\n",
    "print(dete_survey_updated.columns)\n",
    "tafe_survey_updated.columns"
   ]
  },
  {
   "cell_type": "markdown",
   "metadata": {},
   "source": [
    "from the two datasets, we removed columns that won't be beneficial to our analysis. Although these columns holds meaningful values, but these values won't aid us in answering the objective questions of our analysis.\n",
    "\n",
    "Next, let's turn our attention to the column names. Each dataframe contains many of the same columns, but the column names are different. Below are some of the columns we'd like to use for our final analysis:\n",
    "\n",
    "|**dete_survey**|**tafe_survey**|**Definition**|\n",
    "|---------------|---------------|--------------|\n",
    "|ID|\tRecord ID\t|An id used to identify the participant of the survey|\n",
    "|SeparationType|\tReason for ceasing employment|The reason why the participant's employment ended|\n",
    "|Cease Date\t|CESSATION YEAR\t|The year or month the participant's employment ended|\n",
    "|DETE Start Date|\t\t|The year the participant began employment with the DETE|\n",
    "|         |LengthofServiceOverall Overall Length of Service at Institute (in years)|The length of the person's employment (in years)|\n",
    "|Age|\tCurrentAge Current Age|The age of the participant|\n",
    "|Gender|Gender.What is your Gender?|The gender of the participant|\n",
    "\n",
    "## Rename Columns"
   ]
  },
  {
   "cell_type": "code",
   "execution_count": 58,
   "metadata": {},
   "outputs": [
    {
     "output_type": "execute_result",
     "data": {
      "text/plain": [
       "Index(['id', 'separationtype', 'cease_date', 'dete_start_date',\n",
       "       'role_start_date', 'position', 'classification', 'region',\n",
       "       'business_unit', 'employment_status', 'career_move_to_public_sector',\n",
       "       'career_move_to_private_sector', 'interpersonal_conflicts',\n",
       "       'job_dissatisfaction', 'dissatisfaction_with_the_department',\n",
       "       'physical_work_environment', 'lack_of_recognition',\n",
       "       'lack_of_job_security', 'work_location', 'employment_conditions',\n",
       "       'maternity/family', 'relocation', 'study/travel', 'ill_health',\n",
       "       'traumatic_incident', 'work_life_balance', 'workload',\n",
       "       'none_of_the_above', 'gender', 'age', 'aboriginal', 'torres_strait',\n",
       "       'south_sea', 'disability', 'nesb'],\n",
       "      dtype='object')"
      ]
     },
     "metadata": {},
     "execution_count": 58
    }
   ],
   "source": [
    "dete_survey_updated.columns = dete_survey_updated.columns.str.lower().str.strip().str.replace('\\s+','_')\n",
    "dete_survey_updated.columns"
   ]
  },
  {
   "cell_type": "code",
   "execution_count": 59,
   "metadata": {},
   "outputs": [
    {
     "output_type": "execute_result",
     "data": {
      "text/plain": [
       "Index(['id', 'Institute', 'WorkArea', 'cease_date', 'separationtype',\n",
       "       'Contributing Factors. Career Move - Public Sector ',\n",
       "       'Contributing Factors. Career Move - Private Sector ',\n",
       "       'Contributing Factors. Career Move - Self-employment',\n",
       "       'Contributing Factors. Ill Health',\n",
       "       'Contributing Factors. Maternity/Family',\n",
       "       'Contributing Factors. Dissatisfaction',\n",
       "       'Contributing Factors. Job Dissatisfaction',\n",
       "       'Contributing Factors. Interpersonal Conflict',\n",
       "       'Contributing Factors. Study', 'Contributing Factors. Travel',\n",
       "       'Contributing Factors. Other', 'Contributing Factors. NONE',\n",
       "       'Gender.     What is your Gender?', 'CurrentAge.     Current Age',\n",
       "       'Employment Type.     Employment Type',\n",
       "       'Classification.     Classification', 'institute_service',\n",
       "       'role_service'],\n",
       "      dtype='object')"
      ]
     },
     "metadata": {},
     "execution_count": 59
    }
   ],
   "source": [
    "tafe_survey_updated = tafe_survey_updated.rename(columns = {'Record ID' : 'id',\n",
    "                                                         'CESSATION YEAR': 'cease_date',\n",
    "                                                         'Reason for ceasing employment': 'separationtype',\n",
    "                                                         'Gender. What is your Gender?': 'gender',\n",
    "                                                         'CurrentAge. Current Age': 'age',\n",
    "                                                         'Employment Type. Employment Type': 'employment_status',\n",
    "                                                         'Classification. Classification': 'position',\n",
    "                                                         'LengthofServiceOverall. Overall Length of Service at Institute (in years)': 'institute_service',\n",
    "                                                         'LengthofServiceCurrent. Length of Service at current workplace (in years)': 'role_service'})\n",
    "# check if the updated columns looks good\n",
    "tafe_survey_updated.columns"
   ]
  },
  {
   "cell_type": "markdown",
   "metadata": {},
   "source": [
    "Above we renamed  some of the column names of the two datasets, so they can be merged, since they depict the same information."
   ]
  },
  {
   "cell_type": "markdown",
   "metadata": {},
   "source": [
    "## Filter Data \n",
    "\n",
    "Next, let's remove more of the data we don't need. Recall that our end goal is to answer the following question:\n",
    "\n",
    "- Are employees who have only worked for the institutes for a short period of time resigning due to some kind of dissatisfaction? What about employees who have been at the job longer?\n",
    "\n",
    "Let's look at the `separationtype` a bit further:"
   ]
  },
  {
   "cell_type": "code",
   "execution_count": 60,
   "metadata": {},
   "outputs": [
    {
     "output_type": "execute_result",
     "data": {
      "text/plain": [
       "0                    Ill Health Retirement\n",
       "1         Voluntary Early Retirement (VER)\n",
       "2         Voluntary Early Retirement (VER)\n",
       "3                Resignation-Other reasons\n",
       "4                           Age Retirement\n",
       "5                Resignation-Other reasons\n",
       "6                           Age Retirement\n",
       "7                           Age Retirement\n",
       "8                Resignation-Other reasons\n",
       "9               Resignation-Other employer\n",
       "10                          Age Retirement\n",
       "11    Resignation-Move overseas/interstate\n",
       "12               Resignation-Other reasons\n",
       "13                          Age Retirement\n",
       "14              Resignation-Other employer\n",
       "15        Voluntary Early Retirement (VER)\n",
       "16               Resignation-Other reasons\n",
       "17                          Age Retirement\n",
       "18                          Age Retirement\n",
       "19                          Age Retirement\n",
       "Name: separationtype, dtype: object"
      ]
     },
     "metadata": {},
     "execution_count": 60
    }
   ],
   "source": [
    "dete_survey_updated['separationtype'].head(20)"
   ]
  },
  {
   "cell_type": "code",
   "execution_count": 61,
   "metadata": {},
   "outputs": [
    {
     "output_type": "execute_result",
     "data": {
      "text/plain": [
       "0             Contract Expired\n",
       "1                   Retirement\n",
       "2                   Retirement\n",
       "3                  Resignation\n",
       "4                  Resignation\n",
       "5                  Resignation\n",
       "6                  Resignation\n",
       "7                  Resignation\n",
       "8                  Resignation\n",
       "9                  Resignation\n",
       "10                 Resignation\n",
       "11    Retrenchment/ Redundancy\n",
       "12    Retrenchment/ Redundancy\n",
       "13                 Resignation\n",
       "14                 Resignation\n",
       "15                 Resignation\n",
       "16                 Resignation\n",
       "17                 Resignation\n",
       "18                 Resignation\n",
       "19                 Resignation\n",
       "Name: separationtype, dtype: object"
      ]
     },
     "metadata": {},
     "execution_count": 61
    }
   ],
   "source": [
    "tafe_survey_updated['separationtype'].head(20)"
   ]
  },
  {
   "cell_type": "markdown",
   "metadata": {},
   "source": [
    "If we look at the unique values in the `separationtype` columns in each dataframe, we'll see that each contains a couple of different separation types. For this project, we'll only analyze survey respondents who resigned, so their separation type contains the string `Resignation`.\n",
    "\n",
    "Note that `dete_survey_updated` dataframe contains multiple separation types with the string `Resignation`:\n",
    "- Resignation-Other reasons\n",
    "- Resignation-Other employer\n",
    "- Resignation-Move overseas/interstate\n",
    "\n",
    "Remember that we'll have to account for each of these variations so we don't unintentionally drop data! \n",
    "\n",
    "In this step, note that you may see what is known as a [SettingWithCopy Warning](https://www.dataquest.io/blog/settingwithcopywarning/). This won't prevent your code from running properly but it's just letting you know that whatever operation you're doing is trying to be set on a copy of a slice from a dataframe. We'll include instructions below to get around this."
   ]
  },
  {
   "cell_type": "code",
   "execution_count": 62,
   "metadata": {},
   "outputs": [
    {
     "output_type": "execute_result",
     "data": {
      "text/plain": [
       "Age Retirement                          285\n",
       "Resignation-Other reasons               150\n",
       "Resignation-Other employer               91\n",
       "Resignation-Move overseas/interstate     70\n",
       "Voluntary Early Retirement (VER)         67\n",
       "Ill Health Retirement                    61\n",
       "Other                                    49\n",
       "Contract Expired                         34\n",
       "Termination                              15\n",
       "Name: separationtype, dtype: int64"
      ]
     },
     "metadata": {},
     "execution_count": 62
    }
   ],
   "source": [
    "dete_survey_updated['separationtype'].value_counts()"
   ]
  },
  {
   "cell_type": "code",
   "execution_count": 63,
   "metadata": {},
   "outputs": [
    {
     "output_type": "execute_result",
     "data": {
      "text/plain": [
       "Resignation                 340\n",
       "Contract Expired            127\n",
       "Retrenchment/ Redundancy    104\n",
       "Retirement                   82\n",
       "Transfer                     25\n",
       "Termination                  23\n",
       "Name: separationtype, dtype: int64"
      ]
     },
     "metadata": {},
     "execution_count": 63
    }
   ],
   "source": [
    "tafe_survey_updated['separationtype'].value_counts()"
   ]
  },
  {
   "cell_type": "code",
   "execution_count": 64,
   "metadata": {},
   "outputs": [
    {
     "output_type": "execute_result",
     "data": {
      "text/plain": [
       "Resignation                         311\n",
       "Age Retirement                      285\n",
       "Voluntary Early Retirement (VER)     67\n",
       "Ill Health Retirement                61\n",
       "Other                                49\n",
       "Contract Expired                     34\n",
       "Termination                          15\n",
       "Name: separationtype, dtype: int64"
      ]
     },
     "metadata": {},
     "execution_count": 64
    }
   ],
   "source": [
    "# Make resignation values uniform\n",
    "dete_survey_updated['separationtype'] = dete_survey_updated['separationtype'].str.split('-').str[0]\n",
    "\n",
    "# confirm if all resignation for `dete_survey_updated` is uniform\n",
    "dete_survey_updated['separationtype'].value_counts()"
   ]
  },
  {
   "cell_type": "markdown",
   "metadata": {},
   "source": [
    "Above, we updated the **Resignation** values in the `separationtype` column in the `dete_survey_updated` to be uniform. That is, all strings that contains the word **Resignation** were updated, by removing other strings.\n",
    "\n",
    "Our result is as expected because as we see the, three resignation values in all amounted to 311 and our updated resignation value is also 311"
   ]
  },
  {
   "cell_type": "code",
   "execution_count": 65,
   "metadata": {},
   "outputs": [
    {
     "output_type": "execute_result",
     "data": {
      "text/plain": [
       "    id separationtype cease_date  dete_start_date  role_start_date  \\\n",
       "3    4    Resignation     May-12           2005.0           2006.0   \n",
       "5    6    Resignation     May-12           1994.0           1997.0   \n",
       "8    9    Resignation     Jul-12           2009.0           2009.0   \n",
       "9   10    Resignation       2012           1997.0           2008.0   \n",
       "11  12    Resignation       2012           2009.0           2009.0   \n",
       "\n",
       "            position classification                region  \\\n",
       "3            Teacher        Primary    Central Queensland   \n",
       "5   Guidance Officer            NaN        Central Office   \n",
       "8            Teacher      Secondary      North Queensland   \n",
       "9       Teacher Aide            NaN                   NaN   \n",
       "11           Teacher      Secondary  Far North Queensland   \n",
       "\n",
       "           business_unit    employment_status  career_move_to_public_sector  \\\n",
       "3                    NaN  Permanent Full-time                         False   \n",
       "5   Education Queensland  Permanent Full-time                         False   \n",
       "8                    NaN  Permanent Full-time                         False   \n",
       "9                    NaN  Permanent Part-time                         False   \n",
       "11                   NaN  Permanent Full-time                         False   \n",
       "\n",
       "    career_move_to_private_sector  interpersonal_conflicts  \\\n",
       "3                            True                    False   \n",
       "5                            True                    False   \n",
       "8                            True                    False   \n",
       "9                           False                     True   \n",
       "11                          False                    False   \n",
       "\n",
       "    job_dissatisfaction  dissatisfaction_with_the_department  \\\n",
       "3                 False                                False   \n",
       "5                 False                                False   \n",
       "8                 False                                False   \n",
       "9                  True                                 True   \n",
       "11                False                                False   \n",
       "\n",
       "    physical_work_environment  lack_of_recognition  lack_of_job_security  \\\n",
       "3                       False                False                 False   \n",
       "5                       False                False                 False   \n",
       "8                       False                False                 False   \n",
       "9                       False                False                 False   \n",
       "11                      False                False                 False   \n",
       "\n",
       "    work_location  employment_conditions  maternity/family  relocation  \\\n",
       "3           False                  False             False       False   \n",
       "5           False                   True              True       False   \n",
       "8           False                  False             False       False   \n",
       "9           False                  False             False       False   \n",
       "11          False                  False              True        True   \n",
       "\n",
       "    study/travel  ill_health  traumatic_incident  work_life_balance  workload  \\\n",
       "3          False       False               False              False     False   \n",
       "5          False       False               False              False     False   \n",
       "8          False       False               False              False     False   \n",
       "9          False       False               False              False     False   \n",
       "11         False       False               False              False     False   \n",
       "\n",
       "    none_of_the_above  gender    age aboriginal torres_strait south_sea  \\\n",
       "3               False  Female  36-40        NaN           NaN       NaN   \n",
       "5               False  Female  41-45        NaN           NaN       NaN   \n",
       "8               False  Female  31-35        NaN           NaN       NaN   \n",
       "9               False  Female  46-50        NaN           NaN       NaN   \n",
       "11              False    Male  31-35        NaN           NaN       NaN   \n",
       "\n",
       "   disability nesb  \n",
       "3         NaN  NaN  \n",
       "5         NaN  NaN  \n",
       "8         NaN  NaN  \n",
       "9         NaN  NaN  \n",
       "11        NaN  NaN  "
      ],
      "text/html": "<div>\n<style scoped>\n    .dataframe tbody tr th:only-of-type {\n        vertical-align: middle;\n    }\n\n    .dataframe tbody tr th {\n        vertical-align: top;\n    }\n\n    .dataframe thead th {\n        text-align: right;\n    }\n</style>\n<table border=\"1\" class=\"dataframe\">\n  <thead>\n    <tr style=\"text-align: right;\">\n      <th></th>\n      <th>id</th>\n      <th>separationtype</th>\n      <th>cease_date</th>\n      <th>dete_start_date</th>\n      <th>role_start_date</th>\n      <th>position</th>\n      <th>classification</th>\n      <th>region</th>\n      <th>business_unit</th>\n      <th>employment_status</th>\n      <th>career_move_to_public_sector</th>\n      <th>career_move_to_private_sector</th>\n      <th>interpersonal_conflicts</th>\n      <th>job_dissatisfaction</th>\n      <th>dissatisfaction_with_the_department</th>\n      <th>physical_work_environment</th>\n      <th>lack_of_recognition</th>\n      <th>lack_of_job_security</th>\n      <th>work_location</th>\n      <th>employment_conditions</th>\n      <th>maternity/family</th>\n      <th>relocation</th>\n      <th>study/travel</th>\n      <th>ill_health</th>\n      <th>traumatic_incident</th>\n      <th>work_life_balance</th>\n      <th>workload</th>\n      <th>none_of_the_above</th>\n      <th>gender</th>\n      <th>age</th>\n      <th>aboriginal</th>\n      <th>torres_strait</th>\n      <th>south_sea</th>\n      <th>disability</th>\n      <th>nesb</th>\n    </tr>\n  </thead>\n  <tbody>\n    <tr>\n      <th>3</th>\n      <td>4</td>\n      <td>Resignation</td>\n      <td>May-12</td>\n      <td>2005.0</td>\n      <td>2006.0</td>\n      <td>Teacher</td>\n      <td>Primary</td>\n      <td>Central Queensland</td>\n      <td>NaN</td>\n      <td>Permanent Full-time</td>\n      <td>False</td>\n      <td>True</td>\n      <td>False</td>\n      <td>False</td>\n      <td>False</td>\n      <td>False</td>\n      <td>False</td>\n      <td>False</td>\n      <td>False</td>\n      <td>False</td>\n      <td>False</td>\n      <td>False</td>\n      <td>False</td>\n      <td>False</td>\n      <td>False</td>\n      <td>False</td>\n      <td>False</td>\n      <td>False</td>\n      <td>Female</td>\n      <td>36-40</td>\n      <td>NaN</td>\n      <td>NaN</td>\n      <td>NaN</td>\n      <td>NaN</td>\n      <td>NaN</td>\n    </tr>\n    <tr>\n      <th>5</th>\n      <td>6</td>\n      <td>Resignation</td>\n      <td>May-12</td>\n      <td>1994.0</td>\n      <td>1997.0</td>\n      <td>Guidance Officer</td>\n      <td>NaN</td>\n      <td>Central Office</td>\n      <td>Education Queensland</td>\n      <td>Permanent Full-time</td>\n      <td>False</td>\n      <td>True</td>\n      <td>False</td>\n      <td>False</td>\n      <td>False</td>\n      <td>False</td>\n      <td>False</td>\n      <td>False</td>\n      <td>False</td>\n      <td>True</td>\n      <td>True</td>\n      <td>False</td>\n      <td>False</td>\n      <td>False</td>\n      <td>False</td>\n      <td>False</td>\n      <td>False</td>\n      <td>False</td>\n      <td>Female</td>\n      <td>41-45</td>\n      <td>NaN</td>\n      <td>NaN</td>\n      <td>NaN</td>\n      <td>NaN</td>\n      <td>NaN</td>\n    </tr>\n    <tr>\n      <th>8</th>\n      <td>9</td>\n      <td>Resignation</td>\n      <td>Jul-12</td>\n      <td>2009.0</td>\n      <td>2009.0</td>\n      <td>Teacher</td>\n      <td>Secondary</td>\n      <td>North Queensland</td>\n      <td>NaN</td>\n      <td>Permanent Full-time</td>\n      <td>False</td>\n      <td>True</td>\n      <td>False</td>\n      <td>False</td>\n      <td>False</td>\n      <td>False</td>\n      <td>False</td>\n      <td>False</td>\n      <td>False</td>\n      <td>False</td>\n      <td>False</td>\n      <td>False</td>\n      <td>False</td>\n      <td>False</td>\n      <td>False</td>\n      <td>False</td>\n      <td>False</td>\n      <td>False</td>\n      <td>Female</td>\n      <td>31-35</td>\n      <td>NaN</td>\n      <td>NaN</td>\n      <td>NaN</td>\n      <td>NaN</td>\n      <td>NaN</td>\n    </tr>\n    <tr>\n      <th>9</th>\n      <td>10</td>\n      <td>Resignation</td>\n      <td>2012</td>\n      <td>1997.0</td>\n      <td>2008.0</td>\n      <td>Teacher Aide</td>\n      <td>NaN</td>\n      <td>NaN</td>\n      <td>NaN</td>\n      <td>Permanent Part-time</td>\n      <td>False</td>\n      <td>False</td>\n      <td>True</td>\n      <td>True</td>\n      <td>True</td>\n      <td>False</td>\n      <td>False</td>\n      <td>False</td>\n      <td>False</td>\n      <td>False</td>\n      <td>False</td>\n      <td>False</td>\n      <td>False</td>\n      <td>False</td>\n      <td>False</td>\n      <td>False</td>\n      <td>False</td>\n      <td>False</td>\n      <td>Female</td>\n      <td>46-50</td>\n      <td>NaN</td>\n      <td>NaN</td>\n      <td>NaN</td>\n      <td>NaN</td>\n      <td>NaN</td>\n    </tr>\n    <tr>\n      <th>11</th>\n      <td>12</td>\n      <td>Resignation</td>\n      <td>2012</td>\n      <td>2009.0</td>\n      <td>2009.0</td>\n      <td>Teacher</td>\n      <td>Secondary</td>\n      <td>Far North Queensland</td>\n      <td>NaN</td>\n      <td>Permanent Full-time</td>\n      <td>False</td>\n      <td>False</td>\n      <td>False</td>\n      <td>False</td>\n      <td>False</td>\n      <td>False</td>\n      <td>False</td>\n      <td>False</td>\n      <td>False</td>\n      <td>False</td>\n      <td>True</td>\n      <td>True</td>\n      <td>False</td>\n      <td>False</td>\n      <td>False</td>\n      <td>False</td>\n      <td>False</td>\n      <td>False</td>\n      <td>Male</td>\n      <td>31-35</td>\n      <td>NaN</td>\n      <td>NaN</td>\n      <td>NaN</td>\n      <td>NaN</td>\n      <td>NaN</td>\n    </tr>\n  </tbody>\n</table>\n</div>"
     },
     "metadata": {},
     "execution_count": 65
    }
   ],
   "source": [
    "# select a dataframe where employees exit was soley due to resignation\n",
    "dete_resignation = dete_survey_updated[dete_survey_updated['separationtype'] == 'Resignation'].copy()\n",
    "tafe_resignation = tafe_survey_updated[tafe_survey_updated['separationtype'] == 'Resignation'].copy()\n",
    "\n",
    "dete_resignation.head()"
   ]
  },
  {
   "cell_type": "code",
   "execution_count": 66,
   "metadata": {},
   "outputs": [
    {
     "output_type": "execute_result",
     "data": {
      "text/plain": [
       "             id                              Institute  \\\n",
       "3  6.341400e+17            Mount Isa Institute of TAFE   \n",
       "4  6.341470e+17  Southern Queensland Institute of TAFE   \n",
       "5  6.341480e+17  Southern Queensland Institute of TAFE   \n",
       "6  6.341520e+17         Barrier Reef Institute of TAFE   \n",
       "7  6.341540e+17  Southern Queensland Institute of TAFE   \n",
       "\n",
       "                   WorkArea  cease_date separationtype  \\\n",
       "3  Non-Delivery (corporate)      2010.0    Resignation   \n",
       "4       Delivery (teaching)      2010.0    Resignation   \n",
       "5       Delivery (teaching)      2010.0    Resignation   \n",
       "6  Non-Delivery (corporate)      2010.0    Resignation   \n",
       "7       Delivery (teaching)      2010.0    Resignation   \n",
       "\n",
       "  Contributing Factors. Career Move - Public Sector   \\\n",
       "3                                                  -   \n",
       "4                                                  -   \n",
       "5                                                  -   \n",
       "6                                                  -   \n",
       "7                                                  -   \n",
       "\n",
       "  Contributing Factors. Career Move - Private Sector   \\\n",
       "3                                                  -    \n",
       "4                       Career Move - Private Sector    \n",
       "5                                                  -    \n",
       "6                       Career Move - Private Sector    \n",
       "7                                                  -    \n",
       "\n",
       "  Contributing Factors. Career Move - Self-employment  \\\n",
       "3                                                  -    \n",
       "4                                                  -    \n",
       "5                                                  -    \n",
       "6                                                  -    \n",
       "7                                                  -    \n",
       "\n",
       "  Contributing Factors. Ill Health Contributing Factors. Maternity/Family  \\\n",
       "3                                -                                      -   \n",
       "4                                -                                      -   \n",
       "5                                -                                      -   \n",
       "6                                -                       Maternity/Family   \n",
       "7                                -                                      -   \n",
       "\n",
       "  Contributing Factors. Dissatisfaction  \\\n",
       "3                                     -   \n",
       "4                                     -   \n",
       "5                                     -   \n",
       "6                                     -   \n",
       "7                                     -   \n",
       "\n",
       "  Contributing Factors. Job Dissatisfaction  \\\n",
       "3                                         -   \n",
       "4                                         -   \n",
       "5                                         -   \n",
       "6                                         -   \n",
       "7                                         -   \n",
       "\n",
       "  Contributing Factors. Interpersonal Conflict Contributing Factors. Study  \\\n",
       "3                                            -                           -   \n",
       "4                                            -                           -   \n",
       "5                                            -                           -   \n",
       "6                                            -                           -   \n",
       "7                                            -                           -   \n",
       "\n",
       "  Contributing Factors. Travel Contributing Factors. Other  \\\n",
       "3                       Travel                           -   \n",
       "4                            -                           -   \n",
       "5                            -                       Other   \n",
       "6                            -                       Other   \n",
       "7                            -                       Other   \n",
       "\n",
       "  Contributing Factors. NONE Gender.     What is your Gender?  \\\n",
       "3                          -                              NaN   \n",
       "4                          -                             Male   \n",
       "5                          -                           Female   \n",
       "6                          -                             Male   \n",
       "7                          -                             Male   \n",
       "\n",
       "  CurrentAge.     Current Age Employment Type.     Employment Type  \\\n",
       "3                         NaN                                  NaN   \n",
       "4                     41 – 45                  Permanent Full-time   \n",
       "5                 56 or older                      Contract/casual   \n",
       "6               20 or younger                  Temporary Full-time   \n",
       "7                     46 – 50                  Permanent Full-time   \n",
       "\n",
       "  Classification.     Classification institute_service role_service  \n",
       "3                                NaN               NaN          NaN  \n",
       "4            Teacher (including LVT)             4-Mar        4-Mar  \n",
       "5            Teacher (including LVT)            10-Jul       10-Jul  \n",
       "6                Administration (AO)             4-Mar        4-Mar  \n",
       "7            Teacher (including LVT)             4-Mar        4-Mar  "
      ],
      "text/html": "<div>\n<style scoped>\n    .dataframe tbody tr th:only-of-type {\n        vertical-align: middle;\n    }\n\n    .dataframe tbody tr th {\n        vertical-align: top;\n    }\n\n    .dataframe thead th {\n        text-align: right;\n    }\n</style>\n<table border=\"1\" class=\"dataframe\">\n  <thead>\n    <tr style=\"text-align: right;\">\n      <th></th>\n      <th>id</th>\n      <th>Institute</th>\n      <th>WorkArea</th>\n      <th>cease_date</th>\n      <th>separationtype</th>\n      <th>Contributing Factors. Career Move - Public Sector</th>\n      <th>Contributing Factors. Career Move - Private Sector</th>\n      <th>Contributing Factors. Career Move - Self-employment</th>\n      <th>Contributing Factors. Ill Health</th>\n      <th>Contributing Factors. Maternity/Family</th>\n      <th>Contributing Factors. Dissatisfaction</th>\n      <th>Contributing Factors. Job Dissatisfaction</th>\n      <th>Contributing Factors. Interpersonal Conflict</th>\n      <th>Contributing Factors. Study</th>\n      <th>Contributing Factors. Travel</th>\n      <th>Contributing Factors. Other</th>\n      <th>Contributing Factors. NONE</th>\n      <th>Gender.     What is your Gender?</th>\n      <th>CurrentAge.     Current Age</th>\n      <th>Employment Type.     Employment Type</th>\n      <th>Classification.     Classification</th>\n      <th>institute_service</th>\n      <th>role_service</th>\n    </tr>\n  </thead>\n  <tbody>\n    <tr>\n      <th>3</th>\n      <td>6.341400e+17</td>\n      <td>Mount Isa Institute of TAFE</td>\n      <td>Non-Delivery (corporate)</td>\n      <td>2010.0</td>\n      <td>Resignation</td>\n      <td>-</td>\n      <td>-</td>\n      <td>-</td>\n      <td>-</td>\n      <td>-</td>\n      <td>-</td>\n      <td>-</td>\n      <td>-</td>\n      <td>-</td>\n      <td>Travel</td>\n      <td>-</td>\n      <td>-</td>\n      <td>NaN</td>\n      <td>NaN</td>\n      <td>NaN</td>\n      <td>NaN</td>\n      <td>NaN</td>\n      <td>NaN</td>\n    </tr>\n    <tr>\n      <th>4</th>\n      <td>6.341470e+17</td>\n      <td>Southern Queensland Institute of TAFE</td>\n      <td>Delivery (teaching)</td>\n      <td>2010.0</td>\n      <td>Resignation</td>\n      <td>-</td>\n      <td>Career Move - Private Sector</td>\n      <td>-</td>\n      <td>-</td>\n      <td>-</td>\n      <td>-</td>\n      <td>-</td>\n      <td>-</td>\n      <td>-</td>\n      <td>-</td>\n      <td>-</td>\n      <td>-</td>\n      <td>Male</td>\n      <td>41 – 45</td>\n      <td>Permanent Full-time</td>\n      <td>Teacher (including LVT)</td>\n      <td>4-Mar</td>\n      <td>4-Mar</td>\n    </tr>\n    <tr>\n      <th>5</th>\n      <td>6.341480e+17</td>\n      <td>Southern Queensland Institute of TAFE</td>\n      <td>Delivery (teaching)</td>\n      <td>2010.0</td>\n      <td>Resignation</td>\n      <td>-</td>\n      <td>-</td>\n      <td>-</td>\n      <td>-</td>\n      <td>-</td>\n      <td>-</td>\n      <td>-</td>\n      <td>-</td>\n      <td>-</td>\n      <td>-</td>\n      <td>Other</td>\n      <td>-</td>\n      <td>Female</td>\n      <td>56 or older</td>\n      <td>Contract/casual</td>\n      <td>Teacher (including LVT)</td>\n      <td>10-Jul</td>\n      <td>10-Jul</td>\n    </tr>\n    <tr>\n      <th>6</th>\n      <td>6.341520e+17</td>\n      <td>Barrier Reef Institute of TAFE</td>\n      <td>Non-Delivery (corporate)</td>\n      <td>2010.0</td>\n      <td>Resignation</td>\n      <td>-</td>\n      <td>Career Move - Private Sector</td>\n      <td>-</td>\n      <td>-</td>\n      <td>Maternity/Family</td>\n      <td>-</td>\n      <td>-</td>\n      <td>-</td>\n      <td>-</td>\n      <td>-</td>\n      <td>Other</td>\n      <td>-</td>\n      <td>Male</td>\n      <td>20 or younger</td>\n      <td>Temporary Full-time</td>\n      <td>Administration (AO)</td>\n      <td>4-Mar</td>\n      <td>4-Mar</td>\n    </tr>\n    <tr>\n      <th>7</th>\n      <td>6.341540e+17</td>\n      <td>Southern Queensland Institute of TAFE</td>\n      <td>Delivery (teaching)</td>\n      <td>2010.0</td>\n      <td>Resignation</td>\n      <td>-</td>\n      <td>-</td>\n      <td>-</td>\n      <td>-</td>\n      <td>-</td>\n      <td>-</td>\n      <td>-</td>\n      <td>-</td>\n      <td>-</td>\n      <td>-</td>\n      <td>Other</td>\n      <td>-</td>\n      <td>Male</td>\n      <td>46 – 50</td>\n      <td>Permanent Full-time</td>\n      <td>Teacher (including LVT)</td>\n      <td>4-Mar</td>\n      <td>4-Mar</td>\n    </tr>\n  </tbody>\n</table>\n</div>"
     },
     "metadata": {},
     "execution_count": 66
    }
   ],
   "source": [
    "tafe_resignation.head()"
   ]
  },
  {
   "cell_type": "markdown",
   "metadata": {},
   "source": [
    "Now, before we start cleaning and manipulating the rest of our data, let's verify that the data doesn't contain any major inconsistencies (to the best of our knowledge). When you're working with real world data, don't assume that the data you're analyzing isn't corrupted in some way!\n",
    "\n",
    "It may not always be possible to catch all of these errors, but by making sure the data seems reasonable to the best of our knowledge, we can stop ourselves from completing a data analysis project that winds up being useless because of bad data.\n",
    "\n",
    "In this step, we'll focus on verifying that the years in the `cease_date` and `dete_start_date` columns make sense. However, we encourage you to check the data for other issues as well!\n",
    "\n",
    "- Since the `cease_date` is the last year of the person's employment and the `dete_start_date` is the person's first year of employment, it wouldn't make sense to have years after the current date.\n",
    "- Given that most people in this field start working in their 20s, it's also unlikely that the dete_start_date was before the year 1940.\n",
    "\n",
    "If we have many years higher than the current date or lower than 1940, we wouldn't want to continue with our analysis, because it could mean there's something very wrong with the data. If there are a small amount of values that are unrealistically high or low, we can remove them."
   ]
  },
  {
   "cell_type": "code",
   "execution_count": 67,
   "metadata": {},
   "outputs": [
    {
     "output_type": "execute_result",
     "data": {
      "text/plain": [
       "2012      126\n",
       "2013       74\n",
       "Jan-14     22\n",
       "Dec-13     17\n",
       "Jun-13     14\n",
       "Sep-13     11\n",
       "Jul-13      9\n",
       "Nov-13      9\n",
       "Oct-13      6\n",
       "Aug-13      4\n",
       "May-12      2\n",
       "May-13      2\n",
       "Jul-06      1\n",
       "Sep-10      1\n",
       "2010        1\n",
       "Jul-12      1\n",
       "Name: cease_date, dtype: int64"
      ]
     },
     "metadata": {},
     "execution_count": 67
    }
   ],
   "source": [
    "# get the unique values in the cease_date column\n",
    "dete_resignation['cease_date'].value_counts()"
   ]
  },
  {
   "cell_type": "code",
   "execution_count": 68,
   "metadata": {},
   "outputs": [
    {
     "output_type": "execute_result",
     "data": {
      "text/plain": [
       "2013.0    146\n",
       "2012.0    129\n",
       "2014.0     22\n",
       "2010.0      2\n",
       "2006.0      1\n",
       "Name: cease_date, dtype: int64"
      ]
     },
     "metadata": {},
     "execution_count": 68
    }
   ],
   "source": [
    "# Replace strings so they have a regular pattern\n",
    "pattern = r'[A-Z][a-z]{2}[-]'\n",
    "dete_resignation['cease_date'] = dete_resignation['cease_date'].str.replace(pattern, str(20), regex = True)\n",
    "\n",
    "# change the columns back to floats\n",
    "dete_resignation['cease_date'] = dete_resignation['cease_date'].astype(float)\n",
    "dete_resignation['cease_date'].value_counts()"
   ]
  },
  {
   "cell_type": "markdown",
   "metadata": {},
   "source": [
    "Since the values are intended to show just the years employees stopped working, but are inconsistent as we noticed that some values hold just the year while others hold both year and month values.\n",
    "\n",
    "We therefore specified a search pattern for the `cease_date` column and assigned it to the variable `pattern`. We then used the string accessor `(str)` to replace all matches of our pattern with the string `20`"
   ]
  },
  {
   "cell_type": "code",
   "execution_count": 69,
   "metadata": {},
   "outputs": [
    {
     "output_type": "execute_result",
     "data": {
      "text/plain": [
       "2011.0    24\n",
       "2008.0    22\n",
       "2007.0    21\n",
       "2012.0    21\n",
       "2010.0    17\n",
       "2005.0    15\n",
       "2004.0    14\n",
       "2006.0    13\n",
       "2009.0    13\n",
       "2013.0    10\n",
       "2000.0     9\n",
       "1999.0     8\n",
       "1996.0     6\n",
       "2002.0     6\n",
       "1992.0     6\n",
       "1998.0     6\n",
       "2003.0     6\n",
       "1994.0     6\n",
       "1990.0     5\n",
       "1993.0     5\n",
       "1980.0     5\n",
       "1997.0     5\n",
       "1991.0     4\n",
       "1989.0     4\n",
       "1988.0     4\n",
       "1995.0     4\n",
       "2001.0     3\n",
       "1985.0     3\n",
       "1986.0     3\n",
       "1976.0     2\n",
       "1983.0     2\n",
       "1974.0     2\n",
       "1982.0     1\n",
       "1973.0     1\n",
       "1975.0     1\n",
       "1987.0     1\n",
       "1977.0     1\n",
       "1984.0     1\n",
       "1972.0     1\n",
       "1971.0     1\n",
       "1963.0     1\n",
       "Name: dete_start_date, dtype: int64"
      ]
     },
     "metadata": {},
     "execution_count": 69
    }
   ],
   "source": [
    "# check values in start date in dete_resignation\n",
    "dete_resignation['dete_start_date'].value_counts().sort_values(ascending = False)"
   ]
  },
  {
   "cell_type": "code",
   "execution_count": 70,
   "metadata": {},
   "outputs": [
    {
     "output_type": "execute_result",
     "data": {
      "text/plain": [
       "2011.0    116\n",
       "2012.0     94\n",
       "2010.0     68\n",
       "2013.0     55\n",
       "2009.0      2\n",
       "Name: cease_date, dtype: int64"
      ]
     },
     "metadata": {},
     "execution_count": 70
    }
   ],
   "source": [
    "#checck values in cease date in tafe resignation\n",
    "tafe_resignation['cease_date'].value_counts().sort_values(ascending = False)"
   ]
  },
  {
   "cell_type": "markdown",
   "metadata": {},
   "source": [
    "Below are our findings:\n",
    "\n",
    "- The years in both dataframes don't completely align. The tafe_survey_updated dataframe contains some cease dates in 2009, but the dete_survey_updated dataframe does not. The tafe_survey_updated dataframe also contains many more cease dates in 2010 than the dete_survey_updaed dataframe. Since we aren't concerned with analyzing the results by year, we'll leave them as is."
   ]
  },
  {
   "cell_type": "code",
   "execution_count": 71,
   "metadata": {},
   "outputs": [],
   "source": [
    "tafe_resignation['cease_date'].dropna(axis = 0, inplace = True)"
   ]
  },
  {
   "cell_type": "code",
   "execution_count": 72,
   "metadata": {},
   "outputs": [],
   "source": [
    "dete_resignation['cease_date'].dropna(axis = 0, inplace = True)"
   ]
  },
  {
   "cell_type": "code",
   "execution_count": 73,
   "metadata": {},
   "outputs": [],
   "source": [
    "dete_resignation['dete_start_date'].dropna(axis = 0, inplace = True)"
   ]
  },
  {
   "cell_type": "code",
   "execution_count": 74,
   "metadata": {},
   "outputs": [
    {
     "output_type": "execute_result",
     "data": {
      "text/plain": [
       "2011.0    116\n",
       "2012.0     94\n",
       "2010.0     68\n",
       "2013.0     55\n",
       "2009.0      2\n",
       "Name: cease_date, dtype: int64"
      ]
     },
     "metadata": {},
     "execution_count": 74
    }
   ],
   "source": [
    "tafe_resignation['cease_date'].value_counts()"
   ]
  },
  {
   "cell_type": "code",
   "execution_count": 75,
   "metadata": {},
   "outputs": [
    {
     "output_type": "display_data",
     "data": {
      "text/plain": "<Figure size 1080x288 with 3 Axes>",
      "image/svg+xml": "<?xml version=\"1.0\" encoding=\"utf-8\" standalone=\"no\"?>\r\n<!DOCTYPE svg PUBLIC \"-//W3C//DTD SVG 1.1//EN\"\r\n  \"http://www.w3.org/Graphics/SVG/1.1/DTD/svg11.dtd\">\r\n<!-- Created with matplotlib (https://matplotlib.org/) -->\r\n<svg height=\"263.63625pt\" version=\"1.1\" viewBox=\"0 0 889.045313 263.63625\" width=\"889.045313pt\" xmlns=\"http://www.w3.org/2000/svg\" xmlns:xlink=\"http://www.w3.org/1999/xlink\">\r\n <metadata>\r\n  <rdf:RDF xmlns:cc=\"http://creativecommons.org/ns#\" xmlns:dc=\"http://purl.org/dc/elements/1.1/\" xmlns:rdf=\"http://www.w3.org/1999/02/22-rdf-syntax-ns#\">\r\n   <cc:Work>\r\n    <dc:type rdf:resource=\"http://purl.org/dc/dcmitype/StillImage\"/>\r\n    <dc:date>2020-12-29T10:02:10.726286</dc:date>\r\n    <dc:format>image/svg+xml</dc:format>\r\n    <dc:creator>\r\n     <cc:Agent>\r\n      <dc:title>Matplotlib v3.3.1, https://matplotlib.org/</dc:title>\r\n     </cc:Agent>\r\n    </dc:creator>\r\n   </cc:Work>\r\n  </rdf:RDF>\r\n </metadata>\r\n <defs>\r\n  <style type=\"text/css\">*{stroke-linecap:butt;stroke-linejoin:round;}</style>\r\n </defs>\r\n <g id=\"figure_1\">\r\n  <g id=\"patch_1\">\r\n   <path d=\"M 0 263.63625 \r\nL 889.045313 263.63625 \r\nL 889.045313 0 \r\nL 0 0 \r\nz\r\n\" style=\"fill:none;\"/>\r\n  </g>\r\n  <g id=\"axes_1\">\r\n   <g id=\"patch_2\">\r\n    <path d=\"M 44.845313 239.758125 \r\nL 291.021783 239.758125 \r\nL 291.021783 22.318125 \r\nL 44.845313 22.318125 \r\nz\r\n\" style=\"fill:#ffffff;\"/>\r\n   </g>\r\n   <g id=\"matplotlib.axis_1\">\r\n    <g id=\"xtick_1\">\r\n     <g id=\"line2d_1\">\r\n      <defs>\r\n       <path d=\"M 0 0 \r\nL 0 3.5 \r\n\" id=\"m0d9f4e9556\" style=\"stroke:#000000;stroke-width:0.8;\"/>\r\n      </defs>\r\n      <g>\r\n       <use style=\"stroke:#000000;stroke-width:0.8;\" x=\"167.933548\" xlink:href=\"#m0d9f4e9556\" y=\"239.758125\"/>\r\n      </g>\r\n     </g>\r\n     <g id=\"text_1\">\r\n      <!-- Resignation date -->\r\n      <g transform=\"translate(125.765579 254.356563)scale(0.1 -0.1)\">\r\n       <defs>\r\n        <path d=\"M 44.390625 34.1875 \r\nQ 47.5625 33.109375 50.5625 29.59375 \r\nQ 53.5625 26.078125 56.59375 19.921875 \r\nL 66.609375 0 \r\nL 56 0 \r\nL 46.6875 18.703125 \r\nQ 43.0625 26.03125 39.671875 28.421875 \r\nQ 36.28125 30.8125 30.421875 30.8125 \r\nL 19.671875 30.8125 \r\nL 19.671875 0 \r\nL 9.8125 0 \r\nL 9.8125 72.90625 \r\nL 32.078125 72.90625 \r\nQ 44.578125 72.90625 50.734375 67.671875 \r\nQ 56.890625 62.453125 56.890625 51.90625 \r\nQ 56.890625 45.015625 53.6875 40.46875 \r\nQ 50.484375 35.9375 44.390625 34.1875 \r\nz\r\nM 19.671875 64.796875 \r\nL 19.671875 38.921875 \r\nL 32.078125 38.921875 \r\nQ 39.203125 38.921875 42.84375 42.21875 \r\nQ 46.484375 45.515625 46.484375 51.90625 \r\nQ 46.484375 58.296875 42.84375 61.546875 \r\nQ 39.203125 64.796875 32.078125 64.796875 \r\nz\r\n\" id=\"DejaVuSans-82\"/>\r\n        <path d=\"M 56.203125 29.59375 \r\nL 56.203125 25.203125 \r\nL 14.890625 25.203125 \r\nQ 15.484375 15.921875 20.484375 11.0625 \r\nQ 25.484375 6.203125 34.421875 6.203125 \r\nQ 39.59375 6.203125 44.453125 7.46875 \r\nQ 49.3125 8.734375 54.109375 11.28125 \r\nL 54.109375 2.78125 \r\nQ 49.265625 0.734375 44.1875 -0.34375 \r\nQ 39.109375 -1.421875 33.890625 -1.421875 \r\nQ 20.796875 -1.421875 13.15625 6.1875 \r\nQ 5.515625 13.8125 5.515625 26.8125 \r\nQ 5.515625 40.234375 12.765625 48.109375 \r\nQ 20.015625 56 32.328125 56 \r\nQ 43.359375 56 49.78125 48.890625 \r\nQ 56.203125 41.796875 56.203125 29.59375 \r\nz\r\nM 47.21875 32.234375 \r\nQ 47.125 39.59375 43.09375 43.984375 \r\nQ 39.0625 48.390625 32.421875 48.390625 \r\nQ 24.90625 48.390625 20.390625 44.140625 \r\nQ 15.875 39.890625 15.1875 32.171875 \r\nz\r\n\" id=\"DejaVuSans-101\"/>\r\n        <path d=\"M 44.28125 53.078125 \r\nL 44.28125 44.578125 \r\nQ 40.484375 46.53125 36.375 47.5 \r\nQ 32.28125 48.484375 27.875 48.484375 \r\nQ 21.1875 48.484375 17.84375 46.4375 \r\nQ 14.5 44.390625 14.5 40.28125 \r\nQ 14.5 37.15625 16.890625 35.375 \r\nQ 19.28125 33.59375 26.515625 31.984375 \r\nL 29.59375 31.296875 \r\nQ 39.15625 29.25 43.1875 25.515625 \r\nQ 47.21875 21.78125 47.21875 15.09375 \r\nQ 47.21875 7.46875 41.1875 3.015625 \r\nQ 35.15625 -1.421875 24.609375 -1.421875 \r\nQ 20.21875 -1.421875 15.453125 -0.5625 \r\nQ 10.6875 0.296875 5.421875 2 \r\nL 5.421875 11.28125 \r\nQ 10.40625 8.6875 15.234375 7.390625 \r\nQ 20.0625 6.109375 24.8125 6.109375 \r\nQ 31.15625 6.109375 34.5625 8.28125 \r\nQ 37.984375 10.453125 37.984375 14.40625 \r\nQ 37.984375 18.0625 35.515625 20.015625 \r\nQ 33.0625 21.96875 24.703125 23.78125 \r\nL 21.578125 24.515625 \r\nQ 13.234375 26.265625 9.515625 29.90625 \r\nQ 5.8125 33.546875 5.8125 39.890625 \r\nQ 5.8125 47.609375 11.28125 51.796875 \r\nQ 16.75 56 26.8125 56 \r\nQ 31.78125 56 36.171875 55.265625 \r\nQ 40.578125 54.546875 44.28125 53.078125 \r\nz\r\n\" id=\"DejaVuSans-115\"/>\r\n        <path d=\"M 9.421875 54.6875 \r\nL 18.40625 54.6875 \r\nL 18.40625 0 \r\nL 9.421875 0 \r\nz\r\nM 9.421875 75.984375 \r\nL 18.40625 75.984375 \r\nL 18.40625 64.59375 \r\nL 9.421875 64.59375 \r\nz\r\n\" id=\"DejaVuSans-105\"/>\r\n        <path d=\"M 45.40625 27.984375 \r\nQ 45.40625 37.75 41.375 43.109375 \r\nQ 37.359375 48.484375 30.078125 48.484375 \r\nQ 22.859375 48.484375 18.828125 43.109375 \r\nQ 14.796875 37.75 14.796875 27.984375 \r\nQ 14.796875 18.265625 18.828125 12.890625 \r\nQ 22.859375 7.515625 30.078125 7.515625 \r\nQ 37.359375 7.515625 41.375 12.890625 \r\nQ 45.40625 18.265625 45.40625 27.984375 \r\nz\r\nM 54.390625 6.78125 \r\nQ 54.390625 -7.171875 48.1875 -13.984375 \r\nQ 42 -20.796875 29.203125 -20.796875 \r\nQ 24.46875 -20.796875 20.265625 -20.09375 \r\nQ 16.0625 -19.390625 12.109375 -17.921875 \r\nL 12.109375 -9.1875 \r\nQ 16.0625 -11.328125 19.921875 -12.34375 \r\nQ 23.78125 -13.375 27.78125 -13.375 \r\nQ 36.625 -13.375 41.015625 -8.765625 \r\nQ 45.40625 -4.15625 45.40625 5.171875 \r\nL 45.40625 9.625 \r\nQ 42.625 4.78125 38.28125 2.390625 \r\nQ 33.9375 0 27.875 0 \r\nQ 17.828125 0 11.671875 7.65625 \r\nQ 5.515625 15.328125 5.515625 27.984375 \r\nQ 5.515625 40.671875 11.671875 48.328125 \r\nQ 17.828125 56 27.875 56 \r\nQ 33.9375 56 38.28125 53.609375 \r\nQ 42.625 51.21875 45.40625 46.390625 \r\nL 45.40625 54.6875 \r\nL 54.390625 54.6875 \r\nz\r\n\" id=\"DejaVuSans-103\"/>\r\n        <path d=\"M 54.890625 33.015625 \r\nL 54.890625 0 \r\nL 45.90625 0 \r\nL 45.90625 32.71875 \r\nQ 45.90625 40.484375 42.875 44.328125 \r\nQ 39.84375 48.1875 33.796875 48.1875 \r\nQ 26.515625 48.1875 22.3125 43.546875 \r\nQ 18.109375 38.921875 18.109375 30.90625 \r\nL 18.109375 0 \r\nL 9.078125 0 \r\nL 9.078125 54.6875 \r\nL 18.109375 54.6875 \r\nL 18.109375 46.1875 \r\nQ 21.34375 51.125 25.703125 53.5625 \r\nQ 30.078125 56 35.796875 56 \r\nQ 45.21875 56 50.046875 50.171875 \r\nQ 54.890625 44.34375 54.890625 33.015625 \r\nz\r\n\" id=\"DejaVuSans-110\"/>\r\n        <path d=\"M 34.28125 27.484375 \r\nQ 23.390625 27.484375 19.1875 25 \r\nQ 14.984375 22.515625 14.984375 16.5 \r\nQ 14.984375 11.71875 18.140625 8.90625 \r\nQ 21.296875 6.109375 26.703125 6.109375 \r\nQ 34.1875 6.109375 38.703125 11.40625 \r\nQ 43.21875 16.703125 43.21875 25.484375 \r\nL 43.21875 27.484375 \r\nz\r\nM 52.203125 31.203125 \r\nL 52.203125 0 \r\nL 43.21875 0 \r\nL 43.21875 8.296875 \r\nQ 40.140625 3.328125 35.546875 0.953125 \r\nQ 30.953125 -1.421875 24.3125 -1.421875 \r\nQ 15.921875 -1.421875 10.953125 3.296875 \r\nQ 6 8.015625 6 15.921875 \r\nQ 6 25.140625 12.171875 29.828125 \r\nQ 18.359375 34.515625 30.609375 34.515625 \r\nL 43.21875 34.515625 \r\nL 43.21875 35.40625 \r\nQ 43.21875 41.609375 39.140625 45 \r\nQ 35.0625 48.390625 27.6875 48.390625 \r\nQ 23 48.390625 18.546875 47.265625 \r\nQ 14.109375 46.140625 10.015625 43.890625 \r\nL 10.015625 52.203125 \r\nQ 14.9375 54.109375 19.578125 55.046875 \r\nQ 24.21875 56 28.609375 56 \r\nQ 40.484375 56 46.34375 49.84375 \r\nQ 52.203125 43.703125 52.203125 31.203125 \r\nz\r\n\" id=\"DejaVuSans-97\"/>\r\n        <path d=\"M 18.3125 70.21875 \r\nL 18.3125 54.6875 \r\nL 36.8125 54.6875 \r\nL 36.8125 47.703125 \r\nL 18.3125 47.703125 \r\nL 18.3125 18.015625 \r\nQ 18.3125 11.328125 20.140625 9.421875 \r\nQ 21.96875 7.515625 27.59375 7.515625 \r\nL 36.8125 7.515625 \r\nL 36.8125 0 \r\nL 27.59375 0 \r\nQ 17.1875 0 13.234375 3.875 \r\nQ 9.28125 7.765625 9.28125 18.015625 \r\nL 9.28125 47.703125 \r\nL 2.6875 47.703125 \r\nL 2.6875 54.6875 \r\nL 9.28125 54.6875 \r\nL 9.28125 70.21875 \r\nz\r\n\" id=\"DejaVuSans-116\"/>\r\n        <path d=\"M 30.609375 48.390625 \r\nQ 23.390625 48.390625 19.1875 42.75 \r\nQ 14.984375 37.109375 14.984375 27.296875 \r\nQ 14.984375 17.484375 19.15625 11.84375 \r\nQ 23.34375 6.203125 30.609375 6.203125 \r\nQ 37.796875 6.203125 41.984375 11.859375 \r\nQ 46.1875 17.53125 46.1875 27.296875 \r\nQ 46.1875 37.015625 41.984375 42.703125 \r\nQ 37.796875 48.390625 30.609375 48.390625 \r\nz\r\nM 30.609375 56 \r\nQ 42.328125 56 49.015625 48.375 \r\nQ 55.71875 40.765625 55.71875 27.296875 \r\nQ 55.71875 13.875 49.015625 6.21875 \r\nQ 42.328125 -1.421875 30.609375 -1.421875 \r\nQ 18.84375 -1.421875 12.171875 6.21875 \r\nQ 5.515625 13.875 5.515625 27.296875 \r\nQ 5.515625 40.765625 12.171875 48.375 \r\nQ 18.84375 56 30.609375 56 \r\nz\r\n\" id=\"DejaVuSans-111\"/>\r\n        <path id=\"DejaVuSans-32\"/>\r\n        <path d=\"M 45.40625 46.390625 \r\nL 45.40625 75.984375 \r\nL 54.390625 75.984375 \r\nL 54.390625 0 \r\nL 45.40625 0 \r\nL 45.40625 8.203125 \r\nQ 42.578125 3.328125 38.25 0.953125 \r\nQ 33.9375 -1.421875 27.875 -1.421875 \r\nQ 17.96875 -1.421875 11.734375 6.484375 \r\nQ 5.515625 14.40625 5.515625 27.296875 \r\nQ 5.515625 40.1875 11.734375 48.09375 \r\nQ 17.96875 56 27.875 56 \r\nQ 33.9375 56 38.25 53.625 \r\nQ 42.578125 51.265625 45.40625 46.390625 \r\nz\r\nM 14.796875 27.296875 \r\nQ 14.796875 17.390625 18.875 11.75 \r\nQ 22.953125 6.109375 30.078125 6.109375 \r\nQ 37.203125 6.109375 41.296875 11.75 \r\nQ 45.40625 17.390625 45.40625 27.296875 \r\nQ 45.40625 37.203125 41.296875 42.84375 \r\nQ 37.203125 48.484375 30.078125 48.484375 \r\nQ 22.953125 48.484375 18.875 42.84375 \r\nQ 14.796875 37.203125 14.796875 27.296875 \r\nz\r\n\" id=\"DejaVuSans-100\"/>\r\n       </defs>\r\n       <use xlink:href=\"#DejaVuSans-82\"/>\r\n       <use x=\"64.982422\" xlink:href=\"#DejaVuSans-101\"/>\r\n       <use x=\"126.505859\" xlink:href=\"#DejaVuSans-115\"/>\r\n       <use x=\"178.605469\" xlink:href=\"#DejaVuSans-105\"/>\r\n       <use x=\"206.388672\" xlink:href=\"#DejaVuSans-103\"/>\r\n       <use x=\"269.865234\" xlink:href=\"#DejaVuSans-110\"/>\r\n       <use x=\"333.244141\" xlink:href=\"#DejaVuSans-97\"/>\r\n       <use x=\"394.523438\" xlink:href=\"#DejaVuSans-116\"/>\r\n       <use x=\"433.732422\" xlink:href=\"#DejaVuSans-105\"/>\r\n       <use x=\"461.515625\" xlink:href=\"#DejaVuSans-111\"/>\r\n       <use x=\"522.697266\" xlink:href=\"#DejaVuSans-110\"/>\r\n       <use x=\"586.076172\" xlink:href=\"#DejaVuSans-32\"/>\r\n       <use x=\"617.863281\" xlink:href=\"#DejaVuSans-100\"/>\r\n       <use x=\"681.339844\" xlink:href=\"#DejaVuSans-97\"/>\r\n       <use x=\"742.619141\" xlink:href=\"#DejaVuSans-116\"/>\r\n       <use x=\"781.828125\" xlink:href=\"#DejaVuSans-101\"/>\r\n      </g>\r\n     </g>\r\n    </g>\r\n   </g>\r\n   <g id=\"matplotlib.axis_2\">\r\n    <g id=\"ytick_1\">\r\n     <g id=\"line2d_2\">\r\n      <defs>\r\n       <path d=\"M 0 0 \r\nL -3.5 0 \r\n\" id=\"m428149ee03\" style=\"stroke:#000000;stroke-width:0.8;\"/>\r\n      </defs>\r\n      <g>\r\n       <use style=\"stroke:#000000;stroke-width:0.8;\" x=\"44.845313\" xlink:href=\"#m428149ee03\" y=\"210.107216\"/>\r\n      </g>\r\n     </g>\r\n     <g id=\"text_2\">\r\n      <!-- −0.04 -->\r\n      <g transform=\"translate(7.2 213.906435)scale(0.1 -0.1)\">\r\n       <defs>\r\n        <path d=\"M 10.59375 35.5 \r\nL 73.1875 35.5 \r\nL 73.1875 27.203125 \r\nL 10.59375 27.203125 \r\nz\r\n\" id=\"DejaVuSans-8722\"/>\r\n        <path d=\"M 31.78125 66.40625 \r\nQ 24.171875 66.40625 20.328125 58.90625 \r\nQ 16.5 51.421875 16.5 36.375 \r\nQ 16.5 21.390625 20.328125 13.890625 \r\nQ 24.171875 6.390625 31.78125 6.390625 \r\nQ 39.453125 6.390625 43.28125 13.890625 \r\nQ 47.125 21.390625 47.125 36.375 \r\nQ 47.125 51.421875 43.28125 58.90625 \r\nQ 39.453125 66.40625 31.78125 66.40625 \r\nz\r\nM 31.78125 74.21875 \r\nQ 44.046875 74.21875 50.515625 64.515625 \r\nQ 56.984375 54.828125 56.984375 36.375 \r\nQ 56.984375 17.96875 50.515625 8.265625 \r\nQ 44.046875 -1.421875 31.78125 -1.421875 \r\nQ 19.53125 -1.421875 13.0625 8.265625 \r\nQ 6.59375 17.96875 6.59375 36.375 \r\nQ 6.59375 54.828125 13.0625 64.515625 \r\nQ 19.53125 74.21875 31.78125 74.21875 \r\nz\r\n\" id=\"DejaVuSans-48\"/>\r\n        <path d=\"M 10.6875 12.40625 \r\nL 21 12.40625 \r\nL 21 0 \r\nL 10.6875 0 \r\nz\r\n\" id=\"DejaVuSans-46\"/>\r\n        <path d=\"M 37.796875 64.3125 \r\nL 12.890625 25.390625 \r\nL 37.796875 25.390625 \r\nz\r\nM 35.203125 72.90625 \r\nL 47.609375 72.90625 \r\nL 47.609375 25.390625 \r\nL 58.015625 25.390625 \r\nL 58.015625 17.1875 \r\nL 47.609375 17.1875 \r\nL 47.609375 0 \r\nL 37.796875 0 \r\nL 37.796875 17.1875 \r\nL 4.890625 17.1875 \r\nL 4.890625 26.703125 \r\nz\r\n\" id=\"DejaVuSans-52\"/>\r\n       </defs>\r\n       <use xlink:href=\"#DejaVuSans-8722\"/>\r\n       <use x=\"83.789062\" xlink:href=\"#DejaVuSans-48\"/>\r\n       <use x=\"147.412109\" xlink:href=\"#DejaVuSans-46\"/>\r\n       <use x=\"179.199219\" xlink:href=\"#DejaVuSans-48\"/>\r\n       <use x=\"242.822266\" xlink:href=\"#DejaVuSans-52\"/>\r\n      </g>\r\n     </g>\r\n    </g>\r\n    <g id=\"ytick_2\">\r\n     <g id=\"line2d_3\">\r\n      <g>\r\n       <use style=\"stroke:#000000;stroke-width:0.8;\" x=\"44.845313\" xlink:href=\"#m428149ee03\" y=\"170.57267\"/>\r\n      </g>\r\n     </g>\r\n     <g id=\"text_3\">\r\n      <!-- −0.02 -->\r\n      <g transform=\"translate(7.2 174.371889)scale(0.1 -0.1)\">\r\n       <defs>\r\n        <path d=\"M 19.1875 8.296875 \r\nL 53.609375 8.296875 \r\nL 53.609375 0 \r\nL 7.328125 0 \r\nL 7.328125 8.296875 \r\nQ 12.9375 14.109375 22.625 23.890625 \r\nQ 32.328125 33.6875 34.8125 36.53125 \r\nQ 39.546875 41.84375 41.421875 45.53125 \r\nQ 43.3125 49.21875 43.3125 52.78125 \r\nQ 43.3125 58.59375 39.234375 62.25 \r\nQ 35.15625 65.921875 28.609375 65.921875 \r\nQ 23.96875 65.921875 18.8125 64.3125 \r\nQ 13.671875 62.703125 7.8125 59.421875 \r\nL 7.8125 69.390625 \r\nQ 13.765625 71.78125 18.9375 73 \r\nQ 24.125 74.21875 28.421875 74.21875 \r\nQ 39.75 74.21875 46.484375 68.546875 \r\nQ 53.21875 62.890625 53.21875 53.421875 \r\nQ 53.21875 48.921875 51.53125 44.890625 \r\nQ 49.859375 40.875 45.40625 35.40625 \r\nQ 44.1875 33.984375 37.640625 27.21875 \r\nQ 31.109375 20.453125 19.1875 8.296875 \r\nz\r\n\" id=\"DejaVuSans-50\"/>\r\n       </defs>\r\n       <use xlink:href=\"#DejaVuSans-8722\"/>\r\n       <use x=\"83.789062\" xlink:href=\"#DejaVuSans-48\"/>\r\n       <use x=\"147.412109\" xlink:href=\"#DejaVuSans-46\"/>\r\n       <use x=\"179.199219\" xlink:href=\"#DejaVuSans-48\"/>\r\n       <use x=\"242.822266\" xlink:href=\"#DejaVuSans-50\"/>\r\n      </g>\r\n     </g>\r\n    </g>\r\n    <g id=\"ytick_3\">\r\n     <g id=\"line2d_4\">\r\n      <g>\r\n       <use style=\"stroke:#000000;stroke-width:0.8;\" x=\"44.845313\" xlink:href=\"#m428149ee03\" y=\"131.038125\"/>\r\n      </g>\r\n     </g>\r\n     <g id=\"text_4\">\r\n      <!-- 0.00 -->\r\n      <g transform=\"translate(15.579688 134.837344)scale(0.1 -0.1)\">\r\n       <use xlink:href=\"#DejaVuSans-48\"/>\r\n       <use x=\"63.623047\" xlink:href=\"#DejaVuSans-46\"/>\r\n       <use x=\"95.410156\" xlink:href=\"#DejaVuSans-48\"/>\r\n       <use x=\"159.033203\" xlink:href=\"#DejaVuSans-48\"/>\r\n      </g>\r\n     </g>\r\n    </g>\r\n    <g id=\"ytick_4\">\r\n     <g id=\"line2d_5\">\r\n      <g>\r\n       <use style=\"stroke:#000000;stroke-width:0.8;\" x=\"44.845313\" xlink:href=\"#m428149ee03\" y=\"91.50358\"/>\r\n      </g>\r\n     </g>\r\n     <g id=\"text_5\">\r\n      <!-- 0.02 -->\r\n      <g transform=\"translate(15.579688 95.302798)scale(0.1 -0.1)\">\r\n       <use xlink:href=\"#DejaVuSans-48\"/>\r\n       <use x=\"63.623047\" xlink:href=\"#DejaVuSans-46\"/>\r\n       <use x=\"95.410156\" xlink:href=\"#DejaVuSans-48\"/>\r\n       <use x=\"159.033203\" xlink:href=\"#DejaVuSans-50\"/>\r\n      </g>\r\n     </g>\r\n    </g>\r\n    <g id=\"ytick_5\">\r\n     <g id=\"line2d_6\">\r\n      <g>\r\n       <use style=\"stroke:#000000;stroke-width:0.8;\" x=\"44.845313\" xlink:href=\"#m428149ee03\" y=\"51.969034\"/>\r\n      </g>\r\n     </g>\r\n     <g id=\"text_6\">\r\n      <!-- 0.04 -->\r\n      <g transform=\"translate(15.579688 55.768253)scale(0.1 -0.1)\">\r\n       <use xlink:href=\"#DejaVuSans-48\"/>\r\n       <use x=\"63.623047\" xlink:href=\"#DejaVuSans-46\"/>\r\n       <use x=\"95.410156\" xlink:href=\"#DejaVuSans-48\"/>\r\n       <use x=\"159.033203\" xlink:href=\"#DejaVuSans-52\"/>\r\n      </g>\r\n     </g>\r\n    </g>\r\n   </g>\r\n   <g id=\"line2d_7\">\r\n    <path clip-path=\"url(#pe97fa2678c)\" d=\"M 0 0 \r\n\" style=\"fill:none;stroke:#000000;stroke-linecap:square;\"/>\r\n   </g>\r\n   <g id=\"line2d_8\">\r\n    <path clip-path=\"url(#pe97fa2678c)\" d=\"M 0 0 \r\n\" style=\"fill:none;stroke:#000000;stroke-linecap:square;\"/>\r\n   </g>\r\n   <g id=\"line2d_9\">\r\n    <path clip-path=\"url(#pe97fa2678c)\" d=\"M 0 0 \r\n\" style=\"fill:none;stroke:#000000;stroke-linecap:square;\"/>\r\n   </g>\r\n   <g id=\"line2d_10\">\r\n    <path clip-path=\"url(#pe97fa2678c)\" d=\"M 0 0 \r\n\" style=\"fill:none;stroke:#000000;stroke-linecap:square;\"/>\r\n   </g>\r\n   <g id=\"line2d_11\">\r\n    <path clip-path=\"url(#pe97fa2678c)\" d=\"M 0 0 \r\n\" style=\"fill:none;stroke:#000000;stroke-linecap:square;\"/>\r\n   </g>\r\n   <g id=\"line2d_12\"/>\r\n   <g id=\"line2d_13\">\r\n    <path clip-path=\"url(#pe97fa2678c)\" d=\"M 0 0 \r\n\" style=\"fill:none;stroke:#ff7f0e;stroke-linecap:square;\"/>\r\n   </g>\r\n   <g id=\"patch_3\">\r\n    <path d=\"M 44.845313 239.758125 \r\nL 44.845313 22.318125 \r\n\" style=\"fill:none;stroke:#000000;stroke-linecap:square;stroke-linejoin:miter;stroke-width:0.8;\"/>\r\n   </g>\r\n   <g id=\"patch_4\">\r\n    <path d=\"M 291.021783 239.758125 \r\nL 291.021783 22.318125 \r\n\" style=\"fill:none;stroke:#000000;stroke-linecap:square;stroke-linejoin:miter;stroke-width:0.8;\"/>\r\n   </g>\r\n   <g id=\"patch_5\">\r\n    <path d=\"M 44.845313 239.758125 \r\nL 291.021783 239.758125 \r\n\" style=\"fill:none;stroke:#000000;stroke-linecap:square;stroke-linejoin:miter;stroke-width:0.8;\"/>\r\n   </g>\r\n   <g id=\"patch_6\">\r\n    <path d=\"M 44.845313 22.318125 \r\nL 291.021783 22.318125 \r\n\" style=\"fill:none;stroke:#000000;stroke-linecap:square;stroke-linejoin:miter;stroke-width:0.8;\"/>\r\n   </g>\r\n   <g id=\"text_7\">\r\n    <!-- Resignation Date for TAFE Survey -->\r\n    <g transform=\"translate(67.131673 16.318125)scale(0.12 -0.12)\">\r\n     <defs>\r\n      <path d=\"M 19.671875 64.796875 \r\nL 19.671875 8.109375 \r\nL 31.59375 8.109375 \r\nQ 46.6875 8.109375 53.6875 14.9375 \r\nQ 60.6875 21.78125 60.6875 36.53125 \r\nQ 60.6875 51.171875 53.6875 57.984375 \r\nQ 46.6875 64.796875 31.59375 64.796875 \r\nz\r\nM 9.8125 72.90625 \r\nL 30.078125 72.90625 \r\nQ 51.265625 72.90625 61.171875 64.09375 \r\nQ 71.09375 55.28125 71.09375 36.53125 \r\nQ 71.09375 17.671875 61.125 8.828125 \r\nQ 51.171875 0 30.078125 0 \r\nL 9.8125 0 \r\nz\r\n\" id=\"DejaVuSans-68\"/>\r\n      <path d=\"M 37.109375 75.984375 \r\nL 37.109375 68.5 \r\nL 28.515625 68.5 \r\nQ 23.6875 68.5 21.796875 66.546875 \r\nQ 19.921875 64.59375 19.921875 59.515625 \r\nL 19.921875 54.6875 \r\nL 34.71875 54.6875 \r\nL 34.71875 47.703125 \r\nL 19.921875 47.703125 \r\nL 19.921875 0 \r\nL 10.890625 0 \r\nL 10.890625 47.703125 \r\nL 2.296875 47.703125 \r\nL 2.296875 54.6875 \r\nL 10.890625 54.6875 \r\nL 10.890625 58.5 \r\nQ 10.890625 67.625 15.140625 71.796875 \r\nQ 19.390625 75.984375 28.609375 75.984375 \r\nz\r\n\" id=\"DejaVuSans-102\"/>\r\n      <path d=\"M 41.109375 46.296875 \r\nQ 39.59375 47.171875 37.8125 47.578125 \r\nQ 36.03125 48 33.890625 48 \r\nQ 26.265625 48 22.1875 43.046875 \r\nQ 18.109375 38.09375 18.109375 28.8125 \r\nL 18.109375 0 \r\nL 9.078125 0 \r\nL 9.078125 54.6875 \r\nL 18.109375 54.6875 \r\nL 18.109375 46.1875 \r\nQ 20.953125 51.171875 25.484375 53.578125 \r\nQ 30.03125 56 36.53125 56 \r\nQ 37.453125 56 38.578125 55.875 \r\nQ 39.703125 55.765625 41.0625 55.515625 \r\nz\r\n\" id=\"DejaVuSans-114\"/>\r\n      <path d=\"M -0.296875 72.90625 \r\nL 61.375 72.90625 \r\nL 61.375 64.59375 \r\nL 35.5 64.59375 \r\nL 35.5 0 \r\nL 25.59375 0 \r\nL 25.59375 64.59375 \r\nL -0.296875 64.59375 \r\nz\r\n\" id=\"DejaVuSans-84\"/>\r\n      <path d=\"M 34.1875 63.1875 \r\nL 20.796875 26.90625 \r\nL 47.609375 26.90625 \r\nz\r\nM 28.609375 72.90625 \r\nL 39.796875 72.90625 \r\nL 67.578125 0 \r\nL 57.328125 0 \r\nL 50.6875 18.703125 \r\nL 17.828125 18.703125 \r\nL 11.1875 0 \r\nL 0.78125 0 \r\nz\r\n\" id=\"DejaVuSans-65\"/>\r\n      <path d=\"M 9.8125 72.90625 \r\nL 51.703125 72.90625 \r\nL 51.703125 64.59375 \r\nL 19.671875 64.59375 \r\nL 19.671875 43.109375 \r\nL 48.578125 43.109375 \r\nL 48.578125 34.8125 \r\nL 19.671875 34.8125 \r\nL 19.671875 0 \r\nL 9.8125 0 \r\nz\r\n\" id=\"DejaVuSans-70\"/>\r\n      <path d=\"M 9.8125 72.90625 \r\nL 55.90625 72.90625 \r\nL 55.90625 64.59375 \r\nL 19.671875 64.59375 \r\nL 19.671875 43.015625 \r\nL 54.390625 43.015625 \r\nL 54.390625 34.71875 \r\nL 19.671875 34.71875 \r\nL 19.671875 8.296875 \r\nL 56.78125 8.296875 \r\nL 56.78125 0 \r\nL 9.8125 0 \r\nz\r\n\" id=\"DejaVuSans-69\"/>\r\n      <path d=\"M 53.515625 70.515625 \r\nL 53.515625 60.890625 \r\nQ 47.90625 63.578125 42.921875 64.890625 \r\nQ 37.9375 66.21875 33.296875 66.21875 \r\nQ 25.25 66.21875 20.875 63.09375 \r\nQ 16.5 59.96875 16.5 54.203125 \r\nQ 16.5 49.359375 19.40625 46.890625 \r\nQ 22.3125 44.4375 30.421875 42.921875 \r\nL 36.375 41.703125 \r\nQ 47.40625 39.59375 52.65625 34.296875 \r\nQ 57.90625 29 57.90625 20.125 \r\nQ 57.90625 9.515625 50.796875 4.046875 \r\nQ 43.703125 -1.421875 29.984375 -1.421875 \r\nQ 24.8125 -1.421875 18.96875 -0.25 \r\nQ 13.140625 0.921875 6.890625 3.21875 \r\nL 6.890625 13.375 \r\nQ 12.890625 10.015625 18.65625 8.296875 \r\nQ 24.421875 6.59375 29.984375 6.59375 \r\nQ 38.421875 6.59375 43.015625 9.90625 \r\nQ 47.609375 13.234375 47.609375 19.390625 \r\nQ 47.609375 24.75 44.3125 27.78125 \r\nQ 41.015625 30.8125 33.5 32.328125 \r\nL 27.484375 33.5 \r\nQ 16.453125 35.6875 11.515625 40.375 \r\nQ 6.59375 45.0625 6.59375 53.421875 \r\nQ 6.59375 63.09375 13.40625 68.65625 \r\nQ 20.21875 74.21875 32.171875 74.21875 \r\nQ 37.3125 74.21875 42.625 73.28125 \r\nQ 47.953125 72.359375 53.515625 70.515625 \r\nz\r\n\" id=\"DejaVuSans-83\"/>\r\n      <path d=\"M 8.5 21.578125 \r\nL 8.5 54.6875 \r\nL 17.484375 54.6875 \r\nL 17.484375 21.921875 \r\nQ 17.484375 14.15625 20.5 10.265625 \r\nQ 23.53125 6.390625 29.59375 6.390625 \r\nQ 36.859375 6.390625 41.078125 11.03125 \r\nQ 45.3125 15.671875 45.3125 23.6875 \r\nL 45.3125 54.6875 \r\nL 54.296875 54.6875 \r\nL 54.296875 0 \r\nL 45.3125 0 \r\nL 45.3125 8.40625 \r\nQ 42.046875 3.421875 37.71875 1 \r\nQ 33.40625 -1.421875 27.6875 -1.421875 \r\nQ 18.265625 -1.421875 13.375 4.4375 \r\nQ 8.5 10.296875 8.5 21.578125 \r\nz\r\nM 31.109375 56 \r\nz\r\n\" id=\"DejaVuSans-117\"/>\r\n      <path d=\"M 2.984375 54.6875 \r\nL 12.5 54.6875 \r\nL 29.59375 8.796875 \r\nL 46.6875 54.6875 \r\nL 56.203125 54.6875 \r\nL 35.6875 0 \r\nL 23.484375 0 \r\nz\r\n\" id=\"DejaVuSans-118\"/>\r\n      <path d=\"M 32.171875 -5.078125 \r\nQ 28.375 -14.84375 24.75 -17.8125 \r\nQ 21.140625 -20.796875 15.09375 -20.796875 \r\nL 7.90625 -20.796875 \r\nL 7.90625 -13.28125 \r\nL 13.1875 -13.28125 \r\nQ 16.890625 -13.28125 18.9375 -11.515625 \r\nQ 21 -9.765625 23.484375 -3.21875 \r\nL 25.09375 0.875 \r\nL 2.984375 54.6875 \r\nL 12.5 54.6875 \r\nL 29.59375 11.921875 \r\nL 46.6875 54.6875 \r\nL 56.203125 54.6875 \r\nz\r\n\" id=\"DejaVuSans-121\"/>\r\n     </defs>\r\n     <use xlink:href=\"#DejaVuSans-82\"/>\r\n     <use x=\"64.982422\" xlink:href=\"#DejaVuSans-101\"/>\r\n     <use x=\"126.505859\" xlink:href=\"#DejaVuSans-115\"/>\r\n     <use x=\"178.605469\" xlink:href=\"#DejaVuSans-105\"/>\r\n     <use x=\"206.388672\" xlink:href=\"#DejaVuSans-103\"/>\r\n     <use x=\"269.865234\" xlink:href=\"#DejaVuSans-110\"/>\r\n     <use x=\"333.244141\" xlink:href=\"#DejaVuSans-97\"/>\r\n     <use x=\"394.523438\" xlink:href=\"#DejaVuSans-116\"/>\r\n     <use x=\"433.732422\" xlink:href=\"#DejaVuSans-105\"/>\r\n     <use x=\"461.515625\" xlink:href=\"#DejaVuSans-111\"/>\r\n     <use x=\"522.697266\" xlink:href=\"#DejaVuSans-110\"/>\r\n     <use x=\"586.076172\" xlink:href=\"#DejaVuSans-32\"/>\r\n     <use x=\"617.863281\" xlink:href=\"#DejaVuSans-68\"/>\r\n     <use x=\"694.865234\" xlink:href=\"#DejaVuSans-97\"/>\r\n     <use x=\"756.144531\" xlink:href=\"#DejaVuSans-116\"/>\r\n     <use x=\"795.353516\" xlink:href=\"#DejaVuSans-101\"/>\r\n     <use x=\"856.876953\" xlink:href=\"#DejaVuSans-32\"/>\r\n     <use x=\"888.664062\" xlink:href=\"#DejaVuSans-102\"/>\r\n     <use x=\"923.869141\" xlink:href=\"#DejaVuSans-111\"/>\r\n     <use x=\"985.050781\" xlink:href=\"#DejaVuSans-114\"/>\r\n     <use x=\"1026.164062\" xlink:href=\"#DejaVuSans-32\"/>\r\n     <use x=\"1057.951172\" xlink:href=\"#DejaVuSans-84\"/>\r\n     <use x=\"1111.285156\" xlink:href=\"#DejaVuSans-65\"/>\r\n     <use x=\"1179.693359\" xlink:href=\"#DejaVuSans-70\"/>\r\n     <use x=\"1237.212891\" xlink:href=\"#DejaVuSans-69\"/>\r\n     <use x=\"1300.396484\" xlink:href=\"#DejaVuSans-32\"/>\r\n     <use x=\"1332.183594\" xlink:href=\"#DejaVuSans-83\"/>\r\n     <use x=\"1395.660156\" xlink:href=\"#DejaVuSans-117\"/>\r\n     <use x=\"1459.039062\" xlink:href=\"#DejaVuSans-114\"/>\r\n     <use x=\"1500.152344\" xlink:href=\"#DejaVuSans-118\"/>\r\n     <use x=\"1559.332031\" xlink:href=\"#DejaVuSans-101\"/>\r\n     <use x=\"1620.855469\" xlink:href=\"#DejaVuSans-121\"/>\r\n    </g>\r\n   </g>\r\n  </g>\r\n  <g id=\"axes_2\">\r\n   <g id=\"patch_7\">\r\n    <path d=\"M 340.257077 239.758125 \r\nL 586.433548 239.758125 \r\nL 586.433548 22.318125 \r\nL 340.257077 22.318125 \r\nz\r\n\" style=\"fill:#ffffff;\"/>\r\n   </g>\r\n   <g id=\"matplotlib.axis_3\">\r\n    <g id=\"xtick_2\">\r\n     <g id=\"line2d_14\">\r\n      <g>\r\n       <use style=\"stroke:#000000;stroke-width:0.8;\" x=\"463.345313\" xlink:href=\"#m0d9f4e9556\" y=\"239.758125\"/>\r\n      </g>\r\n     </g>\r\n     <g id=\"text_8\">\r\n      <!-- Resignation date -->\r\n      <g transform=\"translate(421.177344 254.356563)scale(0.1 -0.1)\">\r\n       <use xlink:href=\"#DejaVuSans-82\"/>\r\n       <use x=\"64.982422\" xlink:href=\"#DejaVuSans-101\"/>\r\n       <use x=\"126.505859\" xlink:href=\"#DejaVuSans-115\"/>\r\n       <use x=\"178.605469\" xlink:href=\"#DejaVuSans-105\"/>\r\n       <use x=\"206.388672\" xlink:href=\"#DejaVuSans-103\"/>\r\n       <use x=\"269.865234\" xlink:href=\"#DejaVuSans-110\"/>\r\n       <use x=\"333.244141\" xlink:href=\"#DejaVuSans-97\"/>\r\n       <use x=\"394.523438\" xlink:href=\"#DejaVuSans-116\"/>\r\n       <use x=\"433.732422\" xlink:href=\"#DejaVuSans-105\"/>\r\n       <use x=\"461.515625\" xlink:href=\"#DejaVuSans-111\"/>\r\n       <use x=\"522.697266\" xlink:href=\"#DejaVuSans-110\"/>\r\n       <use x=\"586.076172\" xlink:href=\"#DejaVuSans-32\"/>\r\n       <use x=\"617.863281\" xlink:href=\"#DejaVuSans-100\"/>\r\n       <use x=\"681.339844\" xlink:href=\"#DejaVuSans-97\"/>\r\n       <use x=\"742.619141\" xlink:href=\"#DejaVuSans-116\"/>\r\n       <use x=\"781.828125\" xlink:href=\"#DejaVuSans-101\"/>\r\n      </g>\r\n     </g>\r\n    </g>\r\n   </g>\r\n   <g id=\"matplotlib.axis_4\">\r\n    <g id=\"ytick_6\">\r\n     <g id=\"line2d_15\">\r\n      <g>\r\n       <use style=\"stroke:#000000;stroke-width:0.8;\" x=\"340.257077\" xlink:href=\"#m428149ee03\" y=\"210.107216\"/>\r\n      </g>\r\n     </g>\r\n     <g id=\"text_9\">\r\n      <!-- −0.04 -->\r\n      <g transform=\"translate(302.611765 213.906435)scale(0.1 -0.1)\">\r\n       <use xlink:href=\"#DejaVuSans-8722\"/>\r\n       <use x=\"83.789062\" xlink:href=\"#DejaVuSans-48\"/>\r\n       <use x=\"147.412109\" xlink:href=\"#DejaVuSans-46\"/>\r\n       <use x=\"179.199219\" xlink:href=\"#DejaVuSans-48\"/>\r\n       <use x=\"242.822266\" xlink:href=\"#DejaVuSans-52\"/>\r\n      </g>\r\n     </g>\r\n    </g>\r\n    <g id=\"ytick_7\">\r\n     <g id=\"line2d_16\">\r\n      <g>\r\n       <use style=\"stroke:#000000;stroke-width:0.8;\" x=\"340.257077\" xlink:href=\"#m428149ee03\" y=\"170.57267\"/>\r\n      </g>\r\n     </g>\r\n     <g id=\"text_10\">\r\n      <!-- −0.02 -->\r\n      <g transform=\"translate(302.611765 174.371889)scale(0.1 -0.1)\">\r\n       <use xlink:href=\"#DejaVuSans-8722\"/>\r\n       <use x=\"83.789062\" xlink:href=\"#DejaVuSans-48\"/>\r\n       <use x=\"147.412109\" xlink:href=\"#DejaVuSans-46\"/>\r\n       <use x=\"179.199219\" xlink:href=\"#DejaVuSans-48\"/>\r\n       <use x=\"242.822266\" xlink:href=\"#DejaVuSans-50\"/>\r\n      </g>\r\n     </g>\r\n    </g>\r\n    <g id=\"ytick_8\">\r\n     <g id=\"line2d_17\">\r\n      <g>\r\n       <use style=\"stroke:#000000;stroke-width:0.8;\" x=\"340.257077\" xlink:href=\"#m428149ee03\" y=\"131.038125\"/>\r\n      </g>\r\n     </g>\r\n     <g id=\"text_11\">\r\n      <!-- 0.00 -->\r\n      <g transform=\"translate(310.991452 134.837344)scale(0.1 -0.1)\">\r\n       <use xlink:href=\"#DejaVuSans-48\"/>\r\n       <use x=\"63.623047\" xlink:href=\"#DejaVuSans-46\"/>\r\n       <use x=\"95.410156\" xlink:href=\"#DejaVuSans-48\"/>\r\n       <use x=\"159.033203\" xlink:href=\"#DejaVuSans-48\"/>\r\n      </g>\r\n     </g>\r\n    </g>\r\n    <g id=\"ytick_9\">\r\n     <g id=\"line2d_18\">\r\n      <g>\r\n       <use style=\"stroke:#000000;stroke-width:0.8;\" x=\"340.257077\" xlink:href=\"#m428149ee03\" y=\"91.50358\"/>\r\n      </g>\r\n     </g>\r\n     <g id=\"text_12\">\r\n      <!-- 0.02 -->\r\n      <g transform=\"translate(310.991452 95.302798)scale(0.1 -0.1)\">\r\n       <use xlink:href=\"#DejaVuSans-48\"/>\r\n       <use x=\"63.623047\" xlink:href=\"#DejaVuSans-46\"/>\r\n       <use x=\"95.410156\" xlink:href=\"#DejaVuSans-48\"/>\r\n       <use x=\"159.033203\" xlink:href=\"#DejaVuSans-50\"/>\r\n      </g>\r\n     </g>\r\n    </g>\r\n    <g id=\"ytick_10\">\r\n     <g id=\"line2d_19\">\r\n      <g>\r\n       <use style=\"stroke:#000000;stroke-width:0.8;\" x=\"340.257077\" xlink:href=\"#m428149ee03\" y=\"51.969034\"/>\r\n      </g>\r\n     </g>\r\n     <g id=\"text_13\">\r\n      <!-- 0.04 -->\r\n      <g transform=\"translate(310.991452 55.768253)scale(0.1 -0.1)\">\r\n       <use xlink:href=\"#DejaVuSans-48\"/>\r\n       <use x=\"63.623047\" xlink:href=\"#DejaVuSans-46\"/>\r\n       <use x=\"95.410156\" xlink:href=\"#DejaVuSans-48\"/>\r\n       <use x=\"159.033203\" xlink:href=\"#DejaVuSans-52\"/>\r\n      </g>\r\n     </g>\r\n    </g>\r\n   </g>\r\n   <g id=\"line2d_20\">\r\n    <path clip-path=\"url(#p118777cc51)\" d=\"M 0 0 \r\n\" style=\"fill:none;stroke:#000000;stroke-linecap:square;\"/>\r\n   </g>\r\n   <g id=\"line2d_21\">\r\n    <path clip-path=\"url(#p118777cc51)\" d=\"M 0 0 \r\n\" style=\"fill:none;stroke:#000000;stroke-linecap:square;\"/>\r\n   </g>\r\n   <g id=\"line2d_22\">\r\n    <path clip-path=\"url(#p118777cc51)\" d=\"M 0 0 \r\n\" style=\"fill:none;stroke:#000000;stroke-linecap:square;\"/>\r\n   </g>\r\n   <g id=\"line2d_23\">\r\n    <path clip-path=\"url(#p118777cc51)\" d=\"M 0 0 \r\n\" style=\"fill:none;stroke:#000000;stroke-linecap:square;\"/>\r\n   </g>\r\n   <g id=\"line2d_24\">\r\n    <path clip-path=\"url(#p118777cc51)\" d=\"M 0 0 \r\n\" style=\"fill:none;stroke:#000000;stroke-linecap:square;\"/>\r\n   </g>\r\n   <g id=\"line2d_25\"/>\r\n   <g id=\"line2d_26\">\r\n    <path clip-path=\"url(#p118777cc51)\" d=\"M 0 0 \r\n\" style=\"fill:none;stroke:#ff7f0e;stroke-linecap:square;\"/>\r\n   </g>\r\n   <g id=\"patch_8\">\r\n    <path d=\"M 340.257077 239.758125 \r\nL 340.257077 22.318125 \r\n\" style=\"fill:none;stroke:#000000;stroke-linecap:square;stroke-linejoin:miter;stroke-width:0.8;\"/>\r\n   </g>\r\n   <g id=\"patch_9\">\r\n    <path d=\"M 586.433548 239.758125 \r\nL 586.433548 22.318125 \r\n\" style=\"fill:none;stroke:#000000;stroke-linecap:square;stroke-linejoin:miter;stroke-width:0.8;\"/>\r\n   </g>\r\n   <g id=\"patch_10\">\r\n    <path d=\"M 340.257077 239.758125 \r\nL 586.433548 239.758125 \r\n\" style=\"fill:none;stroke:#000000;stroke-linecap:square;stroke-linejoin:miter;stroke-width:0.8;\"/>\r\n   </g>\r\n   <g id=\"patch_11\">\r\n    <path d=\"M 340.257077 22.318125 \r\nL 586.433548 22.318125 \r\n\" style=\"fill:none;stroke:#000000;stroke-linecap:square;stroke-linejoin:miter;stroke-width:0.8;\"/>\r\n   </g>\r\n   <g id=\"text_14\">\r\n    <!-- Resignation Date for DETE Survey -->\r\n    <g transform=\"translate(361.2225 16.318125)scale(0.12 -0.12)\">\r\n     <use xlink:href=\"#DejaVuSans-82\"/>\r\n     <use x=\"64.982422\" xlink:href=\"#DejaVuSans-101\"/>\r\n     <use x=\"126.505859\" xlink:href=\"#DejaVuSans-115\"/>\r\n     <use x=\"178.605469\" xlink:href=\"#DejaVuSans-105\"/>\r\n     <use x=\"206.388672\" xlink:href=\"#DejaVuSans-103\"/>\r\n     <use x=\"269.865234\" xlink:href=\"#DejaVuSans-110\"/>\r\n     <use x=\"333.244141\" xlink:href=\"#DejaVuSans-97\"/>\r\n     <use x=\"394.523438\" xlink:href=\"#DejaVuSans-116\"/>\r\n     <use x=\"433.732422\" xlink:href=\"#DejaVuSans-105\"/>\r\n     <use x=\"461.515625\" xlink:href=\"#DejaVuSans-111\"/>\r\n     <use x=\"522.697266\" xlink:href=\"#DejaVuSans-110\"/>\r\n     <use x=\"586.076172\" xlink:href=\"#DejaVuSans-32\"/>\r\n     <use x=\"617.863281\" xlink:href=\"#DejaVuSans-68\"/>\r\n     <use x=\"694.865234\" xlink:href=\"#DejaVuSans-97\"/>\r\n     <use x=\"756.144531\" xlink:href=\"#DejaVuSans-116\"/>\r\n     <use x=\"795.353516\" xlink:href=\"#DejaVuSans-101\"/>\r\n     <use x=\"856.876953\" xlink:href=\"#DejaVuSans-32\"/>\r\n     <use x=\"888.664062\" xlink:href=\"#DejaVuSans-102\"/>\r\n     <use x=\"923.869141\" xlink:href=\"#DejaVuSans-111\"/>\r\n     <use x=\"985.050781\" xlink:href=\"#DejaVuSans-114\"/>\r\n     <use x=\"1026.164062\" xlink:href=\"#DejaVuSans-32\"/>\r\n     <use x=\"1057.951172\" xlink:href=\"#DejaVuSans-68\"/>\r\n     <use x=\"1134.953125\" xlink:href=\"#DejaVuSans-69\"/>\r\n     <use x=\"1198.136719\" xlink:href=\"#DejaVuSans-84\"/>\r\n     <use x=\"1259.220703\" xlink:href=\"#DejaVuSans-69\"/>\r\n     <use x=\"1322.404297\" xlink:href=\"#DejaVuSans-32\"/>\r\n     <use x=\"1354.191406\" xlink:href=\"#DejaVuSans-83\"/>\r\n     <use x=\"1417.667969\" xlink:href=\"#DejaVuSans-117\"/>\r\n     <use x=\"1481.046875\" xlink:href=\"#DejaVuSans-114\"/>\r\n     <use x=\"1522.160156\" xlink:href=\"#DejaVuSans-118\"/>\r\n     <use x=\"1581.339844\" xlink:href=\"#DejaVuSans-101\"/>\r\n     <use x=\"1642.863281\" xlink:href=\"#DejaVuSans-121\"/>\r\n    </g>\r\n   </g>\r\n  </g>\r\n  <g id=\"axes_3\">\r\n   <g id=\"patch_12\">\r\n    <path d=\"M 635.668842 239.758125 \r\nL 881.845313 239.758125 \r\nL 881.845313 22.318125 \r\nL 635.668842 22.318125 \r\nz\r\n\" style=\"fill:#ffffff;\"/>\r\n   </g>\r\n   <g id=\"matplotlib.axis_5\">\r\n    <g id=\"xtick_3\">\r\n     <g id=\"line2d_27\">\r\n      <g>\r\n       <use style=\"stroke:#000000;stroke-width:0.8;\" x=\"758.757077\" xlink:href=\"#m0d9f4e9556\" y=\"239.758125\"/>\r\n      </g>\r\n     </g>\r\n     <g id=\"text_15\">\r\n      <!-- Appointment Date -->\r\n      <g transform=\"translate(712.795358 254.356563)scale(0.1 -0.1)\">\r\n       <defs>\r\n        <path d=\"M 18.109375 8.203125 \r\nL 18.109375 -20.796875 \r\nL 9.078125 -20.796875 \r\nL 9.078125 54.6875 \r\nL 18.109375 54.6875 \r\nL 18.109375 46.390625 \r\nQ 20.953125 51.265625 25.265625 53.625 \r\nQ 29.59375 56 35.59375 56 \r\nQ 45.5625 56 51.78125 48.09375 \r\nQ 58.015625 40.1875 58.015625 27.296875 \r\nQ 58.015625 14.40625 51.78125 6.484375 \r\nQ 45.5625 -1.421875 35.59375 -1.421875 \r\nQ 29.59375 -1.421875 25.265625 0.953125 \r\nQ 20.953125 3.328125 18.109375 8.203125 \r\nz\r\nM 48.6875 27.296875 \r\nQ 48.6875 37.203125 44.609375 42.84375 \r\nQ 40.53125 48.484375 33.40625 48.484375 \r\nQ 26.265625 48.484375 22.1875 42.84375 \r\nQ 18.109375 37.203125 18.109375 27.296875 \r\nQ 18.109375 17.390625 22.1875 11.75 \r\nQ 26.265625 6.109375 33.40625 6.109375 \r\nQ 40.53125 6.109375 44.609375 11.75 \r\nQ 48.6875 17.390625 48.6875 27.296875 \r\nz\r\n\" id=\"DejaVuSans-112\"/>\r\n        <path d=\"M 52 44.1875 \r\nQ 55.375 50.25 60.0625 53.125 \r\nQ 64.75 56 71.09375 56 \r\nQ 79.640625 56 84.28125 50.015625 \r\nQ 88.921875 44.046875 88.921875 33.015625 \r\nL 88.921875 0 \r\nL 79.890625 0 \r\nL 79.890625 32.71875 \r\nQ 79.890625 40.578125 77.09375 44.375 \r\nQ 74.3125 48.1875 68.609375 48.1875 \r\nQ 61.625 48.1875 57.5625 43.546875 \r\nQ 53.515625 38.921875 53.515625 30.90625 \r\nL 53.515625 0 \r\nL 44.484375 0 \r\nL 44.484375 32.71875 \r\nQ 44.484375 40.625 41.703125 44.40625 \r\nQ 38.921875 48.1875 33.109375 48.1875 \r\nQ 26.21875 48.1875 22.15625 43.53125 \r\nQ 18.109375 38.875 18.109375 30.90625 \r\nL 18.109375 0 \r\nL 9.078125 0 \r\nL 9.078125 54.6875 \r\nL 18.109375 54.6875 \r\nL 18.109375 46.1875 \r\nQ 21.1875 51.21875 25.484375 53.609375 \r\nQ 29.78125 56 35.6875 56 \r\nQ 41.65625 56 45.828125 52.96875 \r\nQ 50 49.953125 52 44.1875 \r\nz\r\n\" id=\"DejaVuSans-109\"/>\r\n       </defs>\r\n       <use xlink:href=\"#DejaVuSans-65\"/>\r\n       <use x=\"68.408203\" xlink:href=\"#DejaVuSans-112\"/>\r\n       <use x=\"131.884766\" xlink:href=\"#DejaVuSans-112\"/>\r\n       <use x=\"195.361328\" xlink:href=\"#DejaVuSans-111\"/>\r\n       <use x=\"256.542969\" xlink:href=\"#DejaVuSans-105\"/>\r\n       <use x=\"284.326172\" xlink:href=\"#DejaVuSans-110\"/>\r\n       <use x=\"347.705078\" xlink:href=\"#DejaVuSans-116\"/>\r\n       <use x=\"386.914062\" xlink:href=\"#DejaVuSans-109\"/>\r\n       <use x=\"484.326172\" xlink:href=\"#DejaVuSans-101\"/>\r\n       <use x=\"545.849609\" xlink:href=\"#DejaVuSans-110\"/>\r\n       <use x=\"609.228516\" xlink:href=\"#DejaVuSans-116\"/>\r\n       <use x=\"648.4375\" xlink:href=\"#DejaVuSans-32\"/>\r\n       <use x=\"680.224609\" xlink:href=\"#DejaVuSans-68\"/>\r\n       <use x=\"757.226562\" xlink:href=\"#DejaVuSans-97\"/>\r\n       <use x=\"818.505859\" xlink:href=\"#DejaVuSans-116\"/>\r\n       <use x=\"857.714844\" xlink:href=\"#DejaVuSans-101\"/>\r\n      </g>\r\n     </g>\r\n    </g>\r\n   </g>\r\n   <g id=\"matplotlib.axis_6\">\r\n    <g id=\"ytick_11\">\r\n     <g id=\"line2d_28\">\r\n      <g>\r\n       <use style=\"stroke:#000000;stroke-width:0.8;\" x=\"635.668842\" xlink:href=\"#m428149ee03\" y=\"210.107216\"/>\r\n      </g>\r\n     </g>\r\n     <g id=\"text_16\">\r\n      <!-- −0.04 -->\r\n      <g transform=\"translate(598.023529 213.906435)scale(0.1 -0.1)\">\r\n       <use xlink:href=\"#DejaVuSans-8722\"/>\r\n       <use x=\"83.789062\" xlink:href=\"#DejaVuSans-48\"/>\r\n       <use x=\"147.412109\" xlink:href=\"#DejaVuSans-46\"/>\r\n       <use x=\"179.199219\" xlink:href=\"#DejaVuSans-48\"/>\r\n       <use x=\"242.822266\" xlink:href=\"#DejaVuSans-52\"/>\r\n      </g>\r\n     </g>\r\n    </g>\r\n    <g id=\"ytick_12\">\r\n     <g id=\"line2d_29\">\r\n      <g>\r\n       <use style=\"stroke:#000000;stroke-width:0.8;\" x=\"635.668842\" xlink:href=\"#m428149ee03\" y=\"170.57267\"/>\r\n      </g>\r\n     </g>\r\n     <g id=\"text_17\">\r\n      <!-- −0.02 -->\r\n      <g transform=\"translate(598.023529 174.371889)scale(0.1 -0.1)\">\r\n       <use xlink:href=\"#DejaVuSans-8722\"/>\r\n       <use x=\"83.789062\" xlink:href=\"#DejaVuSans-48\"/>\r\n       <use x=\"147.412109\" xlink:href=\"#DejaVuSans-46\"/>\r\n       <use x=\"179.199219\" xlink:href=\"#DejaVuSans-48\"/>\r\n       <use x=\"242.822266\" xlink:href=\"#DejaVuSans-50\"/>\r\n      </g>\r\n     </g>\r\n    </g>\r\n    <g id=\"ytick_13\">\r\n     <g id=\"line2d_30\">\r\n      <g>\r\n       <use style=\"stroke:#000000;stroke-width:0.8;\" x=\"635.668842\" xlink:href=\"#m428149ee03\" y=\"131.038125\"/>\r\n      </g>\r\n     </g>\r\n     <g id=\"text_18\">\r\n      <!-- 0.00 -->\r\n      <g transform=\"translate(606.403217 134.837344)scale(0.1 -0.1)\">\r\n       <use xlink:href=\"#DejaVuSans-48\"/>\r\n       <use x=\"63.623047\" xlink:href=\"#DejaVuSans-46\"/>\r\n       <use x=\"95.410156\" xlink:href=\"#DejaVuSans-48\"/>\r\n       <use x=\"159.033203\" xlink:href=\"#DejaVuSans-48\"/>\r\n      </g>\r\n     </g>\r\n    </g>\r\n    <g id=\"ytick_14\">\r\n     <g id=\"line2d_31\">\r\n      <g>\r\n       <use style=\"stroke:#000000;stroke-width:0.8;\" x=\"635.668842\" xlink:href=\"#m428149ee03\" y=\"91.50358\"/>\r\n      </g>\r\n     </g>\r\n     <g id=\"text_19\">\r\n      <!-- 0.02 -->\r\n      <g transform=\"translate(606.403217 95.302798)scale(0.1 -0.1)\">\r\n       <use xlink:href=\"#DejaVuSans-48\"/>\r\n       <use x=\"63.623047\" xlink:href=\"#DejaVuSans-46\"/>\r\n       <use x=\"95.410156\" xlink:href=\"#DejaVuSans-48\"/>\r\n       <use x=\"159.033203\" xlink:href=\"#DejaVuSans-50\"/>\r\n      </g>\r\n     </g>\r\n    </g>\r\n    <g id=\"ytick_15\">\r\n     <g id=\"line2d_32\">\r\n      <g>\r\n       <use style=\"stroke:#000000;stroke-width:0.8;\" x=\"635.668842\" xlink:href=\"#m428149ee03\" y=\"51.969034\"/>\r\n      </g>\r\n     </g>\r\n     <g id=\"text_20\">\r\n      <!-- 0.04 -->\r\n      <g transform=\"translate(606.403217 55.768253)scale(0.1 -0.1)\">\r\n       <use xlink:href=\"#DejaVuSans-48\"/>\r\n       <use x=\"63.623047\" xlink:href=\"#DejaVuSans-46\"/>\r\n       <use x=\"95.410156\" xlink:href=\"#DejaVuSans-48\"/>\r\n       <use x=\"159.033203\" xlink:href=\"#DejaVuSans-52\"/>\r\n      </g>\r\n     </g>\r\n    </g>\r\n   </g>\r\n   <g id=\"line2d_33\">\r\n    <path clip-path=\"url(#pce5e9b62c6)\" d=\"M 0 0 \r\n\" style=\"fill:none;stroke:#000000;stroke-linecap:square;\"/>\r\n   </g>\r\n   <g id=\"line2d_34\">\r\n    <path clip-path=\"url(#pce5e9b62c6)\" d=\"M 0 0 \r\n\" style=\"fill:none;stroke:#000000;stroke-linecap:square;\"/>\r\n   </g>\r\n   <g id=\"line2d_35\">\r\n    <path clip-path=\"url(#pce5e9b62c6)\" d=\"M 0 0 \r\n\" style=\"fill:none;stroke:#000000;stroke-linecap:square;\"/>\r\n   </g>\r\n   <g id=\"line2d_36\">\r\n    <path clip-path=\"url(#pce5e9b62c6)\" d=\"M 0 0 \r\n\" style=\"fill:none;stroke:#000000;stroke-linecap:square;\"/>\r\n   </g>\r\n   <g id=\"line2d_37\">\r\n    <path clip-path=\"url(#pce5e9b62c6)\" d=\"M 0 0 \r\n\" style=\"fill:none;stroke:#000000;stroke-linecap:square;\"/>\r\n   </g>\r\n   <g id=\"line2d_38\"/>\r\n   <g id=\"line2d_39\">\r\n    <path clip-path=\"url(#pce5e9b62c6)\" d=\"M 0 0 \r\n\" style=\"fill:none;stroke:#ff7f0e;stroke-linecap:square;\"/>\r\n   </g>\r\n   <g id=\"patch_13\">\r\n    <path d=\"M 635.668842 239.758125 \r\nL 635.668842 22.318125 \r\n\" style=\"fill:none;stroke:#000000;stroke-linecap:square;stroke-linejoin:miter;stroke-width:0.8;\"/>\r\n   </g>\r\n   <g id=\"patch_14\">\r\n    <path d=\"M 881.845313 239.758125 \r\nL 881.845313 22.318125 \r\n\" style=\"fill:none;stroke:#000000;stroke-linecap:square;stroke-linejoin:miter;stroke-width:0.8;\"/>\r\n   </g>\r\n   <g id=\"patch_15\">\r\n    <path d=\"M 635.668842 239.758125 \r\nL 881.845313 239.758125 \r\n\" style=\"fill:none;stroke:#000000;stroke-linecap:square;stroke-linejoin:miter;stroke-width:0.8;\"/>\r\n   </g>\r\n   <g id=\"patch_16\">\r\n    <path d=\"M 635.668842 22.318125 \r\nL 881.845313 22.318125 \r\n\" style=\"fill:none;stroke:#000000;stroke-linecap:square;stroke-linejoin:miter;stroke-width:0.8;\"/>\r\n   </g>\r\n   <g id=\"text_21\">\r\n    <!-- Appointment Date for DETE Survey -->\r\n    <g transform=\"translate(652.892702 16.318125)scale(0.12 -0.12)\">\r\n     <use xlink:href=\"#DejaVuSans-65\"/>\r\n     <use x=\"68.408203\" xlink:href=\"#DejaVuSans-112\"/>\r\n     <use x=\"131.884766\" xlink:href=\"#DejaVuSans-112\"/>\r\n     <use x=\"195.361328\" xlink:href=\"#DejaVuSans-111\"/>\r\n     <use x=\"256.542969\" xlink:href=\"#DejaVuSans-105\"/>\r\n     <use x=\"284.326172\" xlink:href=\"#DejaVuSans-110\"/>\r\n     <use x=\"347.705078\" xlink:href=\"#DejaVuSans-116\"/>\r\n     <use x=\"386.914062\" xlink:href=\"#DejaVuSans-109\"/>\r\n     <use x=\"484.326172\" xlink:href=\"#DejaVuSans-101\"/>\r\n     <use x=\"545.849609\" xlink:href=\"#DejaVuSans-110\"/>\r\n     <use x=\"609.228516\" xlink:href=\"#DejaVuSans-116\"/>\r\n     <use x=\"648.4375\" xlink:href=\"#DejaVuSans-32\"/>\r\n     <use x=\"680.224609\" xlink:href=\"#DejaVuSans-68\"/>\r\n     <use x=\"757.226562\" xlink:href=\"#DejaVuSans-97\"/>\r\n     <use x=\"818.505859\" xlink:href=\"#DejaVuSans-116\"/>\r\n     <use x=\"857.714844\" xlink:href=\"#DejaVuSans-101\"/>\r\n     <use x=\"919.238281\" xlink:href=\"#DejaVuSans-32\"/>\r\n     <use x=\"951.025391\" xlink:href=\"#DejaVuSans-102\"/>\r\n     <use x=\"986.230469\" xlink:href=\"#DejaVuSans-111\"/>\r\n     <use x=\"1047.412109\" xlink:href=\"#DejaVuSans-114\"/>\r\n     <use x=\"1088.525391\" xlink:href=\"#DejaVuSans-32\"/>\r\n     <use x=\"1120.3125\" xlink:href=\"#DejaVuSans-68\"/>\r\n     <use x=\"1197.314453\" xlink:href=\"#DejaVuSans-69\"/>\r\n     <use x=\"1260.498047\" xlink:href=\"#DejaVuSans-84\"/>\r\n     <use x=\"1321.582031\" xlink:href=\"#DejaVuSans-69\"/>\r\n     <use x=\"1384.765625\" xlink:href=\"#DejaVuSans-32\"/>\r\n     <use x=\"1416.552734\" xlink:href=\"#DejaVuSans-83\"/>\r\n     <use x=\"1480.029297\" xlink:href=\"#DejaVuSans-117\"/>\r\n     <use x=\"1543.408203\" xlink:href=\"#DejaVuSans-114\"/>\r\n     <use x=\"1584.521484\" xlink:href=\"#DejaVuSans-118\"/>\r\n     <use x=\"1643.701172\" xlink:href=\"#DejaVuSans-101\"/>\r\n     <use x=\"1705.224609\" xlink:href=\"#DejaVuSans-121\"/>\r\n    </g>\r\n   </g>\r\n  </g>\r\n </g>\r\n <defs>\r\n  <clipPath id=\"pe97fa2678c\">\r\n   <rect height=\"217.44\" width=\"246.176471\" x=\"44.845313\" y=\"22.318125\"/>\r\n  </clipPath>\r\n  <clipPath id=\"p118777cc51\">\r\n   <rect height=\"217.44\" width=\"246.176471\" x=\"340.257077\" y=\"22.318125\"/>\r\n  </clipPath>\r\n  <clipPath id=\"pce5e9b62c6\">\r\n   <rect height=\"217.44\" width=\"246.176471\" x=\"635.668842\" y=\"22.318125\"/>\r\n  </clipPath>\r\n </defs>\r\n</svg>\r\n",
      "image/png": "[encoded data removed]"
     },
     "metadata": {
      "needs_background": "light"
     }
    }
   ],
   "source": [
    "# Visualizing outliers for stop date column\n",
    "fig = plt.figure(figsize = (15, 4))\n",
    "ax = fig.add_subplot(1, 3, 1)\n",
    "ax2 = fig.add_subplot(1, 3, 2)\n",
    "ax3 = fig.add_subplot(1, 3, 3)\n",
    "\n",
    "ax.boxplot(tafe_resignation['cease_date'])\n",
    "ax.set_xticklabels(['Resignation date'])\n",
    "ax.set_title('Resignation Date for TAFE Survey')\n",
    "\n",
    "ax2.boxplot(dete_resignation['cease_date'])\n",
    "ax2.set_xticklabels(['Resignation date'])\n",
    "ax2.set_title('Resignation Date for DETE Survey')\n",
    "\n",
    "ax3.boxplot(dete_resignation['dete_start_date'])\n",
    "ax3.set_xticklabels(['Appointment Date'])\n",
    "ax3.set_title('Appointment Date for DETE Survey')\n",
    "\n",
    "plt.show()"
   ]
  },
  {
   "cell_type": "markdown",
   "metadata": {},
   "source": [
    "The above box plots shows that:\n",
    "- The 2009 resignation date is recognized as an outlier for the `tafe_survey`\n",
    "- 50% of the resignation dates in `dete_survey` is in 2012. The number of resignations in 2006 and 2010 are too few and considered an outlier.\n",
    "- The Start date for `dete_survey` is has a number of outlier between 1963 and 1982, with over 50% of appointments dates being between 1980 and 2005\n",
    "\n",
    "Also, the above conclusions can be drawn based on our findings:\n",
    "\n",
    "- The years in both dataframes don't completely align. The tafe_survey_updated dataframe contains some cease dates in 2009, but the dete_survey_updated dataframe does not. The tafe_survey_updated dataframe also contains many more cease dates in 2010 than the dete_survey_updaed dataframe. Since we aren't concerned with analyzing the results by year, we'll leave them as is.\n",
    "\n",
    "Now that we've verified the years in the `dete_resignations` dataframe, we'll use them to create a new column. Recall that our end goal is to answer the following question:\n",
    "\n",
    "- Are employees who have only worked for the institutes for a short period of time resigning due to some kind of dissatisfaction? What about employees who have been at the job longer?\n",
    "\n",
    "In the Human Resources field, the length of time an employee spent in a workplace is referred to as their **years of service**.\n",
    "\n",
    "You may have noticed that the `tafe_resignations` dataframe already contains a \"service\" column, which we renamed to `institute_service`. In order to analyze both surveys together, we'll have to create a corresponding `institute_service` column in `dete_resignations`.\n",
    "\n",
    "## Get the years of sercice for `dete_resignation` survey"
   ]
  },
  {
   "cell_type": "code",
   "execution_count": 76,
   "metadata": {},
   "outputs": [
    {
     "output_type": "execute_result",
     "data": {
      "text/plain": [
       "    id separationtype  cease_date  dete_start_date  role_start_date  \\\n",
       "3    4    Resignation      2012.0           2005.0           2006.0   \n",
       "5    6    Resignation      2012.0           1994.0           1997.0   \n",
       "8    9    Resignation      2012.0           2009.0           2009.0   \n",
       "9   10    Resignation      2012.0           1997.0           2008.0   \n",
       "11  12    Resignation      2012.0           2009.0           2009.0   \n",
       "\n",
       "            position classification                region  \\\n",
       "3            Teacher        Primary    Central Queensland   \n",
       "5   Guidance Officer            NaN        Central Office   \n",
       "8            Teacher      Secondary      North Queensland   \n",
       "9       Teacher Aide            NaN                   NaN   \n",
       "11           Teacher      Secondary  Far North Queensland   \n",
       "\n",
       "           business_unit    employment_status  career_move_to_public_sector  \\\n",
       "3                    NaN  Permanent Full-time                         False   \n",
       "5   Education Queensland  Permanent Full-time                         False   \n",
       "8                    NaN  Permanent Full-time                         False   \n",
       "9                    NaN  Permanent Part-time                         False   \n",
       "11                   NaN  Permanent Full-time                         False   \n",
       "\n",
       "    career_move_to_private_sector  interpersonal_conflicts  \\\n",
       "3                            True                    False   \n",
       "5                            True                    False   \n",
       "8                            True                    False   \n",
       "9                           False                     True   \n",
       "11                          False                    False   \n",
       "\n",
       "    job_dissatisfaction  dissatisfaction_with_the_department  \\\n",
       "3                 False                                False   \n",
       "5                 False                                False   \n",
       "8                 False                                False   \n",
       "9                  True                                 True   \n",
       "11                False                                False   \n",
       "\n",
       "    physical_work_environment  lack_of_recognition  lack_of_job_security  \\\n",
       "3                       False                False                 False   \n",
       "5                       False                False                 False   \n",
       "8                       False                False                 False   \n",
       "9                       False                False                 False   \n",
       "11                      False                False                 False   \n",
       "\n",
       "    work_location  employment_conditions  maternity/family  relocation  \\\n",
       "3           False                  False             False       False   \n",
       "5           False                   True              True       False   \n",
       "8           False                  False             False       False   \n",
       "9           False                  False             False       False   \n",
       "11          False                  False              True        True   \n",
       "\n",
       "    study/travel  ill_health  traumatic_incident  work_life_balance  workload  \\\n",
       "3          False       False               False              False     False   \n",
       "5          False       False               False              False     False   \n",
       "8          False       False               False              False     False   \n",
       "9          False       False               False              False     False   \n",
       "11         False       False               False              False     False   \n",
       "\n",
       "    none_of_the_above  gender    age aboriginal torres_strait south_sea  \\\n",
       "3               False  Female  36-40        NaN           NaN       NaN   \n",
       "5               False  Female  41-45        NaN           NaN       NaN   \n",
       "8               False  Female  31-35        NaN           NaN       NaN   \n",
       "9               False  Female  46-50        NaN           NaN       NaN   \n",
       "11              False    Male  31-35        NaN           NaN       NaN   \n",
       "\n",
       "   disability nesb  institute_service  \n",
       "3         NaN  NaN                7.0  \n",
       "5         NaN  NaN               18.0  \n",
       "8         NaN  NaN                3.0  \n",
       "9         NaN  NaN               15.0  \n",
       "11        NaN  NaN                3.0  "
      ],
      "text/html": "<div>\n<style scoped>\n    .dataframe tbody tr th:only-of-type {\n        vertical-align: middle;\n    }\n\n    .dataframe tbody tr th {\n        vertical-align: top;\n    }\n\n    .dataframe thead th {\n        text-align: right;\n    }\n</style>\n<table border=\"1\" class=\"dataframe\">\n  <thead>\n    <tr style=\"text-align: right;\">\n      <th></th>\n      <th>id</th>\n      <th>separationtype</th>\n      <th>cease_date</th>\n      <th>dete_start_date</th>\n      <th>role_start_date</th>\n      <th>position</th>\n      <th>classification</th>\n      <th>region</th>\n      <th>business_unit</th>\n      <th>employment_status</th>\n      <th>career_move_to_public_sector</th>\n      <th>career_move_to_private_sector</th>\n      <th>interpersonal_conflicts</th>\n      <th>job_dissatisfaction</th>\n      <th>dissatisfaction_with_the_department</th>\n      <th>physical_work_environment</th>\n      <th>lack_of_recognition</th>\n      <th>lack_of_job_security</th>\n      <th>work_location</th>\n      <th>employment_conditions</th>\n      <th>maternity/family</th>\n      <th>relocation</th>\n      <th>study/travel</th>\n      <th>ill_health</th>\n      <th>traumatic_incident</th>\n      <th>work_life_balance</th>\n      <th>workload</th>\n      <th>none_of_the_above</th>\n      <th>gender</th>\n      <th>age</th>\n      <th>aboriginal</th>\n      <th>torres_strait</th>\n      <th>south_sea</th>\n      <th>disability</th>\n      <th>nesb</th>\n      <th>institute_service</th>\n    </tr>\n  </thead>\n  <tbody>\n    <tr>\n      <th>3</th>\n      <td>4</td>\n      <td>Resignation</td>\n      <td>2012.0</td>\n      <td>2005.0</td>\n      <td>2006.0</td>\n      <td>Teacher</td>\n      <td>Primary</td>\n      <td>Central Queensland</td>\n      <td>NaN</td>\n      <td>Permanent Full-time</td>\n      <td>False</td>\n      <td>True</td>\n      <td>False</td>\n      <td>False</td>\n      <td>False</td>\n      <td>False</td>\n      <td>False</td>\n      <td>False</td>\n      <td>False</td>\n      <td>False</td>\n      <td>False</td>\n      <td>False</td>\n      <td>False</td>\n      <td>False</td>\n      <td>False</td>\n      <td>False</td>\n      <td>False</td>\n      <td>False</td>\n      <td>Female</td>\n      <td>36-40</td>\n      <td>NaN</td>\n      <td>NaN</td>\n      <td>NaN</td>\n      <td>NaN</td>\n      <td>NaN</td>\n      <td>7.0</td>\n    </tr>\n    <tr>\n      <th>5</th>\n      <td>6</td>\n      <td>Resignation</td>\n      <td>2012.0</td>\n      <td>1994.0</td>\n      <td>1997.0</td>\n      <td>Guidance Officer</td>\n      <td>NaN</td>\n      <td>Central Office</td>\n      <td>Education Queensland</td>\n      <td>Permanent Full-time</td>\n      <td>False</td>\n      <td>True</td>\n      <td>False</td>\n      <td>False</td>\n      <td>False</td>\n      <td>False</td>\n      <td>False</td>\n      <td>False</td>\n      <td>False</td>\n      <td>True</td>\n      <td>True</td>\n      <td>False</td>\n      <td>False</td>\n      <td>False</td>\n      <td>False</td>\n      <td>False</td>\n      <td>False</td>\n      <td>False</td>\n      <td>Female</td>\n      <td>41-45</td>\n      <td>NaN</td>\n      <td>NaN</td>\n      <td>NaN</td>\n      <td>NaN</td>\n      <td>NaN</td>\n      <td>18.0</td>\n    </tr>\n    <tr>\n      <th>8</th>\n      <td>9</td>\n      <td>Resignation</td>\n      <td>2012.0</td>\n      <td>2009.0</td>\n      <td>2009.0</td>\n      <td>Teacher</td>\n      <td>Secondary</td>\n      <td>North Queensland</td>\n      <td>NaN</td>\n      <td>Permanent Full-time</td>\n      <td>False</td>\n      <td>True</td>\n      <td>False</td>\n      <td>False</td>\n      <td>False</td>\n      <td>False</td>\n      <td>False</td>\n      <td>False</td>\n      <td>False</td>\n      <td>False</td>\n      <td>False</td>\n      <td>False</td>\n      <td>False</td>\n      <td>False</td>\n      <td>False</td>\n      <td>False</td>\n      <td>False</td>\n      <td>False</td>\n      <td>Female</td>\n      <td>31-35</td>\n      <td>NaN</td>\n      <td>NaN</td>\n      <td>NaN</td>\n      <td>NaN</td>\n      <td>NaN</td>\n      <td>3.0</td>\n    </tr>\n    <tr>\n      <th>9</th>\n      <td>10</td>\n      <td>Resignation</td>\n      <td>2012.0</td>\n      <td>1997.0</td>\n      <td>2008.0</td>\n      <td>Teacher Aide</td>\n      <td>NaN</td>\n      <td>NaN</td>\n      <td>NaN</td>\n      <td>Permanent Part-time</td>\n      <td>False</td>\n      <td>False</td>\n      <td>True</td>\n      <td>True</td>\n      <td>True</td>\n      <td>False</td>\n      <td>False</td>\n      <td>False</td>\n      <td>False</td>\n      <td>False</td>\n      <td>False</td>\n      <td>False</td>\n      <td>False</td>\n      <td>False</td>\n      <td>False</td>\n      <td>False</td>\n      <td>False</td>\n      <td>False</td>\n      <td>Female</td>\n      <td>46-50</td>\n      <td>NaN</td>\n      <td>NaN</td>\n      <td>NaN</td>\n      <td>NaN</td>\n      <td>NaN</td>\n      <td>15.0</td>\n    </tr>\n    <tr>\n      <th>11</th>\n      <td>12</td>\n      <td>Resignation</td>\n      <td>2012.0</td>\n      <td>2009.0</td>\n      <td>2009.0</td>\n      <td>Teacher</td>\n      <td>Secondary</td>\n      <td>Far North Queensland</td>\n      <td>NaN</td>\n      <td>Permanent Full-time</td>\n      <td>False</td>\n      <td>False</td>\n      <td>False</td>\n      <td>False</td>\n      <td>False</td>\n      <td>False</td>\n      <td>False</td>\n      <td>False</td>\n      <td>False</td>\n      <td>False</td>\n      <td>True</td>\n      <td>True</td>\n      <td>False</td>\n      <td>False</td>\n      <td>False</td>\n      <td>False</td>\n      <td>False</td>\n      <td>False</td>\n      <td>Male</td>\n      <td>31-35</td>\n      <td>NaN</td>\n      <td>NaN</td>\n      <td>NaN</td>\n      <td>NaN</td>\n      <td>NaN</td>\n      <td>3.0</td>\n    </tr>\n  </tbody>\n</table>\n</div>"
     },
     "metadata": {},
     "execution_count": 76
    }
   ],
   "source": [
    "# new column showing the years of service for DETE survey\n",
    "dete_resignation['institute_service'] = dete_resignation['cease_date'] - dete_resignation['dete_start_date']\n",
    "\n",
    "# Quick view of the change we made\n",
    "dete_resignation.head()"
   ]
  },
  {
   "cell_type": "markdown",
   "metadata": {},
   "source": [
    "we created a new `institute_service` column that we'll use to analyze survey respondents according to their length of employment.Next, we'll identify any employees who resigned because they were dissatisfied.\n",
    "\n",
    "## Create a column that explicitly show worker's dissatisfaction\n",
    "\n",
    "Below are the columns we'll use to categorize employees as \"dissatisfied\" from each dataframe.\n",
    "- **`tafe_survey_updated`**:\n",
    "\n",
    "- `Contributing Factors. Dissatisfaction`\n",
    "- `Contributing Factors. Job Dissatisfaction`\n",
    "\n",
    "- **`dete_survey_updated`**:\n",
    "\n",
    "- `job_dissatisfaction`\n",
    "- `dissatisfaction_with_the_department`\n",
    "- `physical_work_environment`\n",
    "- `lack_of_recognition`\n",
    "- `lack_of_job_security`\n",
    "- `work_location`\n",
    "- `employment_conditions`\n",
    "- `work_life_balance`\n",
    "- `workload`\n",
    "\n",
    "If the employee indicated any of the factors above caused them to resign, we'll mark them as dissatisfied in a new column.\n",
    "\n",
    "To create the new column, we'll do the following:\n",
    "1. Convert the values in the `Contributing Factors. Dissatisfaction'` and `'Contributing Factors. Job Dissatisfaction'` columns in the `tafe_resignations` dataframe to `True`, `False`, or `NaN` values.\n",
    "2. If any of the columns listed above contain a `True` value, we'll add a `True` value to a new column named `dissatisfied`. To accomplish this, we'll use the [DataFrame.any() method](https://pandas.pydata.org/pandas-docs/stable/generated/pandas.DataFrame.any.html) to do the following:\n",
    "- Return `True` if any element in the selected columns above is `True`\n",
    "- Return `False` if none of the elements in the selected columns above is `True`\n",
    "- Return `NaN` if the value is `NaN`\n",
    "![employee_exit](img/employee_exit.png)\n",
    "Here's the syntax we can use:\n",
    "\n",
    "**`df.any(axis=1, skipna=False)`**\n",
    "\n",
    "After our changes, the new `dissatisfied` column will contain just the following values:\n",
    "\n",
    "- `True`: indicates a person resigned because they were dissatisfied with the job\n",
    "- `False`: indicates a person resigned because of a reason other than dissatisfaction with the job\n",
    "- `NaN`: indicates the value is missing"
   ]
  },
  {
   "cell_type": "code",
   "execution_count": 77,
   "metadata": {},
   "outputs": [
    {
     "output_type": "execute_result",
     "data": {
      "text/plain": [
       "-                                         277\n",
       "Contributing Factors. Dissatisfaction      55\n",
       "NaN                                         8\n",
       "Name: Contributing Factors. Dissatisfaction, dtype: int64"
      ]
     },
     "metadata": {},
     "execution_count": 77
    }
   ],
   "source": [
    "# Viewing the contributing factors column in tafe survey\n",
    "tafe_resignation['Contributing Factors. Dissatisfaction'].value_counts(dropna = False)"
   ]
  },
  {
   "cell_type": "code",
   "execution_count": 78,
   "metadata": {},
   "outputs": [
    {
     "output_type": "execute_result",
     "data": {
      "text/plain": [
       "-                      270\n",
       "Job Dissatisfaction     62\n",
       "NaN                      8\n",
       "Name: Contributing Factors. Job Dissatisfaction, dtype: int64"
      ]
     },
     "metadata": {},
     "execution_count": 78
    }
   ],
   "source": [
    "# Viewing the contributing factors column in tafe survey\n",
    "tafe_resignation['Contributing Factors. Job Dissatisfaction'].value_counts(dropna = False)"
   ]
  },
  {
   "cell_type": "code",
   "execution_count": 79,
   "metadata": {},
   "outputs": [
    {
     "output_type": "execute_result",
     "data": {
      "text/plain": [
       "False    241\n",
       "True      91\n",
       "NaN        8\n",
       "Name: dissatisfied, dtype: int64"
      ]
     },
     "metadata": {},
     "execution_count": 79
    }
   ],
   "source": [
    "# create a funcion that update the values in a column\n",
    "def update_val(element):\n",
    "    if pd.isnull(element):\n",
    "        return np.nan\n",
    "    elif element == '-':\n",
    "        return False\n",
    "    else:\n",
    "        return True\n",
    "\n",
    "# Update tafe_resignation values in the specified columns and create a new column\n",
    "tafe_resignation['dissatisfied'] = (tafe_resignation[['Contributing Factors. Dissatisfaction',\n",
    "                                                      'Contributing Factors. Job Dissatisfaction']]\n",
    "                                    .applymap(update_val)\n",
    "                                    .any(1, skipna = False))\n",
    "\n",
    "# create a copy of the result and avoid the SettingWithCopy Warning\n",
    "tafe_resignations_up = tafe_resignation.copy()\n",
    "\n",
    "# check if we got what we expected\n",
    "tafe_resignations_up['dissatisfied'].value_counts(dropna = False)"
   ]
  },
  {
   "cell_type": "code",
   "execution_count": 80,
   "metadata": {},
   "outputs": [
    {
     "output_type": "execute_result",
     "data": {
      "text/plain": [
       "False    162\n",
       "True     149\n",
       "Name: dissatisfied, dtype: int64"
      ]
     },
     "metadata": {},
     "execution_count": 80
    }
   ],
   "source": [
    "# Values in thes columns are already in the boolean type \n",
    "dete_resignation['dissatisfied'] = (dete_resignation[['job_dissatisfaction',\n",
    "                                                      'dissatisfaction_with_the_department',\n",
    "                                                      'physical_work_environment',\n",
    "                                                      'lack_of_recognition',\n",
    "                                                      'lack_of_job_security',\n",
    "                                                      'work_location',\n",
    "                                                      'employment_conditions',\n",
    "                                                      'work_life_balance',\n",
    "                                                      'workload']]\n",
    "                                   .any(1, skipna = False))\n",
    "\n",
    "# create a copy of the result and avoid the SettingWithCopy Warning\n",
    "dete_resignations_up = dete_resignation.copy()\n",
    "\n",
    "# check if we got what we expected\n",
    "dete_resignations_up['dissatisfied'].value_counts(dropna = False)"
   ]
  },
  {
   "cell_type": "markdown",
   "metadata": {},
   "source": [
    "Above, when working with the `tafe_resignation` datasets, we discovered that most of the values in the columns we needed to work with are represented with `-` which signifies that the respondent didn't resign due to job dissatisfaction. We updated this set of values to `False`, While updating the responses of `Job Dissatisfaction` in these columns to `True`, and mising values to `NaN`. We updated these values to a new column called `dissatisfied`, which now explicitly shows whether employees  that participated in `tafe_survey` left due to job dissatisfaction or not.\n",
    "\n",
    "When working with `dete_resignation`, we observed that the columns we needed to work with already holds boolean values, so we didn't bother updating them. We just assigned a new column also named `dissatisfied` which explicitly shows whether employees that participated in `dete_survey` left due to job dissatisfaction or not.\n",
    "\n",
    "We made these changes so that it will be easier to determine job dissatisfaction of employees, since all of these columns tries to measure job dissatisfaction in one way or another, if an employee tick `True` in at least on of the columns, then it is assumed that he due to job dissatisfation, but if he indicates `False` in all of the columns, then it means his resignation wasn't due to job dissatisfaction."
   ]
  },
  {
   "cell_type": "markdown",
   "metadata": {},
   "source": [
    "## Combining the DataSets\n",
    "\n",
    "To recap, we've accomplished the following:\n",
    "\n",
    "* Renamed our columns\n",
    "* Dropped any data not needed for our analysis\n",
    "* Verified the quality of our data\n",
    "* Created a new `institute_service` column\n",
    "* Cleaned the Contributing Factors columns\n",
    "* Created a new column indicating if an employee resigned because they were dissatisfied in some way\n",
    "\n",
    "Now, we're finally ready to combine our datasets! Our end goal is to aggregate the data according to the `institute_service` column, so when you combine the data, think about how to get the data into a form that's easy to aggregate.\n",
    "\n",
    "First, let's add a column to each dataframe that will allow us to easily distinguish between the two."
   ]
  },
  {
   "cell_type": "code",
   "execution_count": 81,
   "metadata": {},
   "outputs": [
    {
     "output_type": "execute_result",
     "data": {
      "text/plain": [
       "             id                              Institute  \\\n",
       "3  6.341400e+17            Mount Isa Institute of TAFE   \n",
       "4  6.341470e+17  Southern Queensland Institute of TAFE   \n",
       "5  6.341480e+17  Southern Queensland Institute of TAFE   \n",
       "6  6.341520e+17         Barrier Reef Institute of TAFE   \n",
       "7  6.341540e+17  Southern Queensland Institute of TAFE   \n",
       "\n",
       "                   WorkArea  cease_date separationtype  \\\n",
       "3  Non-Delivery (corporate)      2010.0    Resignation   \n",
       "4       Delivery (teaching)      2010.0    Resignation   \n",
       "5       Delivery (teaching)      2010.0    Resignation   \n",
       "6  Non-Delivery (corporate)      2010.0    Resignation   \n",
       "7       Delivery (teaching)      2010.0    Resignation   \n",
       "\n",
       "  Contributing Factors. Career Move - Public Sector   \\\n",
       "3                                                  -   \n",
       "4                                                  -   \n",
       "5                                                  -   \n",
       "6                                                  -   \n",
       "7                                                  -   \n",
       "\n",
       "  Contributing Factors. Career Move - Private Sector   \\\n",
       "3                                                  -    \n",
       "4                       Career Move - Private Sector    \n",
       "5                                                  -    \n",
       "6                       Career Move - Private Sector    \n",
       "7                                                  -    \n",
       "\n",
       "  Contributing Factors. Career Move - Self-employment  \\\n",
       "3                                                  -    \n",
       "4                                                  -    \n",
       "5                                                  -    \n",
       "6                                                  -    \n",
       "7                                                  -    \n",
       "\n",
       "  Contributing Factors. Ill Health Contributing Factors. Maternity/Family  \\\n",
       "3                                -                                      -   \n",
       "4                                -                                      -   \n",
       "5                                -                                      -   \n",
       "6                                -                       Maternity/Family   \n",
       "7                                -                                      -   \n",
       "\n",
       "  Contributing Factors. Dissatisfaction  \\\n",
       "3                                     -   \n",
       "4                                     -   \n",
       "5                                     -   \n",
       "6                                     -   \n",
       "7                                     -   \n",
       "\n",
       "  Contributing Factors. Job Dissatisfaction  \\\n",
       "3                                         -   \n",
       "4                                         -   \n",
       "5                                         -   \n",
       "6                                         -   \n",
       "7                                         -   \n",
       "\n",
       "  Contributing Factors. Interpersonal Conflict Contributing Factors. Study  \\\n",
       "3                                            -                           -   \n",
       "4                                            -                           -   \n",
       "5                                            -                           -   \n",
       "6                                            -                           -   \n",
       "7                                            -                           -   \n",
       "\n",
       "  Contributing Factors. Travel Contributing Factors. Other  \\\n",
       "3                       Travel                           -   \n",
       "4                            -                           -   \n",
       "5                            -                       Other   \n",
       "6                            -                       Other   \n",
       "7                            -                       Other   \n",
       "\n",
       "  Contributing Factors. NONE Gender.     What is your Gender?  \\\n",
       "3                          -                              NaN   \n",
       "4                          -                             Male   \n",
       "5                          -                           Female   \n",
       "6                          -                             Male   \n",
       "7                          -                             Male   \n",
       "\n",
       "  CurrentAge.     Current Age Employment Type.     Employment Type  \\\n",
       "3                         NaN                                  NaN   \n",
       "4                     41 – 45                  Permanent Full-time   \n",
       "5                 56 or older                      Contract/casual   \n",
       "6               20 or younger                  Temporary Full-time   \n",
       "7                     46 – 50                  Permanent Full-time   \n",
       "\n",
       "  Classification.     Classification institute_service role_service  \\\n",
       "3                                NaN               NaN          NaN   \n",
       "4            Teacher (including LVT)             4-Mar        4-Mar   \n",
       "5            Teacher (including LVT)            10-Jul       10-Jul   \n",
       "6                Administration (AO)             4-Mar        4-Mar   \n",
       "7            Teacher (including LVT)             4-Mar        4-Mar   \n",
       "\n",
       "  dissatisfied institute  \n",
       "3        False      TAFE  \n",
       "4        False      TAFE  \n",
       "5        False      TAFE  \n",
       "6        False      TAFE  \n",
       "7        False      TAFE  "
      ],
      "text/html": "<div>\n<style scoped>\n    .dataframe tbody tr th:only-of-type {\n        vertical-align: middle;\n    }\n\n    .dataframe tbody tr th {\n        vertical-align: top;\n    }\n\n    .dataframe thead th {\n        text-align: right;\n    }\n</style>\n<table border=\"1\" class=\"dataframe\">\n  <thead>\n    <tr style=\"text-align: right;\">\n      <th></th>\n      <th>id</th>\n      <th>Institute</th>\n      <th>WorkArea</th>\n      <th>cease_date</th>\n      <th>separationtype</th>\n      <th>Contributing Factors. Career Move - Public Sector</th>\n      <th>Contributing Factors. Career Move - Private Sector</th>\n      <th>Contributing Factors. Career Move - Self-employment</th>\n      <th>Contributing Factors. Ill Health</th>\n      <th>Contributing Factors. Maternity/Family</th>\n      <th>Contributing Factors. Dissatisfaction</th>\n      <th>Contributing Factors. Job Dissatisfaction</th>\n      <th>Contributing Factors. Interpersonal Conflict</th>\n      <th>Contributing Factors. Study</th>\n      <th>Contributing Factors. Travel</th>\n      <th>Contributing Factors. Other</th>\n      <th>Contributing Factors. NONE</th>\n      <th>Gender.     What is your Gender?</th>\n      <th>CurrentAge.     Current Age</th>\n      <th>Employment Type.     Employment Type</th>\n      <th>Classification.     Classification</th>\n      <th>institute_service</th>\n      <th>role_service</th>\n      <th>dissatisfied</th>\n      <th>institute</th>\n    </tr>\n  </thead>\n  <tbody>\n    <tr>\n      <th>3</th>\n      <td>6.341400e+17</td>\n      <td>Mount Isa Institute of TAFE</td>\n      <td>Non-Delivery (corporate)</td>\n      <td>2010.0</td>\n      <td>Resignation</td>\n      <td>-</td>\n      <td>-</td>\n      <td>-</td>\n      <td>-</td>\n      <td>-</td>\n      <td>-</td>\n      <td>-</td>\n      <td>-</td>\n      <td>-</td>\n      <td>Travel</td>\n      <td>-</td>\n      <td>-</td>\n      <td>NaN</td>\n      <td>NaN</td>\n      <td>NaN</td>\n      <td>NaN</td>\n      <td>NaN</td>\n      <td>NaN</td>\n      <td>False</td>\n      <td>TAFE</td>\n    </tr>\n    <tr>\n      <th>4</th>\n      <td>6.341470e+17</td>\n      <td>Southern Queensland Institute of TAFE</td>\n      <td>Delivery (teaching)</td>\n      <td>2010.0</td>\n      <td>Resignation</td>\n      <td>-</td>\n      <td>Career Move - Private Sector</td>\n      <td>-</td>\n      <td>-</td>\n      <td>-</td>\n      <td>-</td>\n      <td>-</td>\n      <td>-</td>\n      <td>-</td>\n      <td>-</td>\n      <td>-</td>\n      <td>-</td>\n      <td>Male</td>\n      <td>41 – 45</td>\n      <td>Permanent Full-time</td>\n      <td>Teacher (including LVT)</td>\n      <td>4-Mar</td>\n      <td>4-Mar</td>\n      <td>False</td>\n      <td>TAFE</td>\n    </tr>\n    <tr>\n      <th>5</th>\n      <td>6.341480e+17</td>\n      <td>Southern Queensland Institute of TAFE</td>\n      <td>Delivery (teaching)</td>\n      <td>2010.0</td>\n      <td>Resignation</td>\n      <td>-</td>\n      <td>-</td>\n      <td>-</td>\n      <td>-</td>\n      <td>-</td>\n      <td>-</td>\n      <td>-</td>\n      <td>-</td>\n      <td>-</td>\n      <td>-</td>\n      <td>Other</td>\n      <td>-</td>\n      <td>Female</td>\n      <td>56 or older</td>\n      <td>Contract/casual</td>\n      <td>Teacher (including LVT)</td>\n      <td>10-Jul</td>\n      <td>10-Jul</td>\n      <td>False</td>\n      <td>TAFE</td>\n    </tr>\n    <tr>\n      <th>6</th>\n      <td>6.341520e+17</td>\n      <td>Barrier Reef Institute of TAFE</td>\n      <td>Non-Delivery (corporate)</td>\n      <td>2010.0</td>\n      <td>Resignation</td>\n      <td>-</td>\n      <td>Career Move - Private Sector</td>\n      <td>-</td>\n      <td>-</td>\n      <td>Maternity/Family</td>\n      <td>-</td>\n      <td>-</td>\n      <td>-</td>\n      <td>-</td>\n      <td>-</td>\n      <td>Other</td>\n      <td>-</td>\n      <td>Male</td>\n      <td>20 or younger</td>\n      <td>Temporary Full-time</td>\n      <td>Administration (AO)</td>\n      <td>4-Mar</td>\n      <td>4-Mar</td>\n      <td>False</td>\n      <td>TAFE</td>\n    </tr>\n    <tr>\n      <th>7</th>\n      <td>6.341540e+17</td>\n      <td>Southern Queensland Institute of TAFE</td>\n      <td>Delivery (teaching)</td>\n      <td>2010.0</td>\n      <td>Resignation</td>\n      <td>-</td>\n      <td>-</td>\n      <td>-</td>\n      <td>-</td>\n      <td>-</td>\n      <td>-</td>\n      <td>-</td>\n      <td>-</td>\n      <td>-</td>\n      <td>-</td>\n      <td>Other</td>\n      <td>-</td>\n      <td>Male</td>\n      <td>46 – 50</td>\n      <td>Permanent Full-time</td>\n      <td>Teacher (including LVT)</td>\n      <td>4-Mar</td>\n      <td>4-Mar</td>\n      <td>False</td>\n      <td>TAFE</td>\n    </tr>\n  </tbody>\n</table>\n</div>"
     },
     "metadata": {},
     "execution_count": 81
    }
   ],
   "source": [
    "# add a column that holds all values as DETE \n",
    "dete_resignations_up['institute'] = 'DETE'\n",
    "\n",
    "# add a column that holds all values as TAFE\n",
    "tafe_resignations_up['institute'] = 'TAFE'\n",
    "\n",
    "# Check our result for conformity\n",
    "tafe_resignations_up.head()"
   ]
  },
  {
   "cell_type": "code",
   "execution_count": 82,
   "metadata": {},
   "outputs": [
    {
     "output_type": "execute_result",
     "data": {
      "text/plain": [
       "    id separationtype  cease_date  dete_start_date  role_start_date  \\\n",
       "3    4    Resignation      2012.0           2005.0           2006.0   \n",
       "5    6    Resignation      2012.0           1994.0           1997.0   \n",
       "8    9    Resignation      2012.0           2009.0           2009.0   \n",
       "9   10    Resignation      2012.0           1997.0           2008.0   \n",
       "11  12    Resignation      2012.0           2009.0           2009.0   \n",
       "\n",
       "            position classification                region  \\\n",
       "3            Teacher        Primary    Central Queensland   \n",
       "5   Guidance Officer            NaN        Central Office   \n",
       "8            Teacher      Secondary      North Queensland   \n",
       "9       Teacher Aide            NaN                   NaN   \n",
       "11           Teacher      Secondary  Far North Queensland   \n",
       "\n",
       "           business_unit    employment_status  career_move_to_public_sector  \\\n",
       "3                    NaN  Permanent Full-time                         False   \n",
       "5   Education Queensland  Permanent Full-time                         False   \n",
       "8                    NaN  Permanent Full-time                         False   \n",
       "9                    NaN  Permanent Part-time                         False   \n",
       "11                   NaN  Permanent Full-time                         False   \n",
       "\n",
       "    career_move_to_private_sector  interpersonal_conflicts  \\\n",
       "3                            True                    False   \n",
       "5                            True                    False   \n",
       "8                            True                    False   \n",
       "9                           False                     True   \n",
       "11                          False                    False   \n",
       "\n",
       "    job_dissatisfaction  dissatisfaction_with_the_department  \\\n",
       "3                 False                                False   \n",
       "5                 False                                False   \n",
       "8                 False                                False   \n",
       "9                  True                                 True   \n",
       "11                False                                False   \n",
       "\n",
       "    physical_work_environment  lack_of_recognition  lack_of_job_security  \\\n",
       "3                       False                False                 False   \n",
       "5                       False                False                 False   \n",
       "8                       False                False                 False   \n",
       "9                       False                False                 False   \n",
       "11                      False                False                 False   \n",
       "\n",
       "    work_location  employment_conditions  maternity/family  relocation  \\\n",
       "3           False                  False             False       False   \n",
       "5           False                   True              True       False   \n",
       "8           False                  False             False       False   \n",
       "9           False                  False             False       False   \n",
       "11          False                  False              True        True   \n",
       "\n",
       "    study/travel  ill_health  traumatic_incident  work_life_balance  workload  \\\n",
       "3          False       False               False              False     False   \n",
       "5          False       False               False              False     False   \n",
       "8          False       False               False              False     False   \n",
       "9          False       False               False              False     False   \n",
       "11         False       False               False              False     False   \n",
       "\n",
       "    none_of_the_above  gender    age aboriginal torres_strait south_sea  \\\n",
       "3               False  Female  36-40        NaN           NaN       NaN   \n",
       "5               False  Female  41-45        NaN           NaN       NaN   \n",
       "8               False  Female  31-35        NaN           NaN       NaN   \n",
       "9               False  Female  46-50        NaN           NaN       NaN   \n",
       "11              False    Male  31-35        NaN           NaN       NaN   \n",
       "\n",
       "   disability nesb  institute_service  dissatisfied institute  \n",
       "3         NaN  NaN                7.0         False      DETE  \n",
       "5         NaN  NaN               18.0          True      DETE  \n",
       "8         NaN  NaN                3.0         False      DETE  \n",
       "9         NaN  NaN               15.0          True      DETE  \n",
       "11        NaN  NaN                3.0         False      DETE  "
      ],
      "text/html": "<div>\n<style scoped>\n    .dataframe tbody tr th:only-of-type {\n        vertical-align: middle;\n    }\n\n    .dataframe tbody tr th {\n        vertical-align: top;\n    }\n\n    .dataframe thead th {\n        text-align: right;\n    }\n</style>\n<table border=\"1\" class=\"dataframe\">\n  <thead>\n    <tr style=\"text-align: right;\">\n      <th></th>\n      <th>id</th>\n      <th>separationtype</th>\n      <th>cease_date</th>\n      <th>dete_start_date</th>\n      <th>role_start_date</th>\n      <th>position</th>\n      <th>classification</th>\n      <th>region</th>\n      <th>business_unit</th>\n      <th>employment_status</th>\n      <th>career_move_to_public_sector</th>\n      <th>career_move_to_private_sector</th>\n      <th>interpersonal_conflicts</th>\n      <th>job_dissatisfaction</th>\n      <th>dissatisfaction_with_the_department</th>\n      <th>physical_work_environment</th>\n      <th>lack_of_recognition</th>\n      <th>lack_of_job_security</th>\n      <th>work_location</th>\n      <th>employment_conditions</th>\n      <th>maternity/family</th>\n      <th>relocation</th>\n      <th>study/travel</th>\n      <th>ill_health</th>\n      <th>traumatic_incident</th>\n      <th>work_life_balance</th>\n      <th>workload</th>\n      <th>none_of_the_above</th>\n      <th>gender</th>\n      <th>age</th>\n      <th>aboriginal</th>\n      <th>torres_strait</th>\n      <th>south_sea</th>\n      <th>disability</th>\n      <th>nesb</th>\n      <th>institute_service</th>\n      <th>dissatisfied</th>\n      <th>institute</th>\n    </tr>\n  </thead>\n  <tbody>\n    <tr>\n      <th>3</th>\n      <td>4</td>\n      <td>Resignation</td>\n      <td>2012.0</td>\n      <td>2005.0</td>\n      <td>2006.0</td>\n      <td>Teacher</td>\n      <td>Primary</td>\n      <td>Central Queensland</td>\n      <td>NaN</td>\n      <td>Permanent Full-time</td>\n      <td>False</td>\n      <td>True</td>\n      <td>False</td>\n      <td>False</td>\n      <td>False</td>\n      <td>False</td>\n      <td>False</td>\n      <td>False</td>\n      <td>False</td>\n      <td>False</td>\n      <td>False</td>\n      <td>False</td>\n      <td>False</td>\n      <td>False</td>\n      <td>False</td>\n      <td>False</td>\n      <td>False</td>\n      <td>False</td>\n      <td>Female</td>\n      <td>36-40</td>\n      <td>NaN</td>\n      <td>NaN</td>\n      <td>NaN</td>\n      <td>NaN</td>\n      <td>NaN</td>\n      <td>7.0</td>\n      <td>False</td>\n      <td>DETE</td>\n    </tr>\n    <tr>\n      <th>5</th>\n      <td>6</td>\n      <td>Resignation</td>\n      <td>2012.0</td>\n      <td>1994.0</td>\n      <td>1997.0</td>\n      <td>Guidance Officer</td>\n      <td>NaN</td>\n      <td>Central Office</td>\n      <td>Education Queensland</td>\n      <td>Permanent Full-time</td>\n      <td>False</td>\n      <td>True</td>\n      <td>False</td>\n      <td>False</td>\n      <td>False</td>\n      <td>False</td>\n      <td>False</td>\n      <td>False</td>\n      <td>False</td>\n      <td>True</td>\n      <td>True</td>\n      <td>False</td>\n      <td>False</td>\n      <td>False</td>\n      <td>False</td>\n      <td>False</td>\n      <td>False</td>\n      <td>False</td>\n      <td>Female</td>\n      <td>41-45</td>\n      <td>NaN</td>\n      <td>NaN</td>\n      <td>NaN</td>\n      <td>NaN</td>\n      <td>NaN</td>\n      <td>18.0</td>\n      <td>True</td>\n      <td>DETE</td>\n    </tr>\n    <tr>\n      <th>8</th>\n      <td>9</td>\n      <td>Resignation</td>\n      <td>2012.0</td>\n      <td>2009.0</td>\n      <td>2009.0</td>\n      <td>Teacher</td>\n      <td>Secondary</td>\n      <td>North Queensland</td>\n      <td>NaN</td>\n      <td>Permanent Full-time</td>\n      <td>False</td>\n      <td>True</td>\n      <td>False</td>\n      <td>False</td>\n      <td>False</td>\n      <td>False</td>\n      <td>False</td>\n      <td>False</td>\n      <td>False</td>\n      <td>False</td>\n      <td>False</td>\n      <td>False</td>\n      <td>False</td>\n      <td>False</td>\n      <td>False</td>\n      <td>False</td>\n      <td>False</td>\n      <td>False</td>\n      <td>Female</td>\n      <td>31-35</td>\n      <td>NaN</td>\n      <td>NaN</td>\n      <td>NaN</td>\n      <td>NaN</td>\n      <td>NaN</td>\n      <td>3.0</td>\n      <td>False</td>\n      <td>DETE</td>\n    </tr>\n    <tr>\n      <th>9</th>\n      <td>10</td>\n      <td>Resignation</td>\n      <td>2012.0</td>\n      <td>1997.0</td>\n      <td>2008.0</td>\n      <td>Teacher Aide</td>\n      <td>NaN</td>\n      <td>NaN</td>\n      <td>NaN</td>\n      <td>Permanent Part-time</td>\n      <td>False</td>\n      <td>False</td>\n      <td>True</td>\n      <td>True</td>\n      <td>True</td>\n      <td>False</td>\n      <td>False</td>\n      <td>False</td>\n      <td>False</td>\n      <td>False</td>\n      <td>False</td>\n      <td>False</td>\n      <td>False</td>\n      <td>False</td>\n      <td>False</td>\n      <td>False</td>\n      <td>False</td>\n      <td>False</td>\n      <td>Female</td>\n      <td>46-50</td>\n      <td>NaN</td>\n      <td>NaN</td>\n      <td>NaN</td>\n      <td>NaN</td>\n      <td>NaN</td>\n      <td>15.0</td>\n      <td>True</td>\n      <td>DETE</td>\n    </tr>\n    <tr>\n      <th>11</th>\n      <td>12</td>\n      <td>Resignation</td>\n      <td>2012.0</td>\n      <td>2009.0</td>\n      <td>2009.0</td>\n      <td>Teacher</td>\n      <td>Secondary</td>\n      <td>Far North Queensland</td>\n      <td>NaN</td>\n      <td>Permanent Full-time</td>\n      <td>False</td>\n      <td>False</td>\n      <td>False</td>\n      <td>False</td>\n      <td>False</td>\n      <td>False</td>\n      <td>False</td>\n      <td>False</td>\n      <td>False</td>\n      <td>False</td>\n      <td>True</td>\n      <td>True</td>\n      <td>False</td>\n      <td>False</td>\n      <td>False</td>\n      <td>False</td>\n      <td>False</td>\n      <td>False</td>\n      <td>Male</td>\n      <td>31-35</td>\n      <td>NaN</td>\n      <td>NaN</td>\n      <td>NaN</td>\n      <td>NaN</td>\n      <td>NaN</td>\n      <td>3.0</td>\n      <td>False</td>\n      <td>DETE</td>\n    </tr>\n  </tbody>\n</table>\n</div>"
     },
     "metadata": {},
     "execution_count": 82
    }
   ],
   "source": [
    "dete_resignations_up.head()"
   ]
  },
  {
   "cell_type": "code",
   "execution_count": 83,
   "metadata": {},
   "outputs": [
    {
     "output_type": "execute_result",
     "data": {
      "text/plain": [
       "    Classification.     Classification  \\\n",
       "0                                  NaN   \n",
       "1                                  NaN   \n",
       "2                                  NaN   \n",
       "3                                  NaN   \n",
       "4                                  NaN   \n",
       "..                                 ...   \n",
       "646                   Operational (OO)   \n",
       "647            Teacher (including LVT)   \n",
       "648                                NaN   \n",
       "649            Teacher (including LVT)   \n",
       "650                Administration (AO)   \n",
       "\n",
       "    Contributing Factors. Career Move - Private Sector   \\\n",
       "0                                                  NaN    \n",
       "1                                                  NaN    \n",
       "2                                                  NaN    \n",
       "3                                                  NaN    \n",
       "4                                                  NaN    \n",
       "..                                                 ...    \n",
       "646                       Career Move - Private Sector    \n",
       "647                                                  -    \n",
       "648                                                  -    \n",
       "649                                                  -    \n",
       "650                                                  -    \n",
       "\n",
       "    Contributing Factors. Career Move - Public Sector   \\\n",
       "0                                                  NaN   \n",
       "1                                                  NaN   \n",
       "2                                                  NaN   \n",
       "3                                                  NaN   \n",
       "4                                                  NaN   \n",
       "..                                                 ...   \n",
       "646                                                  -   \n",
       "647                        Career Move - Public Sector   \n",
       "648                        Career Move - Public Sector   \n",
       "649                                                  -   \n",
       "650                                                  -   \n",
       "\n",
       "    Contributing Factors. Career Move - Self-employment  \\\n",
       "0                                                  NaN    \n",
       "1                                                  NaN    \n",
       "2                                                  NaN    \n",
       "3                                                  NaN    \n",
       "4                                                  NaN    \n",
       "..                                                 ...    \n",
       "646                                                  -    \n",
       "647                                                  -    \n",
       "648                                                  -    \n",
       "649                                                  -    \n",
       "650                      Career Move - Self-employment    \n",
       "\n",
       "    Contributing Factors. Dissatisfaction Contributing Factors. Ill Health  \\\n",
       "0                                     NaN                              NaN   \n",
       "1                                     NaN                              NaN   \n",
       "2                                     NaN                              NaN   \n",
       "3                                     NaN                              NaN   \n",
       "4                                     NaN                              NaN   \n",
       "..                                    ...                              ...   \n",
       "646                                     -                                -   \n",
       "647                                     -                                -   \n",
       "648                                     -                                -   \n",
       "649                                     -                                -   \n",
       "650                                     -                                -   \n",
       "\n",
       "    Contributing Factors. Interpersonal Conflict  \\\n",
       "0                                            NaN   \n",
       "1                                            NaN   \n",
       "2                                            NaN   \n",
       "3                                            NaN   \n",
       "4                                            NaN   \n",
       "..                                           ...   \n",
       "646                                            -   \n",
       "647                                            -   \n",
       "648                                            -   \n",
       "649                                            -   \n",
       "650                                            -   \n",
       "\n",
       "    Contributing Factors. Job Dissatisfaction  \\\n",
       "0                                         NaN   \n",
       "1                                         NaN   \n",
       "2                                         NaN   \n",
       "3                                         NaN   \n",
       "4                                         NaN   \n",
       "..                                        ...   \n",
       "646                                         -   \n",
       "647                                         -   \n",
       "648                                         -   \n",
       "649                                         -   \n",
       "650                                         -   \n",
       "\n",
       "    Contributing Factors. Maternity/Family Contributing Factors. NONE  \\\n",
       "0                                      NaN                        NaN   \n",
       "1                                      NaN                        NaN   \n",
       "2                                      NaN                        NaN   \n",
       "3                                      NaN                        NaN   \n",
       "4                                      NaN                        NaN   \n",
       "..                                     ...                        ...   \n",
       "646                                      -                          -   \n",
       "647                                      -                          -   \n",
       "648                                      -                          -   \n",
       "649                                      -                          -   \n",
       "650                                      -                          -   \n",
       "\n",
       "    Contributing Factors. Other Contributing Factors. Study  \\\n",
       "0                           NaN                         NaN   \n",
       "1                           NaN                         NaN   \n",
       "2                           NaN                         NaN   \n",
       "3                           NaN                         NaN   \n",
       "4                           NaN                         NaN   \n",
       "..                          ...                         ...   \n",
       "646                           -                           -   \n",
       "647                           -                           -   \n",
       "648                           -                           -   \n",
       "649                       Other                           -   \n",
       "650                           -                           -   \n",
       "\n",
       "    Contributing Factors. Travel CurrentAge.     Current Age  \\\n",
       "0                            NaN                         NaN   \n",
       "1                            NaN                         NaN   \n",
       "2                            NaN                         NaN   \n",
       "3                            NaN                         NaN   \n",
       "4                            NaN                         NaN   \n",
       "..                           ...                         ...   \n",
       "646                            -                     21 – 25   \n",
       "647                            -                       51-55   \n",
       "648                            -                         NaN   \n",
       "649                            -                       51-55   \n",
       "650                       Travel                     26 – 30   \n",
       "\n",
       "    Employment Type.     Employment Type Gender.     What is your Gender?  \\\n",
       "0                                    NaN                              NaN   \n",
       "1                                    NaN                              NaN   \n",
       "2                                    NaN                              NaN   \n",
       "3                                    NaN                              NaN   \n",
       "4                                    NaN                              NaN   \n",
       "..                                   ...                              ...   \n",
       "646                  Temporary Full-time                             Male   \n",
       "647                  Temporary Full-time                             Male   \n",
       "648                                  NaN                              NaN   \n",
       "649                  Permanent Full-time                           Female   \n",
       "650                      Contract/casual                           Female   \n",
       "\n",
       "                                 Institute                  WorkArea  \\\n",
       "0                                      NaN                       NaN   \n",
       "1                                      NaN                       NaN   \n",
       "2                                      NaN                       NaN   \n",
       "3                                      NaN                       NaN   \n",
       "4                                      NaN                       NaN   \n",
       "..                                     ...                       ...   \n",
       "646  Southern Queensland Institute of TAFE  Non-Delivery (corporate)   \n",
       "647         Barrier Reef Institute of TAFE       Delivery (teaching)   \n",
       "648  Southern Queensland Institute of TAFE  Non-Delivery (corporate)   \n",
       "649       Tropical North Institute of TAFE       Delivery (teaching)   \n",
       "650       Tropical North Institute of TAFE  Non-Delivery (corporate)   \n",
       "\n",
       "    aboriginal    age         business_unit career_move_to_private_sector  \\\n",
       "0          NaN  36-40                   NaN                          True   \n",
       "1          NaN  41-45  Education Queensland                          True   \n",
       "2          NaN  31-35                   NaN                          True   \n",
       "3          NaN  46-50                   NaN                         False   \n",
       "4          NaN  31-35                   NaN                         False   \n",
       "..         ...    ...                   ...                           ...   \n",
       "646        NaN    NaN                   NaN                           NaN   \n",
       "647        NaN    NaN                   NaN                           NaN   \n",
       "648        NaN    NaN                   NaN                           NaN   \n",
       "649        NaN    NaN                   NaN                           NaN   \n",
       "650        NaN    NaN                   NaN                           NaN   \n",
       "\n",
       "    career_move_to_public_sector  cease_date classification  dete_start_date  \\\n",
       "0                          False      2012.0        Primary           2005.0   \n",
       "1                          False      2012.0            NaN           1994.0   \n",
       "2                          False      2012.0      Secondary           2009.0   \n",
       "3                          False      2012.0            NaN           1997.0   \n",
       "4                          False      2012.0      Secondary           2009.0   \n",
       "..                           ...         ...            ...              ...   \n",
       "646                          NaN      2013.0            NaN              NaN   \n",
       "647                          NaN      2013.0            NaN              NaN   \n",
       "648                          NaN      2013.0            NaN              NaN   \n",
       "649                          NaN      2013.0            NaN              NaN   \n",
       "650                          NaN      2013.0            NaN              NaN   \n",
       "\n",
       "    disability dissatisfaction_with_the_department dissatisfied  \\\n",
       "0          NaN                               False        False   \n",
       "1          NaN                               False         True   \n",
       "2          NaN                               False        False   \n",
       "3          NaN                                True         True   \n",
       "4          NaN                               False        False   \n",
       "..         ...                                 ...          ...   \n",
       "646        NaN                                 NaN        False   \n",
       "647        NaN                                 NaN        False   \n",
       "648        NaN                                 NaN        False   \n",
       "649        NaN                                 NaN        False   \n",
       "650        NaN                                 NaN        False   \n",
       "\n",
       "    employment_conditions    employment_status  gender            id  \\\n",
       "0                   False  Permanent Full-time  Female  4.000000e+00   \n",
       "1                    True  Permanent Full-time  Female  6.000000e+00   \n",
       "2                   False  Permanent Full-time  Female  9.000000e+00   \n",
       "3                   False  Permanent Part-time  Female  1.000000e+01   \n",
       "4                   False  Permanent Full-time    Male  1.200000e+01   \n",
       "..                    ...                  ...     ...           ...   \n",
       "646                   NaN                  NaN     NaN  6.350660e+17   \n",
       "647                   NaN                  NaN     NaN  6.350670e+17   \n",
       "648                   NaN                  NaN     NaN  6.350680e+17   \n",
       "649                   NaN                  NaN     NaN  6.350700e+17   \n",
       "650                   NaN                  NaN     NaN  6.350730e+17   \n",
       "\n",
       "    ill_health institute institute_service interpersonal_conflicts  \\\n",
       "0        False      DETE                 7                   False   \n",
       "1        False      DETE                18                   False   \n",
       "2        False      DETE                 3                   False   \n",
       "3        False      DETE                15                    True   \n",
       "4        False      DETE                 3                   False   \n",
       "..         ...       ...               ...                     ...   \n",
       "646        NaN      TAFE             6-May                     NaN   \n",
       "647        NaN      TAFE             2-Jan                     NaN   \n",
       "648        NaN      TAFE               NaN                     NaN   \n",
       "649        NaN      TAFE             6-May                     NaN   \n",
       "650        NaN      TAFE             4-Mar                     NaN   \n",
       "\n",
       "    job_dissatisfaction lack_of_job_security lack_of_recognition  \\\n",
       "0                 False                False               False   \n",
       "1                 False                False               False   \n",
       "2                 False                False               False   \n",
       "3                  True                False               False   \n",
       "4                 False                False               False   \n",
       "..                  ...                  ...                 ...   \n",
       "646                 NaN                  NaN                 NaN   \n",
       "647                 NaN                  NaN                 NaN   \n",
       "648                 NaN                  NaN                 NaN   \n",
       "649                 NaN                  NaN                 NaN   \n",
       "650                 NaN                  NaN                 NaN   \n",
       "\n",
       "    maternity/family nesb none_of_the_above physical_work_environment  \\\n",
       "0              False  NaN             False                     False   \n",
       "1               True  NaN             False                     False   \n",
       "2              False  NaN             False                     False   \n",
       "3              False  NaN             False                     False   \n",
       "4               True  NaN             False                     False   \n",
       "..               ...  ...               ...                       ...   \n",
       "646              NaN  NaN               NaN                       NaN   \n",
       "647              NaN  NaN               NaN                       NaN   \n",
       "648              NaN  NaN               NaN                       NaN   \n",
       "649              NaN  NaN               NaN                       NaN   \n",
       "650              NaN  NaN               NaN                       NaN   \n",
       "\n",
       "             position                region relocation role_service  \\\n",
       "0             Teacher    Central Queensland      False          NaN   \n",
       "1    Guidance Officer        Central Office      False          NaN   \n",
       "2             Teacher      North Queensland      False          NaN   \n",
       "3        Teacher Aide                   NaN      False          NaN   \n",
       "4             Teacher  Far North Queensland       True          NaN   \n",
       "..                ...                   ...        ...          ...   \n",
       "646               NaN                   NaN        NaN        6-May   \n",
       "647               NaN                   NaN        NaN        2-Jan   \n",
       "648               NaN                   NaN        NaN          NaN   \n",
       "649               NaN                   NaN        NaN        2-Jan   \n",
       "650               NaN                   NaN        NaN        2-Jan   \n",
       "\n",
       "     role_start_date separationtype south_sea study/travel torres_strait  \\\n",
       "0             2006.0    Resignation       NaN        False           NaN   \n",
       "1             1997.0    Resignation       NaN        False           NaN   \n",
       "2             2009.0    Resignation       NaN        False           NaN   \n",
       "3             2008.0    Resignation       NaN        False           NaN   \n",
       "4             2009.0    Resignation       NaN        False           NaN   \n",
       "..               ...            ...       ...          ...           ...   \n",
       "646              NaN    Resignation       NaN          NaN           NaN   \n",
       "647              NaN    Resignation       NaN          NaN           NaN   \n",
       "648              NaN    Resignation       NaN          NaN           NaN   \n",
       "649              NaN    Resignation       NaN          NaN           NaN   \n",
       "650              NaN    Resignation       NaN          NaN           NaN   \n",
       "\n",
       "    traumatic_incident work_life_balance work_location workload  \n",
       "0                False             False         False    False  \n",
       "1                False             False         False    False  \n",
       "2                False             False         False    False  \n",
       "3                False             False         False    False  \n",
       "4                False             False         False    False  \n",
       "..                 ...               ...           ...      ...  \n",
       "646                NaN               NaN           NaN      NaN  \n",
       "647                NaN               NaN           NaN      NaN  \n",
       "648                NaN               NaN           NaN      NaN  \n",
       "649                NaN               NaN           NaN      NaN  \n",
       "650                NaN               NaN           NaN      NaN  \n",
       "\n",
       "[651 rows x 57 columns]"
      ],
      "text/html": "<div>\n<style scoped>\n    .dataframe tbody tr th:only-of-type {\n        vertical-align: middle;\n    }\n\n    .dataframe tbody tr th {\n        vertical-align: top;\n    }\n\n    .dataframe thead th {\n        text-align: right;\n    }\n</style>\n<table border=\"1\" class=\"dataframe\">\n  <thead>\n    <tr style=\"text-align: right;\">\n      <th></th>\n      <th>Classification.     Classification</th>\n      <th>Contributing Factors. Career Move - Private Sector</th>\n      <th>Contributing Factors. Career Move - Public Sector</th>\n      <th>Contributing Factors. Career Move - Self-employment</th>\n      <th>Contributing Factors. Dissatisfaction</th>\n      <th>Contributing Factors. Ill Health</th>\n      <th>Contributing Factors. Interpersonal Conflict</th>\n      <th>Contributing Factors. Job Dissatisfaction</th>\n      <th>Contributing Factors. Maternity/Family</th>\n      <th>Contributing Factors. NONE</th>\n      <th>Contributing Factors. Other</th>\n      <th>Contributing Factors. Study</th>\n      <th>Contributing Factors. Travel</th>\n      <th>CurrentAge.     Current Age</th>\n      <th>Employment Type.     Employment Type</th>\n      <th>Gender.     What is your Gender?</th>\n      <th>Institute</th>\n      <th>WorkArea</th>\n      <th>aboriginal</th>\n      <th>age</th>\n      <th>business_unit</th>\n      <th>career_move_to_private_sector</th>\n      <th>career_move_to_public_sector</th>\n      <th>cease_date</th>\n      <th>classification</th>\n      <th>dete_start_date</th>\n      <th>disability</th>\n      <th>dissatisfaction_with_the_department</th>\n      <th>dissatisfied</th>\n      <th>employment_conditions</th>\n      <th>employment_status</th>\n      <th>gender</th>\n      <th>id</th>\n      <th>ill_health</th>\n      <th>institute</th>\n      <th>institute_service</th>\n      <th>interpersonal_conflicts</th>\n      <th>job_dissatisfaction</th>\n      <th>lack_of_job_security</th>\n      <th>lack_of_recognition</th>\n      <th>maternity/family</th>\n      <th>nesb</th>\n      <th>none_of_the_above</th>\n      <th>physical_work_environment</th>\n      <th>position</th>\n      <th>region</th>\n      <th>relocation</th>\n      <th>role_service</th>\n      <th>role_start_date</th>\n      <th>separationtype</th>\n      <th>south_sea</th>\n      <th>study/travel</th>\n      <th>torres_strait</th>\n      <th>traumatic_incident</th>\n      <th>work_life_balance</th>\n      <th>work_location</th>\n      <th>workload</th>\n    </tr>\n  </thead>\n  <tbody>\n    <tr>\n      <th>0</th>\n      <td>NaN</td>\n      <td>NaN</td>\n      <td>NaN</td>\n      <td>NaN</td>\n      <td>NaN</td>\n      <td>NaN</td>\n      <td>NaN</td>\n      <td>NaN</td>\n      <td>NaN</td>\n      <td>NaN</td>\n      <td>NaN</td>\n      <td>NaN</td>\n      <td>NaN</td>\n      <td>NaN</td>\n      <td>NaN</td>\n      <td>NaN</td>\n      <td>NaN</td>\n      <td>NaN</td>\n      <td>NaN</td>\n      <td>36-40</td>\n      <td>NaN</td>\n      <td>True</td>\n      <td>False</td>\n      <td>2012.0</td>\n      <td>Primary</td>\n      <td>2005.0</td>\n      <td>NaN</td>\n      <td>False</td>\n      <td>False</td>\n      <td>False</td>\n      <td>Permanent Full-time</td>\n      <td>Female</td>\n      <td>4.000000e+00</td>\n      <td>False</td>\n      <td>DETE</td>\n      <td>7</td>\n      <td>False</td>\n      <td>False</td>\n      <td>False</td>\n      <td>False</td>\n      <td>False</td>\n      <td>NaN</td>\n      <td>False</td>\n      <td>False</td>\n      <td>Teacher</td>\n      <td>Central Queensland</td>\n      <td>False</td>\n      <td>NaN</td>\n      <td>2006.0</td>\n      <td>Resignation</td>\n      <td>NaN</td>\n      <td>False</td>\n      <td>NaN</td>\n      <td>False</td>\n      <td>False</td>\n      <td>False</td>\n      <td>False</td>\n    </tr>\n    <tr>\n      <th>1</th>\n      <td>NaN</td>\n      <td>NaN</td>\n      <td>NaN</td>\n      <td>NaN</td>\n      <td>NaN</td>\n      <td>NaN</td>\n      <td>NaN</td>\n      <td>NaN</td>\n      <td>NaN</td>\n      <td>NaN</td>\n      <td>NaN</td>\n      <td>NaN</td>\n      <td>NaN</td>\n      <td>NaN</td>\n      <td>NaN</td>\n      <td>NaN</td>\n      <td>NaN</td>\n      <td>NaN</td>\n      <td>NaN</td>\n      <td>41-45</td>\n      <td>Education Queensland</td>\n      <td>True</td>\n      <td>False</td>\n      <td>2012.0</td>\n      <td>NaN</td>\n      <td>1994.0</td>\n      <td>NaN</td>\n      <td>False</td>\n      <td>True</td>\n      <td>True</td>\n      <td>Permanent Full-time</td>\n      <td>Female</td>\n      <td>6.000000e+00</td>\n      <td>False</td>\n      <td>DETE</td>\n      <td>18</td>\n      <td>False</td>\n      <td>False</td>\n      <td>False</td>\n      <td>False</td>\n      <td>True</td>\n      <td>NaN</td>\n      <td>False</td>\n      <td>False</td>\n      <td>Guidance Officer</td>\n      <td>Central Office</td>\n      <td>False</td>\n      <td>NaN</td>\n      <td>1997.0</td>\n      <td>Resignation</td>\n      <td>NaN</td>\n      <td>False</td>\n      <td>NaN</td>\n      <td>False</td>\n      <td>False</td>\n      <td>False</td>\n      <td>False</td>\n    </tr>\n    <tr>\n      <th>2</th>\n      <td>NaN</td>\n      <td>NaN</td>\n      <td>NaN</td>\n      <td>NaN</td>\n      <td>NaN</td>\n      <td>NaN</td>\n      <td>NaN</td>\n      <td>NaN</td>\n      <td>NaN</td>\n      <td>NaN</td>\n      <td>NaN</td>\n      <td>NaN</td>\n      <td>NaN</td>\n      <td>NaN</td>\n      <td>NaN</td>\n      <td>NaN</td>\n      <td>NaN</td>\n      <td>NaN</td>\n      <td>NaN</td>\n      <td>31-35</td>\n      <td>NaN</td>\n      <td>True</td>\n      <td>False</td>\n      <td>2012.0</td>\n      <td>Secondary</td>\n      <td>2009.0</td>\n      <td>NaN</td>\n      <td>False</td>\n      <td>False</td>\n      <td>False</td>\n      <td>Permanent Full-time</td>\n      <td>Female</td>\n      <td>9.000000e+00</td>\n      <td>False</td>\n      <td>DETE</td>\n      <td>3</td>\n      <td>False</td>\n      <td>False</td>\n      <td>False</td>\n      <td>False</td>\n      <td>False</td>\n      <td>NaN</td>\n      <td>False</td>\n      <td>False</td>\n      <td>Teacher</td>\n      <td>North Queensland</td>\n      <td>False</td>\n      <td>NaN</td>\n      <td>2009.0</td>\n      <td>Resignation</td>\n      <td>NaN</td>\n      <td>False</td>\n      <td>NaN</td>\n      <td>False</td>\n      <td>False</td>\n      <td>False</td>\n      <td>False</td>\n    </tr>\n    <tr>\n      <th>3</th>\n      <td>NaN</td>\n      <td>NaN</td>\n      <td>NaN</td>\n      <td>NaN</td>\n      <td>NaN</td>\n      <td>NaN</td>\n      <td>NaN</td>\n      <td>NaN</td>\n      <td>NaN</td>\n      <td>NaN</td>\n      <td>NaN</td>\n      <td>NaN</td>\n      <td>NaN</td>\n      <td>NaN</td>\n      <td>NaN</td>\n      <td>NaN</td>\n      <td>NaN</td>\n      <td>NaN</td>\n      <td>NaN</td>\n      <td>46-50</td>\n      <td>NaN</td>\n      <td>False</td>\n      <td>False</td>\n      <td>2012.0</td>\n      <td>NaN</td>\n      <td>1997.0</td>\n      <td>NaN</td>\n      <td>True</td>\n      <td>True</td>\n      <td>False</td>\n      <td>Permanent Part-time</td>\n      <td>Female</td>\n      <td>1.000000e+01</td>\n      <td>False</td>\n      <td>DETE</td>\n      <td>15</td>\n      <td>True</td>\n      <td>True</td>\n      <td>False</td>\n      <td>False</td>\n      <td>False</td>\n      <td>NaN</td>\n      <td>False</td>\n      <td>False</td>\n      <td>Teacher Aide</td>\n      <td>NaN</td>\n      <td>False</td>\n      <td>NaN</td>\n      <td>2008.0</td>\n      <td>Resignation</td>\n      <td>NaN</td>\n      <td>False</td>\n      <td>NaN</td>\n      <td>False</td>\n      <td>False</td>\n      <td>False</td>\n      <td>False</td>\n    </tr>\n    <tr>\n      <th>4</th>\n      <td>NaN</td>\n      <td>NaN</td>\n      <td>NaN</td>\n      <td>NaN</td>\n      <td>NaN</td>\n      <td>NaN</td>\n      <td>NaN</td>\n      <td>NaN</td>\n      <td>NaN</td>\n      <td>NaN</td>\n      <td>NaN</td>\n      <td>NaN</td>\n      <td>NaN</td>\n      <td>NaN</td>\n      <td>NaN</td>\n      <td>NaN</td>\n      <td>NaN</td>\n      <td>NaN</td>\n      <td>NaN</td>\n      <td>31-35</td>\n      <td>NaN</td>\n      <td>False</td>\n      <td>False</td>\n      <td>2012.0</td>\n      <td>Secondary</td>\n      <td>2009.0</td>\n      <td>NaN</td>\n      <td>False</td>\n      <td>False</td>\n      <td>False</td>\n      <td>Permanent Full-time</td>\n      <td>Male</td>\n      <td>1.200000e+01</td>\n      <td>False</td>\n      <td>DETE</td>\n      <td>3</td>\n      <td>False</td>\n      <td>False</td>\n      <td>False</td>\n      <td>False</td>\n      <td>True</td>\n      <td>NaN</td>\n      <td>False</td>\n      <td>False</td>\n      <td>Teacher</td>\n      <td>Far North Queensland</td>\n      <td>True</td>\n      <td>NaN</td>\n      <td>2009.0</td>\n      <td>Resignation</td>\n      <td>NaN</td>\n      <td>False</td>\n      <td>NaN</td>\n      <td>False</td>\n      <td>False</td>\n      <td>False</td>\n      <td>False</td>\n    </tr>\n    <tr>\n      <th>...</th>\n      <td>...</td>\n      <td>...</td>\n      <td>...</td>\n      <td>...</td>\n      <td>...</td>\n      <td>...</td>\n      <td>...</td>\n      <td>...</td>\n      <td>...</td>\n      <td>...</td>\n      <td>...</td>\n      <td>...</td>\n      <td>...</td>\n      <td>...</td>\n      <td>...</td>\n      <td>...</td>\n      <td>...</td>\n      <td>...</td>\n      <td>...</td>\n      <td>...</td>\n      <td>...</td>\n      <td>...</td>\n      <td>...</td>\n      <td>...</td>\n      <td>...</td>\n      <td>...</td>\n      <td>...</td>\n      <td>...</td>\n      <td>...</td>\n      <td>...</td>\n      <td>...</td>\n      <td>...</td>\n      <td>...</td>\n      <td>...</td>\n      <td>...</td>\n      <td>...</td>\n      <td>...</td>\n      <td>...</td>\n      <td>...</td>\n      <td>...</td>\n      <td>...</td>\n      <td>...</td>\n      <td>...</td>\n      <td>...</td>\n      <td>...</td>\n      <td>...</td>\n      <td>...</td>\n      <td>...</td>\n      <td>...</td>\n      <td>...</td>\n      <td>...</td>\n      <td>...</td>\n      <td>...</td>\n      <td>...</td>\n      <td>...</td>\n      <td>...</td>\n      <td>...</td>\n    </tr>\n    <tr>\n      <th>646</th>\n      <td>Operational (OO)</td>\n      <td>Career Move - Private Sector</td>\n      <td>-</td>\n      <td>-</td>\n      <td>-</td>\n      <td>-</td>\n      <td>-</td>\n      <td>-</td>\n      <td>-</td>\n      <td>-</td>\n      <td>-</td>\n      <td>-</td>\n      <td>-</td>\n      <td>21 – 25</td>\n      <td>Temporary Full-time</td>\n      <td>Male</td>\n      <td>Southern Queensland Institute of TAFE</td>\n      <td>Non-Delivery (corporate)</td>\n      <td>NaN</td>\n      <td>NaN</td>\n      <td>NaN</td>\n      <td>NaN</td>\n      <td>NaN</td>\n      <td>2013.0</td>\n      <td>NaN</td>\n      <td>NaN</td>\n      <td>NaN</td>\n      <td>NaN</td>\n      <td>False</td>\n      <td>NaN</td>\n      <td>NaN</td>\n      <td>NaN</td>\n      <td>6.350660e+17</td>\n      <td>NaN</td>\n      <td>TAFE</td>\n      <td>6-May</td>\n      <td>NaN</td>\n      <td>NaN</td>\n      <td>NaN</td>\n      <td>NaN</td>\n      <td>NaN</td>\n      <td>NaN</td>\n      <td>NaN</td>\n      <td>NaN</td>\n      <td>NaN</td>\n      <td>NaN</td>\n      <td>NaN</td>\n      <td>6-May</td>\n      <td>NaN</td>\n      <td>Resignation</td>\n      <td>NaN</td>\n      <td>NaN</td>\n      <td>NaN</td>\n      <td>NaN</td>\n      <td>NaN</td>\n      <td>NaN</td>\n      <td>NaN</td>\n    </tr>\n    <tr>\n      <th>647</th>\n      <td>Teacher (including LVT)</td>\n      <td>-</td>\n      <td>Career Move - Public Sector</td>\n      <td>-</td>\n      <td>-</td>\n      <td>-</td>\n      <td>-</td>\n      <td>-</td>\n      <td>-</td>\n      <td>-</td>\n      <td>-</td>\n      <td>-</td>\n      <td>-</td>\n      <td>51-55</td>\n      <td>Temporary Full-time</td>\n      <td>Male</td>\n      <td>Barrier Reef Institute of TAFE</td>\n      <td>Delivery (teaching)</td>\n      <td>NaN</td>\n      <td>NaN</td>\n      <td>NaN</td>\n      <td>NaN</td>\n      <td>NaN</td>\n      <td>2013.0</td>\n      <td>NaN</td>\n      <td>NaN</td>\n      <td>NaN</td>\n      <td>NaN</td>\n      <td>False</td>\n      <td>NaN</td>\n      <td>NaN</td>\n      <td>NaN</td>\n      <td>6.350670e+17</td>\n      <td>NaN</td>\n      <td>TAFE</td>\n      <td>2-Jan</td>\n      <td>NaN</td>\n      <td>NaN</td>\n      <td>NaN</td>\n      <td>NaN</td>\n      <td>NaN</td>\n      <td>NaN</td>\n      <td>NaN</td>\n      <td>NaN</td>\n      <td>NaN</td>\n      <td>NaN</td>\n      <td>NaN</td>\n      <td>2-Jan</td>\n      <td>NaN</td>\n      <td>Resignation</td>\n      <td>NaN</td>\n      <td>NaN</td>\n      <td>NaN</td>\n      <td>NaN</td>\n      <td>NaN</td>\n      <td>NaN</td>\n      <td>NaN</td>\n    </tr>\n    <tr>\n      <th>648</th>\n      <td>NaN</td>\n      <td>-</td>\n      <td>Career Move - Public Sector</td>\n      <td>-</td>\n      <td>-</td>\n      <td>-</td>\n      <td>-</td>\n      <td>-</td>\n      <td>-</td>\n      <td>-</td>\n      <td>-</td>\n      <td>-</td>\n      <td>-</td>\n      <td>NaN</td>\n      <td>NaN</td>\n      <td>NaN</td>\n      <td>Southern Queensland Institute of TAFE</td>\n      <td>Non-Delivery (corporate)</td>\n      <td>NaN</td>\n      <td>NaN</td>\n      <td>NaN</td>\n      <td>NaN</td>\n      <td>NaN</td>\n      <td>2013.0</td>\n      <td>NaN</td>\n      <td>NaN</td>\n      <td>NaN</td>\n      <td>NaN</td>\n      <td>False</td>\n      <td>NaN</td>\n      <td>NaN</td>\n      <td>NaN</td>\n      <td>6.350680e+17</td>\n      <td>NaN</td>\n      <td>TAFE</td>\n      <td>NaN</td>\n      <td>NaN</td>\n      <td>NaN</td>\n      <td>NaN</td>\n      <td>NaN</td>\n      <td>NaN</td>\n      <td>NaN</td>\n      <td>NaN</td>\n      <td>NaN</td>\n      <td>NaN</td>\n      <td>NaN</td>\n      <td>NaN</td>\n      <td>NaN</td>\n      <td>NaN</td>\n      <td>Resignation</td>\n      <td>NaN</td>\n      <td>NaN</td>\n      <td>NaN</td>\n      <td>NaN</td>\n      <td>NaN</td>\n      <td>NaN</td>\n      <td>NaN</td>\n    </tr>\n    <tr>\n      <th>649</th>\n      <td>Teacher (including LVT)</td>\n      <td>-</td>\n      <td>-</td>\n      <td>-</td>\n      <td>-</td>\n      <td>-</td>\n      <td>-</td>\n      <td>-</td>\n      <td>-</td>\n      <td>-</td>\n      <td>Other</td>\n      <td>-</td>\n      <td>-</td>\n      <td>51-55</td>\n      <td>Permanent Full-time</td>\n      <td>Female</td>\n      <td>Tropical North Institute of TAFE</td>\n      <td>Delivery (teaching)</td>\n      <td>NaN</td>\n      <td>NaN</td>\n      <td>NaN</td>\n      <td>NaN</td>\n      <td>NaN</td>\n      <td>2013.0</td>\n      <td>NaN</td>\n      <td>NaN</td>\n      <td>NaN</td>\n      <td>NaN</td>\n      <td>False</td>\n      <td>NaN</td>\n      <td>NaN</td>\n      <td>NaN</td>\n      <td>6.350700e+17</td>\n      <td>NaN</td>\n      <td>TAFE</td>\n      <td>6-May</td>\n      <td>NaN</td>\n      <td>NaN</td>\n      <td>NaN</td>\n      <td>NaN</td>\n      <td>NaN</td>\n      <td>NaN</td>\n      <td>NaN</td>\n      <td>NaN</td>\n      <td>NaN</td>\n      <td>NaN</td>\n      <td>NaN</td>\n      <td>2-Jan</td>\n      <td>NaN</td>\n      <td>Resignation</td>\n      <td>NaN</td>\n      <td>NaN</td>\n      <td>NaN</td>\n      <td>NaN</td>\n      <td>NaN</td>\n      <td>NaN</td>\n      <td>NaN</td>\n    </tr>\n    <tr>\n      <th>650</th>\n      <td>Administration (AO)</td>\n      <td>-</td>\n      <td>-</td>\n      <td>Career Move - Self-employment</td>\n      <td>-</td>\n      <td>-</td>\n      <td>-</td>\n      <td>-</td>\n      <td>-</td>\n      <td>-</td>\n      <td>-</td>\n      <td>-</td>\n      <td>Travel</td>\n      <td>26 – 30</td>\n      <td>Contract/casual</td>\n      <td>Female</td>\n      <td>Tropical North Institute of TAFE</td>\n      <td>Non-Delivery (corporate)</td>\n      <td>NaN</td>\n      <td>NaN</td>\n      <td>NaN</td>\n      <td>NaN</td>\n      <td>NaN</td>\n      <td>2013.0</td>\n      <td>NaN</td>\n      <td>NaN</td>\n      <td>NaN</td>\n      <td>NaN</td>\n      <td>False</td>\n      <td>NaN</td>\n      <td>NaN</td>\n      <td>NaN</td>\n      <td>6.350730e+17</td>\n      <td>NaN</td>\n      <td>TAFE</td>\n      <td>4-Mar</td>\n      <td>NaN</td>\n      <td>NaN</td>\n      <td>NaN</td>\n      <td>NaN</td>\n      <td>NaN</td>\n      <td>NaN</td>\n      <td>NaN</td>\n      <td>NaN</td>\n      <td>NaN</td>\n      <td>NaN</td>\n      <td>NaN</td>\n      <td>2-Jan</td>\n      <td>NaN</td>\n      <td>Resignation</td>\n      <td>NaN</td>\n      <td>NaN</td>\n      <td>NaN</td>\n      <td>NaN</td>\n      <td>NaN</td>\n      <td>NaN</td>\n      <td>NaN</td>\n    </tr>\n  </tbody>\n</table>\n<p>651 rows × 57 columns</p>\n</div>"
     },
     "metadata": {},
     "execution_count": 83
    }
   ],
   "source": [
    "# Combine the two datasets\n",
    "combined = pd.concat([dete_resignations_up, tafe_resignations_up], sort = True, ignore_index=True)\n",
    "combined"
   ]
  },
  {
   "cell_type": "code",
   "execution_count": 84,
   "metadata": {},
   "outputs": [
    {
     "output_type": "execute_result",
     "data": {
      "text/plain": [
       "torres_strait                                            0\n",
       "south_sea                                                3\n",
       "aboriginal                                               7\n",
       "disability                                               8\n",
       "nesb                                                     9\n",
       "business_unit                                           32\n",
       "classification                                         161\n",
       "region                                                 265\n",
       "role_start_date                                        271\n",
       "dete_start_date                                        283\n",
       "Classification.     Classification                     290\n",
       "Employment Type.     Employment Type                   290\n",
       "CurrentAge.     Current Age                            290\n",
       "Gender.     What is your Gender?                       290\n",
       "role_service                                           290\n",
       "gender                                                 302\n",
       "age                                                    306\n",
       "employment_status                                      307\n",
       "position                                               308\n",
       "ill_health                                             311\n",
       "interpersonal_conflicts                                311\n",
       "work_life_balance                                      311\n",
       "traumatic_incident                                     311\n",
       "study/travel                                           311\n",
       "physical_work_environment                              311\n",
       "none_of_the_above                                      311\n",
       "lack_of_recognition                                    311\n",
       "relocation                                             311\n",
       "maternity/family                                       311\n",
       "job_dissatisfaction                                    311\n",
       "lack_of_job_security                                   311\n",
       "workload                                               311\n",
       "work_location                                          311\n",
       "dissatisfaction_with_the_department                    311\n",
       "career_move_to_public_sector                           311\n",
       "career_move_to_private_sector                          311\n",
       "employment_conditions                                  311\n",
       "Contributing Factors. Other                            332\n",
       "Contributing Factors. Ill Health                       332\n",
       "Contributing Factors. Career Move - Public Sector      332\n",
       "Contributing Factors. Interpersonal Conflict           332\n",
       "Contributing Factors. Job Dissatisfaction              332\n",
       "Contributing Factors. Maternity/Family                 332\n",
       "Contributing Factors. NONE                             332\n",
       "Contributing Factors. Travel                           332\n",
       "Contributing Factors. Dissatisfaction                  332\n",
       "Contributing Factors. Career Move - Private Sector     332\n",
       "Contributing Factors. Study                            332\n",
       "Contributing Factors. Career Move - Self-employment    332\n",
       "Institute                                              340\n",
       "WorkArea                                               340\n",
       "institute_service                                      563\n",
       "cease_date                                             635\n",
       "dissatisfied                                           643\n",
       "institute                                              651\n",
       "separationtype                                         651\n",
       "id                                                     651\n",
       "dtype: int64"
      ]
     },
     "metadata": {},
     "execution_count": 84
    }
   ],
   "source": [
    "combined.notnull().sum().sort_values()"
   ]
  },
  {
   "cell_type": "markdown",
   "metadata": {},
   "source": [
    "## Clean the Column with mixed object types\n",
    "\n",
    "Above we see that most columns have over 50% null values. This doesn't do justice to our analysis, hence we'll drop columns with less than 500 valid values."
   ]
  },
  {
   "cell_type": "code",
   "execution_count": 85,
   "metadata": {},
   "outputs": [
    {
     "output_type": "execute_result",
     "data": {
      "text/plain": [
       "     cease_date dissatisfied            id institute institute_service  \\\n",
       "0        2012.0        False  4.000000e+00      DETE                 7   \n",
       "1        2012.0         True  6.000000e+00      DETE                18   \n",
       "2        2012.0        False  9.000000e+00      DETE                 3   \n",
       "3        2012.0         True  1.000000e+01      DETE                15   \n",
       "4        2012.0        False  1.200000e+01      DETE                 3   \n",
       "..          ...          ...           ...       ...               ...   \n",
       "646      2013.0        False  6.350660e+17      TAFE             6-May   \n",
       "647      2013.0        False  6.350670e+17      TAFE             2-Jan   \n",
       "648      2013.0        False  6.350680e+17      TAFE               NaN   \n",
       "649      2013.0        False  6.350700e+17      TAFE             6-May   \n",
       "650      2013.0        False  6.350730e+17      TAFE             4-Mar   \n",
       "\n",
       "    separationtype  \n",
       "0      Resignation  \n",
       "1      Resignation  \n",
       "2      Resignation  \n",
       "3      Resignation  \n",
       "4      Resignation  \n",
       "..             ...  \n",
       "646    Resignation  \n",
       "647    Resignation  \n",
       "648    Resignation  \n",
       "649    Resignation  \n",
       "650    Resignation  \n",
       "\n",
       "[651 rows x 6 columns]"
      ],
      "text/html": "<div>\n<style scoped>\n    .dataframe tbody tr th:only-of-type {\n        vertical-align: middle;\n    }\n\n    .dataframe tbody tr th {\n        vertical-align: top;\n    }\n\n    .dataframe thead th {\n        text-align: right;\n    }\n</style>\n<table border=\"1\" class=\"dataframe\">\n  <thead>\n    <tr style=\"text-align: right;\">\n      <th></th>\n      <th>cease_date</th>\n      <th>dissatisfied</th>\n      <th>id</th>\n      <th>institute</th>\n      <th>institute_service</th>\n      <th>separationtype</th>\n    </tr>\n  </thead>\n  <tbody>\n    <tr>\n      <th>0</th>\n      <td>2012.0</td>\n      <td>False</td>\n      <td>4.000000e+00</td>\n      <td>DETE</td>\n      <td>7</td>\n      <td>Resignation</td>\n    </tr>\n    <tr>\n      <th>1</th>\n      <td>2012.0</td>\n      <td>True</td>\n      <td>6.000000e+00</td>\n      <td>DETE</td>\n      <td>18</td>\n      <td>Resignation</td>\n    </tr>\n    <tr>\n      <th>2</th>\n      <td>2012.0</td>\n      <td>False</td>\n      <td>9.000000e+00</td>\n      <td>DETE</td>\n      <td>3</td>\n      <td>Resignation</td>\n    </tr>\n    <tr>\n      <th>3</th>\n      <td>2012.0</td>\n      <td>True</td>\n      <td>1.000000e+01</td>\n      <td>DETE</td>\n      <td>15</td>\n      <td>Resignation</td>\n    </tr>\n    <tr>\n      <th>4</th>\n      <td>2012.0</td>\n      <td>False</td>\n      <td>1.200000e+01</td>\n      <td>DETE</td>\n      <td>3</td>\n      <td>Resignation</td>\n    </tr>\n    <tr>\n      <th>...</th>\n      <td>...</td>\n      <td>...</td>\n      <td>...</td>\n      <td>...</td>\n      <td>...</td>\n      <td>...</td>\n    </tr>\n    <tr>\n      <th>646</th>\n      <td>2013.0</td>\n      <td>False</td>\n      <td>6.350660e+17</td>\n      <td>TAFE</td>\n      <td>6-May</td>\n      <td>Resignation</td>\n    </tr>\n    <tr>\n      <th>647</th>\n      <td>2013.0</td>\n      <td>False</td>\n      <td>6.350670e+17</td>\n      <td>TAFE</td>\n      <td>2-Jan</td>\n      <td>Resignation</td>\n    </tr>\n    <tr>\n      <th>648</th>\n      <td>2013.0</td>\n      <td>False</td>\n      <td>6.350680e+17</td>\n      <td>TAFE</td>\n      <td>NaN</td>\n      <td>Resignation</td>\n    </tr>\n    <tr>\n      <th>649</th>\n      <td>2013.0</td>\n      <td>False</td>\n      <td>6.350700e+17</td>\n      <td>TAFE</td>\n      <td>6-May</td>\n      <td>Resignation</td>\n    </tr>\n    <tr>\n      <th>650</th>\n      <td>2013.0</td>\n      <td>False</td>\n      <td>6.350730e+17</td>\n      <td>TAFE</td>\n      <td>4-Mar</td>\n      <td>Resignation</td>\n    </tr>\n  </tbody>\n</table>\n<p>651 rows × 6 columns</p>\n</div>"
     },
     "metadata": {},
     "execution_count": 85
    }
   ],
   "source": [
    "combined_updated = combined.dropna(thresh = 500, axis = 1).copy()\n",
    "combined_updated"
   ]
  },
  {
   "cell_type": "markdown",
   "metadata": {},
   "source": [
    "Above, we dropped rows with less than 500 valid vaues. This makes our analysis more valid.\n",
    "\n",
    "Now that we've combined our dataframes, we're almost at a place where we can perform some kind of analysis! First, though, we'll have to clean up the `institute_service` column."
   ]
  },
  {
   "cell_type": "code",
   "execution_count": 86,
   "metadata": {},
   "outputs": [
    {
     "output_type": "execute_result",
     "data": {
      "text/plain": [
       "NaN                   88\n",
       "Less than 1 year      73\n",
       "2-Jan                 64\n",
       "4-Mar                 63\n",
       "6-May                 33\n",
       "20-Nov                26\n",
       "5.0                   23\n",
       "1.0                   22\n",
       "10-Jul                21\n",
       "3.0                   20\n",
       "0.0                   20\n",
       "6.0                   17\n",
       "4.0                   16\n",
       "2.0                   14\n",
       "9.0                   14\n",
       "7.0                   13\n",
       "More than 20 years    10\n",
       "8.0                    8\n",
       "13.0                   8\n",
       "15.0                   7\n",
       "20.0                   7\n",
       "10.0                   6\n",
       "12.0                   6\n",
       "14.0                   6\n",
       "17.0                   6\n",
       "22.0                   6\n",
       "18.0                   5\n",
       "16.0                   5\n",
       "24.0                   4\n",
       "11.0                   4\n",
       "23.0                   4\n",
       "21.0                   3\n",
       "32.0                   3\n",
       "19.0                   3\n",
       "39.0                   3\n",
       "26.0                   2\n",
       "28.0                   2\n",
       "30.0                   2\n",
       "25.0                   2\n",
       "36.0                   2\n",
       "38.0                   1\n",
       "49.0                   1\n",
       "42.0                   1\n",
       "41.0                   1\n",
       "33.0                   1\n",
       "35.0                   1\n",
       "34.0                   1\n",
       "29.0                   1\n",
       "27.0                   1\n",
       "31.0                   1\n",
       "Name: institute_service, dtype: int64"
      ]
     },
     "metadata": {},
     "execution_count": 86
    }
   ],
   "source": [
    "combined_updated['institute_service'].value_counts(dropna = False)"
   ]
  },
  {
   "cell_type": "markdown",
   "metadata": {},
   "source": [
    "This column is tricky to clean because it currently contains values in a couple different forms:\n",
    "- some are purely strings\n",
    "- some are purely floats\n",
    "- some are in day-date format\n",
    "- There are 88 missing values\n",
    "\n",
    "To analyze the data, we'll convert these numbers into categories. We'll base our anlaysis on [this article](https://www.businesswire.com/news/home/20171108006002/en/Age-Number-Engage-Employees-Career-Stage), which makes the argument that understanding employee's needs according to career stage instead of age is more effective.\n",
    "\n",
    "We'll use the slightly modified definitions below:\n",
    "\n",
    "- New: Less than 3 years at a company\n",
    "- Experienced: 3-6 years at a company\n",
    "- Established: 7-10 years at a company\n",
    "- Veteran: 11 or more years at a company\n",
    "\n",
    "Let's categorize the values in the `institute_service` column using the definitions above."
   ]
  },
  {
   "cell_type": "code",
   "execution_count": 87,
   "metadata": {},
   "outputs": [
    {
     "output_type": "execute_result",
     "data": {
      "text/plain": [
       "1.0     95\n",
       "NaN     88\n",
       "4.0     79\n",
       "2.0     78\n",
       "6.0     50\n",
       "20.0    43\n",
       "10.0    27\n",
       "5.0     23\n",
       "3.0     20\n",
       "0.0     20\n",
       "9.0     14\n",
       "7.0     13\n",
       "13.0     8\n",
       "8.0      8\n",
       "15.0     7\n",
       "14.0     6\n",
       "22.0     6\n",
       "17.0     6\n",
       "12.0     6\n",
       "16.0     5\n",
       "18.0     5\n",
       "24.0     4\n",
       "23.0     4\n",
       "11.0     4\n",
       "39.0     3\n",
       "21.0     3\n",
       "19.0     3\n",
       "32.0     3\n",
       "36.0     2\n",
       "30.0     2\n",
       "26.0     2\n",
       "25.0     2\n",
       "28.0     2\n",
       "42.0     1\n",
       "29.0     1\n",
       "35.0     1\n",
       "27.0     1\n",
       "41.0     1\n",
       "38.0     1\n",
       "49.0     1\n",
       "34.0     1\n",
       "33.0     1\n",
       "31.0     1\n",
       "Name: institute_service, dtype: int64"
      ]
     },
     "metadata": {},
     "execution_count": 87
    }
   ],
   "source": [
    "# First lets convert the column to a string object\n",
    "combined_updated['institute_service'] = combined_updated['institute_service'].astype(str)\n",
    "\n",
    "# Create the pattern we'll like to extract\n",
    "extract_years = r'(\\d+)' # This extracts only digits in a string\n",
    "\n",
    "# Next, lets extract the years from the institute_service column\n",
    "combined_updated['institute_service'] = combined_updated['institute_service'].str.extract(extract_years)\n",
    "\n",
    "# Convert the column back to float\n",
    "combined_updated['institute_service'] = combined_updated['institute_service'].astype('float')\n",
    "\n",
    "# Verify our extraction\n",
    "combined_updated['institute_service'].value_counts(dropna = False)"
   ]
  },
  {
   "cell_type": "code",
   "execution_count": 88,
   "metadata": {},
   "outputs": [
    {
     "output_type": "execute_result",
     "data": {
      "text/plain": [
       "     cease_date dissatisfied            id institute  institute_service  \\\n",
       "0        2012.0        False  4.000000e+00      DETE                7.0   \n",
       "1        2012.0         True  6.000000e+00      DETE               18.0   \n",
       "2        2012.0        False  9.000000e+00      DETE                3.0   \n",
       "3        2012.0         True  1.000000e+01      DETE               15.0   \n",
       "4        2012.0        False  1.200000e+01      DETE                3.0   \n",
       "..          ...          ...           ...       ...                ...   \n",
       "646      2013.0        False  6.350660e+17      TAFE                6.0   \n",
       "647      2013.0        False  6.350670e+17      TAFE                2.0   \n",
       "648      2013.0        False  6.350680e+17      TAFE                NaN   \n",
       "649      2013.0        False  6.350700e+17      TAFE                6.0   \n",
       "650      2013.0        False  6.350730e+17      TAFE                4.0   \n",
       "\n",
       "    separationtype  \n",
       "0      Resignation  \n",
       "1      Resignation  \n",
       "2      Resignation  \n",
       "3      Resignation  \n",
       "4      Resignation  \n",
       "..             ...  \n",
       "646    Resignation  \n",
       "647    Resignation  \n",
       "648    Resignation  \n",
       "649    Resignation  \n",
       "650    Resignation  \n",
       "\n",
       "[651 rows x 6 columns]"
      ],
      "text/html": "<div>\n<style scoped>\n    .dataframe tbody tr th:only-of-type {\n        vertical-align: middle;\n    }\n\n    .dataframe tbody tr th {\n        vertical-align: top;\n    }\n\n    .dataframe thead th {\n        text-align: right;\n    }\n</style>\n<table border=\"1\" class=\"dataframe\">\n  <thead>\n    <tr style=\"text-align: right;\">\n      <th></th>\n      <th>cease_date</th>\n      <th>dissatisfied</th>\n      <th>id</th>\n      <th>institute</th>\n      <th>institute_service</th>\n      <th>separationtype</th>\n    </tr>\n  </thead>\n  <tbody>\n    <tr>\n      <th>0</th>\n      <td>2012.0</td>\n      <td>False</td>\n      <td>4.000000e+00</td>\n      <td>DETE</td>\n      <td>7.0</td>\n      <td>Resignation</td>\n    </tr>\n    <tr>\n      <th>1</th>\n      <td>2012.0</td>\n      <td>True</td>\n      <td>6.000000e+00</td>\n      <td>DETE</td>\n      <td>18.0</td>\n      <td>Resignation</td>\n    </tr>\n    <tr>\n      <th>2</th>\n      <td>2012.0</td>\n      <td>False</td>\n      <td>9.000000e+00</td>\n      <td>DETE</td>\n      <td>3.0</td>\n      <td>Resignation</td>\n    </tr>\n    <tr>\n      <th>3</th>\n      <td>2012.0</td>\n      <td>True</td>\n      <td>1.000000e+01</td>\n      <td>DETE</td>\n      <td>15.0</td>\n      <td>Resignation</td>\n    </tr>\n    <tr>\n      <th>4</th>\n      <td>2012.0</td>\n      <td>False</td>\n      <td>1.200000e+01</td>\n      <td>DETE</td>\n      <td>3.0</td>\n      <td>Resignation</td>\n    </tr>\n    <tr>\n      <th>...</th>\n      <td>...</td>\n      <td>...</td>\n      <td>...</td>\n      <td>...</td>\n      <td>...</td>\n      <td>...</td>\n    </tr>\n    <tr>\n      <th>646</th>\n      <td>2013.0</td>\n      <td>False</td>\n      <td>6.350660e+17</td>\n      <td>TAFE</td>\n      <td>6.0</td>\n      <td>Resignation</td>\n    </tr>\n    <tr>\n      <th>647</th>\n      <td>2013.0</td>\n      <td>False</td>\n      <td>6.350670e+17</td>\n      <td>TAFE</td>\n      <td>2.0</td>\n      <td>Resignation</td>\n    </tr>\n    <tr>\n      <th>648</th>\n      <td>2013.0</td>\n      <td>False</td>\n      <td>6.350680e+17</td>\n      <td>TAFE</td>\n      <td>NaN</td>\n      <td>Resignation</td>\n    </tr>\n    <tr>\n      <th>649</th>\n      <td>2013.0</td>\n      <td>False</td>\n      <td>6.350700e+17</td>\n      <td>TAFE</td>\n      <td>6.0</td>\n      <td>Resignation</td>\n    </tr>\n    <tr>\n      <th>650</th>\n      <td>2013.0</td>\n      <td>False</td>\n      <td>6.350730e+17</td>\n      <td>TAFE</td>\n      <td>4.0</td>\n      <td>Resignation</td>\n    </tr>\n  </tbody>\n</table>\n<p>651 rows × 6 columns</p>\n</div>"
     },
     "metadata": {},
     "execution_count": 88
    }
   ],
   "source": [
    "# Let's see how our combined data looks like now\n",
    "combined_updated"
   ]
  },
  {
   "cell_type": "code",
   "execution_count": 89,
   "metadata": {},
   "outputs": [
    {
     "output_type": "execute_result",
     "data": {
      "text/plain": [
       "   cease_date dissatisfied    id institute  institute_service separationtype  \\\n",
       "0      2012.0        False   4.0      DETE                7.0    Resignation   \n",
       "1      2012.0         True   6.0      DETE               18.0    Resignation   \n",
       "2      2012.0        False   9.0      DETE                3.0    Resignation   \n",
       "3      2012.0         True  10.0      DETE               15.0    Resignation   \n",
       "4      2012.0        False  12.0      DETE                3.0    Resignation   \n",
       "\n",
       "  service_category  \n",
       "0      Established  \n",
       "1          Veteran  \n",
       "2             None  \n",
       "3          Veteran  \n",
       "4             None  "
      ],
      "text/html": "<div>\n<style scoped>\n    .dataframe tbody tr th:only-of-type {\n        vertical-align: middle;\n    }\n\n    .dataframe tbody tr th {\n        vertical-align: top;\n    }\n\n    .dataframe thead th {\n        text-align: right;\n    }\n</style>\n<table border=\"1\" class=\"dataframe\">\n  <thead>\n    <tr style=\"text-align: right;\">\n      <th></th>\n      <th>cease_date</th>\n      <th>dissatisfied</th>\n      <th>id</th>\n      <th>institute</th>\n      <th>institute_service</th>\n      <th>separationtype</th>\n      <th>service_category</th>\n    </tr>\n  </thead>\n  <tbody>\n    <tr>\n      <th>0</th>\n      <td>2012.0</td>\n      <td>False</td>\n      <td>4.0</td>\n      <td>DETE</td>\n      <td>7.0</td>\n      <td>Resignation</td>\n      <td>Established</td>\n    </tr>\n    <tr>\n      <th>1</th>\n      <td>2012.0</td>\n      <td>True</td>\n      <td>6.0</td>\n      <td>DETE</td>\n      <td>18.0</td>\n      <td>Resignation</td>\n      <td>Veteran</td>\n    </tr>\n    <tr>\n      <th>2</th>\n      <td>2012.0</td>\n      <td>False</td>\n      <td>9.0</td>\n      <td>DETE</td>\n      <td>3.0</td>\n      <td>Resignation</td>\n      <td>None</td>\n    </tr>\n    <tr>\n      <th>3</th>\n      <td>2012.0</td>\n      <td>True</td>\n      <td>10.0</td>\n      <td>DETE</td>\n      <td>15.0</td>\n      <td>Resignation</td>\n      <td>Veteran</td>\n    </tr>\n    <tr>\n      <th>4</th>\n      <td>2012.0</td>\n      <td>False</td>\n      <td>12.0</td>\n      <td>DETE</td>\n      <td>3.0</td>\n      <td>Resignation</td>\n      <td>None</td>\n    </tr>\n  </tbody>\n</table>\n</div>"
     },
     "metadata": {},
     "execution_count": 89
    }
   ],
   "source": [
    "# Next we Create a function that maps each year value to one of the career stages above\n",
    "def service_category(element):\n",
    "    if element < 3:\n",
    "        return 'New'\n",
    "    elif (element > 3) and (element <= 6):\n",
    "        return 'Experienced'\n",
    "    elif (element >= 7) and (element <= 10):\n",
    "        return 'Established'\n",
    "    elif element > 11:\n",
    "        return 'Veteran'\n",
    "    elif pd.isnull(element):\n",
    "        return np.nan\n",
    "    \n",
    "# Create a new column that shows the service Category\n",
    "combined_updated['service_category'] = combined_updated['institute_service'].apply(service_category)\n",
    "\n",
    "# Verify our action\n",
    "combined_updated.head()"
   ]
  },
  {
   "cell_type": "code",
   "execution_count": 90,
   "metadata": {},
   "outputs": [
    {
     "output_type": "execute_result",
     "data": {
      "text/plain": [
       "New            193\n",
       "Experienced    152\n",
       "Veteran        132\n",
       "NaN            112\n",
       "Established     62\n",
       "Name: service_category, dtype: int64"
      ]
     },
     "metadata": {},
     "execution_count": 90
    }
   ],
   "source": [
    "combined_updated['service_category'].value_counts(dropna = False)"
   ]
  },
  {
   "cell_type": "markdown",
   "metadata": {},
   "source": [
    "we created a `service_category` column, that categorizes employees according to the amount of years spent in their workplace:\n",
    "\n",
    "- New: Less than 3 years at a company\n",
    "- Experienced: 3-6 years at a company\n",
    "- Established: 7-10 years at a company\n",
    "- Veteran: 11 or more years at a company\n",
    "\n",
    "Now, let's finally do our first piece of analysis!\n",
    "\n",
    "Recall that the `dissatisfied` column consists of `Boolean` values, meaning they're either `True` or `False`. Methods such as the `df.pivot_table()` method actually treat `Boolean` values as `integers`, so a `True` value is considered to be `1` and a `False` value is considered to be `0`. That means that we can aggregate the `dissatisfied` column and calculate the number of people in each group, the percentage of people in each group, etc.\n",
    "\n",
    "Let's investigate the `dissatisfied` column:\n"
   ]
  },
  {
   "cell_type": "code",
   "execution_count": 91,
   "metadata": {},
   "outputs": [
    {
     "output_type": "execute_result",
     "data": {
      "text/plain": [
       "False    403\n",
       "True     240\n",
       "NaN        8\n",
       "Name: dissatisfied, dtype: int64"
      ]
     },
     "metadata": {},
     "execution_count": 91
    }
   ],
   "source": [
    "combined_updated['dissatisfied'].value_counts(dropna = False)"
   ]
  },
  {
   "cell_type": "code",
   "execution_count": 92,
   "metadata": {},
   "outputs": [
    {
     "output_type": "execute_result",
     "data": {
      "text/plain": [
       "False    411\n",
       "True     240\n",
       "Name: dissatisfied, dtype: int64"
      ]
     },
     "metadata": {},
     "execution_count": 92
    }
   ],
   "source": [
    "# We'll replace the missing values with the most frequently occuring value 'False'\n",
    "combined_updated['dissatisfied'] = combined_updated['dissatisfied'].fillna(False)\n",
    "combined_updated['dissatisfied'].value_counts()"
   ]
  },
  {
   "cell_type": "code",
   "execution_count": 93,
   "metadata": {},
   "outputs": [
    {
     "output_type": "execute_result",
     "data": {
      "text/plain": [
       "                  dissatisfied\n",
       "service_category              \n",
       "Established              51.61\n",
       "Experienced              33.55\n",
       "New                      29.53\n",
       "Veteran                  48.48"
      ],
      "text/html": "<div>\n<style scoped>\n    .dataframe tbody tr th:only-of-type {\n        vertical-align: middle;\n    }\n\n    .dataframe tbody tr th {\n        vertical-align: top;\n    }\n\n    .dataframe thead th {\n        text-align: right;\n    }\n</style>\n<table border=\"1\" class=\"dataframe\">\n  <thead>\n    <tr style=\"text-align: right;\">\n      <th></th>\n      <th>dissatisfied</th>\n    </tr>\n    <tr>\n      <th>service_category</th>\n      <th></th>\n    </tr>\n  </thead>\n  <tbody>\n    <tr>\n      <th>Established</th>\n      <td>51.61</td>\n    </tr>\n    <tr>\n      <th>Experienced</th>\n      <td>33.55</td>\n    </tr>\n    <tr>\n      <th>New</th>\n      <td>29.53</td>\n    </tr>\n    <tr>\n      <th>Veteran</th>\n      <td>48.48</td>\n    </tr>\n  </tbody>\n</table>\n</div>"
     },
     "metadata": {},
     "execution_count": 93
    }
   ],
   "source": [
    "# Let's calculate the proportion of dissatisfied employees\n",
    "\n",
    "dissatisfied_employees = combined_updated.pivot_table(index = 'service_category', values = 'dissatisfied')\n",
    "\n",
    "# convert the calculated proportion to percentage\n",
    "dissatisfied_employees['dissatisfied'] = round(dissatisfied_employees['dissatisfied'] * 100, 2)\n",
    "\n",
    "# Let's view our analysis\n",
    "dissatisfied_employees"
   ]
  },
  {
   "cell_type": "code",
   "execution_count": 94,
   "metadata": {},
   "outputs": [
    {
     "output_type": "display_data",
     "data": {
      "text/plain": "<Figure size 432x288 with 1 Axes>",
      "image/svg+xml": "<?xml version=\"1.0\" encoding=\"utf-8\" standalone=\"no\"?>\r\n<!DOCTYPE svg PUBLIC \"-//W3C//DTD SVG 1.1//EN\"\r\n  \"http://www.w3.org/Graphics/SVG/1.1/DTD/svg11.dtd\">\r\n<!-- Created with matplotlib (https://matplotlib.org/) -->\r\n<svg height=\"314.915pt\" version=\"1.1\" viewBox=\"0 0 368.925 314.915\" width=\"368.925pt\" xmlns=\"http://www.w3.org/2000/svg\" xmlns:xlink=\"http://www.w3.org/1999/xlink\">\r\n <metadata>\r\n  <rdf:RDF xmlns:cc=\"http://creativecommons.org/ns#\" xmlns:dc=\"http://purl.org/dc/elements/1.1/\" xmlns:rdf=\"http://www.w3.org/1999/02/22-rdf-syntax-ns#\">\r\n   <cc:Work>\r\n    <dc:type rdf:resource=\"http://purl.org/dc/dcmitype/StillImage\"/>\r\n    <dc:date>2020-12-29T10:02:15.048112</dc:date>\r\n    <dc:format>image/svg+xml</dc:format>\r\n    <dc:creator>\r\n     <cc:Agent>\r\n      <dc:title>Matplotlib v3.3.1, https://matplotlib.org/</dc:title>\r\n     </cc:Agent>\r\n    </dc:creator>\r\n   </cc:Work>\r\n  </rdf:RDF>\r\n </metadata>\r\n <defs>\r\n  <style type=\"text/css\">*{stroke-linecap:butt;stroke-linejoin:round;}</style>\r\n </defs>\r\n <g id=\"figure_1\">\r\n  <g id=\"patch_1\">\r\n   <path d=\"M -0 314.915 \r\nL 368.925 314.915 \r\nL 368.925 0 \r\nL -0 0 \r\nz\r\n\" style=\"fill:none;\"/>\r\n  </g>\r\n  <g id=\"axes_1\">\r\n   <g id=\"patch_2\">\r\n    <path d=\"M 26.925 224.64 \r\nL 361.725 224.64 \r\nL 361.725 7.2 \r\nL 26.925 7.2 \r\nz\r\n\" style=\"fill:#ffffff;\"/>\r\n   </g>\r\n   <g id=\"patch_3\">\r\n    <path clip-path=\"url(#pd9c1a3884d)\" d=\"M 47.85 224.64 \r\nL 89.7 224.64 \r\nL 89.7 17.554286 \r\nL 47.85 17.554286 \r\nz\r\n\" style=\"fill:#1f77b4;\"/>\r\n   </g>\r\n   <g id=\"patch_4\">\r\n    <path clip-path=\"url(#pd9c1a3884d)\" d=\"M 131.55 224.64 \r\nL 173.4 224.64 \r\nL 173.4 90.020242 \r\nL 131.55 90.020242 \r\nz\r\n\" style=\"fill:#1f77b4;\"/>\r\n   </g>\r\n   <g id=\"patch_5\">\r\n    <path clip-path=\"url(#pd9c1a3884d)\" d=\"M 215.25 224.64 \r\nL 257.1 224.64 \r\nL 257.1 106.150538 \r\nL 215.25 106.150538 \r\nz\r\n\" style=\"fill:#1f77b4;\"/>\r\n   </g>\r\n   <g id=\"patch_6\">\r\n    <path clip-path=\"url(#pd9c1a3884d)\" d=\"M 298.95 224.64 \r\nL 340.8 224.64 \r\nL 340.8 30.113446 \r\nL 298.95 30.113446 \r\nz\r\n\" style=\"fill:#1f77b4;\"/>\r\n   </g>\r\n   <g id=\"matplotlib.axis_1\">\r\n    <g id=\"xtick_1\">\r\n     <g id=\"line2d_1\">\r\n      <defs>\r\n       <path d=\"M 0 0 \r\nL 0 3.5 \r\n\" id=\"m7a3b82a1ad\" style=\"stroke:#000000;stroke-width:0.8;\"/>\r\n      </defs>\r\n      <g>\r\n       <use style=\"stroke:#000000;stroke-width:0.8;\" x=\"68.775\" xlink:href=\"#m7a3b82a1ad\" y=\"224.64\"/>\r\n      </g>\r\n     </g>\r\n     <g id=\"text_1\">\r\n      <!-- Established -->\r\n      <g transform=\"translate(71.534375 289.169687)rotate(-90)scale(0.1 -0.1)\">\r\n       <defs>\r\n        <path d=\"M 9.8125 72.90625 \r\nL 55.90625 72.90625 \r\nL 55.90625 64.59375 \r\nL 19.671875 64.59375 \r\nL 19.671875 43.015625 \r\nL 54.390625 43.015625 \r\nL 54.390625 34.71875 \r\nL 19.671875 34.71875 \r\nL 19.671875 8.296875 \r\nL 56.78125 8.296875 \r\nL 56.78125 0 \r\nL 9.8125 0 \r\nz\r\n\" id=\"DejaVuSans-69\"/>\r\n        <path d=\"M 44.28125 53.078125 \r\nL 44.28125 44.578125 \r\nQ 40.484375 46.53125 36.375 47.5 \r\nQ 32.28125 48.484375 27.875 48.484375 \r\nQ 21.1875 48.484375 17.84375 46.4375 \r\nQ 14.5 44.390625 14.5 40.28125 \r\nQ 14.5 37.15625 16.890625 35.375 \r\nQ 19.28125 33.59375 26.515625 31.984375 \r\nL 29.59375 31.296875 \r\nQ 39.15625 29.25 43.1875 25.515625 \r\nQ 47.21875 21.78125 47.21875 15.09375 \r\nQ 47.21875 7.46875 41.1875 3.015625 \r\nQ 35.15625 -1.421875 24.609375 -1.421875 \r\nQ 20.21875 -1.421875 15.453125 -0.5625 \r\nQ 10.6875 0.296875 5.421875 2 \r\nL 5.421875 11.28125 \r\nQ 10.40625 8.6875 15.234375 7.390625 \r\nQ 20.0625 6.109375 24.8125 6.109375 \r\nQ 31.15625 6.109375 34.5625 8.28125 \r\nQ 37.984375 10.453125 37.984375 14.40625 \r\nQ 37.984375 18.0625 35.515625 20.015625 \r\nQ 33.0625 21.96875 24.703125 23.78125 \r\nL 21.578125 24.515625 \r\nQ 13.234375 26.265625 9.515625 29.90625 \r\nQ 5.8125 33.546875 5.8125 39.890625 \r\nQ 5.8125 47.609375 11.28125 51.796875 \r\nQ 16.75 56 26.8125 56 \r\nQ 31.78125 56 36.171875 55.265625 \r\nQ 40.578125 54.546875 44.28125 53.078125 \r\nz\r\n\" id=\"DejaVuSans-115\"/>\r\n        <path d=\"M 18.3125 70.21875 \r\nL 18.3125 54.6875 \r\nL 36.8125 54.6875 \r\nL 36.8125 47.703125 \r\nL 18.3125 47.703125 \r\nL 18.3125 18.015625 \r\nQ 18.3125 11.328125 20.140625 9.421875 \r\nQ 21.96875 7.515625 27.59375 7.515625 \r\nL 36.8125 7.515625 \r\nL 36.8125 0 \r\nL 27.59375 0 \r\nQ 17.1875 0 13.234375 3.875 \r\nQ 9.28125 7.765625 9.28125 18.015625 \r\nL 9.28125 47.703125 \r\nL 2.6875 47.703125 \r\nL 2.6875 54.6875 \r\nL 9.28125 54.6875 \r\nL 9.28125 70.21875 \r\nz\r\n\" id=\"DejaVuSans-116\"/>\r\n        <path d=\"M 34.28125 27.484375 \r\nQ 23.390625 27.484375 19.1875 25 \r\nQ 14.984375 22.515625 14.984375 16.5 \r\nQ 14.984375 11.71875 18.140625 8.90625 \r\nQ 21.296875 6.109375 26.703125 6.109375 \r\nQ 34.1875 6.109375 38.703125 11.40625 \r\nQ 43.21875 16.703125 43.21875 25.484375 \r\nL 43.21875 27.484375 \r\nz\r\nM 52.203125 31.203125 \r\nL 52.203125 0 \r\nL 43.21875 0 \r\nL 43.21875 8.296875 \r\nQ 40.140625 3.328125 35.546875 0.953125 \r\nQ 30.953125 -1.421875 24.3125 -1.421875 \r\nQ 15.921875 -1.421875 10.953125 3.296875 \r\nQ 6 8.015625 6 15.921875 \r\nQ 6 25.140625 12.171875 29.828125 \r\nQ 18.359375 34.515625 30.609375 34.515625 \r\nL 43.21875 34.515625 \r\nL 43.21875 35.40625 \r\nQ 43.21875 41.609375 39.140625 45 \r\nQ 35.0625 48.390625 27.6875 48.390625 \r\nQ 23 48.390625 18.546875 47.265625 \r\nQ 14.109375 46.140625 10.015625 43.890625 \r\nL 10.015625 52.203125 \r\nQ 14.9375 54.109375 19.578125 55.046875 \r\nQ 24.21875 56 28.609375 56 \r\nQ 40.484375 56 46.34375 49.84375 \r\nQ 52.203125 43.703125 52.203125 31.203125 \r\nz\r\n\" id=\"DejaVuSans-97\"/>\r\n        <path d=\"M 48.6875 27.296875 \r\nQ 48.6875 37.203125 44.609375 42.84375 \r\nQ 40.53125 48.484375 33.40625 48.484375 \r\nQ 26.265625 48.484375 22.1875 42.84375 \r\nQ 18.109375 37.203125 18.109375 27.296875 \r\nQ 18.109375 17.390625 22.1875 11.75 \r\nQ 26.265625 6.109375 33.40625 6.109375 \r\nQ 40.53125 6.109375 44.609375 11.75 \r\nQ 48.6875 17.390625 48.6875 27.296875 \r\nz\r\nM 18.109375 46.390625 \r\nQ 20.953125 51.265625 25.265625 53.625 \r\nQ 29.59375 56 35.59375 56 \r\nQ 45.5625 56 51.78125 48.09375 \r\nQ 58.015625 40.1875 58.015625 27.296875 \r\nQ 58.015625 14.40625 51.78125 6.484375 \r\nQ 45.5625 -1.421875 35.59375 -1.421875 \r\nQ 29.59375 -1.421875 25.265625 0.953125 \r\nQ 20.953125 3.328125 18.109375 8.203125 \r\nL 18.109375 0 \r\nL 9.078125 0 \r\nL 9.078125 75.984375 \r\nL 18.109375 75.984375 \r\nz\r\n\" id=\"DejaVuSans-98\"/>\r\n        <path d=\"M 9.421875 75.984375 \r\nL 18.40625 75.984375 \r\nL 18.40625 0 \r\nL 9.421875 0 \r\nz\r\n\" id=\"DejaVuSans-108\"/>\r\n        <path d=\"M 9.421875 54.6875 \r\nL 18.40625 54.6875 \r\nL 18.40625 0 \r\nL 9.421875 0 \r\nz\r\nM 9.421875 75.984375 \r\nL 18.40625 75.984375 \r\nL 18.40625 64.59375 \r\nL 9.421875 64.59375 \r\nz\r\n\" id=\"DejaVuSans-105\"/>\r\n        <path d=\"M 54.890625 33.015625 \r\nL 54.890625 0 \r\nL 45.90625 0 \r\nL 45.90625 32.71875 \r\nQ 45.90625 40.484375 42.875 44.328125 \r\nQ 39.84375 48.1875 33.796875 48.1875 \r\nQ 26.515625 48.1875 22.3125 43.546875 \r\nQ 18.109375 38.921875 18.109375 30.90625 \r\nL 18.109375 0 \r\nL 9.078125 0 \r\nL 9.078125 75.984375 \r\nL 18.109375 75.984375 \r\nL 18.109375 46.1875 \r\nQ 21.34375 51.125 25.703125 53.5625 \r\nQ 30.078125 56 35.796875 56 \r\nQ 45.21875 56 50.046875 50.171875 \r\nQ 54.890625 44.34375 54.890625 33.015625 \r\nz\r\n\" id=\"DejaVuSans-104\"/>\r\n        <path d=\"M 56.203125 29.59375 \r\nL 56.203125 25.203125 \r\nL 14.890625 25.203125 \r\nQ 15.484375 15.921875 20.484375 11.0625 \r\nQ 25.484375 6.203125 34.421875 6.203125 \r\nQ 39.59375 6.203125 44.453125 7.46875 \r\nQ 49.3125 8.734375 54.109375 11.28125 \r\nL 54.109375 2.78125 \r\nQ 49.265625 0.734375 44.1875 -0.34375 \r\nQ 39.109375 -1.421875 33.890625 -1.421875 \r\nQ 20.796875 -1.421875 13.15625 6.1875 \r\nQ 5.515625 13.8125 5.515625 26.8125 \r\nQ 5.515625 40.234375 12.765625 48.109375 \r\nQ 20.015625 56 32.328125 56 \r\nQ 43.359375 56 49.78125 48.890625 \r\nQ 56.203125 41.796875 56.203125 29.59375 \r\nz\r\nM 47.21875 32.234375 \r\nQ 47.125 39.59375 43.09375 43.984375 \r\nQ 39.0625 48.390625 32.421875 48.390625 \r\nQ 24.90625 48.390625 20.390625 44.140625 \r\nQ 15.875 39.890625 15.1875 32.171875 \r\nz\r\n\" id=\"DejaVuSans-101\"/>\r\n        <path d=\"M 45.40625 46.390625 \r\nL 45.40625 75.984375 \r\nL 54.390625 75.984375 \r\nL 54.390625 0 \r\nL 45.40625 0 \r\nL 45.40625 8.203125 \r\nQ 42.578125 3.328125 38.25 0.953125 \r\nQ 33.9375 -1.421875 27.875 -1.421875 \r\nQ 17.96875 -1.421875 11.734375 6.484375 \r\nQ 5.515625 14.40625 5.515625 27.296875 \r\nQ 5.515625 40.1875 11.734375 48.09375 \r\nQ 17.96875 56 27.875 56 \r\nQ 33.9375 56 38.25 53.625 \r\nQ 42.578125 51.265625 45.40625 46.390625 \r\nz\r\nM 14.796875 27.296875 \r\nQ 14.796875 17.390625 18.875 11.75 \r\nQ 22.953125 6.109375 30.078125 6.109375 \r\nQ 37.203125 6.109375 41.296875 11.75 \r\nQ 45.40625 17.390625 45.40625 27.296875 \r\nQ 45.40625 37.203125 41.296875 42.84375 \r\nQ 37.203125 48.484375 30.078125 48.484375 \r\nQ 22.953125 48.484375 18.875 42.84375 \r\nQ 14.796875 37.203125 14.796875 27.296875 \r\nz\r\n\" id=\"DejaVuSans-100\"/>\r\n       </defs>\r\n       <use xlink:href=\"#DejaVuSans-69\"/>\r\n       <use x=\"63.183594\" xlink:href=\"#DejaVuSans-115\"/>\r\n       <use x=\"115.283203\" xlink:href=\"#DejaVuSans-116\"/>\r\n       <use x=\"154.492188\" xlink:href=\"#DejaVuSans-97\"/>\r\n       <use x=\"215.771484\" xlink:href=\"#DejaVuSans-98\"/>\r\n       <use x=\"279.248047\" xlink:href=\"#DejaVuSans-108\"/>\r\n       <use x=\"307.03125\" xlink:href=\"#DejaVuSans-105\"/>\r\n       <use x=\"334.814453\" xlink:href=\"#DejaVuSans-115\"/>\r\n       <use x=\"386.914062\" xlink:href=\"#DejaVuSans-104\"/>\r\n       <use x=\"450.292969\" xlink:href=\"#DejaVuSans-101\"/>\r\n       <use x=\"511.816406\" xlink:href=\"#DejaVuSans-100\"/>\r\n      </g>\r\n     </g>\r\n    </g>\r\n    <g id=\"xtick_2\">\r\n     <g id=\"line2d_2\">\r\n      <g>\r\n       <use style=\"stroke:#000000;stroke-width:0.8;\" x=\"152.475\" xlink:href=\"#m7a3b82a1ad\" y=\"224.64\"/>\r\n      </g>\r\n     </g>\r\n     <g id=\"text_2\">\r\n      <!-- Experienced -->\r\n      <g transform=\"translate(155.234375 293.75875)rotate(-90)scale(0.1 -0.1)\">\r\n       <defs>\r\n        <path d=\"M 54.890625 54.6875 \r\nL 35.109375 28.078125 \r\nL 55.90625 0 \r\nL 45.3125 0 \r\nL 29.390625 21.484375 \r\nL 13.484375 0 \r\nL 2.875 0 \r\nL 24.125 28.609375 \r\nL 4.6875 54.6875 \r\nL 15.28125 54.6875 \r\nL 29.78125 35.203125 \r\nL 44.28125 54.6875 \r\nz\r\n\" id=\"DejaVuSans-120\"/>\r\n        <path d=\"M 18.109375 8.203125 \r\nL 18.109375 -20.796875 \r\nL 9.078125 -20.796875 \r\nL 9.078125 54.6875 \r\nL 18.109375 54.6875 \r\nL 18.109375 46.390625 \r\nQ 20.953125 51.265625 25.265625 53.625 \r\nQ 29.59375 56 35.59375 56 \r\nQ 45.5625 56 51.78125 48.09375 \r\nQ 58.015625 40.1875 58.015625 27.296875 \r\nQ 58.015625 14.40625 51.78125 6.484375 \r\nQ 45.5625 -1.421875 35.59375 -1.421875 \r\nQ 29.59375 -1.421875 25.265625 0.953125 \r\nQ 20.953125 3.328125 18.109375 8.203125 \r\nz\r\nM 48.6875 27.296875 \r\nQ 48.6875 37.203125 44.609375 42.84375 \r\nQ 40.53125 48.484375 33.40625 48.484375 \r\nQ 26.265625 48.484375 22.1875 42.84375 \r\nQ 18.109375 37.203125 18.109375 27.296875 \r\nQ 18.109375 17.390625 22.1875 11.75 \r\nQ 26.265625 6.109375 33.40625 6.109375 \r\nQ 40.53125 6.109375 44.609375 11.75 \r\nQ 48.6875 17.390625 48.6875 27.296875 \r\nz\r\n\" id=\"DejaVuSans-112\"/>\r\n        <path d=\"M 41.109375 46.296875 \r\nQ 39.59375 47.171875 37.8125 47.578125 \r\nQ 36.03125 48 33.890625 48 \r\nQ 26.265625 48 22.1875 43.046875 \r\nQ 18.109375 38.09375 18.109375 28.8125 \r\nL 18.109375 0 \r\nL 9.078125 0 \r\nL 9.078125 54.6875 \r\nL 18.109375 54.6875 \r\nL 18.109375 46.1875 \r\nQ 20.953125 51.171875 25.484375 53.578125 \r\nQ 30.03125 56 36.53125 56 \r\nQ 37.453125 56 38.578125 55.875 \r\nQ 39.703125 55.765625 41.0625 55.515625 \r\nz\r\n\" id=\"DejaVuSans-114\"/>\r\n        <path d=\"M 54.890625 33.015625 \r\nL 54.890625 0 \r\nL 45.90625 0 \r\nL 45.90625 32.71875 \r\nQ 45.90625 40.484375 42.875 44.328125 \r\nQ 39.84375 48.1875 33.796875 48.1875 \r\nQ 26.515625 48.1875 22.3125 43.546875 \r\nQ 18.109375 38.921875 18.109375 30.90625 \r\nL 18.109375 0 \r\nL 9.078125 0 \r\nL 9.078125 54.6875 \r\nL 18.109375 54.6875 \r\nL 18.109375 46.1875 \r\nQ 21.34375 51.125 25.703125 53.5625 \r\nQ 30.078125 56 35.796875 56 \r\nQ 45.21875 56 50.046875 50.171875 \r\nQ 54.890625 44.34375 54.890625 33.015625 \r\nz\r\n\" id=\"DejaVuSans-110\"/>\r\n        <path d=\"M 48.78125 52.59375 \r\nL 48.78125 44.1875 \r\nQ 44.96875 46.296875 41.140625 47.34375 \r\nQ 37.3125 48.390625 33.40625 48.390625 \r\nQ 24.65625 48.390625 19.8125 42.84375 \r\nQ 14.984375 37.3125 14.984375 27.296875 \r\nQ 14.984375 17.28125 19.8125 11.734375 \r\nQ 24.65625 6.203125 33.40625 6.203125 \r\nQ 37.3125 6.203125 41.140625 7.25 \r\nQ 44.96875 8.296875 48.78125 10.40625 \r\nL 48.78125 2.09375 \r\nQ 45.015625 0.34375 40.984375 -0.53125 \r\nQ 36.96875 -1.421875 32.421875 -1.421875 \r\nQ 20.0625 -1.421875 12.78125 6.34375 \r\nQ 5.515625 14.109375 5.515625 27.296875 \r\nQ 5.515625 40.671875 12.859375 48.328125 \r\nQ 20.21875 56 33.015625 56 \r\nQ 37.15625 56 41.109375 55.140625 \r\nQ 45.0625 54.296875 48.78125 52.59375 \r\nz\r\n\" id=\"DejaVuSans-99\"/>\r\n       </defs>\r\n       <use xlink:href=\"#DejaVuSans-69\"/>\r\n       <use x=\"63.183594\" xlink:href=\"#DejaVuSans-120\"/>\r\n       <use x=\"122.363281\" xlink:href=\"#DejaVuSans-112\"/>\r\n       <use x=\"185.839844\" xlink:href=\"#DejaVuSans-101\"/>\r\n       <use x=\"247.363281\" xlink:href=\"#DejaVuSans-114\"/>\r\n       <use x=\"288.476562\" xlink:href=\"#DejaVuSans-105\"/>\r\n       <use x=\"316.259766\" xlink:href=\"#DejaVuSans-101\"/>\r\n       <use x=\"377.783203\" xlink:href=\"#DejaVuSans-110\"/>\r\n       <use x=\"441.162109\" xlink:href=\"#DejaVuSans-99\"/>\r\n       <use x=\"496.142578\" xlink:href=\"#DejaVuSans-101\"/>\r\n       <use x=\"557.666016\" xlink:href=\"#DejaVuSans-100\"/>\r\n      </g>\r\n     </g>\r\n    </g>\r\n    <g id=\"xtick_3\">\r\n     <g id=\"line2d_3\">\r\n      <g>\r\n       <use style=\"stroke:#000000;stroke-width:0.8;\" x=\"236.175\" xlink:href=\"#m7a3b82a1ad\" y=\"224.64\"/>\r\n      </g>\r\n     </g>\r\n     <g id=\"text_3\">\r\n      <!-- New -->\r\n      <g transform=\"translate(238.934375 253.4525)rotate(-90)scale(0.1 -0.1)\">\r\n       <defs>\r\n        <path d=\"M 9.8125 72.90625 \r\nL 23.09375 72.90625 \r\nL 55.421875 11.921875 \r\nL 55.421875 72.90625 \r\nL 64.984375 72.90625 \r\nL 64.984375 0 \r\nL 51.703125 0 \r\nL 19.390625 60.984375 \r\nL 19.390625 0 \r\nL 9.8125 0 \r\nz\r\n\" id=\"DejaVuSans-78\"/>\r\n        <path d=\"M 4.203125 54.6875 \r\nL 13.1875 54.6875 \r\nL 24.421875 12.015625 \r\nL 35.59375 54.6875 \r\nL 46.1875 54.6875 \r\nL 57.421875 12.015625 \r\nL 68.609375 54.6875 \r\nL 77.59375 54.6875 \r\nL 63.28125 0 \r\nL 52.6875 0 \r\nL 40.921875 44.828125 \r\nL 29.109375 0 \r\nL 18.5 0 \r\nz\r\n\" id=\"DejaVuSans-119\"/>\r\n       </defs>\r\n       <use xlink:href=\"#DejaVuSans-78\"/>\r\n       <use x=\"74.804688\" xlink:href=\"#DejaVuSans-101\"/>\r\n       <use x=\"136.328125\" xlink:href=\"#DejaVuSans-119\"/>\r\n      </g>\r\n     </g>\r\n    </g>\r\n    <g id=\"xtick_4\">\r\n     <g id=\"line2d_4\">\r\n      <g>\r\n       <use style=\"stroke:#000000;stroke-width:0.8;\" x=\"319.875\" xlink:href=\"#m7a3b82a1ad\" y=\"224.64\"/>\r\n      </g>\r\n     </g>\r\n     <g id=\"text_4\">\r\n      <!-- Veteran -->\r\n      <g transform=\"translate(322.634375 270.50875)rotate(-90)scale(0.1 -0.1)\">\r\n       <defs>\r\n        <path d=\"M 28.609375 0 \r\nL 0.78125 72.90625 \r\nL 11.078125 72.90625 \r\nL 34.1875 11.53125 \r\nL 57.328125 72.90625 \r\nL 67.578125 72.90625 \r\nL 39.796875 0 \r\nz\r\n\" id=\"DejaVuSans-86\"/>\r\n       </defs>\r\n       <use xlink:href=\"#DejaVuSans-86\"/>\r\n       <use x=\"60.658203\" xlink:href=\"#DejaVuSans-101\"/>\r\n       <use x=\"122.181641\" xlink:href=\"#DejaVuSans-116\"/>\r\n       <use x=\"161.390625\" xlink:href=\"#DejaVuSans-101\"/>\r\n       <use x=\"222.914062\" xlink:href=\"#DejaVuSans-114\"/>\r\n       <use x=\"264.027344\" xlink:href=\"#DejaVuSans-97\"/>\r\n       <use x=\"325.306641\" xlink:href=\"#DejaVuSans-110\"/>\r\n      </g>\r\n     </g>\r\n    </g>\r\n    <g id=\"text_5\">\r\n     <!-- service_category -->\r\n     <g transform=\"translate(151.815625 305.357187)scale(0.1 -0.1)\">\r\n      <defs>\r\n       <path d=\"M 2.984375 54.6875 \r\nL 12.5 54.6875 \r\nL 29.59375 8.796875 \r\nL 46.6875 54.6875 \r\nL 56.203125 54.6875 \r\nL 35.6875 0 \r\nL 23.484375 0 \r\nz\r\n\" id=\"DejaVuSans-118\"/>\r\n       <path d=\"M 50.984375 -16.609375 \r\nL 50.984375 -23.578125 \r\nL -0.984375 -23.578125 \r\nL -0.984375 -16.609375 \r\nz\r\n\" id=\"DejaVuSans-95\"/>\r\n       <path d=\"M 45.40625 27.984375 \r\nQ 45.40625 37.75 41.375 43.109375 \r\nQ 37.359375 48.484375 30.078125 48.484375 \r\nQ 22.859375 48.484375 18.828125 43.109375 \r\nQ 14.796875 37.75 14.796875 27.984375 \r\nQ 14.796875 18.265625 18.828125 12.890625 \r\nQ 22.859375 7.515625 30.078125 7.515625 \r\nQ 37.359375 7.515625 41.375 12.890625 \r\nQ 45.40625 18.265625 45.40625 27.984375 \r\nz\r\nM 54.390625 6.78125 \r\nQ 54.390625 -7.171875 48.1875 -13.984375 \r\nQ 42 -20.796875 29.203125 -20.796875 \r\nQ 24.46875 -20.796875 20.265625 -20.09375 \r\nQ 16.0625 -19.390625 12.109375 -17.921875 \r\nL 12.109375 -9.1875 \r\nQ 16.0625 -11.328125 19.921875 -12.34375 \r\nQ 23.78125 -13.375 27.78125 -13.375 \r\nQ 36.625 -13.375 41.015625 -8.765625 \r\nQ 45.40625 -4.15625 45.40625 5.171875 \r\nL 45.40625 9.625 \r\nQ 42.625 4.78125 38.28125 2.390625 \r\nQ 33.9375 0 27.875 0 \r\nQ 17.828125 0 11.671875 7.65625 \r\nQ 5.515625 15.328125 5.515625 27.984375 \r\nQ 5.515625 40.671875 11.671875 48.328125 \r\nQ 17.828125 56 27.875 56 \r\nQ 33.9375 56 38.28125 53.609375 \r\nQ 42.625 51.21875 45.40625 46.390625 \r\nL 45.40625 54.6875 \r\nL 54.390625 54.6875 \r\nz\r\n\" id=\"DejaVuSans-103\"/>\r\n       <path d=\"M 30.609375 48.390625 \r\nQ 23.390625 48.390625 19.1875 42.75 \r\nQ 14.984375 37.109375 14.984375 27.296875 \r\nQ 14.984375 17.484375 19.15625 11.84375 \r\nQ 23.34375 6.203125 30.609375 6.203125 \r\nQ 37.796875 6.203125 41.984375 11.859375 \r\nQ 46.1875 17.53125 46.1875 27.296875 \r\nQ 46.1875 37.015625 41.984375 42.703125 \r\nQ 37.796875 48.390625 30.609375 48.390625 \r\nz\r\nM 30.609375 56 \r\nQ 42.328125 56 49.015625 48.375 \r\nQ 55.71875 40.765625 55.71875 27.296875 \r\nQ 55.71875 13.875 49.015625 6.21875 \r\nQ 42.328125 -1.421875 30.609375 -1.421875 \r\nQ 18.84375 -1.421875 12.171875 6.21875 \r\nQ 5.515625 13.875 5.515625 27.296875 \r\nQ 5.515625 40.765625 12.171875 48.375 \r\nQ 18.84375 56 30.609375 56 \r\nz\r\n\" id=\"DejaVuSans-111\"/>\r\n       <path d=\"M 32.171875 -5.078125 \r\nQ 28.375 -14.84375 24.75 -17.8125 \r\nQ 21.140625 -20.796875 15.09375 -20.796875 \r\nL 7.90625 -20.796875 \r\nL 7.90625 -13.28125 \r\nL 13.1875 -13.28125 \r\nQ 16.890625 -13.28125 18.9375 -11.515625 \r\nQ 21 -9.765625 23.484375 -3.21875 \r\nL 25.09375 0.875 \r\nL 2.984375 54.6875 \r\nL 12.5 54.6875 \r\nL 29.59375 11.921875 \r\nL 46.6875 54.6875 \r\nL 56.203125 54.6875 \r\nz\r\n\" id=\"DejaVuSans-121\"/>\r\n      </defs>\r\n      <use xlink:href=\"#DejaVuSans-115\"/>\r\n      <use x=\"52.099609\" xlink:href=\"#DejaVuSans-101\"/>\r\n      <use x=\"113.623047\" xlink:href=\"#DejaVuSans-114\"/>\r\n      <use x=\"154.736328\" xlink:href=\"#DejaVuSans-118\"/>\r\n      <use x=\"213.916016\" xlink:href=\"#DejaVuSans-105\"/>\r\n      <use x=\"241.699219\" xlink:href=\"#DejaVuSans-99\"/>\r\n      <use x=\"296.679688\" xlink:href=\"#DejaVuSans-101\"/>\r\n      <use x=\"358.203125\" xlink:href=\"#DejaVuSans-95\"/>\r\n      <use x=\"408.203125\" xlink:href=\"#DejaVuSans-99\"/>\r\n      <use x=\"463.183594\" xlink:href=\"#DejaVuSans-97\"/>\r\n      <use x=\"524.462891\" xlink:href=\"#DejaVuSans-116\"/>\r\n      <use x=\"563.671875\" xlink:href=\"#DejaVuSans-101\"/>\r\n      <use x=\"625.195312\" xlink:href=\"#DejaVuSans-103\"/>\r\n      <use x=\"688.671875\" xlink:href=\"#DejaVuSans-111\"/>\r\n      <use x=\"749.853516\" xlink:href=\"#DejaVuSans-114\"/>\r\n      <use x=\"790.966797\" xlink:href=\"#DejaVuSans-121\"/>\r\n     </g>\r\n    </g>\r\n   </g>\r\n   <g id=\"matplotlib.axis_2\">\r\n    <g id=\"ytick_1\">\r\n     <g id=\"line2d_5\">\r\n      <defs>\r\n       <path d=\"M 0 0 \r\nL -3.5 0 \r\n\" id=\"m89dac44965\" style=\"stroke:#000000;stroke-width:0.8;\"/>\r\n      </defs>\r\n      <g>\r\n       <use style=\"stroke:#000000;stroke-width:0.8;\" x=\"26.925\" xlink:href=\"#m89dac44965\" y=\"224.64\"/>\r\n      </g>\r\n     </g>\r\n     <g id=\"text_6\">\r\n      <!-- 0 -->\r\n      <g transform=\"translate(13.5625 228.439219)scale(0.1 -0.1)\">\r\n       <defs>\r\n        <path d=\"M 31.78125 66.40625 \r\nQ 24.171875 66.40625 20.328125 58.90625 \r\nQ 16.5 51.421875 16.5 36.375 \r\nQ 16.5 21.390625 20.328125 13.890625 \r\nQ 24.171875 6.390625 31.78125 6.390625 \r\nQ 39.453125 6.390625 43.28125 13.890625 \r\nQ 47.125 21.390625 47.125 36.375 \r\nQ 47.125 51.421875 43.28125 58.90625 \r\nQ 39.453125 66.40625 31.78125 66.40625 \r\nz\r\nM 31.78125 74.21875 \r\nQ 44.046875 74.21875 50.515625 64.515625 \r\nQ 56.984375 54.828125 56.984375 36.375 \r\nQ 56.984375 17.96875 50.515625 8.265625 \r\nQ 44.046875 -1.421875 31.78125 -1.421875 \r\nQ 19.53125 -1.421875 13.0625 8.265625 \r\nQ 6.59375 17.96875 6.59375 36.375 \r\nQ 6.59375 54.828125 13.0625 64.515625 \r\nQ 19.53125 74.21875 31.78125 74.21875 \r\nz\r\n\" id=\"DejaVuSans-48\"/>\r\n       </defs>\r\n       <use xlink:href=\"#DejaVuSans-48\"/>\r\n      </g>\r\n     </g>\r\n    </g>\r\n    <g id=\"ytick_2\">\r\n     <g id=\"line2d_6\">\r\n      <g>\r\n       <use style=\"stroke:#000000;stroke-width:0.8;\" x=\"26.925\" xlink:href=\"#m89dac44965\" y=\"184.514886\"/>\r\n      </g>\r\n     </g>\r\n     <g id=\"text_7\">\r\n      <!-- 10 -->\r\n      <g transform=\"translate(7.2 188.314105)scale(0.1 -0.1)\">\r\n       <defs>\r\n        <path d=\"M 12.40625 8.296875 \r\nL 28.515625 8.296875 \r\nL 28.515625 63.921875 \r\nL 10.984375 60.40625 \r\nL 10.984375 69.390625 \r\nL 28.421875 72.90625 \r\nL 38.28125 72.90625 \r\nL 38.28125 8.296875 \r\nL 54.390625 8.296875 \r\nL 54.390625 0 \r\nL 12.40625 0 \r\nz\r\n\" id=\"DejaVuSans-49\"/>\r\n       </defs>\r\n       <use xlink:href=\"#DejaVuSans-49\"/>\r\n       <use x=\"63.623047\" xlink:href=\"#DejaVuSans-48\"/>\r\n      </g>\r\n     </g>\r\n    </g>\r\n    <g id=\"ytick_3\">\r\n     <g id=\"line2d_7\">\r\n      <g>\r\n       <use style=\"stroke:#000000;stroke-width:0.8;\" x=\"26.925\" xlink:href=\"#m89dac44965\" y=\"144.389772\"/>\r\n      </g>\r\n     </g>\r\n     <g id=\"text_8\">\r\n      <!-- 20 -->\r\n      <g transform=\"translate(7.2 148.18899)scale(0.1 -0.1)\">\r\n       <defs>\r\n        <path d=\"M 19.1875 8.296875 \r\nL 53.609375 8.296875 \r\nL 53.609375 0 \r\nL 7.328125 0 \r\nL 7.328125 8.296875 \r\nQ 12.9375 14.109375 22.625 23.890625 \r\nQ 32.328125 33.6875 34.8125 36.53125 \r\nQ 39.546875 41.84375 41.421875 45.53125 \r\nQ 43.3125 49.21875 43.3125 52.78125 \r\nQ 43.3125 58.59375 39.234375 62.25 \r\nQ 35.15625 65.921875 28.609375 65.921875 \r\nQ 23.96875 65.921875 18.8125 64.3125 \r\nQ 13.671875 62.703125 7.8125 59.421875 \r\nL 7.8125 69.390625 \r\nQ 13.765625 71.78125 18.9375 73 \r\nQ 24.125 74.21875 28.421875 74.21875 \r\nQ 39.75 74.21875 46.484375 68.546875 \r\nQ 53.21875 62.890625 53.21875 53.421875 \r\nQ 53.21875 48.921875 51.53125 44.890625 \r\nQ 49.859375 40.875 45.40625 35.40625 \r\nQ 44.1875 33.984375 37.640625 27.21875 \r\nQ 31.109375 20.453125 19.1875 8.296875 \r\nz\r\n\" id=\"DejaVuSans-50\"/>\r\n       </defs>\r\n       <use xlink:href=\"#DejaVuSans-50\"/>\r\n       <use x=\"63.623047\" xlink:href=\"#DejaVuSans-48\"/>\r\n      </g>\r\n     </g>\r\n    </g>\r\n    <g id=\"ytick_4\">\r\n     <g id=\"line2d_8\">\r\n      <g>\r\n       <use style=\"stroke:#000000;stroke-width:0.8;\" x=\"26.925\" xlink:href=\"#m89dac44965\" y=\"104.264657\"/>\r\n      </g>\r\n     </g>\r\n     <g id=\"text_9\">\r\n      <!-- 30 -->\r\n      <g transform=\"translate(7.2 108.063876)scale(0.1 -0.1)\">\r\n       <defs>\r\n        <path d=\"M 40.578125 39.3125 \r\nQ 47.65625 37.796875 51.625 33 \r\nQ 55.609375 28.21875 55.609375 21.1875 \r\nQ 55.609375 10.40625 48.1875 4.484375 \r\nQ 40.765625 -1.421875 27.09375 -1.421875 \r\nQ 22.515625 -1.421875 17.65625 -0.515625 \r\nQ 12.796875 0.390625 7.625 2.203125 \r\nL 7.625 11.71875 \r\nQ 11.71875 9.328125 16.59375 8.109375 \r\nQ 21.484375 6.890625 26.8125 6.890625 \r\nQ 36.078125 6.890625 40.9375 10.546875 \r\nQ 45.796875 14.203125 45.796875 21.1875 \r\nQ 45.796875 27.640625 41.28125 31.265625 \r\nQ 36.765625 34.90625 28.71875 34.90625 \r\nL 20.21875 34.90625 \r\nL 20.21875 43.015625 \r\nL 29.109375 43.015625 \r\nQ 36.375 43.015625 40.234375 45.921875 \r\nQ 44.09375 48.828125 44.09375 54.296875 \r\nQ 44.09375 59.90625 40.109375 62.90625 \r\nQ 36.140625 65.921875 28.71875 65.921875 \r\nQ 24.65625 65.921875 20.015625 65.03125 \r\nQ 15.375 64.15625 9.8125 62.3125 \r\nL 9.8125 71.09375 \r\nQ 15.4375 72.65625 20.34375 73.4375 \r\nQ 25.25 74.21875 29.59375 74.21875 \r\nQ 40.828125 74.21875 47.359375 69.109375 \r\nQ 53.90625 64.015625 53.90625 55.328125 \r\nQ 53.90625 49.265625 50.4375 45.09375 \r\nQ 46.96875 40.921875 40.578125 39.3125 \r\nz\r\n\" id=\"DejaVuSans-51\"/>\r\n       </defs>\r\n       <use xlink:href=\"#DejaVuSans-51\"/>\r\n       <use x=\"63.623047\" xlink:href=\"#DejaVuSans-48\"/>\r\n      </g>\r\n     </g>\r\n    </g>\r\n    <g id=\"ytick_5\">\r\n     <g id=\"line2d_9\">\r\n      <g>\r\n       <use style=\"stroke:#000000;stroke-width:0.8;\" x=\"26.925\" xlink:href=\"#m89dac44965\" y=\"64.139543\"/>\r\n      </g>\r\n     </g>\r\n     <g id=\"text_10\">\r\n      <!-- 40 -->\r\n      <g transform=\"translate(7.2 67.938762)scale(0.1 -0.1)\">\r\n       <defs>\r\n        <path d=\"M 37.796875 64.3125 \r\nL 12.890625 25.390625 \r\nL 37.796875 25.390625 \r\nz\r\nM 35.203125 72.90625 \r\nL 47.609375 72.90625 \r\nL 47.609375 25.390625 \r\nL 58.015625 25.390625 \r\nL 58.015625 17.1875 \r\nL 47.609375 17.1875 \r\nL 47.609375 0 \r\nL 37.796875 0 \r\nL 37.796875 17.1875 \r\nL 4.890625 17.1875 \r\nL 4.890625 26.703125 \r\nz\r\n\" id=\"DejaVuSans-52\"/>\r\n       </defs>\r\n       <use xlink:href=\"#DejaVuSans-52\"/>\r\n       <use x=\"63.623047\" xlink:href=\"#DejaVuSans-48\"/>\r\n      </g>\r\n     </g>\r\n    </g>\r\n    <g id=\"ytick_6\">\r\n     <g id=\"line2d_10\">\r\n      <g>\r\n       <use style=\"stroke:#000000;stroke-width:0.8;\" x=\"26.925\" xlink:href=\"#m89dac44965\" y=\"24.014429\"/>\r\n      </g>\r\n     </g>\r\n     <g id=\"text_11\">\r\n      <!-- 50 -->\r\n      <g transform=\"translate(7.2 27.813648)scale(0.1 -0.1)\">\r\n       <defs>\r\n        <path d=\"M 10.796875 72.90625 \r\nL 49.515625 72.90625 \r\nL 49.515625 64.59375 \r\nL 19.828125 64.59375 \r\nL 19.828125 46.734375 \r\nQ 21.96875 47.46875 24.109375 47.828125 \r\nQ 26.265625 48.1875 28.421875 48.1875 \r\nQ 40.625 48.1875 47.75 41.5 \r\nQ 54.890625 34.8125 54.890625 23.390625 \r\nQ 54.890625 11.625 47.5625 5.09375 \r\nQ 40.234375 -1.421875 26.90625 -1.421875 \r\nQ 22.3125 -1.421875 17.546875 -0.640625 \r\nQ 12.796875 0.140625 7.71875 1.703125 \r\nL 7.71875 11.625 \r\nQ 12.109375 9.234375 16.796875 8.0625 \r\nQ 21.484375 6.890625 26.703125 6.890625 \r\nQ 35.15625 6.890625 40.078125 11.328125 \r\nQ 45.015625 15.765625 45.015625 23.390625 \r\nQ 45.015625 31 40.078125 35.4375 \r\nQ 35.15625 39.890625 26.703125 39.890625 \r\nQ 22.75 39.890625 18.8125 39.015625 \r\nQ 14.890625 38.140625 10.796875 36.28125 \r\nz\r\n\" id=\"DejaVuSans-53\"/>\r\n       </defs>\r\n       <use xlink:href=\"#DejaVuSans-53\"/>\r\n       <use x=\"63.623047\" xlink:href=\"#DejaVuSans-48\"/>\r\n      </g>\r\n     </g>\r\n    </g>\r\n   </g>\r\n   <g id=\"patch_7\">\r\n    <path d=\"M 26.925 224.64 \r\nL 26.925 7.2 \r\n\" style=\"fill:none;stroke:#000000;stroke-linecap:square;stroke-linejoin:miter;stroke-width:0.8;\"/>\r\n   </g>\r\n   <g id=\"patch_8\">\r\n    <path d=\"M 361.725 224.64 \r\nL 361.725 7.2 \r\n\" style=\"fill:none;stroke:#000000;stroke-linecap:square;stroke-linejoin:miter;stroke-width:0.8;\"/>\r\n   </g>\r\n   <g id=\"patch_9\">\r\n    <path d=\"M 26.925 224.64 \r\nL 361.725 224.64 \r\n\" style=\"fill:none;stroke:#000000;stroke-linecap:square;stroke-linejoin:miter;stroke-width:0.8;\"/>\r\n   </g>\r\n   <g id=\"patch_10\">\r\n    <path d=\"M 26.925 7.2 \r\nL 361.725 7.2 \r\n\" style=\"fill:none;stroke:#000000;stroke-linecap:square;stroke-linejoin:miter;stroke-width:0.8;\"/>\r\n   </g>\r\n  </g>\r\n </g>\r\n <defs>\r\n  <clipPath id=\"pd9c1a3884d\">\r\n   <rect height=\"217.44\" width=\"334.8\" x=\"26.925\" y=\"7.2\"/>\r\n  </clipPath>\r\n </defs>\r\n</svg>\r\n",
      "image/png": "[encoded data removed]"
     },
     "metadata": {
      "needs_background": "light"
     }
    }
   ],
   "source": [
    "# Display the results in a bar chart\n",
    "dissatisfied_employees.plot(kind = 'bar', legend = None)                                               \n",
    "plt.show()"
   ]
  },
  {
   "cell_type": "markdown",
   "metadata": {},
   "source": [
    "Above we found that Majority (About 52%) of **established employees** (who have spent at 7-10 working at the institute), left because they were dissatisfied.\n",
    "\n",
    "Fewer (30%) **Experienced employees** (those who have spent 3-6 years working at the institutes) left due to dissatisfaction, in other words, majority under this category left due to some other reasons other than dissatisfaction.\n",
    "\n",
    "Again Fewer (29%) number of **New employees** (those who have spent less than 3 years working at the institutes) left due to dissatisfaction, in other words, majority under this category left due to some other reasons other than dissatisfaction\n",
    "\n",
    "About 50% of **veteran employees** (those eho have spent over 11 years working at the institutes) left due to dissatisfaction\n",
    "\n",
    "In this project, we experienced that in order to extract any meaningful insights from our data, we had to perform many data cleaning tasks. In order to create one visualization (and not even the final one), we completed the following tasks:\n",
    "\n",
    "- Explored the data and figured out how to prepare it for analysis\n",
    "- Corrected some of the missing values\n",
    "- Dropped any data not needed for our analysis\n",
    "- Renamed our columns\n",
    "- Verified the quality of our data\n",
    "- Created a new `institute_service` column\n",
    "- Cleaned the **Contributing Factors** columns\n",
    "- Created a new column indicating if an employee resigned because they were dissatisfied in some way\n",
    "- Combined the data\n",
    "- Cleaned the `institute_service` column\n",
    "- Handled the missing values in the `dissatisfied` column\n",
    "- Aggregated the data"
   ]
  }
 ],
 "metadata": {
  "kernelspec": {
   "display_name": "Python 3",
   "language": "python",
   "name": "python3"
  },
  "language_info": {
   "codemirror_mode": {
    "name": "ipython",
    "version": 3
   },
   "file_extension": ".py",
   "mimetype": "text/x-python",
   "name": "python",
   "nbconvert_exporter": "python",
   "pygments_lexer": "ipython3",
   "version": "3.7.4-final"
  }
 },
 "nbformat": 4,
 "nbformat_minor": 2
}