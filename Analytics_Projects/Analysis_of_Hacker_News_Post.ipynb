{
 "cells": [
  {
   "cell_type": "markdown",
   "metadata": {},
   "source": [
    "# Hacker News Posts With Most Comments\n",
    "\n",
    "###                                                       INTRODUCTION\n",
    "\n",
    "In this project, we'll work with a data set of submissions to popular technology site [Hacker News](https://news.ycombinator.com). \n",
    "Hacker News is a site started by the startup incubator [Y Combinator](https://www.ycombinator.com), where user-submitted stories (known as \"posts\") are voted and commented upon, similar to reddit. Hacker News is extremely popular in technology and startup circles, and posts that make it to the top of Hacker News' listings can get hundreds of thousands of visitors as a result.\n",
    "\n",
    "This data set is Hacker News posts from the last 12 months (up to September 26 2016) and can be found [here](https://news.ycombinator.com). The data contains almost 300,000 rows. Below are descriptions of the columns:\n",
    "\n",
    "* **id**: The unique identifier from Hacker News for the post\n",
    "* **title**: The title of the post\n",
    "* **url** : The URL that the posts links to, if it the post has a URL\n",
    "* **num_points**: The number of points the post acquired, calculated as the total number of upvotes minus the total number of downvotes\n",
    "* **num_comments**: The number of comments that were made on the post\n",
    "* **author**: The username of the person who submitted the post\n",
    "* **created_at**: The date and time at which the post was submitted\n",
    "\n",
    "At Hacker News, Users can ask questions mostly related to tech and startups and also provide insights to projects, products or anything around tech generally. The norm at Hacker News is to use the tag \"Ask HN\" to ask questions and \"Show HN\" to show the community something interesting.\n",
    "\n",
    "The focus of this analysis is to compare the two types of posts (Ask HN and Show HN) in order to determine:\n",
    "* which amongst these posts have the highest number of comments on the average\n",
    "* The particular hours in which posts are likely to receive most comments on the average\n",
    "\n",
    "We'll Begin our analysis by opening the dataset (csv file) and removing the header row"
   ]
  },
  {
   "cell_type": "code",
   "execution_count": 1,
   "metadata": {},
   "outputs": [],
   "source": [
    "opened_file = open(\"../Dataset/hacker_news.csv\", encoding = 'utf8')"
   ]
  },
  {
   "cell_type": "code",
   "execution_count": 2,
   "metadata": {},
   "outputs": [],
   "source": [
    "# Importing the reader method from the csv module\n",
    "from csv import reader\n",
    "read_file = reader(opened_file)\n",
    "hn = list(read_file) # Parsing the file as a list of lists"
   ]
  },
  {
   "cell_type": "code",
   "execution_count": 3,
   "metadata": {},
   "outputs": [
    {
     "output_type": "execute_result",
     "data": {
      "text/plain": [
       "[['id', 'title', 'url', 'num_points', 'num_comments', 'author', 'created_at'],\n",
       " ['12224879',\n",
       "  'Interactive Dynamic Video',\n",
       "  'http://www.interactivedynamicvideo.com/',\n",
       "  '386',\n",
       "  '52',\n",
       "  'ne0phyte',\n",
       "  '8/4/2016 11:52'],\n",
       " ['11964716',\n",
       "  \"Florida DJs May Face Felony for April Fools' Water Joke\",\n",
       "  'http://www.thewire.com/entertainment/2013/04/florida-djs-april-fools-water-joke/63798/',\n",
       "  '2',\n",
       "  '1',\n",
       "  'vezycash',\n",
       "  '6/23/2016 22:20'],\n",
       " ['11919867',\n",
       "  'Technology ventures: From Idea to Enterprise',\n",
       "  'https://www.amazon.com/Technology-Ventures-Enterprise-Thomas-Byers/dp/0073523429',\n",
       "  '3',\n",
       "  '1',\n",
       "  'hswarna',\n",
       "  '6/17/2016 0:01'],\n",
       " ['10301696',\n",
       "  'Note by Note: The Making of Steinway L1037 (2007)',\n",
       "  'http://www.nytimes.com/2007/11/07/movies/07stein.html?_r=0',\n",
       "  '8',\n",
       "  '2',\n",
       "  'walterbell',\n",
       "  '9/30/2015 4:12']]"
      ]
     },
     "metadata": {},
     "execution_count": 3
    }
   ],
   "source": [
    "# Displaying the first five rows of the data set\n",
    "hn[0:5]"
   ]
  },
  {
   "cell_type": "code",
   "execution_count": 4,
   "metadata": {},
   "outputs": [
    {
     "output_type": "execute_result",
     "data": {
      "text/plain": [
       "['12224879',\n",
       " 'Interactive Dynamic Video',\n",
       " 'http://www.interactivedynamicvideo.com/',\n",
       " '386',\n",
       " '52',\n",
       " 'ne0phyte',\n",
       " '8/4/2016 11:52']"
      ]
     },
     "metadata": {},
     "execution_count": 4
    }
   ],
   "source": [
    "# Removing the header row\n",
    "headers = hn[0]\n",
    "hn = hn[1:]\n",
    "hn[0] # The first row now excludes the header row"
   ]
  },
  {
   "cell_type": "markdown",
   "metadata": {},
   "source": [
    "### Analyzing \"Ask HN & Show HN\" Posts\n",
    "\n",
    "#### Isolating All \"Ask HN\", \"Show HN\" and \"Other\" Posts in separate lists\n",
    "\n",
    "The cell below Takes the following steps:\n",
    "\n",
    "* Creates three empty lists namely `ask_posts, show_posts` and `other_posts`, that will hold a list of all posts that starts with \"Ask HN\", \"Show HN\" and `other posts` respectively.\n",
    "\n",
    "* Loop through the `hn` list  of lists and for iteration:\n",
    "- assign the first column to a variable called `title` (the frist column of `hn` holds the title of the posts)\n",
    "- checks if each `title` `startswith` `ask hn` and appends all such rows to the `ask_posts` list\n",
    "\n",
    "_Note: The `lower` method that is called, returns the lowercase of a string. At inspection, the titles that begin with `Ask HN`_\n",
    "_Have some letters in uppercase and code will return an error if we don't first, convert them to lowercase_\n",
    "\n",
    "_Also the string method `startswith` checks if a string starts with a particular string_\n",
    "\n",
    "- if the above condition doesn't hold true, we check if `title` starts with `show hn` and append all such rows to the `show_posts`list\n",
    "\n",
    "- if the condition doesn't hold true, we append all other rows to the `other_posts` list.\n",
    "\n",
    "* Print the length of `ask_posts` list\n",
    "* Print the length of `show_posts` list\n",
    "* Print the length of `other_posts` list"
   ]
  },
  {
   "cell_type": "code",
   "execution_count": 5,
   "metadata": {},
   "outputs": [
    {
     "output_type": "stream",
     "name": "stdout",
     "text": [
      "1744\n1162\n17193\n"
     ]
    }
   ],
   "source": [
    "# Analyzing Data whose rows starts with just 'Ask hn' and 'Show hn'\n",
    "ask_posts = []\n",
    "show_posts = []\n",
    "other_posts = []\n",
    "\n",
    "for row in hn:\n",
    "    title = row[1]\n",
    "    \n",
    "    if (title.lower().startswith('ask hn')):\n",
    "        ask_posts.append(row)\n",
    "        \n",
    "    elif (title.lower().startswith('show hn')):\n",
    "        show_posts.append(row)\n",
    "        \n",
    "    else:\n",
    "        other_posts.append(row)\n",
    "\n",
    "print(len(ask_posts))\n",
    "print(len(show_posts))\n",
    "print(len(other_posts))"
   ]
  },
  {
   "cell_type": "markdown",
   "metadata": {},
   "source": [
    "The above output shows that majority of the posts, are posts that neither used `Ask HN` nor `Show HN` syntax to ask questions or show projects. \n",
    "Other Posts have a total of 273,822 rows, while posts that begins with \"Ask HN\" have 9,139 rows and posts that starts with \"Show HN\" have a total of 10,158 rows.\n",
    "## Note:\n",
    "\n",
    "##### This work is focused on analyzing `Ask Posts` and `Show Posts`, so we won't be needing to analyze `Other posts`"
   ]
  },
  {
   "cell_type": "code",
   "execution_count": 6,
   "metadata": {},
   "outputs": [
    {
     "output_type": "execute_result",
     "data": {
      "text/plain": [
       "[['12296411',\n",
       "  'Ask HN: How to improve my personal website?',\n",
       "  '',\n",
       "  '2',\n",
       "  '6',\n",
       "  'ahmedbaracat',\n",
       "  '8/16/2016 9:55'],\n",
       " ['10610020',\n",
       "  'Ask HN: Am I the only one outraged by Twitter shutting down share counts?',\n",
       "  '',\n",
       "  '28',\n",
       "  '29',\n",
       "  'tkfx',\n",
       "  '11/22/2015 13:43'],\n",
       " ['11610310',\n",
       "  'Ask HN: Aby recent changes to CSS that broke mobile?',\n",
       "  '',\n",
       "  '1',\n",
       "  '1',\n",
       "  'polskibus',\n",
       "  '5/2/2016 10:14'],\n",
       " ['12210105',\n",
       "  'Ask HN: Looking for Employee #3 How do I do it?',\n",
       "  '',\n",
       "  '1',\n",
       "  '3',\n",
       "  'sph130',\n",
       "  '8/2/2016 14:20'],\n",
       " ['10394168',\n",
       "  'Ask HN: Someone offered to buy my browser extension from me. What now?',\n",
       "  '',\n",
       "  '28',\n",
       "  '17',\n",
       "  'roykolak',\n",
       "  '10/15/2015 16:38']]"
      ]
     },
     "metadata": {},
     "execution_count": 6
    }
   ],
   "source": [
    "ask_posts[0:5] # Showing the first five rows of Ask Posts"
   ]
  },
  {
   "cell_type": "code",
   "execution_count": 7,
   "metadata": {},
   "outputs": [
    {
     "output_type": "execute_result",
     "data": {
      "text/plain": [
       "[['10627194',\n",
       "  'Show HN: Wio Link  ESP8266 Based Web of Things Hardware Development Platform',\n",
       "  'https://iot.seeed.cc',\n",
       "  '26',\n",
       "  '22',\n",
       "  'kfihihc',\n",
       "  '11/25/2015 14:03'],\n",
       " ['10646440',\n",
       "  'Show HN: Something pointless I made',\n",
       "  'http://dn.ht/picklecat/',\n",
       "  '747',\n",
       "  '102',\n",
       "  'dhotson',\n",
       "  '11/29/2015 22:46'],\n",
       " ['11590768',\n",
       "  'Show HN: Shanhu.io, a programming playground powered by e8vm',\n",
       "  'https://shanhu.io',\n",
       "  '1',\n",
       "  '1',\n",
       "  'h8liu',\n",
       "  '4/28/2016 18:05'],\n",
       " ['12178806',\n",
       "  'Show HN: Webscope  Easy way for web developers to communicate with Clients',\n",
       "  'http://webscopeapp.com',\n",
       "  '3',\n",
       "  '3',\n",
       "  'fastbrick',\n",
       "  '7/28/2016 7:11'],\n",
       " ['10872799',\n",
       "  'Show HN: GeoScreenshot  Easily test Geo-IP based web pages',\n",
       "  'https://www.geoscreenshot.com/',\n",
       "  '1',\n",
       "  '9',\n",
       "  'kpsychwave',\n",
       "  '1/9/2016 20:45']]"
      ]
     },
     "metadata": {},
     "execution_count": 7
    }
   ],
   "source": [
    "show_posts[0:5] # Showing the first five rows of Show Posts"
   ]
  },
  {
   "cell_type": "markdown",
   "metadata": {},
   "source": [
    "# Determining Which Posts Received More Comments Between `Ask Posts` &                                        `Show Posts`.\n",
    "\n",
    "The code cell below shows the following steps:\n",
    "\n",
    "* creates a variable called `total_ask_comments` which holds a zero value\n",
    "* Loops through the `ask_posts` list and for each iteration:\n",
    "\n",
    "* _converts the number of comments for each question asked (column 4) to an integer and assigns it to variable `ask_comments`_\n",
    "* _Adds up the number of comments in each row and assigns it to the variable `total_ask_comments`\n",
    "* Calculates the average number of comments in all `ask_posts` by dividing `total_ask_comments` by the total number of `ask_posts`\n",
    "* Print the total number of comments for all posts in `ask_posts`\n",
    "* Print the average number of comments for all posts in `ask_posts`"
   ]
  },
  {
   "cell_type": "code",
   "execution_count": 8,
   "metadata": {},
   "outputs": [
    {
     "output_type": "stream",
     "name": "stdout",
     "text": [
      "24483\n14.038417431192661\n"
     ]
    }
   ],
   "source": [
    "# computing the total and average number of comments in 'Ask Posts' \n",
    "total_ask_comments = 0\n",
    "\n",
    "for row in ask_posts:\n",
    "    ask_comments = int(row[4])\n",
    "    total_ask_comments += ask_comments\n",
    "\n",
    "avr_ask_comments = total_ask_comments / len(ask_posts)      \n",
    "print(total_ask_comments)\n",
    "print(avr_ask_comments)"
   ]
  },
  {
   "cell_type": "markdown",
   "metadata": {},
   "source": [
    "The above outputs shows that the total number of comments for all posts in `ask_posts` is 94,986 comments, while the average number of comments for all posts in `ask_posts` is 10.39 comments.\n",
    "\n",
    "This can otherwise be interpreted as saying that on the average, posts that starts with `Ask HN` will receive 10 comments per post.\n",
    "\n",
    "The code cell below shows the following steps:\n",
    "\n",
    "* creates a variable called `total_show_comments` which holds a zero value\n",
    "* Loops through the `show_posts` list and for each iteration:\n",
    "\n",
    "* _converts the number of comments for each question asked (column 4) to an integer and assigns it to variable `show_comments`_\n",
    "* _Adds up the number of comments in each row and assigns it to the variable `total_show_comments`\n",
    "* Calculates the average number of comments in all `show_posts` by dividing `total_show_comments` by the total number of `show_posts`\n",
    "* Print the total number of comments for all posts in `show_posts`\n",
    "* Print the average number of comments for all posts in `show_posts`"
   ]
  },
  {
   "cell_type": "code",
   "execution_count": 9,
   "metadata": {},
   "outputs": [
    {
     "output_type": "stream",
     "name": "stdout",
     "text": [
      "11988\n10.31669535283993\n"
     ]
    }
   ],
   "source": [
    "# computing the total and average number of comments in 'Show Posts' \n",
    "\n",
    "total_show_comments = 0\n",
    "\n",
    "for row in show_posts:\n",
    "    show_comments = int(row[4])\n",
    "    total_show_comments += show_comments\n",
    "    avr_show_comments = total_show_comments / len(show_posts)\n",
    "    \n",
    "print(total_show_comments)\n",
    "print(avr_show_comments)"
   ]
  },
  {
   "cell_type": "markdown",
   "metadata": {},
   "source": [
    "The above outputs shows that the total number of comments for all posts in `show_posts` list is 49,633 comments, while the average number of comments for all posts in `show_posts` is 4.89 comments.\n",
    "\n",
    "This can otherwise be interpreted as saying that on the average, posts that starts with `Show HN` will receive 5 comments per post.\n",
    "\n",
    "#### Going Deeper in analyzing `Ask Posts`\n",
    "\n",
    "Next, we'll determine if ask posts created at a certain time are more likely to attract more comments. We'll use the following steps to perform this analysis:\n",
    "\n",
    "* Calculate the amount of ask posts created in each hour of the day, along with the number of comments received.\n",
    "* Calculate the average number of comments ask posts receive per hour created.\n",
    "\n",
    "The next few code cells below implements the first step above. Firstly, we import the `datetime` module as `dt`\n",
    "_created an empty list that will contain two elements (the first element will be the different hours in which `ask_posts` were created while the second element will be the number of comments that were received during that hour)_\n",
    "\n",
    "Loop through the `ask_posts` list and for each iteration;\n",
    "_isolated the datetime column and assigned it to a variable called `created_at`\n",
    "_isolated the number of comments posts received, converted it to an integer and assigned it to a variable called `num_comments`\n",
    "_append to result list, a tuple that contains the hour in which posts were created and the number of comments in that hour\n",
    "\n",
    "Printed the first ten rows of result list"
   ]
  },
  {
   "cell_type": "code",
   "execution_count": 10,
   "metadata": {},
   "outputs": [
    {
     "output_type": "execute_result",
     "data": {
      "text/plain": [
       "[('8/16/2016 9:55', 6),\n",
       " ('11/22/2015 13:43', 29),\n",
       " ('5/2/2016 10:14', 1),\n",
       " ('8/2/2016 14:20', 3),\n",
       " ('10/15/2015 16:38', 17),\n",
       " ('9/26/2015 23:23', 1),\n",
       " ('4/22/2016 12:24', 4),\n",
       " ('11/16/2015 9:22', 1),\n",
       " ('2/24/2016 17:57', 1),\n",
       " ('6/4/2016 17:17', 2)]"
      ]
     },
     "metadata": {},
     "execution_count": 10
    }
   ],
   "source": [
    "# The focus will be on the ask_posts because they have more comments on the average\n",
    "\n",
    "import datetime as dt\n",
    "\n",
    "result_list = []\n",
    "\n",
    "for row in ask_posts:\n",
    "    created_at = row[6]\n",
    "    num_comments = int(row[4])\n",
    "    result_list.append((created_at, num_comments)) # append takes one argument, using two will return an error, but this worked because we parsed the two arguments with one parenthesis\n",
    "    \n",
    "    \n",
    "result_list[0:10]"
   ]
  },
  {
   "cell_type": "code",
   "execution_count": 11,
   "metadata": {},
   "outputs": [
    {
     "output_type": "execute_result",
     "data": {
      "text/plain": [
       "[]"
      ]
     },
     "metadata": {},
     "execution_count": 11
    }
   ],
   "source": [
    "# printing the last ten rows of result list\n",
    "\n",
    "result_list[9129:]"
   ]
  },
  {
   "cell_type": "markdown",
   "metadata": {},
   "source": [
    "Below, we created two empty dictionaries namely, `counts_by_hour` and `comments_by_hour`\n",
    "\n",
    "Loop through the `result_list` (which now contains datetime and number of comments for each), and for each iteration;\n",
    "\n",
    "* isolate the date and time located at the first column and assigned it to a variable called `date_and_hour`\n",
    "* created an object of the `datetime` module (now `dt`), called one of its methods also called `datetime` and called another of its methods called `strptime`, which helps to parse the date and time in the format specified.\n",
    "* Isolated the hour of the parsed `date` object in a variable called `hour`\n",
    "* Created a condition that executes `if` the `hour` variable does not exist as a key in the `count_by_hour` dictionary. The condition creates a new 'key-value' pair in the `counts_by_hour` empty dictionary, where the `hour` is stored as a key and its number of counts is stored as the `value`. And also Creates a new 'key-value' pair in the `comments_by_hour` empty dictionary, where the `hour` is the key and the value is the number of comments.\n",
    "* `if` the `hour` variable already exists as key in the `counts_by_hour` dictionary, increment the `hour` in the `counts_by_hour` by one. And also increment the `hour` in the `comments_by_hour` by the number of comments. In other words, for every time a particular hour is encountered, count the number of comments for that hour and store the sum as the value of the `comments_by_hour` dictionary."
   ]
  },
  {
   "cell_type": "code",
   "execution_count": 12,
   "metadata": {},
   "outputs": [
    {
     "output_type": "stream",
     "name": "stdout",
     "text": [
      "{'09': 251, '13': 1253, '10': 793, '14': 1416, '16': 1814, '23': 543, '12': 687, '17': 1146, '15': 4477, '21': 1745, '20': 1722, '02': 1381, '18': 1439, '03': 421, '05': 464, '19': 1188, '01': 683, '22': 479, '08': 492, '04': 337, '00': 447, '06': 397, '07': 267, '11': 641}\n{'09': 45, '13': 85, '10': 59, '14': 107, '16': 108, '23': 68, '12': 73, '17': 100, '15': 116, '21': 109, '20': 80, '02': 58, '18': 109, '03': 54, '05': 46, '19': 110, '01': 60, '22': 71, '08': 48, '04': 47, '00': 55, '06': 44, '07': 34, '11': 58}\n"
     ]
    }
   ],
   "source": [
    "counts_by_hour = {}\n",
    "comments_by_hour = {}\n",
    "\n",
    "for row in result_list:\n",
    "    date_and_hour = row[0]\n",
    "    date = dt.datetime.strptime(date_and_hour, \"%m/%d/%Y %H:%M\")\n",
    "    hour = date.strftime('%H')\n",
    "    \n",
    "    if hour not in counts_by_hour:\n",
    "        counts_by_hour[hour] = 1\n",
    "        comments_by_hour[hour] = row[1]\n",
    "        \n",
    "    else:\n",
    "        counts_by_hour[hour] += 1\n",
    "        comments_by_hour[hour] += row[1]\n",
    "\n",
    "print(comments_by_hour)\n",
    "print(counts_by_hour)"
   ]
  },
  {
   "cell_type": "markdown",
   "metadata": {},
   "source": [
    "### Finfing the Average Number of Comments in each Hour\n",
    "\n",
    "* The code cell below creates an empty list and assigned it to a variable called `avr_comments_per_hour`\n",
    "* Loops through the `comments_by_hour` dictionary, and for each iteration:\n",
    "* appends to the empty `avr_comments_per_hour` list, another list with two elements.\n",
    "* The first element being the key of the dictionary and...\n",
    "* The second element being the value of each key in the `avr_comments_by_hour` divided by the value of each key in the `counts_by_hour` dictionary \n",
    "* This ultimately computes the second element of the `avr_comments_per_hour` list as the average comments received for each hour"
   ]
  },
  {
   "cell_type": "code",
   "execution_count": 13,
   "metadata": {},
   "outputs": [
    {
     "output_type": "execute_result",
     "data": {
      "text/plain": [
       "[['09', 5.5777777777777775],\n",
       " ['13', 14.741176470588234],\n",
       " ['10', 13.440677966101696],\n",
       " ['14', 13.233644859813085],\n",
       " ['16', 16.796296296296298],\n",
       " ['23', 7.985294117647059],\n",
       " ['12', 9.41095890410959],\n",
       " ['17', 11.46],\n",
       " ['15', 38.5948275862069],\n",
       " ['21', 16.009174311926607],\n",
       " ['20', 21.525],\n",
       " ['02', 23.810344827586206],\n",
       " ['18', 13.20183486238532],\n",
       " ['03', 7.796296296296297],\n",
       " ['05', 10.08695652173913],\n",
       " ['19', 10.8],\n",
       " ['01', 11.383333333333333],\n",
       " ['22', 6.746478873239437],\n",
       " ['08', 10.25],\n",
       " ['04', 7.170212765957447],\n",
       " ['00', 8.127272727272727],\n",
       " ['06', 9.022727272727273],\n",
       " ['07', 7.852941176470588],\n",
       " ['11', 11.051724137931034]]"
      ]
     },
     "metadata": {},
     "execution_count": 13
    }
   ],
   "source": [
    "# Average number of comments per hour\n",
    "avr_comments_per_hour = []\n",
    "\n",
    "for row in comments_by_hour:\n",
    "    avr_comments_per_hour.append([row, comments_by_hour[row] / counts_by_hour[row]])\n",
    "    \n",
    "avr_comments_per_hour"
   ]
  },
  {
   "cell_type": "markdown",
   "metadata": {},
   "source": [
    "### Swapping the Columns \n",
    "\n",
    "The code cell below puts the average comment for each hour as the first column and the hour itself as the second column. This is executed by undertaking the following steps:\n",
    "\n",
    "* Create an empty list and assign it to a variable called `swap_avg_by_hour`\n",
    "* Lopp through the `avg_comments_per_hour` list, and for each iteration;\n",
    "* Appends the average comments as the first column and the hour as the second column in the list."
   ]
  },
  {
   "cell_type": "code",
   "execution_count": 14,
   "metadata": {},
   "outputs": [
    {
     "output_type": "execute_result",
     "data": {
      "text/plain": [
       "[[5.5777777777777775, '09'],\n",
       " [14.741176470588234, '13'],\n",
       " [13.440677966101696, '10'],\n",
       " [13.233644859813085, '14'],\n",
       " [16.796296296296298, '16'],\n",
       " [7.985294117647059, '23'],\n",
       " [9.41095890410959, '12'],\n",
       " [11.46, '17'],\n",
       " [38.5948275862069, '15'],\n",
       " [16.009174311926607, '21'],\n",
       " [21.525, '20'],\n",
       " [23.810344827586206, '02'],\n",
       " [13.20183486238532, '18'],\n",
       " [7.796296296296297, '03'],\n",
       " [10.08695652173913, '05'],\n",
       " [10.8, '19'],\n",
       " [11.383333333333333, '01'],\n",
       " [6.746478873239437, '22'],\n",
       " [10.25, '08'],\n",
       " [7.170212765957447, '04'],\n",
       " [8.127272727272727, '00'],\n",
       " [9.022727272727273, '06'],\n",
       " [7.852941176470588, '07'],\n",
       " [11.051724137931034, '11']]"
      ]
     },
     "metadata": {},
     "execution_count": 14
    }
   ],
   "source": [
    "swap_avg_by_hour = []\n",
    "\n",
    "for row in avr_comments_per_hour:\n",
    "    swap_avg_by_hour.append([row[1], row[0]])\n",
    "    \n",
    "swap_avg_by_hour"
   ]
  },
  {
   "cell_type": "markdown",
   "metadata": {},
   "source": [
    "### Sorting the List in Descending order\n",
    "\n",
    "The `swap_avg_by_hour` list is sorted in descending order using the `sorted` function. The function takes the list to be manipulated as its first argument and take the reverse argument which evaluates to either `True` or `False` as its second argument. When `reverse` evaluates to `True` the values are displayed in descending order."
   ]
  },
  {
   "cell_type": "code",
   "execution_count": 15,
   "metadata": {},
   "outputs": [
    {
     "output_type": "execute_result",
     "data": {
      "text/plain": [
       "[[38.5948275862069, '15'],\n",
       " [23.810344827586206, '02'],\n",
       " [21.525, '20'],\n",
       " [16.796296296296298, '16'],\n",
       " [16.009174311926607, '21'],\n",
       " [14.741176470588234, '13'],\n",
       " [13.440677966101696, '10'],\n",
       " [13.233644859813085, '14'],\n",
       " [13.20183486238532, '18'],\n",
       " [11.46, '17'],\n",
       " [11.383333333333333, '01'],\n",
       " [11.051724137931034, '11'],\n",
       " [10.8, '19'],\n",
       " [10.25, '08'],\n",
       " [10.08695652173913, '05'],\n",
       " [9.41095890410959, '12'],\n",
       " [9.022727272727273, '06'],\n",
       " [8.127272727272727, '00'],\n",
       " [7.985294117647059, '23'],\n",
       " [7.852941176470588, '07'],\n",
       " [7.796296296296297, '03'],\n",
       " [7.170212765957447, '04'],\n",
       " [6.746478873239437, '22'],\n",
       " [5.5777777777777775, '09']]"
      ]
     },
     "metadata": {},
     "execution_count": 15
    }
   ],
   "source": [
    "sorted_swap = sorted(swap_avg_by_hour, reverse = True)\n",
    "sorted_swap"
   ]
  },
  {
   "cell_type": "code",
   "execution_count": 16,
   "metadata": {},
   "outputs": [
    {
     "output_type": "execute_result",
     "data": {
      "text/plain": [
       "[[38.5948275862069, '15'],\n",
       " [23.810344827586206, '02'],\n",
       " [21.525, '20'],\n",
       " [16.796296296296298, '16'],\n",
       " [16.009174311926607, '21']]"
      ]
     },
     "metadata": {},
     "execution_count": 16
    }
   ],
   "source": [
    "# Printing the top five hours with highest comments on the average\n",
    "top_five = sorted_swap[0:5]\n",
    "top_five"
   ]
  },
  {
   "cell_type": "markdown",
   "metadata": {},
   "source": [
    "The results above shows that on the average, `ask_posts` posted around 3pm, 1pm, 12noon, 2am and 10am, receive the highest number of comments.\n",
    "It is therefore advised that users who want to make `ask_posts`, should do so around these times if they want to get higher reviews and comments on their posts."
   ]
  },
  {
   "cell_type": "markdown",
   "metadata": {},
   "source": [
    "### Displaying the top-five ask_posts with the highest average comments in a more readable format\n",
    "\n",
    "The code cell below loops through the two columns in the `top_five` list of lists and for each iteration:\n",
    "* parses the string that contains the hours in a hourly format using the `strptime` method and assigns it to the variable `hour`\n",
    "* formats the hour to diplay both the hour and minutes\n",
    "* creates a string that will display the output in a readable format and assigns the string to a variable called `output`\n",
    "* inserts the hour and average comments into the `output` string using the `format` function\n",
    "* Prints `output`"
   ]
  },
  {
   "cell_type": "code",
   "execution_count": 17,
   "metadata": {},
   "outputs": [
    {
     "output_type": "stream",
     "name": "stdout",
     "text": [
      "At 15:00, there's an average of 38.59 comments on ask_posts\nAt 02:00, there's an average of 23.81 comments on ask_posts\nAt 20:00, there's an average of 21.52 comments on ask_posts\nAt 16:00, there's an average of 16.80 comments on ask_posts\nAt 21:00, there's an average of 16.01 comments on ask_posts\n"
     ]
    }
   ],
   "source": [
    "for avr, hour in top_five:\n",
    "    hour = dt.datetime.strptime(hour,\"%H\")\n",
    "    hour = hour.strftime(\"%H:%M\")\n",
    "    output = \"At {}, there's an average of {:.2f} comments on ask_posts\"\n",
    "    output = output.format(hour, avr)\n",
    "    \n",
    "    print(output)"
   ]
  }
 ],
 "metadata": {
  "kernelspec": {
   "display_name": "Python 3",
   "language": "python",
   "name": "python3"
  },
  "language_info": {
   "codemirror_mode": {
    "name": "ipython",
    "version": 3
   },
   "file_extension": ".py",
   "mimetype": "text/x-python",
   "name": "python",
   "nbconvert_exporter": "python",
   "pygments_lexer": "ipython3",
   "version": "3.7.4-final"
  }
 },
 "nbformat": 4,
 "nbformat_minor": 2
}