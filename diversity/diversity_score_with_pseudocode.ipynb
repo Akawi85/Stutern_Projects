{
 "cells": [
  {
   "cell_type": "markdown",
   "metadata": {},
   "source": [
    "### Pseudocode that computes a company's diversity score\n",
    "\n",
    "A community dominated by one or two categories is considered to be less diverse than one in which\n",
    "several different categories have a similar abundance.\n",
    "\n",
    "# This program will compute a company's diversity score given the number of staff that falls in each ethnic group within the company.\n",
    "\n",
    "\n"
   ]
  }
 ],
 "metadata": {
  "kernelspec": {
   "display_name": "Python 3",
   "language": "python",
   "name": "python3"
  },
  "language_info": {
   "codemirror_mode": {
    "name": "ipython",
    "version": 3
   },
   "file_extension": ".py",
   "mimetype": "text/x-python",
   "name": "python",
   "nbconvert_exporter": "python",
   "pygments_lexer": "ipython3",
   "version": "3.7.4"
  }
 },
 "nbformat": 4,
 "nbformat_minor": 4
}
