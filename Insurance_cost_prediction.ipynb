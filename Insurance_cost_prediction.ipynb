{
 "cells": [
  {
   "cell_type": "markdown",
   "metadata": {
    "id": "ha4oqIEP-QcR"
   },
   "source": [
    "# Introduction\n",
    "\n",
    "This notebook aims to analyze insurance data, communicate usefuls insights derived from the analysis to policy makers, generate a predictive model and accurately predict insurance charges given the modelled features.  \n",
    "The dataset can be obtained from the [kaggle_link](https://www.kaggle.com/mirichoi0218/insurance).  The Data has the following column descriptions\n",
    "- `age`: age of primary beneficiary\n",
    "- `sex`: insurance contractor gender, female, male\n",
    "- `bmi`: Body mass index, providing an understanding of body, weights that are relatively high or low relative to height,\n",
    "objective index of body weight (kg / m ^ 2) using the ratio of height to weight, ideally 18.5 to 24.9\n",
    "- `children`: Number of children covered by health insurance / Number of dependents\n",
    "- `smoker`: Smoking\n",
    "- `region`: the beneficiary's residential area in the US, northeast, southeast, southwest, northwest.\n",
    "- `charges`: Individual medical costs billed by health insurance\n",
    "\n",
    "### EDA \n",
    "\n",
    "First off we begin with performing some exploratory data analysis and visualization, after which we'll answer some questions which will help us derive some intuition about the dataset.   \n",
    "Specifically, we'll answer the following questions:  \n",
    "1. Does insurance charge differ across gender?\n",
    "2. Do smokers incur more insurance charges than non-smokers?\n",
    "3. Do people with more children incur higher insurance charges?\n",
    "4. what region has the highest and least insurance charge?\n",
    "5. Do older people incur more insurance charges than younger adults?\n",
    "\n",
    "Let's get started!"
   ]
  },
  {
   "cell_type": "code",
   "execution_count": 1,
   "metadata": {
    "id": "0NIPWMkWBu9j"
   },
   "outputs": [],
   "source": [
    "#import required python libraries\n",
    "import numpy as np\n",
    "import pandas as pd\n",
    "import matplotlib.pyplot as plt\n",
    "import seaborn as sns"
   ]
  },
  {
   "cell_type": "code",
   "execution_count": 2,
   "metadata": {
    "id": "TZlNUHh1UNgh"
   },
   "outputs": [],
   "source": [
    "# load the dataset\n",
    "insurance = pd.read_csv('./Dataset/insurance.csv')"
   ]
  },
  {
   "cell_type": "code",
   "execution_count": 3,
   "metadata": {
    "colab": {
     "base_uri": "https://localhost:8080/",
     "height": 216
    },
    "executionInfo": {
     "elapsed": 14490,
     "status": "ok",
     "timestamp": 1605707339568,
     "user": {
      "displayName": "ifeanyi Akawi",
      "photoUrl": "https://lh3.googleusercontent.com/a-/AOh14GgA6QkA8nV3V9s_mYv-hSZz3rqUPiWbrkfDRT2F=s64",
      "userId": "13567246202136145960"
     },
     "user_tz": -60
    },
    "id": "uEgcxXfUZ_NF",
    "outputId": "2bd09f62-9b1c-4492-f4a9-b483cf167dce"
   },
   "outputs": [
    {
     "name": "stdout",
     "output_type": "stream",
     "text": [
      "(1338, 7)\n"
     ]
    },
    {
     "data": {
      "text/html": [
       "<div>\n",
       "<style scoped>\n",
       "    .dataframe tbody tr th:only-of-type {\n",
       "        vertical-align: middle;\n",
       "    }\n",
       "\n",
       "    .dataframe tbody tr th {\n",
       "        vertical-align: top;\n",
       "    }\n",
       "\n",
       "    .dataframe thead th {\n",
       "        text-align: right;\n",
       "    }\n",
       "</style>\n",
       "<table border=\"1\" class=\"dataframe\">\n",
       "  <thead>\n",
       "    <tr style=\"text-align: right;\">\n",
       "      <th></th>\n",
       "      <th>age</th>\n",
       "      <th>sex</th>\n",
       "      <th>bmi</th>\n",
       "      <th>children</th>\n",
       "      <th>smoker</th>\n",
       "      <th>region</th>\n",
       "      <th>charges</th>\n",
       "    </tr>\n",
       "  </thead>\n",
       "  <tbody>\n",
       "    <tr>\n",
       "      <th>0</th>\n",
       "      <td>19</td>\n",
       "      <td>female</td>\n",
       "      <td>27.900</td>\n",
       "      <td>0</td>\n",
       "      <td>yes</td>\n",
       "      <td>southwest</td>\n",
       "      <td>16884.92400</td>\n",
       "    </tr>\n",
       "    <tr>\n",
       "      <th>1</th>\n",
       "      <td>18</td>\n",
       "      <td>male</td>\n",
       "      <td>33.770</td>\n",
       "      <td>1</td>\n",
       "      <td>no</td>\n",
       "      <td>southeast</td>\n",
       "      <td>1725.55230</td>\n",
       "    </tr>\n",
       "    <tr>\n",
       "      <th>2</th>\n",
       "      <td>28</td>\n",
       "      <td>male</td>\n",
       "      <td>33.000</td>\n",
       "      <td>3</td>\n",
       "      <td>no</td>\n",
       "      <td>southeast</td>\n",
       "      <td>4449.46200</td>\n",
       "    </tr>\n",
       "    <tr>\n",
       "      <th>3</th>\n",
       "      <td>33</td>\n",
       "      <td>male</td>\n",
       "      <td>22.705</td>\n",
       "      <td>0</td>\n",
       "      <td>no</td>\n",
       "      <td>northwest</td>\n",
       "      <td>21984.47061</td>\n",
       "    </tr>\n",
       "    <tr>\n",
       "      <th>4</th>\n",
       "      <td>32</td>\n",
       "      <td>male</td>\n",
       "      <td>28.880</td>\n",
       "      <td>0</td>\n",
       "      <td>no</td>\n",
       "      <td>northwest</td>\n",
       "      <td>3866.85520</td>\n",
       "    </tr>\n",
       "  </tbody>\n",
       "</table>\n",
       "</div>"
      ],
      "text/plain": [
       "   age     sex     bmi  children smoker     region      charges\n",
       "0   19  female  27.900         0    yes  southwest  16884.92400\n",
       "1   18    male  33.770         1     no  southeast   1725.55230\n",
       "2   28    male  33.000         3     no  southeast   4449.46200\n",
       "3   33    male  22.705         0     no  northwest  21984.47061\n",
       "4   32    male  28.880         0     no  northwest   3866.85520"
      ]
     },
     "execution_count": 3,
     "metadata": {},
     "output_type": "execute_result"
    }
   ],
   "source": [
    "# inspect the dataset\n",
    "print(insurance.shape)\n",
    "insurance.head()\n"
   ]
  },
  {
   "cell_type": "markdown",
   "metadata": {
    "id": "6OPYosoEoX0_"
   },
   "source": [
    "The above output shows that there are 1,338 individual respondents in the dataset"
   ]
  },
  {
   "cell_type": "code",
   "execution_count": 4,
   "metadata": {
    "colab": {
     "base_uri": "https://localhost:8080/",
     "height": 378
    },
    "executionInfo": {
     "elapsed": 14481,
     "status": "ok",
     "timestamp": 1605707339570,
     "user": {
      "displayName": "ifeanyi Akawi",
      "photoUrl": "https://lh3.googleusercontent.com/a-/AOh14GgA6QkA8nV3V9s_mYv-hSZz3rqUPiWbrkfDRT2F=s64",
      "userId": "13567246202136145960"
     },
     "user_tz": -60
    },
    "id": "Tv5N_8CFaIZP",
    "outputId": "aedc2c3d-2e31-474f-8e48-dcdd190c3afe"
   },
   "outputs": [
    {
     "data": {
      "text/html": [
       "<div>\n",
       "<style scoped>\n",
       "    .dataframe tbody tr th:only-of-type {\n",
       "        vertical-align: middle;\n",
       "    }\n",
       "\n",
       "    .dataframe tbody tr th {\n",
       "        vertical-align: top;\n",
       "    }\n",
       "\n",
       "    .dataframe thead th {\n",
       "        text-align: right;\n",
       "    }\n",
       "</style>\n",
       "<table border=\"1\" class=\"dataframe\">\n",
       "  <thead>\n",
       "    <tr style=\"text-align: right;\">\n",
       "      <th></th>\n",
       "      <th>age</th>\n",
       "      <th>sex</th>\n",
       "      <th>bmi</th>\n",
       "      <th>children</th>\n",
       "      <th>smoker</th>\n",
       "      <th>region</th>\n",
       "      <th>charges</th>\n",
       "    </tr>\n",
       "  </thead>\n",
       "  <tbody>\n",
       "    <tr>\n",
       "      <th>count</th>\n",
       "      <td>1338.000000</td>\n",
       "      <td>1338</td>\n",
       "      <td>1338.000000</td>\n",
       "      <td>1338.000000</td>\n",
       "      <td>1338</td>\n",
       "      <td>1338</td>\n",
       "      <td>1338.000000</td>\n",
       "    </tr>\n",
       "    <tr>\n",
       "      <th>unique</th>\n",
       "      <td>NaN</td>\n",
       "      <td>2</td>\n",
       "      <td>NaN</td>\n",
       "      <td>NaN</td>\n",
       "      <td>2</td>\n",
       "      <td>4</td>\n",
       "      <td>NaN</td>\n",
       "    </tr>\n",
       "    <tr>\n",
       "      <th>top</th>\n",
       "      <td>NaN</td>\n",
       "      <td>male</td>\n",
       "      <td>NaN</td>\n",
       "      <td>NaN</td>\n",
       "      <td>no</td>\n",
       "      <td>southeast</td>\n",
       "      <td>NaN</td>\n",
       "    </tr>\n",
       "    <tr>\n",
       "      <th>freq</th>\n",
       "      <td>NaN</td>\n",
       "      <td>676</td>\n",
       "      <td>NaN</td>\n",
       "      <td>NaN</td>\n",
       "      <td>1064</td>\n",
       "      <td>364</td>\n",
       "      <td>NaN</td>\n",
       "    </tr>\n",
       "    <tr>\n",
       "      <th>mean</th>\n",
       "      <td>39.207025</td>\n",
       "      <td>NaN</td>\n",
       "      <td>30.663397</td>\n",
       "      <td>1.094918</td>\n",
       "      <td>NaN</td>\n",
       "      <td>NaN</td>\n",
       "      <td>13270.422265</td>\n",
       "    </tr>\n",
       "    <tr>\n",
       "      <th>std</th>\n",
       "      <td>14.049960</td>\n",
       "      <td>NaN</td>\n",
       "      <td>6.098187</td>\n",
       "      <td>1.205493</td>\n",
       "      <td>NaN</td>\n",
       "      <td>NaN</td>\n",
       "      <td>12110.011237</td>\n",
       "    </tr>\n",
       "    <tr>\n",
       "      <th>min</th>\n",
       "      <td>18.000000</td>\n",
       "      <td>NaN</td>\n",
       "      <td>15.960000</td>\n",
       "      <td>0.000000</td>\n",
       "      <td>NaN</td>\n",
       "      <td>NaN</td>\n",
       "      <td>1121.873900</td>\n",
       "    </tr>\n",
       "    <tr>\n",
       "      <th>25%</th>\n",
       "      <td>27.000000</td>\n",
       "      <td>NaN</td>\n",
       "      <td>26.296250</td>\n",
       "      <td>0.000000</td>\n",
       "      <td>NaN</td>\n",
       "      <td>NaN</td>\n",
       "      <td>4740.287150</td>\n",
       "    </tr>\n",
       "    <tr>\n",
       "      <th>50%</th>\n",
       "      <td>39.000000</td>\n",
       "      <td>NaN</td>\n",
       "      <td>30.400000</td>\n",
       "      <td>1.000000</td>\n",
       "      <td>NaN</td>\n",
       "      <td>NaN</td>\n",
       "      <td>9382.033000</td>\n",
       "    </tr>\n",
       "    <tr>\n",
       "      <th>75%</th>\n",
       "      <td>51.000000</td>\n",
       "      <td>NaN</td>\n",
       "      <td>34.693750</td>\n",
       "      <td>2.000000</td>\n",
       "      <td>NaN</td>\n",
       "      <td>NaN</td>\n",
       "      <td>16639.912515</td>\n",
       "    </tr>\n",
       "    <tr>\n",
       "      <th>max</th>\n",
       "      <td>64.000000</td>\n",
       "      <td>NaN</td>\n",
       "      <td>53.130000</td>\n",
       "      <td>5.000000</td>\n",
       "      <td>NaN</td>\n",
       "      <td>NaN</td>\n",
       "      <td>63770.428010</td>\n",
       "    </tr>\n",
       "  </tbody>\n",
       "</table>\n",
       "</div>"
      ],
      "text/plain": [
       "                age   sex          bmi     children smoker     region  \\\n",
       "count   1338.000000  1338  1338.000000  1338.000000   1338       1338   \n",
       "unique          NaN     2          NaN          NaN      2          4   \n",
       "top             NaN  male          NaN          NaN     no  southeast   \n",
       "freq            NaN   676          NaN          NaN   1064        364   \n",
       "mean      39.207025   NaN    30.663397     1.094918    NaN        NaN   \n",
       "std       14.049960   NaN     6.098187     1.205493    NaN        NaN   \n",
       "min       18.000000   NaN    15.960000     0.000000    NaN        NaN   \n",
       "25%       27.000000   NaN    26.296250     0.000000    NaN        NaN   \n",
       "50%       39.000000   NaN    30.400000     1.000000    NaN        NaN   \n",
       "75%       51.000000   NaN    34.693750     2.000000    NaN        NaN   \n",
       "max       64.000000   NaN    53.130000     5.000000    NaN        NaN   \n",
       "\n",
       "             charges  \n",
       "count    1338.000000  \n",
       "unique           NaN  \n",
       "top              NaN  \n",
       "freq             NaN  \n",
       "mean    13270.422265  \n",
       "std     12110.011237  \n",
       "min      1121.873900  \n",
       "25%      4740.287150  \n",
       "50%      9382.033000  \n",
       "75%     16639.912515  \n",
       "max     63770.428010  "
      ]
     },
     "execution_count": 4,
     "metadata": {},
     "output_type": "execute_result"
    }
   ],
   "source": [
    "# show descriptives of the dataset\n",
    "insurance.describe(include='all')"
   ]
  },
  {
   "cell_type": "markdown",
   "metadata": {
    "id": "HgQZoawqoU0S"
   },
   "source": [
    "The above output shows the descriptive statistics for all columns in the dataset.  \n",
    "The mean age is of individuals is 39, the maximum age is 64, while the minimum is 18.  \n",
    "Males have a greater representation (676) in the dataset than females.  \n",
    "Majority of the respondents are non-smokers (1064).  \n",
    "Southeast region has the most respondents in the dataset (364)."
   ]
  },
  {
   "cell_type": "code",
   "execution_count": 5,
   "metadata": {
    "colab": {
     "base_uri": "https://localhost:8080/"
    },
    "executionInfo": {
     "elapsed": 14473,
     "status": "ok",
     "timestamp": 1605707339572,
     "user": {
      "displayName": "ifeanyi Akawi",
      "photoUrl": "https://lh3.googleusercontent.com/a-/AOh14GgA6QkA8nV3V9s_mYv-hSZz3rqUPiWbrkfDRT2F=s64",
      "userId": "13567246202136145960"
     },
     "user_tz": -60
    },
    "id": "9bD2wU5ZgIJd",
    "outputId": "b11c4350-1b00-4110-a28e-d6b3aa5edab1"
   },
   "outputs": [
    {
     "name": "stdout",
     "output_type": "stream",
     "text": [
      "<class 'pandas.core.frame.DataFrame'>\n",
      "RangeIndex: 1338 entries, 0 to 1337\n",
      "Data columns (total 7 columns):\n",
      " #   Column    Non-Null Count  Dtype  \n",
      "---  ------    --------------  -----  \n",
      " 0   age       1338 non-null   int64  \n",
      " 1   sex       1338 non-null   object \n",
      " 2   bmi       1338 non-null   float64\n",
      " 3   children  1338 non-null   int64  \n",
      " 4   smoker    1338 non-null   object \n",
      " 5   region    1338 non-null   object \n",
      " 6   charges   1338 non-null   float64\n",
      "dtypes: float64(2), int64(2), object(3)\n",
      "memory usage: 73.3+ KB\n"
     ]
    }
   ],
   "source": [
    "# show column details\n",
    "insurance.info()"
   ]
  },
  {
   "cell_type": "markdown",
   "metadata": {
    "id": "hDA8LAw9ii8x"
   },
   "source": [
    "The above output shows that there are no null values in the dataset columns.  \n",
    "The output also shows that the data types for the columns are 2 float colums, 2 integer columns and 3 string clomns"
   ]
  },
  {
   "cell_type": "markdown",
   "metadata": {
    "id": "rJDcD04EldOn"
   },
   "source": [
    "  # Visual EDA"
   ]
  },
  {
   "cell_type": "code",
   "execution_count": 6,
   "metadata": {
    "colab": {
     "base_uri": "https://localhost:8080/",
     "height": 280
    },
    "executionInfo": {
     "elapsed": 14464,
     "status": "ok",
     "timestamp": 1605707339573,
     "user": {
      "displayName": "ifeanyi Akawi",
      "photoUrl": "https://lh3.googleusercontent.com/a-/AOh14GgA6QkA8nV3V9s_mYv-hSZz3rqUPiWbrkfDRT2F=s64",
      "userId": "13567246202136145960"
     },
     "user_tz": -60
    },
    "id": "BXEKiJq030uB",
    "outputId": "190c0dbe-f908-463b-bd27-2bacfde55ec1"
   },
   "outputs": [
    {
     "data": {
      "image/png": "[encoded data removed]",
      "text/plain": [
       "<Figure size 432x288 with 1 Axes>"
      ]
     },
     "metadata": {
      "needs_background": "light"
     },
     "output_type": "display_data"
    }
   ],
   "source": [
    "# visualize the sex distribution\n",
    "sns.countplot(data=insurance, x= 'sex')\n",
    "\n",
    "# show the plot\n",
    "plt.show()"
   ]
  },
  {
   "cell_type": "markdown",
   "metadata": {
    "id": "g22OvEJn4VGg"
   },
   "source": [
    "The above chart shows that there are slightly more males than females in the dataset."
   ]
  },
  {
   "cell_type": "code",
   "execution_count": 7,
   "metadata": {
    "colab": {
     "base_uri": "https://localhost:8080/",
     "height": 279
    },
    "executionInfo": {
     "elapsed": 15090,
     "status": "ok",
     "timestamp": 1605707340210,
     "user": {
      "displayName": "ifeanyi Akawi",
      "photoUrl": "https://lh3.googleusercontent.com/a-/AOh14GgA6QkA8nV3V9s_mYv-hSZz3rqUPiWbrkfDRT2F=s64",
      "userId": "13567246202136145960"
     },
     "user_tz": -60
    },
    "id": "B3jGvbL54hp5",
    "outputId": "595d6bd7-6572-46d2-f33c-788395579df7"
   },
   "outputs": [
    {
     "data": {
      "image/png": "[encoded data removed]",
      "text/plain": [
       "<Figure size 432x288 with 1 Axes>"
      ]
     },
     "metadata": {
      "needs_background": "light"
     },
     "output_type": "display_data"
    }
   ],
   "source": [
    "# visualize smokers distribution\n",
    "sns.countplot(data = insurance, x = 'smoker')\n",
    "\n",
    "# show the plot\n",
    "plt.show()"
   ]
  },
  {
   "cell_type": "markdown",
   "metadata": {
    "id": "F_noiT8D4r7H"
   },
   "source": [
    "The above chart shows that there are more non smokers in the dataset than there are smokers."
   ]
  },
  {
   "cell_type": "code",
   "execution_count": 8,
   "metadata": {
    "colab": {
     "base_uri": "https://localhost:8080/",
     "height": 279
    },
    "executionInfo": {
     "elapsed": 15081,
     "status": "ok",
     "timestamp": 1605707340212,
     "user": {
      "displayName": "ifeanyi Akawi",
      "photoUrl": "https://lh3.googleusercontent.com/a-/AOh14GgA6QkA8nV3V9s_mYv-hSZz3rqUPiWbrkfDRT2F=s64",
      "userId": "13567246202136145960"
     },
     "user_tz": -60
    },
    "id": "Mpno3PwXkUTT",
    "outputId": "d0afa444-a6dd-41e4-f23b-5e298a01a497"
   },
   "outputs": [
    {
     "data": {
      "image/png": "[encoded data removed]",
      "text/plain": [
       "<Figure size 432x288 with 1 Axes>"
      ]
     },
     "metadata": {
      "needs_background": "light"
     },
     "output_type": "display_data"
    }
   ],
   "source": [
    "# show the  of charges for each sex\n",
    "sns.countplot(data = insurance, x='sex', hue='smoker')\n",
    "\n",
    "# show the plot\n",
    "plt.show()"
   ]
  },
  {
   "cell_type": "markdown",
   "metadata": {
    "id": "9NIlSkDOq7Br"
   },
   "source": [
    "The above plot shows amongst the smokers, that there are more male smokers than females smokers. "
   ]
  },
  {
   "cell_type": "code",
   "execution_count": 9,
   "metadata": {
    "colab": {
     "base_uri": "https://localhost:8080/",
     "height": 279
    },
    "executionInfo": {
     "elapsed": 15074,
     "status": "ok",
     "timestamp": 1605707340214,
     "user": {
      "displayName": "ifeanyi Akawi",
      "photoUrl": "https://lh3.googleusercontent.com/a-/AOh14GgA6QkA8nV3V9s_mYv-hSZz3rqUPiWbrkfDRT2F=s64",
      "userId": "13567246202136145960"
     },
     "user_tz": -60
    },
    "id": "Fsu5dSEmqaDT",
    "outputId": "b0e74020-2323-4b74-c50a-834ae1f2926f"
   },
   "outputs": [
    {
     "data": {
      "image/png": "[encoded data removed]",
      "text/plain": [
       "<Figure size 432x288 with 1 Axes>"
      ]
     },
     "metadata": {
      "needs_background": "light"
     },
     "output_type": "display_data"
    }
   ],
   "source": [
    "# show the distribution of respondents region\n",
    "sns.countplot(data=insurance , x = 'region')\n",
    "plt.show()"
   ]
  },
  {
   "cell_type": "markdown",
   "metadata": {
    "id": "nqt0XpBu-wkN"
   },
   "source": [
    "The above plot shows that majority of the respondents are from the southeast region, while the other regions have an almost equal representation of respondents."
   ]
  },
  {
   "cell_type": "code",
   "execution_count": 10,
   "metadata": {
    "colab": {
     "base_uri": "https://localhost:8080/",
     "height": 265
    },
    "executionInfo": {
     "elapsed": 15072,
     "status": "ok",
     "timestamp": 1605707340224,
     "user": {
      "displayName": "ifeanyi Akawi",
      "photoUrl": "https://lh3.googleusercontent.com/a-/AOh14GgA6QkA8nV3V9s_mYv-hSZz3rqUPiWbrkfDRT2F=s64",
      "userId": "13567246202136145960"
     },
     "user_tz": -60
    },
    "id": "lTkjJkNQDneB",
    "outputId": "a6b5fab2-a021-41dc-98b6-5ebf1a84c36d"
   },
   "outputs": [
    {
     "data": {
      "image/png": "[encoded data removed]",
      "text/plain": [
       "<Figure size 432x288 with 1 Axes>"
      ]
     },
     "metadata": {
      "needs_background": "light"
     },
     "output_type": "display_data"
    }
   ],
   "source": [
    "# show the distribution respondents age\n",
    "insurance.boxplot(column='age', grid=False)\n",
    "\n",
    "# show the plot\n",
    "plt.show()"
   ]
  },
  {
   "cell_type": "markdown",
   "metadata": {
    "id": "ZGHZZCCUENgd"
   },
   "source": [
    "The above chart shows that 25% of respondents are below 25 years, 50% are below 40 years and 75% are below 52 years."
   ]
  },
  {
   "cell_type": "code",
   "execution_count": 11,
   "metadata": {
    "colab": {
     "base_uri": "https://localhost:8080/",
     "height": 283
    },
    "executionInfo": {
     "elapsed": 15063,
     "status": "ok",
     "timestamp": 1605707340226,
     "user": {
      "displayName": "ifeanyi Akawi",
      "photoUrl": "https://lh3.googleusercontent.com/a-/AOh14GgA6QkA8nV3V9s_mYv-hSZz3rqUPiWbrkfDRT2F=s64",
      "userId": "13567246202136145960"
     },
     "user_tz": -60
    },
    "id": "h7kwfB478lpi",
    "outputId": "d2bdbaac-ab3d-417e-e222-0dc96baaea6a"
   },
   "outputs": [
    {
     "data": {
      "image/png": "[encoded data removed]",
      "text/plain": [
       "<Figure size 720x288 with 2 Axes>"
      ]
     },
     "metadata": {
      "needs_background": "light"
     },
     "output_type": "display_data"
    }
   ],
   "source": [
    "# show the distribution of ages of respondents\n",
    "insurance.hist(column='age', grid=False, by= 'sex', figsize= (10, 4))\n",
    "\n",
    "# show the plot\n",
    "plt.show()"
   ]
  },
  {
   "cell_type": "markdown",
   "metadata": {
    "id": "ItfUDD9wDWLo"
   },
   "source": [
    "The above histogram plots show age is right skewed for both sexes that majority of the respondents are above 30 years old for both genders."
   ]
  },
  {
   "cell_type": "code",
   "execution_count": 12,
   "metadata": {
    "colab": {
     "base_uri": "https://localhost:8080/",
     "height": 281
    },
    "executionInfo": {
     "elapsed": 15668,
     "status": "ok",
     "timestamp": 1605707340842,
     "user": {
      "displayName": "ifeanyi Akawi",
      "photoUrl": "https://lh3.googleusercontent.com/a-/AOh14GgA6QkA8nV3V9s_mYv-hSZz3rqUPiWbrkfDRT2F=s64",
      "userId": "13567246202136145960"
     },
     "user_tz": -60
    },
    "id": "bh74jUUNCOW5",
    "outputId": "48e17a50-5385-43b5-be0b-4d474d701af8"
   },
   "outputs": [
    {
     "data": {
      "image/png": "[encoded data removed]",
      "text/plain": [
       "<Figure size 720x288 with 1 Axes>"
      ]
     },
     "metadata": {
      "needs_background": "light"
     },
     "output_type": "display_data"
    }
   ],
   "source": [
    "# show the distribution of BMI\n",
    "insurance.hist(column='bmi', grid=False, figsize= (10, 4))\n",
    "\n",
    "# show the plot\n",
    "plt.show()"
   ]
  },
  {
   "cell_type": "markdown",
   "metadata": {
    "id": "kK5XzF7083Fa"
   },
   "source": [
    "The BMI of respondents is slightly skewed to the right, indicating that most respondents have BMI greater than 30"
   ]
  },
  {
   "cell_type": "code",
   "execution_count": 13,
   "metadata": {
    "colab": {
     "base_uri": "https://localhost:8080/",
     "height": 265
    },
    "executionInfo": {
     "elapsed": 15660,
     "status": "ok",
     "timestamp": 1605707340845,
     "user": {
      "displayName": "ifeanyi Akawi",
      "photoUrl": "https://lh3.googleusercontent.com/a-/AOh14GgA6QkA8nV3V9s_mYv-hSZz3rqUPiWbrkfDRT2F=s64",
      "userId": "13567246202136145960"
     },
     "user_tz": -60
    },
    "id": "VERMTjAPHuyN",
    "outputId": "8c04eee3-f448-4f2b-fcd2-5f94e86381fb"
   },
   "outputs": [
    {
     "data": {
      "image/png": "[encoded data removed]",
      "text/plain": [
       "<Figure size 432x288 with 1 Axes>"
      ]
     },
     "metadata": {
      "needs_background": "light"
     },
     "output_type": "display_data"
    }
   ],
   "source": [
    "# plot the distribution of insurance charges\n",
    "plt.hist(insurance['charges'])\n",
    "\n",
    "# show the plot\n",
    "plt.show()"
   ]
  },
  {
   "cell_type": "markdown",
   "metadata": {
    "id": "UzxtrrWmJhKx"
   },
   "source": [
    "The above plot shows that the charges for insurance is right skewed. This invariably means that majority of the respondents are charged greater than mean insurance charge (13270.422265)"
   ]
  },
  {
   "cell_type": "code",
   "execution_count": 14,
   "metadata": {
    "colab": {
     "base_uri": "https://localhost:8080/",
     "height": 301
    },
    "executionInfo": {
     "elapsed": 15652,
     "status": "ok",
     "timestamp": 1605707340848,
     "user": {
      "displayName": "ifeanyi Akawi",
      "photoUrl": "https://lh3.googleusercontent.com/a-/AOh14GgA6QkA8nV3V9s_mYv-hSZz3rqUPiWbrkfDRT2F=s64",
      "userId": "13567246202136145960"
     },
     "user_tz": -60
    },
    "id": "X_XglYpzH5mo",
    "outputId": "073af4a3-0545-447d-ac16-a4b4ead7fb77"
   },
   "outputs": [
    {
     "data": {
      "image/png": "[encoded data removed]",
      "text/plain": [
       "<Figure size 720x288 with 2 Axes>"
      ]
     },
     "metadata": {
      "needs_background": "light"
     },
     "output_type": "display_data"
    }
   ],
   "source": [
    "# plot the distribution of charges between gender \n",
    "insurance.hist(column='charges', by='sex', grid=False, figsize=(10, 4))\n",
    "\n",
    "# show the plot\n",
    "plt.show()"
   ]
  },
  {
   "cell_type": "markdown",
   "metadata": {
    "id": "EMrjVS9jC3Zx"
   },
   "source": [
    "The above plot shows that the charges for insurance is right skewed for both sexes. This implies that majority of both male and female respondents are charged greater than mean insurance charge (13270.422265)\n",
    "\n",
    "\n",
    "### Does insurance charge differ across gender?"
   ]
  },
  {
   "cell_type": "code",
   "execution_count": 15,
   "metadata": {
    "colab": {
     "base_uri": "https://localhost:8080/"
    },
    "executionInfo": {
     "elapsed": 15644,
     "status": "ok",
     "timestamp": 1605707340850,
     "user": {
      "displayName": "ifeanyi Akawi",
      "photoUrl": "https://lh3.googleusercontent.com/a-/AOh14GgA6QkA8nV3V9s_mYv-hSZz3rqUPiWbrkfDRT2F=s64",
      "userId": "13567246202136145960"
     },
     "user_tz": -60
    },
    "id": "bvuhW28rOCZE",
    "outputId": "1bc140b1-9d64-40b1-b895-9a6b1350f205"
   },
   "outputs": [
    {
     "name": "stdout",
     "output_type": "stream",
     "text": [
      "MALES INSURANCE CHARGE STATS \n",
      " count      676.000000\n",
      "mean     13956.751178\n",
      "std      12971.025915\n",
      "min       1121.873900\n",
      "25%       4619.134000\n",
      "50%       9369.615750\n",
      "75%      18989.590250\n",
      "max      62592.873090\n",
      "Name: charges, dtype: float64 \n",
      "\n",
      "FEMALES INSURANCE CHARGE STATS \n",
      " count      662.000000\n",
      "mean     12569.578844\n",
      "std      11128.703801\n",
      "min       1607.510100\n",
      "25%       4885.158700\n",
      "50%       9412.962500\n",
      "75%      14454.691825\n",
      "max      63770.428010\n",
      "Name: charges, dtype: float64\n"
     ]
    }
   ],
   "source": [
    "# get a dataframe for just males\n",
    "male_insurance = insurance[insurance['sex'] == 'male']\n",
    "\n",
    "# get a dataframe of just females\n",
    "female_insurance = insurance[insurance['sex'] == 'female']\n",
    "\n",
    "# get the descriptives for just males\n",
    "print('Males Insurance charge Stats'.upper(), '\\n',male_insurance['charges'].describe(), '\\n')\n",
    "print('Females Insurance charge Stats'.upper(), '\\n', female_insurance['charges'].describe())"
   ]
  },
  {
   "cell_type": "markdown",
   "metadata": {
    "id": "RXCTsPkVHESy"
   },
   "source": [
    "The above output shows the descrptive analysis of insurance charges for males and females respectively.  \n",
    "On the average, we can see that males (13956.75) incur higher isurance charges than females (12,569.70), though the difference in charges is not too large. Looking at the counts for males (676) and females (662), we see that there are 14 more males than females, with this observation, it is expected that the mean charges for males be lower than that of females, but since that is not the case, we conclude that this difference in means is as a result of a bias in insurance charges, favouring females more than males.\n",
    "\n",
    "\n",
    "\n",
    "\n",
    "### Do smokers incur more insurance charges than non-smokers?"
   ]
  },
  {
   "cell_type": "code",
   "execution_count": 16,
   "metadata": {
    "colab": {
     "base_uri": "https://localhost:8080/",
     "height": 352
    },
    "executionInfo": {
     "elapsed": 18316,
     "status": "ok",
     "timestamp": 1605707343535,
     "user": {
      "displayName": "ifeanyi Akawi",
      "photoUrl": "https://lh3.googleusercontent.com/a-/AOh14GgA6QkA8nV3V9s_mYv-hSZz3rqUPiWbrkfDRT2F=s64",
      "userId": "13567246202136145960"
     },
     "user_tz": -60
    },
    "id": "xu_U6cIcOFCF",
    "outputId": "34940d4d-c480-4d13-b197-7bf3a1fdb91d"
   },
   "outputs": [
    {
     "data": {
      "image/png": "[encoded data removed]",
      "text/plain": [
       "<Figure size 432x288 with 1 Axes>"
      ]
     },
     "metadata": {
      "needs_background": "light"
     },
     "output_type": "display_data"
    }
   ],
   "source": [
    "fig = plt.figure()\n",
    "ax = fig.add_axes([0,0,1,1])\n",
    "\n",
    "# get the dataframe and mean charges for smokers\n",
    "smoker = insurance[insurance['smoker'] == 'yes']\n",
    "mean_smoker = smoker['charges'].mean()\n",
    "\n",
    "# get the dataframe and mean charges for non-smokers\n",
    "non_smoker = insurance[insurance['smoker'] == 'no']\n",
    "mean_non_smoker = non_smoker['charges'].mean()\n",
    "\n",
    "# plot the bar charts\n",
    "ax.bar(smoker['smoker'], mean_smoker)\n",
    "ax.bar(non_smoker['smoker'], mean_non_smoker)\n",
    "plt.title('Average insurance charges for smokers and non-smokers')\n",
    "\n",
    "# show the plot\n",
    "plt.show()"
   ]
  },
  {
   "cell_type": "markdown",
   "metadata": {
    "id": "3ROrTd1ORsSw"
   },
   "source": [
    "The above chart depicts that, on the average, smokers incur higher insurance charges than non, smokers. Let's see th counts of both smokers and non-smokers in order to get a better intuition.\n"
   ]
  },
  {
   "cell_type": "code",
   "execution_count": 17,
   "metadata": {
    "colab": {
     "base_uri": "https://localhost:8080/"
    },
    "executionInfo": {
     "elapsed": 18310,
     "status": "ok",
     "timestamp": 1605707343540,
     "user": {
      "displayName": "ifeanyi Akawi",
      "photoUrl": "https://lh3.googleusercontent.com/a-/AOh14GgA6QkA8nV3V9s_mYv-hSZz3rqUPiWbrkfDRT2F=s64",
      "userId": "13567246202136145960"
     },
     "user_tz": -60
    },
    "id": "2Q5_s2GUOIyZ",
    "outputId": "c4abe46f-2282-4bee-aafe-688a670c8635"
   },
   "outputs": [
    {
     "name": "stdout",
     "output_type": "stream",
     "text": [
      "number of smokers is: 274\n",
      "The number of non-smokers is: 1064 \n",
      "\n",
      " The mean for smokers is 32050.23183153285 \n",
      " while the mean for non-smokers is: 8434.268297856199\n",
      " The mean difference is 23615.96353367665\n"
     ]
    }
   ],
   "source": [
    "# show the number of smokers and non-smokers\n",
    "print(f'number of smokers is: {smoker.shape[0]}')\n",
    "print(f'The number of non-smokers is: {non_smoker.shape[0]}', '\\n')\n",
    "\n",
    "# mean difference between smokers and non-smokers\n",
    "print(f' The mean for smokers is {mean_smoker}', '\\n', f'while the mean for non-smokers is: {mean_non_smoker}' '\\n',\n",
    "      f'The mean difference is {mean_smoker - mean_non_smoker}')"
   ]
  },
  {
   "cell_type": "markdown",
   "metadata": {
    "id": "yi6Aawf5T6ms"
   },
   "source": [
    "The number of non-smokers is 4 times the number of smokers, this could be the reason for its lower mean insurance charge, since the division is done across multiple values. But the mean difference shows that the average charge for smokers is about 5 times the charge for non-smokers.\n",
    "\n",
    "Thus, we conclude that insurance charges differs according to individuals smoking habits, people who have smoking habits pay heavier insurance charges than those who don't. \n",
    "\n",
    "# Do people with more children incur higher insurance charges?\n",
    "\n"
   ]
  },
  {
   "cell_type": "code",
   "execution_count": 18,
   "metadata": {
    "colab": {
     "base_uri": "https://localhost:8080/"
    },
    "executionInfo": {
     "elapsed": 18307,
     "status": "ok",
     "timestamp": 1605707343548,
     "user": {
      "displayName": "ifeanyi Akawi",
      "photoUrl": "https://lh3.googleusercontent.com/a-/AOh14GgA6QkA8nV3V9s_mYv-hSZz3rqUPiWbrkfDRT2F=s64",
      "userId": "13567246202136145960"
     },
     "user_tz": -60
    },
    "id": "MVCqy6WE2jbn",
    "outputId": "2f07236a-4533-42bd-a6ef-040b3d2e76e5"
   },
   "outputs": [
    {
     "name": "stdout",
     "output_type": "stream",
     "text": [
      "count    1338.000000\n",
      "mean        1.094918\n",
      "std         1.205493\n",
      "min         0.000000\n",
      "25%         0.000000\n",
      "50%         1.000000\n",
      "75%         2.000000\n",
      "max         5.000000\n",
      "Name: children, dtype: float64\n"
     ]
    },
    {
     "data": {
      "text/plain": [
       "0    574\n",
       "1    324\n",
       "2    240\n",
       "3    157\n",
       "4     25\n",
       "5     18\n",
       "Name: children, dtype: int64"
      ]
     },
     "execution_count": 18,
     "metadata": {},
     "output_type": "execute_result"
    }
   ],
   "source": [
    "# lets see the descriptives for the children column\n",
    "print(insurance['children'].describe())\n",
    "\n",
    "# show the children counts\n",
    "insurance['children'].value_counts()\n"
   ]
  },
  {
   "cell_type": "markdown",
   "metadata": {
    "id": "kU078hsJ4qTw"
   },
   "source": [
    "The above output shows us that majority of the individuals in the dataset had no children at all, while the maximum number of chidren for a single respondent is 5.\n",
    "\n",
    "Next we'll see the average insurance charges for individuals with the different number of children.\n"
   ]
  },
  {
   "cell_type": "code",
   "execution_count": 19,
   "metadata": {
    "colab": {
     "base_uri": "https://localhost:8080/",
     "height": 495
    },
    "executionInfo": {
     "elapsed": 18299,
     "status": "ok",
     "timestamp": 1605707343550,
     "user": {
      "displayName": "ifeanyi Akawi",
      "photoUrl": "https://lh3.googleusercontent.com/a-/AOh14GgA6QkA8nV3V9s_mYv-hSZz3rqUPiWbrkfDRT2F=s64",
      "userId": "13567246202136145960"
     },
     "user_tz": -60
    },
    "id": "cIYFncSx4kaI",
    "outputId": "166ae5e4-d152-4fd3-a56c-456cd57d8ec7"
   },
   "outputs": [
    {
     "name": "stdout",
     "output_type": "stream",
     "text": [
      "               charges\n",
      "children              \n",
      "0         12365.975602\n",
      "1         12731.171832\n",
      "2         15073.563734\n",
      "3         15355.318367\n",
      "4         13850.656311\n",
      "5          8786.035247\n"
     ]
    },
    {
     "data": {
      "image/png": "[encoded data removed]",
      "text/plain": [
       "<Figure size 720x360 with 1 Axes>"
      ]
     },
     "metadata": {
      "needs_background": "light"
     },
     "output_type": "display_data"
    }
   ],
   "source": [
    "# get a pivot table of the average charges for the different number of children\n",
    "pv_children = insurance.pivot_table(values = 'charges', index = 'children', aggfunc= np.mean)\n",
    "\n",
    "# plot a line chart of the pivot table\n",
    "pv_children.plot(title= 'Average insurance charges for number of children',\n",
    "                 legend= None,\n",
    "                 figsize= (10, 5))\n",
    "\n",
    "# show the pivot table\n",
    "print(pv_children)\n",
    "\n",
    "# show the pivot line plot\n",
    "plt.show()"
   ]
  },
  {
   "cell_type": "markdown",
   "metadata": {
    "id": "9gHIIRxQ9vzL"
   },
   "source": [
    "The above line chart shows the trend of insurance charges with the number of children. From the chart we can observe that those with 3 children incured the highest charges while those with 5 children incured the lowest charges.  \n",
    "Those without kids incured greater charges than those with 5 kids.\n",
    "\n",
    "Although it is expected that insurance charges be greater for those with more children than those with fewer children, an observation of the above line chart shows that the charges increases steadily for those with 0-3 kids where it got to its peak and declined significantly for those with 5 kids. The reason for this sharp decline could be attributed to the very few number of individuals in the dataset with 5 children (18).\n",
    "\n",
    "Thus we conclude that number of children affects insurance charges as individuals with more children incur more charges than individuals with fewer children.\n",
    "\n",
    "# what region has the highest and least insurance charge?"
   ]
  },
  {
   "cell_type": "code",
   "execution_count": 20,
   "metadata": {
    "colab": {
     "base_uri": "https://localhost:8080/"
    },
    "executionInfo": {
     "elapsed": 18290,
     "status": "ok",
     "timestamp": 1605707343552,
     "user": {
      "displayName": "ifeanyi Akawi",
      "photoUrl": "https://lh3.googleusercontent.com/a-/AOh14GgA6QkA8nV3V9s_mYv-hSZz3rqUPiWbrkfDRT2F=s64",
      "userId": "13567246202136145960"
     },
     "user_tz": -60
    },
    "id": "yCkms9Sq9LPI",
    "outputId": "fb0e6c1d-c51d-4a8d-9d51-82330ac69d60"
   },
   "outputs": [
    {
     "data": {
      "text/plain": [
       "southeast    364\n",
       "southwest    325\n",
       "northwest    325\n",
       "northeast    324\n",
       "Name: region, dtype: int64"
      ]
     },
     "execution_count": 20,
     "metadata": {},
     "output_type": "execute_result"
    }
   ],
   "source": [
    "# show the region counts\n",
    "insurance['region'].value_counts()\n"
   ]
  },
  {
   "cell_type": "markdown",
   "metadata": {
    "id": "b2pqkN9JCNQ1"
   },
   "source": [
    "The above output shows that there are four regions in the dataset with most of the individuals coming from the southeast region.\n",
    "\n",
    "Let's see the minimum and maximum charges for each region"
   ]
  },
  {
   "cell_type": "markdown",
   "metadata": {
    "id": "Ts-4CAOZFK-c"
   },
   "source": [
    "The above output shows that the southeast region has both the maximum and minimum"
   ]
  },
  {
   "cell_type": "code",
   "execution_count": 21,
   "metadata": {
    "colab": {
     "base_uri": "https://localhost:8080/"
    },
    "executionInfo": {
     "elapsed": 18281,
     "status": "ok",
     "timestamp": 1605707343553,
     "user": {
      "displayName": "ifeanyi Akawi",
      "photoUrl": "https://lh3.googleusercontent.com/a-/AOh14GgA6QkA8nV3V9s_mYv-hSZz3rqUPiWbrkfDRT2F=s64",
      "userId": "13567246202136145960"
     },
     "user_tz": -60
    },
    "id": "qlLFGcngEgUU",
    "outputId": "2ce7ffe6-b4e0-4206-9852-e2ea3403ce18"
   },
   "outputs": [
    {
     "name": "stdout",
     "output_type": "stream",
     "text": [
      "REGION WITH HIGHEST INSURANCE CHARGE IS: \n",
      " 543    southeast\n",
      "Name: region, dtype: object \n",
      "\n",
      "REGION WITH THE LEAST INSURANCE CHARGE IS: \n",
      " 940    southeast\n",
      "Name: region, dtype: object\n"
     ]
    }
   ],
   "source": [
    "# get the region with the highest insurance charge\n",
    "print('region with highest insurance charge is:'.upper(), '\\n', insurance[insurance['charges'] == insurance['charges'].max()]['region'], '\\n')\n",
    "\n",
    "# get the region with the least insurance charge\n",
    "print('region with the least insurance charge is:'.upper(), '\\n', insurance[insurance['charges'] == insurance['charges'].min()]['region'])"
   ]
  },
  {
   "cell_type": "markdown",
   "metadata": {
    "id": "XCfrcatFNV_s"
   },
   "source": [
    "Southeast region has both the highest and least insurance charges.\n",
    "\n",
    " Let's plot the average charges for each region."
   ]
  },
  {
   "cell_type": "code",
   "execution_count": 22,
   "metadata": {
    "colab": {
     "base_uri": "https://localhost:8080/",
     "height": 445
    },
    "executionInfo": {
     "elapsed": 18272,
     "status": "ok",
     "timestamp": 1605707343554,
     "user": {
      "displayName": "ifeanyi Akawi",
      "photoUrl": "https://lh3.googleusercontent.com/a-/AOh14GgA6QkA8nV3V9s_mYv-hSZz3rqUPiWbrkfDRT2F=s64",
      "userId": "13567246202136145960"
     },
     "user_tz": -60
    },
    "id": "SIHdalO3K_2S",
    "outputId": "8712aa4e-d16a-48c2-fd1f-2b9cec51eae5"
   },
   "outputs": [
    {
     "name": "stdout",
     "output_type": "stream",
     "text": [
      "                charges\n",
      "region                 \n",
      "northeast  13406.384516\n",
      "northwest  12417.575374\n",
      "southeast  14735.411438\n",
      "southwest  12346.937377\n"
     ]
    },
    {
     "data": {
      "image/png": "[encoded data removed]",
      "text/plain": [
       "<Figure size 720x360 with 1 Axes>"
      ]
     },
     "metadata": {
      "needs_background": "light"
     },
     "output_type": "display_data"
    }
   ],
   "source": [
    "# get a pivot table of the average charges for each region\n",
    "pv_region = insurance.pivot_table(values = 'charges', index = 'region', aggfunc= np.mean)\n",
    "\n",
    "# plot a bar chart of the pivot table\n",
    "pv_region.plot(kind= 'barh',\n",
    "              title= 'Average insurance charges for regions',\n",
    "              legend= None,\n",
    "              figsize= (10, 5))\n",
    "\n",
    "# show the pivot table\n",
    "print(pv_region)\n",
    "\n",
    "# show the pivot line plot\n",
    "plt.show()"
   ]
  },
  {
   "cell_type": "markdown",
   "metadata": {
    "id": "ZHSYTt9iOpro"
   },
   "source": [
    "From the above chart we see that on the average, southeast charges the highest insurance fees, while southwest has the least insurance charges.\n",
    "\n",
    "\n",
    "# Do older adults incur more insurance charges than younger adults?"
   ]
  },
  {
   "cell_type": "code",
   "execution_count": 23,
   "metadata": {
    "colab": {
     "base_uri": "https://localhost:8080/"
    },
    "executionInfo": {
     "elapsed": 18262,
     "status": "ok",
     "timestamp": 1605707343557,
     "user": {
      "displayName": "ifeanyi Akawi",
      "photoUrl": "https://lh3.googleusercontent.com/a-/AOh14GgA6QkA8nV3V9s_mYv-hSZz3rqUPiWbrkfDRT2F=s64",
      "userId": "13567246202136145960"
     },
     "user_tz": -60
    },
    "id": "U38LVaUcQRcJ",
    "outputId": "c07e4fe5-623d-4e07-ff87-53d4ff85cf1c"
   },
   "outputs": [
    {
     "data": {
      "text/plain": [
       "18    69\n",
       "19    68\n",
       "20    29\n",
       "21    28\n",
       "22    28\n",
       "23    28\n",
       "24    28\n",
       "25    28\n",
       "26    28\n",
       "27    28\n",
       "28    28\n",
       "29    27\n",
       "30    27\n",
       "31    27\n",
       "32    26\n",
       "33    26\n",
       "34    26\n",
       "35    25\n",
       "36    25\n",
       "37    25\n",
       "38    25\n",
       "39    25\n",
       "40    27\n",
       "41    27\n",
       "42    27\n",
       "43    27\n",
       "44    27\n",
       "45    29\n",
       "46    29\n",
       "47    29\n",
       "48    29\n",
       "49    28\n",
       "50    29\n",
       "51    29\n",
       "52    29\n",
       "53    28\n",
       "54    28\n",
       "55    26\n",
       "56    26\n",
       "57    26\n",
       "58    25\n",
       "59    25\n",
       "60    23\n",
       "61    23\n",
       "62    23\n",
       "63    23\n",
       "64    22\n",
       "Name: age, dtype: int64"
      ]
     },
     "execution_count": 23,
     "metadata": {},
     "output_type": "execute_result"
    }
   ],
   "source": [
    "# check the unique age counts\n",
    "insurance['age'].value_counts().sort_index()"
   ]
  },
  {
   "cell_type": "markdown",
   "metadata": {
    "id": "r-8DYWy9Q1wf"
   },
   "source": [
    "From the above chart, we'll group those who are 35 years and above as older adults and those below 35 as younger adults."
   ]
  },
  {
   "cell_type": "code",
   "execution_count": 24,
   "metadata": {
    "colab": {
     "base_uri": "https://localhost:8080/",
     "height": 567
    },
    "executionInfo": {
     "elapsed": 19048,
     "status": "ok",
     "timestamp": 1605707344353,
     "user": {
      "displayName": "ifeanyi Akawi",
      "photoUrl": "https://lh3.googleusercontent.com/a-/AOh14GgA6QkA8nV3V9s_mYv-hSZz3rqUPiWbrkfDRT2F=s64",
      "userId": "13567246202136145960"
     },
     "user_tz": -60
    },
    "id": "0urIV1P6QYBX",
    "outputId": "c1a86cec-756a-4b1a-dd30-c5a3dce68adb"
   },
   "outputs": [
    {
     "data": {
      "image/png": "[encoded data removed]",
      "text/plain": [
       "<Figure size 504x288 with 1 Axes>"
      ]
     },
     "metadata": {
      "needs_background": "light"
     },
     "output_type": "display_data"
    },
    {
     "data": {
      "image/png": "[encoded data removed]",
      "text/plain": [
       "<Figure size 504x288 with 1 Axes>"
      ]
     },
     "metadata": {
      "needs_background": "light"
     },
     "output_type": "display_data"
    }
   ],
   "source": [
    "# dataframe of respndents above 35 years\n",
    "above_35_yrs = insurance[insurance['age'] >= 35]\n",
    "\n",
    "# dataframe of respondents below 35 years\n",
    "below_35_yrs = insurance[insurance['age'] < 35]\n",
    "\n",
    "# Lets get the minimum, maximum and average insurance charges for older adults with respect to their number of children\n",
    "pv_age_above_35 = above_35_yrs.pivot_table(values = 'charges', index = 'children', aggfunc= [np.min, np.max, np.mean])\n",
    "\n",
    "# # Lets get the minimum, maximum and average insurance charges for younger adults with respect to their number of children\n",
    "pv_age_below_35 = below_35_yrs.pivot_table(values = 'charges', index = 'children', aggfunc= [np.min, np.max, np.mean])\n",
    "\n",
    "# plot a bar chart of the pivot table for older adults\n",
    "pv_age_above_35.plot(kind= 'bar',\n",
    "              title= 'Average insurance charges for older adults with respect to their number of kids'.upper(),\n",
    "              legend= True,\n",
    "              figsize= (7, 4))\n",
    "\n",
    "# plot a bar chart of the pivot table for younger adults\n",
    "pv_age_below_35.plot(kind= 'bar',\n",
    "              title= 'Average insurance charges for younger adults with respect to their number of kids'.upper(),\n",
    "              legend= True,\n",
    "              figsize= (7, 4))\n",
    "\n",
    "# show the pivot line plot\n",
    "plt.show()"
   ]
  },
  {
   "cell_type": "markdown",
   "metadata": {
    "id": "I-s1EKyVTdO_"
   },
   "source": [
    "From the above charts we can deduce the following:\n",
    "\n",
    "- older adults have more children than younger adults\n",
    "- Generally on the average, older adults incur more insurance charges than younger adults.\n",
    "- Generally, Judging from the maximum charges, older adults incur more insurance charges than younger adults.\n",
    "\n",
    "\n",
    "# Convert the categorical columns to Numerical values"
   ]
  },
  {
   "cell_type": "code",
   "execution_count": 25,
   "metadata": {},
   "outputs": [
    {
     "data": {
      "text/html": [
       "<div>\n",
       "<style scoped>\n",
       "    .dataframe tbody tr th:only-of-type {\n",
       "        vertical-align: middle;\n",
       "    }\n",
       "\n",
       "    .dataframe tbody tr th {\n",
       "        vertical-align: top;\n",
       "    }\n",
       "\n",
       "    .dataframe thead th {\n",
       "        text-align: right;\n",
       "    }\n",
       "</style>\n",
       "<table border=\"1\" class=\"dataframe\">\n",
       "  <thead>\n",
       "    <tr style=\"text-align: right;\">\n",
       "      <th></th>\n",
       "      <th>age</th>\n",
       "      <th>bmi</th>\n",
       "      <th>children</th>\n",
       "      <th>charges</th>\n",
       "      <th>sex_male</th>\n",
       "      <th>smoker_yes</th>\n",
       "      <th>region_northwest</th>\n",
       "      <th>region_southeast</th>\n",
       "      <th>region_southwest</th>\n",
       "    </tr>\n",
       "  </thead>\n",
       "  <tbody>\n",
       "    <tr>\n",
       "      <th>0</th>\n",
       "      <td>19</td>\n",
       "      <td>27.900</td>\n",
       "      <td>0</td>\n",
       "      <td>16884.92400</td>\n",
       "      <td>0</td>\n",
       "      <td>1</td>\n",
       "      <td>0</td>\n",
       "      <td>0</td>\n",
       "      <td>1</td>\n",
       "    </tr>\n",
       "    <tr>\n",
       "      <th>1</th>\n",
       "      <td>18</td>\n",
       "      <td>33.770</td>\n",
       "      <td>1</td>\n",
       "      <td>1725.55230</td>\n",
       "      <td>1</td>\n",
       "      <td>0</td>\n",
       "      <td>0</td>\n",
       "      <td>1</td>\n",
       "      <td>0</td>\n",
       "    </tr>\n",
       "    <tr>\n",
       "      <th>2</th>\n",
       "      <td>28</td>\n",
       "      <td>33.000</td>\n",
       "      <td>3</td>\n",
       "      <td>4449.46200</td>\n",
       "      <td>1</td>\n",
       "      <td>0</td>\n",
       "      <td>0</td>\n",
       "      <td>1</td>\n",
       "      <td>0</td>\n",
       "    </tr>\n",
       "    <tr>\n",
       "      <th>3</th>\n",
       "      <td>33</td>\n",
       "      <td>22.705</td>\n",
       "      <td>0</td>\n",
       "      <td>21984.47061</td>\n",
       "      <td>1</td>\n",
       "      <td>0</td>\n",
       "      <td>1</td>\n",
       "      <td>0</td>\n",
       "      <td>0</td>\n",
       "    </tr>\n",
       "    <tr>\n",
       "      <th>4</th>\n",
       "      <td>32</td>\n",
       "      <td>28.880</td>\n",
       "      <td>0</td>\n",
       "      <td>3866.85520</td>\n",
       "      <td>1</td>\n",
       "      <td>0</td>\n",
       "      <td>1</td>\n",
       "      <td>0</td>\n",
       "      <td>0</td>\n",
       "    </tr>\n",
       "  </tbody>\n",
       "</table>\n",
       "</div>"
      ],
      "text/plain": [
       "   age     bmi  children      charges  sex_male  smoker_yes  region_northwest  \\\n",
       "0   19  27.900         0  16884.92400         0           1                 0   \n",
       "1   18  33.770         1   1725.55230         1           0                 0   \n",
       "2   28  33.000         3   4449.46200         1           0                 0   \n",
       "3   33  22.705         0  21984.47061         1           0                 1   \n",
       "4   32  28.880         0   3866.85520         1           0                 1   \n",
       "\n",
       "   region_southeast  region_southwest  \n",
       "0                 0                 1  \n",
       "1                 1                 0  \n",
       "2                 1                 0  \n",
       "3                 0                 0  \n",
       "4                 0                 0  "
      ]
     },
     "execution_count": 25,
     "metadata": {},
     "output_type": "execute_result"
    }
   ],
   "source": [
    "model_data = pd.get_dummies(insurance, columns= ['sex', 'smoker', 'region'], drop_first = True)\n",
    "\n",
    "# check\n",
    "model_data.head()"
   ]
  },
  {
   "cell_type": "markdown",
   "metadata": {},
   "source": [
    "We'll only care if a person has a child or not and not bother about the number of children.  \n",
    "Therefore we'll binarize the children column:"
   ]
  },
  {
   "cell_type": "code",
   "execution_count": 26,
   "metadata": {},
   "outputs": [
    {
     "data": {
      "text/html": [
       "<div>\n",
       "<style scoped>\n",
       "    .dataframe tbody tr th:only-of-type {\n",
       "        vertical-align: middle;\n",
       "    }\n",
       "\n",
       "    .dataframe tbody tr th {\n",
       "        vertical-align: top;\n",
       "    }\n",
       "\n",
       "    .dataframe thead th {\n",
       "        text-align: right;\n",
       "    }\n",
       "</style>\n",
       "<table border=\"1\" class=\"dataframe\">\n",
       "  <thead>\n",
       "    <tr style=\"text-align: right;\">\n",
       "      <th></th>\n",
       "      <th>age</th>\n",
       "      <th>bmi</th>\n",
       "      <th>children</th>\n",
       "      <th>charges</th>\n",
       "      <th>sex_male</th>\n",
       "      <th>smoker_yes</th>\n",
       "      <th>region_northwest</th>\n",
       "      <th>region_southeast</th>\n",
       "      <th>region_southwest</th>\n",
       "      <th>kids</th>\n",
       "    </tr>\n",
       "  </thead>\n",
       "  <tbody>\n",
       "    <tr>\n",
       "      <th>0</th>\n",
       "      <td>19</td>\n",
       "      <td>27.900</td>\n",
       "      <td>0</td>\n",
       "      <td>16884.92400</td>\n",
       "      <td>0</td>\n",
       "      <td>1</td>\n",
       "      <td>0</td>\n",
       "      <td>0</td>\n",
       "      <td>1</td>\n",
       "      <td>0</td>\n",
       "    </tr>\n",
       "    <tr>\n",
       "      <th>1</th>\n",
       "      <td>18</td>\n",
       "      <td>33.770</td>\n",
       "      <td>1</td>\n",
       "      <td>1725.55230</td>\n",
       "      <td>1</td>\n",
       "      <td>0</td>\n",
       "      <td>0</td>\n",
       "      <td>1</td>\n",
       "      <td>0</td>\n",
       "      <td>1</td>\n",
       "    </tr>\n",
       "    <tr>\n",
       "      <th>2</th>\n",
       "      <td>28</td>\n",
       "      <td>33.000</td>\n",
       "      <td>3</td>\n",
       "      <td>4449.46200</td>\n",
       "      <td>1</td>\n",
       "      <td>0</td>\n",
       "      <td>0</td>\n",
       "      <td>1</td>\n",
       "      <td>0</td>\n",
       "      <td>1</td>\n",
       "    </tr>\n",
       "    <tr>\n",
       "      <th>3</th>\n",
       "      <td>33</td>\n",
       "      <td>22.705</td>\n",
       "      <td>0</td>\n",
       "      <td>21984.47061</td>\n",
       "      <td>1</td>\n",
       "      <td>0</td>\n",
       "      <td>1</td>\n",
       "      <td>0</td>\n",
       "      <td>0</td>\n",
       "      <td>0</td>\n",
       "    </tr>\n",
       "    <tr>\n",
       "      <th>4</th>\n",
       "      <td>32</td>\n",
       "      <td>28.880</td>\n",
       "      <td>0</td>\n",
       "      <td>3866.85520</td>\n",
       "      <td>1</td>\n",
       "      <td>0</td>\n",
       "      <td>1</td>\n",
       "      <td>0</td>\n",
       "      <td>0</td>\n",
       "      <td>0</td>\n",
       "    </tr>\n",
       "  </tbody>\n",
       "</table>\n",
       "</div>"
      ],
      "text/plain": [
       "   age     bmi  children      charges  sex_male  smoker_yes  region_northwest  \\\n",
       "0   19  27.900         0  16884.92400         0           1                 0   \n",
       "1   18  33.770         1   1725.55230         1           0                 0   \n",
       "2   28  33.000         3   4449.46200         1           0                 0   \n",
       "3   33  22.705         0  21984.47061         1           0                 1   \n",
       "4   32  28.880         0   3866.85520         1           0                 1   \n",
       "\n",
       "   region_southeast  region_southwest  kids  \n",
       "0                 0                 1     0  \n",
       "1                 1                 0     1  \n",
       "2                 1                 0     1  \n",
       "3                 0                 0     0  \n",
       "4                 0                 0     0  "
      ]
     },
     "execution_count": 26,
     "metadata": {},
     "output_type": "execute_result"
    }
   ],
   "source": [
    "# create a new children column filled with zeros\n",
    "model_data['kids'] = 0\n",
    "\n",
    "# Replace all the kids values with a 1 where the corresponding children column is greater than 0.\n",
    "model_data.loc[model_data['children'] > 0, 'kids'] = 1\n",
    "\n",
    "# check\n",
    "model_data.head()"
   ]
  },
  {
   "cell_type": "code",
   "execution_count": 27,
   "metadata": {},
   "outputs": [
    {
     "data": {
      "text/html": [
       "<div>\n",
       "<style scoped>\n",
       "    .dataframe tbody tr th:only-of-type {\n",
       "        vertical-align: middle;\n",
       "    }\n",
       "\n",
       "    .dataframe tbody tr th {\n",
       "        vertical-align: top;\n",
       "    }\n",
       "\n",
       "    .dataframe thead th {\n",
       "        text-align: right;\n",
       "    }\n",
       "</style>\n",
       "<table border=\"1\" class=\"dataframe\">\n",
       "  <thead>\n",
       "    <tr style=\"text-align: right;\">\n",
       "      <th></th>\n",
       "      <th>age</th>\n",
       "      <th>bmi</th>\n",
       "      <th>charges</th>\n",
       "      <th>sex_male</th>\n",
       "      <th>smoker_yes</th>\n",
       "      <th>region_northwest</th>\n",
       "      <th>region_southeast</th>\n",
       "      <th>region_southwest</th>\n",
       "      <th>kids</th>\n",
       "    </tr>\n",
       "  </thead>\n",
       "  <tbody>\n",
       "    <tr>\n",
       "      <th>0</th>\n",
       "      <td>19</td>\n",
       "      <td>27.900</td>\n",
       "      <td>16884.92400</td>\n",
       "      <td>0</td>\n",
       "      <td>1</td>\n",
       "      <td>0</td>\n",
       "      <td>0</td>\n",
       "      <td>1</td>\n",
       "      <td>0</td>\n",
       "    </tr>\n",
       "    <tr>\n",
       "      <th>1</th>\n",
       "      <td>18</td>\n",
       "      <td>33.770</td>\n",
       "      <td>1725.55230</td>\n",
       "      <td>1</td>\n",
       "      <td>0</td>\n",
       "      <td>0</td>\n",
       "      <td>1</td>\n",
       "      <td>0</td>\n",
       "      <td>1</td>\n",
       "    </tr>\n",
       "    <tr>\n",
       "      <th>2</th>\n",
       "      <td>28</td>\n",
       "      <td>33.000</td>\n",
       "      <td>4449.46200</td>\n",
       "      <td>1</td>\n",
       "      <td>0</td>\n",
       "      <td>0</td>\n",
       "      <td>1</td>\n",
       "      <td>0</td>\n",
       "      <td>1</td>\n",
       "    </tr>\n",
       "    <tr>\n",
       "      <th>3</th>\n",
       "      <td>33</td>\n",
       "      <td>22.705</td>\n",
       "      <td>21984.47061</td>\n",
       "      <td>1</td>\n",
       "      <td>0</td>\n",
       "      <td>1</td>\n",
       "      <td>0</td>\n",
       "      <td>0</td>\n",
       "      <td>0</td>\n",
       "    </tr>\n",
       "    <tr>\n",
       "      <th>4</th>\n",
       "      <td>32</td>\n",
       "      <td>28.880</td>\n",
       "      <td>3866.85520</td>\n",
       "      <td>1</td>\n",
       "      <td>0</td>\n",
       "      <td>1</td>\n",
       "      <td>0</td>\n",
       "      <td>0</td>\n",
       "      <td>0</td>\n",
       "    </tr>\n",
       "  </tbody>\n",
       "</table>\n",
       "</div>"
      ],
      "text/plain": [
       "   age     bmi      charges  sex_male  smoker_yes  region_northwest  \\\n",
       "0   19  27.900  16884.92400         0           1                 0   \n",
       "1   18  33.770   1725.55230         1           0                 0   \n",
       "2   28  33.000   4449.46200         1           0                 0   \n",
       "3   33  22.705  21984.47061         1           0                 1   \n",
       "4   32  28.880   3866.85520         1           0                 1   \n",
       "\n",
       "   region_southeast  region_southwest  kids  \n",
       "0                 0                 1     0  \n",
       "1                 1                 0     1  \n",
       "2                 1                 0     1  \n",
       "3                 0                 0     0  \n",
       "4                 0                 0     0  "
      ]
     },
     "execution_count": 27,
     "metadata": {},
     "output_type": "execute_result"
    }
   ],
   "source": [
    "# lets delete the children column\n",
    "model_data.drop('children', axis=1, inplace = True)\n",
    "\n",
    "# check\n",
    "model_data.head()"
   ]
  },
  {
   "cell_type": "markdown",
   "metadata": {},
   "source": [
    "# Modelling"
   ]
  },
  {
   "cell_type": "code",
   "execution_count": 28,
   "metadata": {},
   "outputs": [
    {
     "name": "stdout",
     "output_type": "stream",
     "text": [
      "(1338, 8)\n"
     ]
    },
    {
     "data": {
      "text/plain": [
       "(1338,)"
      ]
     },
     "execution_count": 28,
     "metadata": {},
     "output_type": "execute_result"
    }
   ],
   "source": [
    "# next we get the dependent and independent variavles separately\n",
    "y = model_data['charges']\n",
    "x = model_data.drop(['charges'], axis = 1)\n",
    "\n",
    "# check\n",
    "print(x.shape)\n",
    "y.shape"
   ]
  },
  {
   "cell_type": "code",
   "execution_count": 29,
   "metadata": {},
   "outputs": [],
   "source": [
    "# Import Lasso from sklearn.linear_model.\n",
    "from sklearn.linear_model import Lasso\n",
    "\n",
    "# instantiate lasso\n",
    "lasso = Lasso()"
   ]
  },
  {
   "cell_type": "code",
   "execution_count": 30,
   "metadata": {},
   "outputs": [
    {
     "name": "stdout",
     "output_type": "stream",
     "text": [
      "Tuned Lasso Regression Parameters: {'alpha': 10.0}\n",
      "Best score is 0.7460333531938418\n"
     ]
    }
   ],
   "source": [
    "# first we get the hyper parameters\n",
    "# import relevant modules\n",
    "from sklearn.model_selection import GridSearchCV\n",
    "\n",
    "# Setup the hyperparameter grid by using alpha_space as the grid of values to tune alpha over\n",
    "alpha_space = np.logspace(-1, 1, 15)\n",
    "param_grid = {\"alpha\": alpha_space}\n",
    "\n",
    "# Use GridSearchCV with 5-fold cross-validation to tune C:\n",
    "# Inside GridSearchCV(), specify the classifier, parameter grid, and number of folds to use.\n",
    "lasso_cv = GridSearchCV(lasso, param_grid = param_grid, cv = 5)\n",
    "\n",
    "# Use the .fit() method on the GridSearchCV object to fit it to the data x and y.\n",
    "lasso_cv.fit(x, y)\n",
    "\n",
    "# Print the tuned parameters and score\n",
    "print(\"Tuned Lasso Regression Parameters: {}\".format(lasso_cv.best_params_)) \n",
    "print(\"Best score is {}\".format(lasso_cv.best_score_))"
   ]
  },
  {
   "cell_type": "code",
   "execution_count": 31,
   "metadata": {},
   "outputs": [
    {
     "name": "stdout",
     "output_type": "stream",
     "text": [
      " Lasso regression score is: 0.7689248397829056, \n",
      "\n"
     ]
    },
    {
     "data": {
      "image/png": "[encoded data removed]",
      "text/plain": [
       "<Figure size 432x288 with 1 Axes>"
      ]
     },
     "metadata": {
      "needs_background": "light"
     },
     "output_type": "display_data"
    }
   ],
   "source": [
    "# split the data set into training and test set\n",
    "# import package for splitting training and testing data\n",
    "from sklearn.model_selection import train_test_split\n",
    "\n",
    "# create training and test sets such that 30% is used for testing\n",
    "# and 70% for training. Use a random state of 42.\n",
    "x_train, x_test, y_train, y_test = train_test_split(x, y, test_size = 0.3, random_state = 42)\n",
    "\n",
    "# instantiate lasso again now with the tuned hyperparameter\n",
    "lasso_tuned = Lasso(alpha = 0.1, normalize = True)\n",
    "\n",
    "# fit lasso\n",
    "lasso_tuned.fit(x_train, y_train)\n",
    "\n",
    "# get lasso efficients\n",
    "lasso_coef = lasso_tuned.fit(x_train, y_train).coef_\n",
    "\n",
    "# predict on the test set\n",
    "y_pred = lasso_tuned.predict(x_test)\n",
    "\n",
    "# get the lasso score\n",
    "print(f' Lasso regression score is: {lasso_tuned.score(x_test, y_test)}, \\n')\n",
    "\n",
    "# get the names of our feature variables\n",
    "names = model_data.drop('charges', axis = 1).columns\n",
    "\n",
    "# plot the lasso coefficients\n",
    "plt.plot(range(len(names)), lasso_coef)\n",
    "\n",
    "# Plot the coefficients\n",
    "plt.plot(range(len(names)), lasso_coef)\n",
    "\n",
    "# set the x-axis names\n",
    "plt.xticks(range(len(names)), names, rotation= 60)\n",
    "\n",
    "# set the y-axis label\n",
    "plt.ylabel('coefficients')\n",
    "\n",
    "plt.show()\n"
   ]
  },
  {
   "cell_type": "markdown",
   "metadata": {},
   "source": [
    "Above we see that the lasso regressor identified smoking as the most important feature that affects insurance charges, the model also indicates that the number of kids tends to slightly affect the charges on insurance."
   ]
  }
 ],
 "metadata": {
  "colab": {
   "name": "Copy of Insurance cost prediction",
   "provenance": [
    {
     "file_id": "1cdrHg4548NCP9xENq70pS6MtQTDZi48K",
     "timestamp": 1605707369529
    }
   ],
   "toc_visible": true
  },
  "kernelspec": {
   "display_name": "Python 3",
   "language": "python",
   "name": "python3"
  },
  "language_info": {
   "codemirror_mode": {
    "name": "ipython",
    "version": 3
   },
   "file_extension": ".py",
   "mimetype": "text/x-python",
   "name": "python",
   "nbconvert_exporter": "python",
   "pygments_lexer": "ipython3",
   "version": "3.7.4"
  }
 },
 "nbformat": 4,
 "nbformat_minor": 1
}
